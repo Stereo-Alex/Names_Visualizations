{
 "cells": [
  {
   "cell_type": "markdown",
   "id": "aerial-boards",
   "metadata": {
    "ExecuteTime": {
     "end_time": "2021-03-21T18:13:28.632262Z",
     "start_time": "2021-03-21T18:13:27.707159Z"
    }
   },
   "source": [
    "# Importing our packages and cleaned data"
   ]
  },
  {
   "cell_type": "code",
   "execution_count": 24,
   "id": "economic-architect",
   "metadata": {
    "ExecuteTime": {
     "end_time": "2021-03-22T10:46:38.360329Z",
     "start_time": "2021-03-22T10:46:38.343139Z"
    }
   },
   "outputs": [
    {
     "data": {
      "text/html": [
       "        <script type=\"text/javascript\">\n",
       "        window.PlotlyConfig = {MathJaxConfig: 'local'};\n",
       "        if (window.MathJax) {MathJax.Hub.Config({SVG: {font: \"STIX-Web\"}});}\n",
       "        if (typeof require !== 'undefined') {\n",
       "        require.undef(\"plotly\");\n",
       "        requirejs.config({\n",
       "            paths: {\n",
       "                'plotly': ['https://cdn.plot.ly/plotly-latest.min']\n",
       "            }\n",
       "        });\n",
       "        require(['plotly'], function(Plotly) {\n",
       "            window._Plotly = Plotly;\n",
       "        });\n",
       "        }\n",
       "        </script>\n",
       "        "
      ]
     },
     "metadata": {},
     "output_type": "display_data"
    },
    {
     "data": {
      "text/html": [
       "        <script type=\"text/javascript\">\n",
       "        window.PlotlyConfig = {MathJaxConfig: 'local'};\n",
       "        if (window.MathJax) {MathJax.Hub.Config({SVG: {font: \"STIX-Web\"}});}\n",
       "        if (typeof require !== 'undefined') {\n",
       "        require.undef(\"plotly\");\n",
       "        requirejs.config({\n",
       "            paths: {\n",
       "                'plotly': ['https://cdn.plot.ly/plotly-latest.min']\n",
       "            }\n",
       "        });\n",
       "        require(['plotly'], function(Plotly) {\n",
       "            window._Plotly = Plotly;\n",
       "        });\n",
       "        }\n",
       "        </script>\n",
       "        "
      ]
     },
     "metadata": {},
     "output_type": "display_data"
    }
   ],
   "source": [
    "import pandas as pd\n",
    "import numpy as np\n",
    "import chart_studio.plotly as py\n",
    "import seaborn as sns\n",
    "import plotly.express as px\n",
    "import cufflinks as cf\n",
    "import plotly.graph_objects as go\n",
    "\n",
    "%matplotlib inline\n",
    "\n",
    "from plotly.offline import download_plotlyjs, init_notebook_mode, plot, iplot\n",
    "\n",
    "\n",
    "init_notebook_mode(connected=True)\n",
    "cf.go_offline()"
   ]
  },
  {
   "cell_type": "code",
   "execution_count": 25,
   "id": "herbal-triangle",
   "metadata": {
    "ExecuteTime": {
     "end_time": "2021-03-22T10:46:38.630307Z",
     "start_time": "2021-03-22T10:46:38.622320Z"
    }
   },
   "outputs": [],
   "source": [
    "df = pd.read_csv(\"most_frequent_baby_names.csv\")"
   ]
  },
  {
   "cell_type": "markdown",
   "id": "subjective-oasis",
   "metadata": {},
   "source": [
    "#  Animation"
   ]
  },
  {
   "cell_type": "code",
   "execution_count": 26,
   "id": "congressional-prince",
   "metadata": {
    "ExecuteTime": {
     "end_time": "2021-03-22T10:46:38.906538Z",
     "start_time": "2021-03-22T10:46:38.900526Z"
    }
   },
   "outputs": [],
   "source": [
    "order_2 = []\n",
    "for num in df.Order:\n",
    "    nu = num*4\n",
    "    order_2.append(nu)"
   ]
  },
  {
   "cell_type": "code",
   "execution_count": 27,
   "id": "separate-finance",
   "metadata": {
    "ExecuteTime": {
     "end_time": "2021-03-22T10:46:39.012573Z",
     "start_time": "2021-03-22T10:46:39.005889Z"
    }
   },
   "outputs": [],
   "source": [
    "df.Order = order_2"
   ]
  },
  {
   "cell_type": "code",
   "execution_count": null,
   "id": "systematic-receipt",
   "metadata": {
    "ExecuteTime": {
     "end_time": "2021-03-22T10:44:58.509809Z",
     "start_time": "2021-03-22T10:44:58.504530Z"
    }
   },
   "outputs": [],
   "source": []
  },
  {
   "cell_type": "code",
   "execution_count": null,
   "id": "committed-chase",
   "metadata": {
    "ExecuteTime": {
     "end_time": "2021-03-22T10:45:35.246571Z",
     "start_time": "2021-03-22T10:45:35.240736Z"
    }
   },
   "outputs": [],
   "source": []
  },
  {
   "cell_type": "code",
   "execution_count": 28,
   "id": "pregnant-cycle",
   "metadata": {
    "ExecuteTime": {
     "end_time": "2021-03-22T10:46:40.077937Z",
     "start_time": "2021-03-22T10:46:39.743336Z"
    }
   },
   "outputs": [
    {
     "data": {
      "application/vnd.plotly.v1+json": {
       "config": {
        "plotlyServerURL": "https://plotly.com"
       },
       "data": [
        {
         "hovertemplate": "<b>%{hovertext}</b><br><br>Gender=Female<br>Year=1996<br>Frequency=%{marker.size}<br>Order=%{y}<br>Name=%{text}<extra></extra>",
         "hovertext": [
          "LAURA",
          "MARIA",
          "MARTA",
          "ANDREA",
          "ANNA",
          "PAULA",
          "ALBA",
          "SARA",
          "LAIA",
          "CLAUDIA",
          "JULIA",
          "CARLA",
          "MIREIA",
          "MARINA",
          "CRISTINA",
          "CLARA",
          "JUDITH",
          "ARIADNA",
          "NURIA",
          "PATRICIA",
          "RAQUEL",
          "ANA",
          "IRENE",
          "JUDIT",
          "SANDRA"
         ],
         "ids": [
          "LAURA",
          "MARIA",
          "MARTA",
          "ANDREA",
          "ANNA",
          "PAULA",
          "ALBA",
          "SARA",
          "LAIA",
          "CLAUDIA",
          "JULIA",
          "CARLA",
          "MIREIA",
          "MARINA",
          "CRISTINA",
          "CLARA",
          "JUDITH",
          "ARIADNA",
          "NURIA",
          "PATRICIA",
          "RAQUEL",
          "ANA",
          "IRENE",
          "JUDIT",
          "SANDRA"
         ],
         "legendgroup": "Female",
         "marker": {
          "color": "#636efa",
          "size": [
           237,
           219,
           206,
           199,
           195,
           186,
           142,
           125,
           123,
           122,
           115,
           112,
           112,
           102,
           99,
           89,
           80,
           78,
           72,
           71,
           69,
           65,
           64,
           63,
           55
          ],
          "sizemode": "area",
          "sizeref": 0.1392,
          "symbol": "circle"
         },
         "mode": "markers+text",
         "name": "Female",
         "orientation": "v",
         "showlegend": true,
         "text": [
          "LAURA",
          "MARIA",
          "MARTA",
          "ANDREA",
          "ANNA",
          "PAULA",
          "ALBA",
          "SARA",
          "LAIA",
          "CLAUDIA",
          "JULIA",
          "CARLA",
          "MIREIA",
          "MARINA",
          "CRISTINA",
          "CLARA",
          "JUDITH",
          "ARIADNA",
          "NURIA",
          "PATRICIA",
          "RAQUEL",
          "ANA",
          "IRENE",
          "JUDIT",
          "SANDRA"
         ],
         "type": "scatter",
         "x": [
          237,
          219,
          206,
          199,
          195,
          186,
          142,
          125,
          123,
          122,
          115,
          112,
          112,
          102,
          99,
          89,
          80,
          78,
          72,
          71,
          69,
          65,
          64,
          63,
          55
         ],
         "xaxis": "x",
         "y": [
          4,
          8,
          12,
          16,
          20,
          24,
          28,
          32,
          36,
          40,
          44,
          48,
          52,
          56,
          60,
          64,
          68,
          72,
          76,
          80,
          84,
          88,
          92,
          96,
          100
         ],
         "yaxis": "y"
        },
        {
         "hovertemplate": "<b>%{hovertext}</b><br><br>Gender=Male<br>Year=1996<br>Frequency=%{marker.size}<br>Order=%{y}<br>Name=%{text}<extra></extra>",
         "hovertext": [
          "MARC",
          "DAVID",
          "DANIEL",
          "ALBERT",
          "VICTOR",
          "JORDI",
          "SERGI",
          "ALEJANDRO",
          "POL",
          "ALEX",
          "PAU",
          "GUILLEM",
          "CARLOS",
          "ORIOL",
          "ADRIA",
          "ROGER",
          "OSCAR",
          "JAVIER",
          "GERARD",
          "ARNAU",
          "IVAN",
          "XAVIER",
          "JOAN",
          "ERIC",
          "PABLO"
         ],
         "ids": [
          "MARC",
          "DAVID",
          "DANIEL",
          "ALBERT",
          "VICTOR",
          "JORDI",
          "SERGI",
          "ALEJANDRO",
          "POL",
          "ALEX",
          "PAU",
          "GUILLEM",
          "CARLOS",
          "ORIOL",
          "ADRIA",
          "ROGER",
          "OSCAR",
          "JAVIER",
          "GERARD",
          "ARNAU",
          "IVAN",
          "XAVIER",
          "JOAN",
          "ERIC",
          "PABLO"
         ],
         "legendgroup": "Male",
         "marker": {
          "color": "#EF553B",
          "size": [
           295,
           198,
           174,
           151,
           145,
           143,
           137,
           132,
           123,
           113,
           103,
           100,
           97,
           97,
           92,
           91,
           90,
           88,
           85,
           84,
           80,
           79,
           76,
           75,
           74
          ],
          "sizemode": "area",
          "sizeref": 0.1392,
          "symbol": "circle"
         },
         "mode": "markers+text",
         "name": "Male",
         "orientation": "v",
         "showlegend": true,
         "text": [
          "MARC",
          "DAVID",
          "DANIEL",
          "ALBERT",
          "VICTOR",
          "JORDI",
          "SERGI",
          "ALEJANDRO",
          "POL",
          "ALEX",
          "PAU",
          "GUILLEM",
          "CARLOS",
          "ORIOL",
          "ADRIA",
          "ROGER",
          "OSCAR",
          "JAVIER",
          "GERARD",
          "ARNAU",
          "IVAN",
          "XAVIER",
          "JOAN",
          "ERIC",
          "PABLO"
         ],
         "type": "scatter",
         "x": [
          295,
          198,
          174,
          151,
          145,
          143,
          137,
          132,
          123,
          113,
          103,
          100,
          97,
          97,
          92,
          91,
          90,
          88,
          85,
          84,
          80,
          79,
          76,
          75,
          74
         ],
         "xaxis": "x",
         "y": [
          4,
          8,
          12,
          16,
          20,
          24,
          28,
          32,
          36,
          40,
          44,
          48,
          52,
          56,
          60,
          64,
          68,
          72,
          76,
          80,
          84,
          88,
          92,
          96,
          100
         ],
         "yaxis": "y"
        }
       ],
       "frames": [
        {
         "data": [
          {
           "hovertemplate": "<b>%{hovertext}</b><br><br>Gender=Female<br>Year=1996<br>Frequency=%{marker.size}<br>Order=%{y}<br>Name=%{text}<extra></extra>",
           "hovertext": [
            "LAURA",
            "MARIA",
            "MARTA",
            "ANDREA",
            "ANNA",
            "PAULA",
            "ALBA",
            "SARA",
            "LAIA",
            "CLAUDIA",
            "JULIA",
            "CARLA",
            "MIREIA",
            "MARINA",
            "CRISTINA",
            "CLARA",
            "JUDITH",
            "ARIADNA",
            "NURIA",
            "PATRICIA",
            "RAQUEL",
            "ANA",
            "IRENE",
            "JUDIT",
            "SANDRA"
           ],
           "ids": [
            "LAURA",
            "MARIA",
            "MARTA",
            "ANDREA",
            "ANNA",
            "PAULA",
            "ALBA",
            "SARA",
            "LAIA",
            "CLAUDIA",
            "JULIA",
            "CARLA",
            "MIREIA",
            "MARINA",
            "CRISTINA",
            "CLARA",
            "JUDITH",
            "ARIADNA",
            "NURIA",
            "PATRICIA",
            "RAQUEL",
            "ANA",
            "IRENE",
            "JUDIT",
            "SANDRA"
           ],
           "legendgroup": "Female",
           "marker": {
            "color": "#636efa",
            "size": [
             237,
             219,
             206,
             199,
             195,
             186,
             142,
             125,
             123,
             122,
             115,
             112,
             112,
             102,
             99,
             89,
             80,
             78,
             72,
             71,
             69,
             65,
             64,
             63,
             55
            ],
            "sizemode": "area",
            "sizeref": 0.1392,
            "symbol": "circle"
           },
           "mode": "markers+text",
           "name": "Female",
           "orientation": "v",
           "showlegend": true,
           "text": [
            "LAURA",
            "MARIA",
            "MARTA",
            "ANDREA",
            "ANNA",
            "PAULA",
            "ALBA",
            "SARA",
            "LAIA",
            "CLAUDIA",
            "JULIA",
            "CARLA",
            "MIREIA",
            "MARINA",
            "CRISTINA",
            "CLARA",
            "JUDITH",
            "ARIADNA",
            "NURIA",
            "PATRICIA",
            "RAQUEL",
            "ANA",
            "IRENE",
            "JUDIT",
            "SANDRA"
           ],
           "type": "scatter",
           "x": [
            237,
            219,
            206,
            199,
            195,
            186,
            142,
            125,
            123,
            122,
            115,
            112,
            112,
            102,
            99,
            89,
            80,
            78,
            72,
            71,
            69,
            65,
            64,
            63,
            55
           ],
           "xaxis": "x",
           "y": [
            4,
            8,
            12,
            16,
            20,
            24,
            28,
            32,
            36,
            40,
            44,
            48,
            52,
            56,
            60,
            64,
            68,
            72,
            76,
            80,
            84,
            88,
            92,
            96,
            100
           ],
           "yaxis": "y"
          },
          {
           "hovertemplate": "<b>%{hovertext}</b><br><br>Gender=Male<br>Year=1996<br>Frequency=%{marker.size}<br>Order=%{y}<br>Name=%{text}<extra></extra>",
           "hovertext": [
            "MARC",
            "DAVID",
            "DANIEL",
            "ALBERT",
            "VICTOR",
            "JORDI",
            "SERGI",
            "ALEJANDRO",
            "POL",
            "ALEX",
            "PAU",
            "GUILLEM",
            "CARLOS",
            "ORIOL",
            "ADRIA",
            "ROGER",
            "OSCAR",
            "JAVIER",
            "GERARD",
            "ARNAU",
            "IVAN",
            "XAVIER",
            "JOAN",
            "ERIC",
            "PABLO"
           ],
           "ids": [
            "MARC",
            "DAVID",
            "DANIEL",
            "ALBERT",
            "VICTOR",
            "JORDI",
            "SERGI",
            "ALEJANDRO",
            "POL",
            "ALEX",
            "PAU",
            "GUILLEM",
            "CARLOS",
            "ORIOL",
            "ADRIA",
            "ROGER",
            "OSCAR",
            "JAVIER",
            "GERARD",
            "ARNAU",
            "IVAN",
            "XAVIER",
            "JOAN",
            "ERIC",
            "PABLO"
           ],
           "legendgroup": "Male",
           "marker": {
            "color": "#EF553B",
            "size": [
             295,
             198,
             174,
             151,
             145,
             143,
             137,
             132,
             123,
             113,
             103,
             100,
             97,
             97,
             92,
             91,
             90,
             88,
             85,
             84,
             80,
             79,
             76,
             75,
             74
            ],
            "sizemode": "area",
            "sizeref": 0.1392,
            "symbol": "circle"
           },
           "mode": "markers+text",
           "name": "Male",
           "orientation": "v",
           "showlegend": true,
           "text": [
            "MARC",
            "DAVID",
            "DANIEL",
            "ALBERT",
            "VICTOR",
            "JORDI",
            "SERGI",
            "ALEJANDRO",
            "POL",
            "ALEX",
            "PAU",
            "GUILLEM",
            "CARLOS",
            "ORIOL",
            "ADRIA",
            "ROGER",
            "OSCAR",
            "JAVIER",
            "GERARD",
            "ARNAU",
            "IVAN",
            "XAVIER",
            "JOAN",
            "ERIC",
            "PABLO"
           ],
           "type": "scatter",
           "x": [
            295,
            198,
            174,
            151,
            145,
            143,
            137,
            132,
            123,
            113,
            103,
            100,
            97,
            97,
            92,
            91,
            90,
            88,
            85,
            84,
            80,
            79,
            76,
            75,
            74
           ],
           "xaxis": "x",
           "y": [
            4,
            8,
            12,
            16,
            20,
            24,
            28,
            32,
            36,
            40,
            44,
            48,
            52,
            56,
            60,
            64,
            68,
            72,
            76,
            80,
            84,
            88,
            92,
            96,
            100
           ],
           "yaxis": "y"
          }
         ],
         "name": "1996"
        },
        {
         "data": [
          {
           "hovertemplate": "<b>%{hovertext}</b><br><br>Gender=Female<br>Year=1997<br>Frequency=%{marker.size}<br>Order=%{y}<br>Name=%{text}<extra></extra>",
           "hovertext": [
            "MARIA",
            "LAURA",
            "MARTA",
            "ANDREA",
            "PAULA",
            "LAIA",
            "ANNA",
            "ALBA",
            "JULIA",
            "CARLA",
            "CLAUDIA",
            "CRISTINA",
            "SARA",
            "IRENE",
            "ARIADNA",
            "MIREIA",
            "CLARA",
            "NURIA",
            "MARINA",
            "JUDITH",
            "JUDIT",
            "RAQUEL",
            "BERTA",
            "MAR",
            "SANDRA"
           ],
           "ids": [
            "MARIA",
            "LAURA",
            "MARTA",
            "ANDREA",
            "PAULA",
            "LAIA",
            "ANNA",
            "ALBA",
            "JULIA",
            "CARLA",
            "CLAUDIA",
            "CRISTINA",
            "SARA",
            "IRENE",
            "ARIADNA",
            "MIREIA",
            "CLARA",
            "NURIA",
            "MARINA",
            "JUDITH",
            "JUDIT",
            "RAQUEL",
            "BERTA",
            "MAR",
            "SANDRA"
           ],
           "legendgroup": "Female",
           "marker": {
            "color": "#636efa",
            "size": [
             241,
             229,
             211,
             209,
             205,
             158,
             146,
             134,
             132,
             118,
             106,
             105,
             97,
             96,
             90,
             90,
             83,
             83,
             81,
             72,
             71,
             67,
             66,
             64,
             64
            ],
            "sizemode": "area",
            "sizeref": 0.1392,
            "symbol": "circle"
           },
           "mode": "markers+text",
           "name": "Female",
           "orientation": "v",
           "showlegend": true,
           "text": [
            "MARIA",
            "LAURA",
            "MARTA",
            "ANDREA",
            "PAULA",
            "LAIA",
            "ANNA",
            "ALBA",
            "JULIA",
            "CARLA",
            "CLAUDIA",
            "CRISTINA",
            "SARA",
            "IRENE",
            "ARIADNA",
            "MIREIA",
            "CLARA",
            "NURIA",
            "MARINA",
            "JUDITH",
            "JUDIT",
            "RAQUEL",
            "BERTA",
            "MAR",
            "SANDRA"
           ],
           "type": "scatter",
           "x": [
            241,
            229,
            211,
            209,
            205,
            158,
            146,
            134,
            132,
            118,
            106,
            105,
            97,
            96,
            90,
            90,
            83,
            83,
            81,
            72,
            71,
            67,
            66,
            64,
            64
           ],
           "xaxis": "x",
           "y": [
            4,
            8,
            12,
            16,
            20,
            24,
            28,
            32,
            36,
            40,
            44,
            48,
            52,
            56,
            60,
            64,
            68,
            72,
            76,
            80,
            84,
            88,
            92,
            96,
            100
           ],
           "yaxis": "y"
          },
          {
           "hovertemplate": "<b>%{hovertext}</b><br><br>Gender=Male<br>Year=1997<br>Frequency=%{marker.size}<br>Order=%{y}<br>Name=%{text}<extra></extra>",
           "hovertext": [
            "MARC",
            "DAVID",
            "DANIEL",
            "VICTOR",
            "ALEX",
            "POL",
            "ALEJANDRO",
            "ALBERT",
            "PAU",
            "SERGI",
            "ORIOL",
            "JORDI",
            "GERARD",
            "JOAN",
            "ARNAU",
            "GUILLEM",
            "ADRIA",
            "ROGER",
            "OSCAR",
            "JAVIER",
            "XAVIER",
            "IVAN",
            "ERIC",
            "CARLOS",
            "ADRIAN"
           ],
           "ids": [
            "MARC",
            "DAVID",
            "DANIEL",
            "VICTOR",
            "ALEX",
            "POL",
            "ALEJANDRO",
            "ALBERT",
            "PAU",
            "SERGI",
            "ORIOL",
            "JORDI",
            "GERARD",
            "JOAN",
            "ARNAU",
            "GUILLEM",
            "ADRIA",
            "ROGER",
            "OSCAR",
            "JAVIER",
            "XAVIER",
            "IVAN",
            "ERIC",
            "CARLOS",
            "ADRIAN"
           ],
           "legendgroup": "Male",
           "marker": {
            "color": "#EF553B",
            "size": [
             348,
             183,
             163,
             150,
             148,
             143,
             128,
             126,
             125,
             120,
             115,
             112,
             104,
             103,
             101,
             100,
             98,
             98,
             92,
             85,
             84,
             81,
             80,
             76,
             72
            ],
            "sizemode": "area",
            "sizeref": 0.1392,
            "symbol": "circle"
           },
           "mode": "markers+text",
           "name": "Male",
           "orientation": "v",
           "showlegend": true,
           "text": [
            "MARC",
            "DAVID",
            "DANIEL",
            "VICTOR",
            "ALEX",
            "POL",
            "ALEJANDRO",
            "ALBERT",
            "PAU",
            "SERGI",
            "ORIOL",
            "JORDI",
            "GERARD",
            "JOAN",
            "ARNAU",
            "GUILLEM",
            "ADRIA",
            "ROGER",
            "OSCAR",
            "JAVIER",
            "XAVIER",
            "IVAN",
            "ERIC",
            "CARLOS",
            "ADRIAN"
           ],
           "type": "scatter",
           "x": [
            348,
            183,
            163,
            150,
            148,
            143,
            128,
            126,
            125,
            120,
            115,
            112,
            104,
            103,
            101,
            100,
            98,
            98,
            92,
            85,
            84,
            81,
            80,
            76,
            72
           ],
           "xaxis": "x",
           "y": [
            4,
            8,
            12,
            16,
            20,
            24,
            28,
            32,
            36,
            40,
            44,
            48,
            52,
            56,
            60,
            64,
            68,
            72,
            76,
            80,
            84,
            88,
            92,
            96,
            100
           ],
           "yaxis": "y"
          }
         ],
         "name": "1997"
        },
        {
         "data": [
          {
           "hovertemplate": "<b>%{hovertext}</b><br><br>Gender=Female<br>Year=1998<br>Frequency=%{marker.size}<br>Order=%{y}<br>Name=%{text}<extra></extra>",
           "hovertext": [
            "MARIA",
            "LAURA",
            "PAULA",
            "MARTA",
            "ANDREA",
            "ANNA",
            "LAIA",
            "JULIA",
            "CARLA",
            "CLAUDIA",
            "MARINA",
            "SARA",
            "ALBA",
            "MIREIA",
            "CRISTINA",
            "CLARA",
            "IRENE",
            "NURIA",
            "ANA",
            "BERTA",
            "ARIADNA",
            "JUDIT",
            "SANDRA",
            "AINA",
            "MAR"
           ],
           "ids": [
            "MARIA",
            "LAURA",
            "PAULA",
            "MARTA",
            "ANDREA",
            "ANNA",
            "LAIA",
            "JULIA",
            "CARLA",
            "CLAUDIA",
            "MARINA",
            "SARA",
            "ALBA",
            "MIREIA",
            "CRISTINA",
            "CLARA",
            "IRENE",
            "NURIA",
            "ANA",
            "BERTA",
            "ARIADNA",
            "JUDIT",
            "SANDRA",
            "AINA",
            "MAR"
           ],
           "legendgroup": "Female",
           "marker": {
            "color": "#636efa",
            "size": [
             265,
             202,
             175,
             166,
             161,
             149,
             148,
             124,
             119,
             110,
             107,
             102,
             101,
             98,
             96,
             95,
             82,
             77,
             71,
             68,
             63,
             63,
             57,
             54,
             50
            ],
            "sizemode": "area",
            "sizeref": 0.1392,
            "symbol": "circle"
           },
           "mode": "markers+text",
           "name": "Female",
           "orientation": "v",
           "showlegend": true,
           "text": [
            "MARIA",
            "LAURA",
            "PAULA",
            "MARTA",
            "ANDREA",
            "ANNA",
            "LAIA",
            "JULIA",
            "CARLA",
            "CLAUDIA",
            "MARINA",
            "SARA",
            "ALBA",
            "MIREIA",
            "CRISTINA",
            "CLARA",
            "IRENE",
            "NURIA",
            "ANA",
            "BERTA",
            "ARIADNA",
            "JUDIT",
            "SANDRA",
            "AINA",
            "MAR"
           ],
           "type": "scatter",
           "x": [
            265,
            202,
            175,
            166,
            161,
            149,
            148,
            124,
            119,
            110,
            107,
            102,
            101,
            98,
            96,
            95,
            82,
            77,
            71,
            68,
            63,
            63,
            57,
            54,
            50
           ],
           "xaxis": "x",
           "y": [
            4,
            8,
            12,
            16,
            20,
            24,
            28,
            32,
            36,
            40,
            44,
            48,
            52,
            56,
            60,
            64,
            68,
            72,
            76,
            80,
            84,
            88,
            92,
            96,
            100
           ],
           "yaxis": "y"
          },
          {
           "hovertemplate": "<b>%{hovertext}</b><br><br>Gender=Male<br>Year=1998<br>Frequency=%{marker.size}<br>Order=%{y}<br>Name=%{text}<extra></extra>",
           "hovertext": [
            "MARC",
            "DAVID",
            "ALEX",
            "DANIEL",
            "POL",
            "VICTOR",
            "ALBERT",
            "SERGI",
            "PAU",
            "ALEJANDRO",
            "ARNAU",
            "GUILLEM",
            "JORDI",
            "ORIOL",
            "CARLOS",
            "JAVIER",
            "OSCAR",
            "JOAN",
            "ROGER",
            "ADRIA",
            "ERIC",
            "GERARD",
            "IVAN",
            "PABLO",
            "SERGIO"
           ],
           "ids": [
            "MARC",
            "DAVID",
            "ALEX",
            "DANIEL",
            "POL",
            "VICTOR",
            "ALBERT",
            "SERGI",
            "PAU",
            "ALEJANDRO",
            "ARNAU",
            "GUILLEM",
            "JORDI",
            "ORIOL",
            "CARLOS",
            "JAVIER",
            "OSCAR",
            "JOAN",
            "ROGER",
            "ADRIA",
            "ERIC",
            "GERARD",
            "IVAN",
            "PABLO",
            "SERGIO"
           ],
           "legendgroup": "Male",
           "marker": {
            "color": "#EF553B",
            "size": [
             330,
             184,
             174,
             159,
             144,
             139,
             135,
             130,
             122,
             117,
             109,
             104,
             104,
             100,
             94,
             92,
             92,
             91,
             84,
             81,
             80,
             80,
             78,
             64,
             64
            ],
            "sizemode": "area",
            "sizeref": 0.1392,
            "symbol": "circle"
           },
           "mode": "markers+text",
           "name": "Male",
           "orientation": "v",
           "showlegend": true,
           "text": [
            "MARC",
            "DAVID",
            "ALEX",
            "DANIEL",
            "POL",
            "VICTOR",
            "ALBERT",
            "SERGI",
            "PAU",
            "ALEJANDRO",
            "ARNAU",
            "GUILLEM",
            "JORDI",
            "ORIOL",
            "CARLOS",
            "JAVIER",
            "OSCAR",
            "JOAN",
            "ROGER",
            "ADRIA",
            "ERIC",
            "GERARD",
            "IVAN",
            "PABLO",
            "SERGIO"
           ],
           "type": "scatter",
           "x": [
            330,
            184,
            174,
            159,
            144,
            139,
            135,
            130,
            122,
            117,
            109,
            104,
            104,
            100,
            94,
            92,
            92,
            91,
            84,
            81,
            80,
            80,
            78,
            64,
            64
           ],
           "xaxis": "x",
           "y": [
            4,
            8,
            12,
            16,
            20,
            24,
            28,
            32,
            36,
            40,
            44,
            48,
            52,
            56,
            60,
            64,
            68,
            72,
            76,
            80,
            84,
            88,
            92,
            96,
            100
           ],
           "yaxis": "y"
          }
         ],
         "name": "1998"
        },
        {
         "data": [
          {
           "hovertemplate": "<b>%{hovertext}</b><br><br>Gender=Female<br>Year=1999<br>Frequency=%{marker.size}<br>Order=%{y}<br>Name=%{text}<extra></extra>",
           "hovertext": [
            "MARIA",
            "LAURA",
            "PAULA",
            "ANDREA",
            "MARTA",
            "ANNA",
            "LAIA",
            "CARLA",
            "JULIA",
            "MARINA",
            "ALBA",
            "SARA",
            "CLAUDIA",
            "CRISTINA",
            "ARIADNA",
            "MIREIA",
            "NURIA",
            "BERTA",
            "ANA",
            "CLARA",
            "IRENE",
            "MAR",
            "AINA",
            "SANDRA",
            "HELENA"
           ],
           "ids": [
            "MARIA",
            "LAURA",
            "PAULA",
            "ANDREA",
            "MARTA",
            "ANNA",
            "LAIA",
            "CARLA",
            "JULIA",
            "MARINA",
            "ALBA",
            "SARA",
            "CLAUDIA",
            "CRISTINA",
            "ARIADNA",
            "MIREIA",
            "NURIA",
            "BERTA",
            "ANA",
            "CLARA",
            "IRENE",
            "MAR",
            "AINA",
            "SANDRA",
            "HELENA"
           ],
           "legendgroup": "Female",
           "marker": {
            "color": "#636efa",
            "size": [
             299,
             209,
             207,
             187,
             182,
             141,
             132,
             128,
             120,
             116,
             113,
             106,
             97,
             93,
             92,
             91,
             84,
             78,
             69,
             69,
             68,
             68,
             65,
             64,
             62
            ],
            "sizemode": "area",
            "sizeref": 0.1392,
            "symbol": "circle"
           },
           "mode": "markers+text",
           "name": "Female",
           "orientation": "v",
           "showlegend": true,
           "text": [
            "MARIA",
            "LAURA",
            "PAULA",
            "ANDREA",
            "MARTA",
            "ANNA",
            "LAIA",
            "CARLA",
            "JULIA",
            "MARINA",
            "ALBA",
            "SARA",
            "CLAUDIA",
            "CRISTINA",
            "ARIADNA",
            "MIREIA",
            "NURIA",
            "BERTA",
            "ANA",
            "CLARA",
            "IRENE",
            "MAR",
            "AINA",
            "SANDRA",
            "HELENA"
           ],
           "type": "scatter",
           "x": [
            299,
            209,
            207,
            187,
            182,
            141,
            132,
            128,
            120,
            116,
            113,
            106,
            97,
            93,
            92,
            91,
            84,
            78,
            69,
            69,
            68,
            68,
            65,
            64,
            62
           ],
           "xaxis": "x",
           "y": [
            4,
            8,
            12,
            16,
            20,
            24,
            28,
            32,
            36,
            40,
            44,
            48,
            52,
            56,
            60,
            64,
            68,
            72,
            76,
            80,
            84,
            88,
            92,
            96,
            100
           ],
           "yaxis": "y"
          },
          {
           "hovertemplate": "<b>%{hovertext}</b><br><br>Gender=Male<br>Year=1999<br>Frequency=%{marker.size}<br>Order=%{y}<br>Name=%{text}<extra></extra>",
           "hovertext": [
            "MARC",
            "ALEX",
            "DANIEL",
            "DAVID",
            "VICTOR",
            "POL",
            "PAU",
            "ALBERT",
            "ALEJANDRO",
            "JORDI",
            "ARNAU",
            "GUILLEM",
            "SERGI",
            "ORIOL",
            "JOAN",
            "GERARD",
            "OSCAR",
            "ROGER",
            "CARLOS",
            "ADRIA",
            "ERIC",
            "PABLO",
            "JOEL",
            "JAVIER",
            "XAVIER"
           ],
           "ids": [
            "MARC",
            "ALEX",
            "DANIEL",
            "DAVID",
            "VICTOR",
            "POL",
            "PAU",
            "ALBERT",
            "ALEJANDRO",
            "JORDI",
            "ARNAU",
            "GUILLEM",
            "SERGI",
            "ORIOL",
            "JOAN",
            "GERARD",
            "OSCAR",
            "ROGER",
            "CARLOS",
            "ADRIA",
            "ERIC",
            "PABLO",
            "JOEL",
            "JAVIER",
            "XAVIER"
           ],
           "legendgroup": "Male",
           "marker": {
            "color": "#EF553B",
            "size": [
             291,
             169,
             166,
             159,
             157,
             155,
             133,
             122,
             118,
             115,
             112,
             110,
             107,
             101,
             97,
             93,
             91,
             91,
             88,
             82,
             80,
             75,
             70,
             65,
             65
            ],
            "sizemode": "area",
            "sizeref": 0.1392,
            "symbol": "circle"
           },
           "mode": "markers+text",
           "name": "Male",
           "orientation": "v",
           "showlegend": true,
           "text": [
            "MARC",
            "ALEX",
            "DANIEL",
            "DAVID",
            "VICTOR",
            "POL",
            "PAU",
            "ALBERT",
            "ALEJANDRO",
            "JORDI",
            "ARNAU",
            "GUILLEM",
            "SERGI",
            "ORIOL",
            "JOAN",
            "GERARD",
            "OSCAR",
            "ROGER",
            "CARLOS",
            "ADRIA",
            "ERIC",
            "PABLO",
            "JOEL",
            "JAVIER",
            "XAVIER"
           ],
           "type": "scatter",
           "x": [
            291,
            169,
            166,
            159,
            157,
            155,
            133,
            122,
            118,
            115,
            112,
            110,
            107,
            101,
            97,
            93,
            91,
            91,
            88,
            82,
            80,
            75,
            70,
            65,
            65
           ],
           "xaxis": "x",
           "y": [
            4,
            8,
            12,
            16,
            20,
            24,
            28,
            32,
            36,
            40,
            44,
            48,
            52,
            56,
            60,
            64,
            68,
            72,
            76,
            80,
            84,
            88,
            92,
            96,
            100
           ],
           "yaxis": "y"
          }
         ],
         "name": "1999"
        },
        {
         "data": [
          {
           "hovertemplate": "<b>%{hovertext}</b><br><br>Gender=Female<br>Year=2000<br>Frequency=%{marker.size}<br>Order=%{y}<br>Name=%{text}<extra></extra>",
           "hovertext": [
            "MARIA",
            "LAURA",
            "PAULA",
            "ANNA",
            "ANDREA",
            "MARTA",
            "JULIA",
            "ALBA",
            "CARLA",
            "LAIA",
            "SARA",
            "CLAUDIA",
            "MARINA",
            "MIREIA",
            "CRISTINA",
            "BERTA",
            "CLARA",
            "ARIADNA",
            "ANA",
            "NATALIA",
            "NURIA",
            "HELENA",
            "IRENE",
            "CARLOTA",
            "EMMA"
           ],
           "ids": [
            "MARIA",
            "LAURA",
            "PAULA",
            "ANNA",
            "ANDREA",
            "MARTA",
            "JULIA",
            "ALBA",
            "CARLA",
            "LAIA",
            "SARA",
            "CLAUDIA",
            "MARINA",
            "MIREIA",
            "CRISTINA",
            "BERTA",
            "CLARA",
            "ARIADNA",
            "ANA",
            "NATALIA",
            "NURIA",
            "HELENA",
            "IRENE",
            "CARLOTA",
            "EMMA"
           ],
           "legendgroup": "Female",
           "marker": {
            "color": "#636efa",
            "size": [
             268,
             222,
             221,
             180,
             162,
             157,
             144,
             137,
             137,
             132,
             118,
             117,
             116,
             111,
             86,
             84,
             82,
             78,
             72,
             63,
             62,
             61,
             55,
             54,
             54
            ],
            "sizemode": "area",
            "sizeref": 0.1392,
            "symbol": "circle"
           },
           "mode": "markers+text",
           "name": "Female",
           "orientation": "v",
           "showlegend": true,
           "text": [
            "MARIA",
            "LAURA",
            "PAULA",
            "ANNA",
            "ANDREA",
            "MARTA",
            "JULIA",
            "ALBA",
            "CARLA",
            "LAIA",
            "SARA",
            "CLAUDIA",
            "MARINA",
            "MIREIA",
            "CRISTINA",
            "BERTA",
            "CLARA",
            "ARIADNA",
            "ANA",
            "NATALIA",
            "NURIA",
            "HELENA",
            "IRENE",
            "CARLOTA",
            "EMMA"
           ],
           "type": "scatter",
           "x": [
            268,
            222,
            221,
            180,
            162,
            157,
            144,
            137,
            137,
            132,
            118,
            117,
            116,
            111,
            86,
            84,
            82,
            78,
            72,
            63,
            62,
            61,
            55,
            54,
            54
           ],
           "xaxis": "x",
           "y": [
            4,
            8,
            12,
            16,
            20,
            24,
            28,
            32,
            36,
            40,
            44,
            48,
            52,
            56,
            60,
            64,
            68,
            72,
            76,
            80,
            84,
            88,
            92,
            96,
            100
           ],
           "yaxis": "y"
          },
          {
           "hovertemplate": "<b>%{hovertext}</b><br><br>Gender=Male<br>Year=2000<br>Frequency=%{marker.size}<br>Order=%{y}<br>Name=%{text}<extra></extra>",
           "hovertext": [
            "MARC",
            "ALEX",
            "POL",
            "DAVID",
            "DANIEL",
            "VICTOR",
            "PAU",
            "ALBERT",
            "ARNAU",
            "ALEJANDRO",
            "SERGI",
            "JOAN",
            "JORDI",
            "CARLOS",
            "ORIOL",
            "GUILLEM",
            "GERARD",
            "ERIC",
            "XAVIER",
            "JAVIER",
            "JOEL",
            "ROGER",
            "ADRIA",
            "OSCAR",
            "PABLO"
           ],
           "ids": [
            "MARC",
            "ALEX",
            "POL",
            "DAVID",
            "DANIEL",
            "VICTOR",
            "PAU",
            "ALBERT",
            "ARNAU",
            "ALEJANDRO",
            "SERGI",
            "JOAN",
            "JORDI",
            "CARLOS",
            "ORIOL",
            "GUILLEM",
            "GERARD",
            "ERIC",
            "XAVIER",
            "JAVIER",
            "JOEL",
            "ROGER",
            "ADRIA",
            "OSCAR",
            "PABLO"
           ],
           "legendgroup": "Male",
           "marker": {
            "color": "#EF553B",
            "size": [
             290,
             201,
             189,
             187,
             176,
             150,
             134,
             125,
             120,
             117,
             111,
             107,
             105,
             102,
             102,
             91,
             84,
             83,
             82,
             80,
             80,
             80,
             74,
             74,
             71
            ],
            "sizemode": "area",
            "sizeref": 0.1392,
            "symbol": "circle"
           },
           "mode": "markers+text",
           "name": "Male",
           "orientation": "v",
           "showlegend": true,
           "text": [
            "MARC",
            "ALEX",
            "POL",
            "DAVID",
            "DANIEL",
            "VICTOR",
            "PAU",
            "ALBERT",
            "ARNAU",
            "ALEJANDRO",
            "SERGI",
            "JOAN",
            "JORDI",
            "CARLOS",
            "ORIOL",
            "GUILLEM",
            "GERARD",
            "ERIC",
            "XAVIER",
            "JAVIER",
            "JOEL",
            "ROGER",
            "ADRIA",
            "OSCAR",
            "PABLO"
           ],
           "type": "scatter",
           "x": [
            290,
            201,
            189,
            187,
            176,
            150,
            134,
            125,
            120,
            117,
            111,
            107,
            105,
            102,
            102,
            91,
            84,
            83,
            82,
            80,
            80,
            80,
            74,
            74,
            71
           ],
           "xaxis": "x",
           "y": [
            4,
            8,
            12,
            16,
            20,
            24,
            28,
            32,
            36,
            40,
            44,
            48,
            52,
            56,
            60,
            64,
            68,
            72,
            76,
            80,
            84,
            88,
            92,
            96,
            100
           ],
           "yaxis": "y"
          }
         ],
         "name": "2000"
        },
        {
         "data": [
          {
           "hovertemplate": "<b>%{hovertext}</b><br><br>Gender=Female<br>Year=2001<br>Frequency=%{marker.size}<br>Order=%{y}<br>Name=%{text}<extra></extra>",
           "hovertext": [
            "MARIA",
            "PAULA",
            "LAURA",
            "MARTA",
            "CARLA",
            "ANNA",
            "LAIA",
            "JULIA",
            "ALBA",
            "ANDREA",
            "CLAUDIA",
            "SARA",
            "MIREIA",
            "MARINA",
            "ANA",
            "CRISTINA",
            "BERTA",
            "CLARA",
            "NURIA",
            "ARIADNA",
            "AINA",
            "JUDITH",
            "IRENE",
            "CARLOTA",
            "NEREA"
           ],
           "ids": [
            "MARIA",
            "PAULA",
            "LAURA",
            "MARTA",
            "CARLA",
            "ANNA",
            "LAIA",
            "JULIA",
            "ALBA",
            "ANDREA",
            "CLAUDIA",
            "SARA",
            "MIREIA",
            "MARINA",
            "ANA",
            "CRISTINA",
            "BERTA",
            "CLARA",
            "NURIA",
            "ARIADNA",
            "AINA",
            "JUDITH",
            "IRENE",
            "CARLOTA",
            "NEREA"
           ],
           "legendgroup": "Female",
           "marker": {
            "color": "#636efa",
            "size": [
             243,
             187,
             175,
             157,
             153,
             152,
             143,
             138,
             131,
             129,
             120,
             114,
             104,
             98,
             83,
             78,
             76,
             72,
             71,
             67,
             65,
             61,
             57,
             54,
             53
            ],
            "sizemode": "area",
            "sizeref": 0.1392,
            "symbol": "circle"
           },
           "mode": "markers+text",
           "name": "Female",
           "orientation": "v",
           "showlegend": true,
           "text": [
            "MARIA",
            "PAULA",
            "LAURA",
            "MARTA",
            "CARLA",
            "ANNA",
            "LAIA",
            "JULIA",
            "ALBA",
            "ANDREA",
            "CLAUDIA",
            "SARA",
            "MIREIA",
            "MARINA",
            "ANA",
            "CRISTINA",
            "BERTA",
            "CLARA",
            "NURIA",
            "ARIADNA",
            "AINA",
            "JUDITH",
            "IRENE",
            "CARLOTA",
            "NEREA"
           ],
           "type": "scatter",
           "x": [
            243,
            187,
            175,
            157,
            153,
            152,
            143,
            138,
            131,
            129,
            120,
            114,
            104,
            98,
            83,
            78,
            76,
            72,
            71,
            67,
            65,
            61,
            57,
            54,
            53
           ],
           "xaxis": "x",
           "y": [
            4,
            8,
            12,
            16,
            20,
            24,
            28,
            32,
            36,
            40,
            44,
            48,
            52,
            56,
            60,
            64,
            68,
            72,
            76,
            80,
            84,
            88,
            92,
            96,
            100
           ],
           "yaxis": "y"
          },
          {
           "hovertemplate": "<b>%{hovertext}</b><br><br>Gender=Male<br>Year=2001<br>Frequency=%{marker.size}<br>Order=%{y}<br>Name=%{text}<extra></extra>",
           "hovertext": [
            "MARC",
            "ALEX",
            "POL",
            "DAVID",
            "PAU",
            "DANIEL",
            "ALEJANDRO",
            "VICTOR",
            "GERARD",
            "ARNAU",
            "JOAN",
            "ALBERT",
            "JORDI",
            "SERGI",
            "IVAN",
            "ADRIA",
            "PABLO",
            "GUILLEM",
            "CARLOS",
            "ORIOL",
            "ERIC",
            "JOEL",
            "XAVIER",
            "JAVIER",
            "MARTI"
           ],
           "ids": [
            "MARC",
            "ALEX",
            "POL",
            "DAVID",
            "PAU",
            "DANIEL",
            "ALEJANDRO",
            "VICTOR",
            "GERARD",
            "ARNAU",
            "JOAN",
            "ALBERT",
            "JORDI",
            "SERGI",
            "IVAN",
            "ADRIA",
            "PABLO",
            "GUILLEM",
            "CARLOS",
            "ORIOL",
            "ERIC",
            "JOEL",
            "XAVIER",
            "JAVIER",
            "MARTI"
           ],
           "legendgroup": "Male",
           "marker": {
            "color": "#EF553B",
            "size": [
             234,
             164,
             159,
             154,
             151,
             143,
             132,
             126,
             125,
             108,
             108,
             105,
             99,
             96,
             91,
             85,
             85,
             83,
             80,
             80,
             71,
             70,
             70,
             67,
             64
            ],
            "sizemode": "area",
            "sizeref": 0.1392,
            "symbol": "circle"
           },
           "mode": "markers+text",
           "name": "Male",
           "orientation": "v",
           "showlegend": true,
           "text": [
            "MARC",
            "ALEX",
            "POL",
            "DAVID",
            "PAU",
            "DANIEL",
            "ALEJANDRO",
            "VICTOR",
            "GERARD",
            "ARNAU",
            "JOAN",
            "ALBERT",
            "JORDI",
            "SERGI",
            "IVAN",
            "ADRIA",
            "PABLO",
            "GUILLEM",
            "CARLOS",
            "ORIOL",
            "ERIC",
            "JOEL",
            "XAVIER",
            "JAVIER",
            "MARTI"
           ],
           "type": "scatter",
           "x": [
            234,
            164,
            159,
            154,
            151,
            143,
            132,
            126,
            125,
            108,
            108,
            105,
            99,
            96,
            91,
            85,
            85,
            83,
            80,
            80,
            71,
            70,
            70,
            67,
            64
           ],
           "xaxis": "x",
           "y": [
            4,
            8,
            12,
            16,
            20,
            24,
            28,
            32,
            36,
            40,
            44,
            48,
            52,
            56,
            60,
            64,
            68,
            72,
            76,
            80,
            84,
            88,
            92,
            96,
            100
           ],
           "yaxis": "y"
          }
         ],
         "name": "2001"
        },
        {
         "data": [
          {
           "hovertemplate": "<b>%{hovertext}</b><br><br>Gender=Female<br>Year=2002<br>Frequency=%{marker.size}<br>Order=%{y}<br>Name=%{text}<extra></extra>",
           "hovertext": [
            "MARIA",
            "PAULA",
            "MARTA",
            "LAURA",
            "ALBA",
            "CARLA",
            "LAIA",
            "JULIA",
            "ANNA",
            "CLAUDIA",
            "ANDREA",
            "SARA",
            "LUCIA",
            "MARINA",
            "MIREIA",
            "ARIADNA",
            "CLARA",
            "AINA",
            "NURIA",
            "CARLOTA",
            "MARTINA",
            "BERTA",
            "MAR",
            "CRISTINA",
            "NEREA"
           ],
           "ids": [
            "MARIA",
            "PAULA",
            "MARTA",
            "LAURA",
            "ALBA",
            "CARLA",
            "LAIA",
            "JULIA",
            "ANNA",
            "CLAUDIA",
            "ANDREA",
            "SARA",
            "LUCIA",
            "MARINA",
            "MIREIA",
            "ARIADNA",
            "CLARA",
            "AINA",
            "NURIA",
            "CARLOTA",
            "MARTINA",
            "BERTA",
            "MAR",
            "CRISTINA",
            "NEREA"
           ],
           "legendgroup": "Female",
           "marker": {
            "color": "#636efa",
            "size": [
             243,
             197,
             162,
             161,
             147,
             142,
             137,
             134,
             132,
             124,
             117,
             105,
             100,
             98,
             96,
             92,
             81,
             80,
             71,
             70,
             65,
             63,
             63,
             62,
             62
            ],
            "sizemode": "area",
            "sizeref": 0.1392,
            "symbol": "circle"
           },
           "mode": "markers+text",
           "name": "Female",
           "orientation": "v",
           "showlegend": true,
           "text": [
            "MARIA",
            "PAULA",
            "MARTA",
            "LAURA",
            "ALBA",
            "CARLA",
            "LAIA",
            "JULIA",
            "ANNA",
            "CLAUDIA",
            "ANDREA",
            "SARA",
            "LUCIA",
            "MARINA",
            "MIREIA",
            "ARIADNA",
            "CLARA",
            "AINA",
            "NURIA",
            "CARLOTA",
            "MARTINA",
            "BERTA",
            "MAR",
            "CRISTINA",
            "NEREA"
           ],
           "type": "scatter",
           "x": [
            243,
            197,
            162,
            161,
            147,
            142,
            137,
            134,
            132,
            124,
            117,
            105,
            100,
            98,
            96,
            92,
            81,
            80,
            71,
            70,
            65,
            63,
            63,
            62,
            62
           ],
           "xaxis": "x",
           "y": [
            4,
            8,
            12,
            16,
            20,
            24,
            28,
            32,
            36,
            40,
            44,
            48,
            52,
            56,
            60,
            64,
            68,
            72,
            76,
            80,
            84,
            88,
            92,
            96,
            100
           ],
           "yaxis": "y"
          },
          {
           "hovertemplate": "<b>%{hovertext}</b><br><br>Gender=Male<br>Year=2002<br>Frequency=%{marker.size}<br>Order=%{y}<br>Name=%{text}<extra></extra>",
           "hovertext": [
            "MARC",
            "POL",
            "DAVID",
            "PAU",
            "ALEX",
            "DANIEL",
            "ALEJANDRO",
            "VICTOR",
            "ARNAU",
            "GERARD",
            "PABLO",
            "JOAN",
            "ALBERT",
            "JOEL",
            "ERIC",
            "JORDI",
            "ORIOL",
            "GUILLEM",
            "ADRIA",
            "SERGI",
            "CARLOS",
            "OSCAR",
            "RAUL",
            "IVAN",
            "XAVIER"
           ],
           "ids": [
            "MARC",
            "POL",
            "DAVID",
            "PAU",
            "ALEX",
            "DANIEL",
            "ALEJANDRO",
            "VICTOR",
            "ARNAU",
            "GERARD",
            "PABLO",
            "JOAN",
            "ALBERT",
            "JOEL",
            "ERIC",
            "JORDI",
            "ORIOL",
            "GUILLEM",
            "ADRIA",
            "SERGI",
            "CARLOS",
            "OSCAR",
            "RAUL",
            "IVAN",
            "XAVIER"
           ],
           "legendgroup": "Male",
           "marker": {
            "color": "#EF553B",
            "size": [
             267,
             175,
             150,
             149,
             148,
             128,
             124,
             120,
             115,
             106,
             103,
             97,
             88,
             86,
             84,
             78,
             77,
             74,
             73,
             72,
             65,
             65,
             65,
             62,
             61
            ],
            "sizemode": "area",
            "sizeref": 0.1392,
            "symbol": "circle"
           },
           "mode": "markers+text",
           "name": "Male",
           "orientation": "v",
           "showlegend": true,
           "text": [
            "MARC",
            "POL",
            "DAVID",
            "PAU",
            "ALEX",
            "DANIEL",
            "ALEJANDRO",
            "VICTOR",
            "ARNAU",
            "GERARD",
            "PABLO",
            "JOAN",
            "ALBERT",
            "JOEL",
            "ERIC",
            "JORDI",
            "ORIOL",
            "GUILLEM",
            "ADRIA",
            "SERGI",
            "CARLOS",
            "OSCAR",
            "RAUL",
            "IVAN",
            "XAVIER"
           ],
           "type": "scatter",
           "x": [
            267,
            175,
            150,
            149,
            148,
            128,
            124,
            120,
            115,
            106,
            103,
            97,
            88,
            86,
            84,
            78,
            77,
            74,
            73,
            72,
            65,
            65,
            65,
            62,
            61
           ],
           "xaxis": "x",
           "y": [
            4,
            8,
            12,
            16,
            20,
            24,
            28,
            32,
            36,
            40,
            44,
            48,
            52,
            56,
            60,
            64,
            68,
            72,
            76,
            80,
            84,
            88,
            92,
            96,
            100
           ],
           "yaxis": "y"
          }
         ],
         "name": "2002"
        },
        {
         "data": [
          {
           "hovertemplate": "<b>%{hovertext}</b><br><br>Gender=Female<br>Year=2003<br>Frequency=%{marker.size}<br>Order=%{y}<br>Name=%{text}<extra></extra>",
           "hovertext": [
            "MARIA",
            "PAULA",
            "CARLA",
            "LAIA",
            "LAURA",
            "ALBA",
            "ANNA",
            "MARTA",
            "JULIA",
            "ANDREA",
            "CLAUDIA",
            "LUCIA",
            "SARA",
            "ARIADNA",
            "MARINA",
            "CRISTINA",
            "BERTA",
            "CLARA",
            "MIREIA",
            "MARTINA",
            "NURIA",
            "MAR",
            "AINHOA",
            "NEREA",
            "ANA"
           ],
           "ids": [
            "MARIA",
            "PAULA",
            "CARLA",
            "LAIA",
            "LAURA",
            "ALBA",
            "ANNA",
            "MARTA",
            "JULIA",
            "ANDREA",
            "CLAUDIA",
            "LUCIA",
            "SARA",
            "ARIADNA",
            "MARINA",
            "CRISTINA",
            "BERTA",
            "CLARA",
            "MIREIA",
            "MARTINA",
            "NURIA",
            "MAR",
            "AINHOA",
            "NEREA",
            "ANA"
           ],
           "legendgroup": "Female",
           "marker": {
            "color": "#636efa",
            "size": [
             196,
             192,
             165,
             158,
             148,
             135,
             135,
             131,
             128,
             126,
             121,
             119,
             107,
             96,
             84,
             75,
             72,
             71,
             71,
             67,
             66,
             65,
             64,
             60,
             59
            ],
            "sizemode": "area",
            "sizeref": 0.1392,
            "symbol": "circle"
           },
           "mode": "markers+text",
           "name": "Female",
           "orientation": "v",
           "showlegend": true,
           "text": [
            "MARIA",
            "PAULA",
            "CARLA",
            "LAIA",
            "LAURA",
            "ALBA",
            "ANNA",
            "MARTA",
            "JULIA",
            "ANDREA",
            "CLAUDIA",
            "LUCIA",
            "SARA",
            "ARIADNA",
            "MARINA",
            "CRISTINA",
            "BERTA",
            "CLARA",
            "MIREIA",
            "MARTINA",
            "NURIA",
            "MAR",
            "AINHOA",
            "NEREA",
            "ANA"
           ],
           "type": "scatter",
           "x": [
            196,
            192,
            165,
            158,
            148,
            135,
            135,
            131,
            128,
            126,
            121,
            119,
            107,
            96,
            84,
            75,
            72,
            71,
            71,
            67,
            66,
            65,
            64,
            60,
            59
           ],
           "xaxis": "x",
           "y": [
            4,
            8,
            12,
            16,
            20,
            24,
            28,
            32,
            36,
            40,
            44,
            48,
            52,
            56,
            60,
            64,
            68,
            72,
            76,
            80,
            84,
            88,
            92,
            96,
            100
           ],
           "yaxis": "y"
          },
          {
           "hovertemplate": "<b>%{hovertext}</b><br><br>Gender=Male<br>Year=2003<br>Frequency=%{marker.size}<br>Order=%{y}<br>Name=%{text}<extra></extra>",
           "hovertext": [
            "MARC",
            "ALEX",
            "PAU",
            "POL",
            "DAVID",
            "DANIEL",
            "JOAN",
            "ARNAU",
            "VICTOR",
            "ALEJANDRO",
            "PABLO",
            "GERARD",
            "JORDI",
            "ORIOL",
            "ERIC",
            "JAN",
            "SERGI",
            "ADRIA",
            "ALBERT",
            "MARTI",
            "GUILLEM",
            "JOEL",
            "ADRIAN",
            "ALVARO",
            "CARLOS"
           ],
           "ids": [
            "MARC",
            "ALEX",
            "PAU",
            "POL",
            "DAVID",
            "DANIEL",
            "JOAN",
            "ARNAU",
            "VICTOR",
            "ALEJANDRO",
            "PABLO",
            "GERARD",
            "JORDI",
            "ORIOL",
            "ERIC",
            "JAN",
            "SERGI",
            "ADRIA",
            "ALBERT",
            "MARTI",
            "GUILLEM",
            "JOEL",
            "ADRIAN",
            "ALVARO",
            "CARLOS"
           ],
           "legendgroup": "Male",
           "marker": {
            "color": "#EF553B",
            "size": [
             287,
             205,
             202,
             184,
             173,
             156,
             119,
             109,
             107,
             105,
             104,
             94,
             93,
             90,
             89,
             87,
             82,
             79,
             79,
             79,
             72,
             72,
             68,
             68,
             63
            ],
            "sizemode": "area",
            "sizeref": 0.1392,
            "symbol": "circle"
           },
           "mode": "markers+text",
           "name": "Male",
           "orientation": "v",
           "showlegend": true,
           "text": [
            "MARC",
            "ALEX",
            "PAU",
            "POL",
            "DAVID",
            "DANIEL",
            "JOAN",
            "ARNAU",
            "VICTOR",
            "ALEJANDRO",
            "PABLO",
            "GERARD",
            "JORDI",
            "ORIOL",
            "ERIC",
            "JAN",
            "SERGI",
            "ADRIA",
            "ALBERT",
            "MARTI",
            "GUILLEM",
            "JOEL",
            "ADRIAN",
            "ALVARO",
            "CARLOS"
           ],
           "type": "scatter",
           "x": [
            287,
            205,
            202,
            184,
            173,
            156,
            119,
            109,
            107,
            105,
            104,
            94,
            93,
            90,
            89,
            87,
            82,
            79,
            79,
            79,
            72,
            72,
            68,
            68,
            63
           ],
           "xaxis": "x",
           "y": [
            4,
            8,
            12,
            16,
            20,
            24,
            28,
            32,
            36,
            40,
            44,
            48,
            52,
            56,
            60,
            64,
            68,
            72,
            76,
            80,
            84,
            88,
            92,
            96,
            100
           ],
           "yaxis": "y"
          }
         ],
         "name": "2003"
        },
        {
         "data": [
          {
           "hovertemplate": "<b>%{hovertext}</b><br><br>Gender=Female<br>Year=2004<br>Frequency=%{marker.size}<br>Order=%{y}<br>Name=%{text}<extra></extra>",
           "hovertext": [
            "MARIA",
            "PAULA",
            "LAIA",
            "JULIA",
            "LUCIA",
            "CARLA",
            "LAURA",
            "CLAUDIA",
            "ALBA",
            "ANNA",
            "MARTA",
            "ANDREA",
            "MARTINA",
            "SARA",
            "MARINA",
            "ARIADNA",
            "BERTA",
            "AINA",
            "MIREIA",
            "NEREA",
            "CLARA",
            "CRISTINA",
            "NURIA",
            "JUDITH",
            "MAR"
           ],
           "ids": [
            "MARIA",
            "PAULA",
            "LAIA",
            "JULIA",
            "LUCIA",
            "CARLA",
            "LAURA",
            "CLAUDIA",
            "ALBA",
            "ANNA",
            "MARTA",
            "ANDREA",
            "MARTINA",
            "SARA",
            "MARINA",
            "ARIADNA",
            "BERTA",
            "AINA",
            "MIREIA",
            "NEREA",
            "CLARA",
            "CRISTINA",
            "NURIA",
            "JUDITH",
            "MAR"
           ],
           "legendgroup": "Female",
           "marker": {
            "color": "#636efa",
            "size": [
             200,
             190,
             184,
             171,
             171,
             164,
             146,
             127,
             122,
             111,
             110,
             106,
             105,
             84,
             81,
             77,
             76,
             73,
             68,
             62,
             61,
             58,
             56,
             55,
             55
            ],
            "sizemode": "area",
            "sizeref": 0.1392,
            "symbol": "circle"
           },
           "mode": "markers+text",
           "name": "Female",
           "orientation": "v",
           "showlegend": true,
           "text": [
            "MARIA",
            "PAULA",
            "LAIA",
            "JULIA",
            "LUCIA",
            "CARLA",
            "LAURA",
            "CLAUDIA",
            "ALBA",
            "ANNA",
            "MARTA",
            "ANDREA",
            "MARTINA",
            "SARA",
            "MARINA",
            "ARIADNA",
            "BERTA",
            "AINA",
            "MIREIA",
            "NEREA",
            "CLARA",
            "CRISTINA",
            "NURIA",
            "JUDITH",
            "MAR"
           ],
           "type": "scatter",
           "x": [
            200,
            190,
            184,
            171,
            171,
            164,
            146,
            127,
            122,
            111,
            110,
            106,
            105,
            84,
            81,
            77,
            76,
            73,
            68,
            62,
            61,
            58,
            56,
            55,
            55
           ],
           "xaxis": "x",
           "y": [
            4,
            8,
            12,
            16,
            20,
            24,
            28,
            32,
            36,
            40,
            44,
            48,
            52,
            56,
            60,
            64,
            68,
            72,
            76,
            80,
            84,
            88,
            92,
            96,
            100
           ],
           "yaxis": "y"
          },
          {
           "hovertemplate": "<b>%{hovertext}</b><br><br>Gender=Male<br>Year=2004<br>Frequency=%{marker.size}<br>Order=%{y}<br>Name=%{text}<extra></extra>",
           "hovertext": [
            "MARC",
            "ALEX",
            "POL",
            "PAU",
            "DAVID",
            "DANIEL",
            "ARNAU",
            "VICTOR",
            "ALEJANDRO",
            "PABLO",
            "JOAN",
            "ADRIA",
            "JOEL",
            "GERARD",
            "ERIC",
            "JAN",
            "MARTI",
            "GUILLEM",
            "ORIOL",
            "JORDI",
            "SERGI",
            "IVAN",
            "ALBERT",
            "OSCAR",
            "XAVIER"
           ],
           "ids": [
            "MARC",
            "ALEX",
            "POL",
            "PAU",
            "DAVID",
            "DANIEL",
            "ARNAU",
            "VICTOR",
            "ALEJANDRO",
            "PABLO",
            "JOAN",
            "ADRIA",
            "JOEL",
            "GERARD",
            "ERIC",
            "JAN",
            "MARTI",
            "GUILLEM",
            "ORIOL",
            "JORDI",
            "SERGI",
            "IVAN",
            "ALBERT",
            "OSCAR",
            "XAVIER"
           ],
           "legendgroup": "Male",
           "marker": {
            "color": "#EF553B",
            "size": [
             259,
             185,
             181,
             173,
             129,
             128,
             125,
             116,
             107,
             107,
             98,
             93,
             93,
             90,
             88,
             88,
             88,
             82,
             81,
             80,
             79,
             75,
             73,
             61,
             61
            ],
            "sizemode": "area",
            "sizeref": 0.1392,
            "symbol": "circle"
           },
           "mode": "markers+text",
           "name": "Male",
           "orientation": "v",
           "showlegend": true,
           "text": [
            "MARC",
            "ALEX",
            "POL",
            "PAU",
            "DAVID",
            "DANIEL",
            "ARNAU",
            "VICTOR",
            "ALEJANDRO",
            "PABLO",
            "JOAN",
            "ADRIA",
            "JOEL",
            "GERARD",
            "ERIC",
            "JAN",
            "MARTI",
            "GUILLEM",
            "ORIOL",
            "JORDI",
            "SERGI",
            "IVAN",
            "ALBERT",
            "OSCAR",
            "XAVIER"
           ],
           "type": "scatter",
           "x": [
            259,
            185,
            181,
            173,
            129,
            128,
            125,
            116,
            107,
            107,
            98,
            93,
            93,
            90,
            88,
            88,
            88,
            82,
            81,
            80,
            79,
            75,
            73,
            61,
            61
           ],
           "xaxis": "x",
           "y": [
            4,
            8,
            12,
            16,
            20,
            24,
            28,
            32,
            36,
            40,
            44,
            48,
            52,
            56,
            60,
            64,
            68,
            72,
            76,
            80,
            84,
            88,
            92,
            96,
            100
           ],
           "yaxis": "y"
          }
         ],
         "name": "2004"
        },
        {
         "data": [
          {
           "hovertemplate": "<b>%{hovertext}</b><br><br>Gender=Female<br>Year=2005<br>Frequency=%{marker.size}<br>Order=%{y}<br>Name=%{text}<extra></extra>",
           "hovertext": [
            "LAIA",
            "MARIA",
            "JULIA",
            "CARLA",
            "LUCIA",
            "PAULA",
            "MARTINA",
            "LAURA",
            "MARTA",
            "ALBA",
            "CLAUDIA",
            "ARIADNA",
            "SOFIA",
            "ANNA",
            "BERTA",
            "SARA",
            "MARINA",
            "AINA",
            "CLARA",
            "ANDREA",
            "NOA",
            "MIREIA",
            "MAR",
            "NATALIA",
            "EMMA"
           ],
           "ids": [
            "LAIA",
            "MARIA",
            "JULIA",
            "CARLA",
            "LUCIA",
            "PAULA",
            "MARTINA",
            "LAURA",
            "MARTA",
            "ALBA",
            "CLAUDIA",
            "ARIADNA",
            "SOFIA",
            "ANNA",
            "BERTA",
            "SARA",
            "MARINA",
            "AINA",
            "CLARA",
            "ANDREA",
            "NOA",
            "MIREIA",
            "MAR",
            "NATALIA",
            "EMMA"
           ],
           "legendgroup": "Female",
           "marker": {
            "color": "#636efa",
            "size": [
             200,
             183,
             182,
             171,
             165,
             157,
             144,
             124,
             122,
             117,
             112,
             99,
             90,
             87,
             77,
             77,
             76,
             73,
             69,
             68,
             66,
             60,
             59,
             59,
             57
            ],
            "sizemode": "area",
            "sizeref": 0.1392,
            "symbol": "circle"
           },
           "mode": "markers+text",
           "name": "Female",
           "orientation": "v",
           "showlegend": true,
           "text": [
            "LAIA",
            "MARIA",
            "JULIA",
            "CARLA",
            "LUCIA",
            "PAULA",
            "MARTINA",
            "LAURA",
            "MARTA",
            "ALBA",
            "CLAUDIA",
            "ARIADNA",
            "SOFIA",
            "ANNA",
            "BERTA",
            "SARA",
            "MARINA",
            "AINA",
            "CLARA",
            "ANDREA",
            "NOA",
            "MIREIA",
            "MAR",
            "NATALIA",
            "EMMA"
           ],
           "type": "scatter",
           "x": [
            200,
            183,
            182,
            171,
            165,
            157,
            144,
            124,
            122,
            117,
            112,
            99,
            90,
            87,
            77,
            77,
            76,
            73,
            69,
            68,
            66,
            60,
            59,
            59,
            57
           ],
           "xaxis": "x",
           "y": [
            4,
            8,
            12,
            16,
            20,
            24,
            28,
            32,
            36,
            40,
            44,
            48,
            52,
            56,
            60,
            64,
            68,
            72,
            76,
            80,
            84,
            88,
            92,
            96,
            100
           ],
           "yaxis": "y"
          },
          {
           "hovertemplate": "<b>%{hovertext}</b><br><br>Gender=Male<br>Year=2005<br>Frequency=%{marker.size}<br>Order=%{y}<br>Name=%{text}<extra></extra>",
           "hovertext": [
            "MARC",
            "PAU",
            "POL",
            "ALEX",
            "DAVID",
            "DANIEL",
            "JAN",
            "ARNAU",
            "MARTI",
            "PABLO",
            "VICTOR",
            "ALEJANDRO",
            "ADRIA",
            "ERIC",
            "ORIOL",
            "GERARD",
            "JOAN",
            "JORDI",
            "GUILLEM",
            "IVAN",
            "SERGI",
            "ALBERT",
            "JOEL",
            "XAVIER",
            "ROGER"
           ],
           "ids": [
            "MARC",
            "PAU",
            "POL",
            "ALEX",
            "DAVID",
            "DANIEL",
            "JAN",
            "ARNAU",
            "MARTI",
            "PABLO",
            "VICTOR",
            "ALEJANDRO",
            "ADRIA",
            "ERIC",
            "ORIOL",
            "GERARD",
            "JOAN",
            "JORDI",
            "GUILLEM",
            "IVAN",
            "SERGI",
            "ALBERT",
            "JOEL",
            "XAVIER",
            "ROGER"
           ],
           "legendgroup": "Male",
           "marker": {
            "color": "#EF553B",
            "size": [
             277,
             187,
             176,
             167,
             157,
             151,
             122,
             115,
             111,
             106,
             103,
             102,
             100,
             90,
             89,
             87,
             82,
             78,
             77,
             68,
             67,
             66,
             66,
             63,
             62
            ],
            "sizemode": "area",
            "sizeref": 0.1392,
            "symbol": "circle"
           },
           "mode": "markers+text",
           "name": "Male",
           "orientation": "v",
           "showlegend": true,
           "text": [
            "MARC",
            "PAU",
            "POL",
            "ALEX",
            "DAVID",
            "DANIEL",
            "JAN",
            "ARNAU",
            "MARTI",
            "PABLO",
            "VICTOR",
            "ALEJANDRO",
            "ADRIA",
            "ERIC",
            "ORIOL",
            "GERARD",
            "JOAN",
            "JORDI",
            "GUILLEM",
            "IVAN",
            "SERGI",
            "ALBERT",
            "JOEL",
            "XAVIER",
            "ROGER"
           ],
           "type": "scatter",
           "x": [
            277,
            187,
            176,
            167,
            157,
            151,
            122,
            115,
            111,
            106,
            103,
            102,
            100,
            90,
            89,
            87,
            82,
            78,
            77,
            68,
            67,
            66,
            66,
            63,
            62
           ],
           "xaxis": "x",
           "y": [
            4,
            8,
            12,
            16,
            20,
            24,
            28,
            32,
            36,
            40,
            44,
            48,
            52,
            56,
            60,
            64,
            68,
            72,
            76,
            80,
            84,
            88,
            92,
            96,
            100
           ],
           "yaxis": "y"
          }
         ],
         "name": "2005"
        },
        {
         "data": [
          {
           "hovertemplate": "<b>%{hovertext}</b><br><br>Gender=Female<br>Year=2006<br>Frequency=%{marker.size}<br>Order=%{y}<br>Name=%{text}<extra></extra>",
           "hovertext": [
            "MARIA",
            "LAIA",
            "LUCIA",
            "JULIA",
            "CARLA",
            "MARTINA",
            "CLAUDIA",
            "PAULA",
            "LAURA",
            "ALBA",
            "SARA",
            "MARTA",
            "ANNA",
            "AINA",
            "ARIADNA",
            "BERTA",
            "ANDREA",
            "CLARA",
            "IRENE",
            "MARINA",
            "EMMA",
            "SOFIA",
            "JANA",
            "MIREIA",
            "CARLOTA"
           ],
           "ids": [
            "MARIA",
            "LAIA",
            "LUCIA",
            "JULIA",
            "CARLA",
            "MARTINA",
            "CLAUDIA",
            "PAULA",
            "LAURA",
            "ALBA",
            "SARA",
            "MARTA",
            "ANNA",
            "AINA",
            "ARIADNA",
            "BERTA",
            "ANDREA",
            "CLARA",
            "IRENE",
            "MARINA",
            "EMMA",
            "SOFIA",
            "JANA",
            "MIREIA",
            "CARLOTA"
           ],
           "legendgroup": "Female",
           "marker": {
            "color": "#636efa",
            "size": [
             196,
             180,
             170,
             160,
             145,
             129,
             126,
             122,
             111,
             101,
             97,
             89,
             86,
             82,
             76,
             68,
             66,
             66,
             65,
             61,
             58,
             58,
             56,
             56,
             55
            ],
            "sizemode": "area",
            "sizeref": 0.1392,
            "symbol": "circle"
           },
           "mode": "markers+text",
           "name": "Female",
           "orientation": "v",
           "showlegend": true,
           "text": [
            "MARIA",
            "LAIA",
            "LUCIA",
            "JULIA",
            "CARLA",
            "MARTINA",
            "CLAUDIA",
            "PAULA",
            "LAURA",
            "ALBA",
            "SARA",
            "MARTA",
            "ANNA",
            "AINA",
            "ARIADNA",
            "BERTA",
            "ANDREA",
            "CLARA",
            "IRENE",
            "MARINA",
            "EMMA",
            "SOFIA",
            "JANA",
            "MIREIA",
            "CARLOTA"
           ],
           "type": "scatter",
           "x": [
            196,
            180,
            170,
            160,
            145,
            129,
            126,
            122,
            111,
            101,
            97,
            89,
            86,
            82,
            76,
            68,
            66,
            66,
            65,
            61,
            58,
            58,
            56,
            56,
            55
           ],
           "xaxis": "x",
           "y": [
            4,
            8,
            12,
            16,
            20,
            24,
            28,
            32,
            36,
            40,
            44,
            48,
            52,
            56,
            60,
            64,
            68,
            72,
            76,
            80,
            84,
            88,
            92,
            96,
            100
           ],
           "yaxis": "y"
          },
          {
           "hovertemplate": "<b>%{hovertext}</b><br><br>Gender=Male<br>Year=2006<br>Frequency=%{marker.size}<br>Order=%{y}<br>Name=%{text}<extra></extra>",
           "hovertext": [
            "MARC",
            "POL",
            "ALEX",
            "PAU",
            "DANIEL",
            "ARNAU",
            "DAVID",
            "VICTOR",
            "MARTI",
            "ALEJANDRO",
            "ADRIA",
            "JOAN",
            "ERIC",
            "ORIOL",
            "JAN",
            "JOEL",
            "GUILLEM",
            "PABLO",
            "GERARD",
            "ROGER",
            "HUGO",
            "IKER",
            "ALBERT",
            "BIEL",
            "ALVARO"
           ],
           "ids": [
            "MARC",
            "POL",
            "ALEX",
            "PAU",
            "DANIEL",
            "ARNAU",
            "DAVID",
            "VICTOR",
            "MARTI",
            "ALEJANDRO",
            "ADRIA",
            "JOAN",
            "ERIC",
            "ORIOL",
            "JAN",
            "JOEL",
            "GUILLEM",
            "PABLO",
            "GERARD",
            "ROGER",
            "HUGO",
            "IKER",
            "ALBERT",
            "BIEL",
            "ALVARO"
           ],
           "legendgroup": "Male",
           "marker": {
            "color": "#EF553B",
            "size": [
             229,
             173,
             168,
             163,
             141,
             117,
             116,
             111,
             98,
             95,
             92,
             91,
             88,
             88,
             84,
             83,
             79,
             76,
             72,
             71,
             70,
             63,
             61,
             59,
             58
            ],
            "sizemode": "area",
            "sizeref": 0.1392,
            "symbol": "circle"
           },
           "mode": "markers+text",
           "name": "Male",
           "orientation": "v",
           "showlegend": true,
           "text": [
            "MARC",
            "POL",
            "ALEX",
            "PAU",
            "DANIEL",
            "ARNAU",
            "DAVID",
            "VICTOR",
            "MARTI",
            "ALEJANDRO",
            "ADRIA",
            "JOAN",
            "ERIC",
            "ORIOL",
            "JAN",
            "JOEL",
            "GUILLEM",
            "PABLO",
            "GERARD",
            "ROGER",
            "HUGO",
            "IKER",
            "ALBERT",
            "BIEL",
            "ALVARO"
           ],
           "type": "scatter",
           "x": [
            229,
            173,
            168,
            163,
            141,
            117,
            116,
            111,
            98,
            95,
            92,
            91,
            88,
            88,
            84,
            83,
            79,
            76,
            72,
            71,
            70,
            63,
            61,
            59,
            58
           ],
           "xaxis": "x",
           "y": [
            4,
            8,
            12,
            16,
            20,
            24,
            28,
            32,
            36,
            40,
            44,
            48,
            52,
            56,
            60,
            64,
            68,
            72,
            76,
            80,
            84,
            88,
            92,
            96,
            100
           ],
           "yaxis": "y"
          }
         ],
         "name": "2006"
        },
        {
         "data": [
          {
           "hovertemplate": "<b>%{hovertext}</b><br><br>Gender=Female<br>Year=2007<br>Frequency=%{marker.size}<br>Order=%{y}<br>Name=%{text}<extra></extra>",
           "hovertext": [
            "LUCIA",
            "MARIA",
            "MARTINA",
            "LAIA",
            "JULIA",
            "CARLA",
            "PAULA",
            "CLAUDIA",
            "SARA",
            "JANA",
            "AINA",
            "ARIADNA",
            "ALBA",
            "SOFIA",
            "LAURA",
            "BERTA",
            "MAR",
            "IRENE",
            "NOA",
            "MARTA",
            "ANNA",
            "ANDREA",
            "EMMA",
            "MARINA",
            "CARLOTA"
           ],
           "ids": [
            "LUCIA",
            "MARIA",
            "MARTINA",
            "LAIA",
            "JULIA",
            "CARLA",
            "PAULA",
            "CLAUDIA",
            "SARA",
            "JANA",
            "AINA",
            "ARIADNA",
            "ALBA",
            "SOFIA",
            "LAURA",
            "BERTA",
            "MAR",
            "IRENE",
            "NOA",
            "MARTA",
            "ANNA",
            "ANDREA",
            "EMMA",
            "MARINA",
            "CARLOTA"
           ],
           "legendgroup": "Female",
           "marker": {
            "color": "#636efa",
            "size": [
             159,
             155,
             152,
             138,
             130,
             125,
             124,
             114,
             100,
             93,
             90,
             88,
             87,
             87,
             84,
             80,
             76,
             75,
             73,
             72,
             63,
             60,
             60,
             57,
             56
            ],
            "sizemode": "area",
            "sizeref": 0.1392,
            "symbol": "circle"
           },
           "mode": "markers+text",
           "name": "Female",
           "orientation": "v",
           "showlegend": true,
           "text": [
            "LUCIA",
            "MARIA",
            "MARTINA",
            "LAIA",
            "JULIA",
            "CARLA",
            "PAULA",
            "CLAUDIA",
            "SARA",
            "JANA",
            "AINA",
            "ARIADNA",
            "ALBA",
            "SOFIA",
            "LAURA",
            "BERTA",
            "MAR",
            "IRENE",
            "NOA",
            "MARTA",
            "ANNA",
            "ANDREA",
            "EMMA",
            "MARINA",
            "CARLOTA"
           ],
           "type": "scatter",
           "x": [
            159,
            155,
            152,
            138,
            130,
            125,
            124,
            114,
            100,
            93,
            90,
            88,
            87,
            87,
            84,
            80,
            76,
            75,
            73,
            72,
            63,
            60,
            60,
            57,
            56
           ],
           "xaxis": "x",
           "y": [
            4,
            8,
            12,
            16,
            20,
            24,
            28,
            32,
            36,
            40,
            44,
            48,
            52,
            56,
            60,
            64,
            68,
            72,
            76,
            80,
            84,
            88,
            92,
            96,
            100
           ],
           "yaxis": "y"
          },
          {
           "hovertemplate": "<b>%{hovertext}</b><br><br>Gender=Male<br>Year=2007<br>Frequency=%{marker.size}<br>Order=%{y}<br>Name=%{text}<extra></extra>",
           "hovertext": [
            "MARC",
            "ALEX",
            "PAU",
            "POL",
            "DANIEL",
            "DAVID",
            "ERIC",
            "MARTI",
            "ARNAU",
            "VICTOR",
            "ALEJANDRO",
            "JOAN",
            "PABLO",
            "JAN",
            "ORIOL",
            "GERARD",
            "BIEL",
            "GUILLEM",
            "JOEL",
            "ROGER",
            "HUGO",
            "ADRIA",
            "NICOLAS",
            "IKER",
            "JORDI"
           ],
           "ids": [
            "MARC",
            "ALEX",
            "PAU",
            "POL",
            "DANIEL",
            "DAVID",
            "ERIC",
            "MARTI",
            "ARNAU",
            "VICTOR",
            "ALEJANDRO",
            "JOAN",
            "PABLO",
            "JAN",
            "ORIOL",
            "GERARD",
            "BIEL",
            "GUILLEM",
            "JOEL",
            "ROGER",
            "HUGO",
            "ADRIA",
            "NICOLAS",
            "IKER",
            "JORDI"
           ],
           "legendgroup": "Male",
           "marker": {
            "color": "#EF553B",
            "size": [
             237,
             163,
             148,
             140,
             132,
             127,
             126,
             126,
             115,
             98,
             94,
             89,
             89,
             88,
             84,
             76,
             75,
             71,
             70,
             68,
             67,
             60,
             58,
             54,
             54
            ],
            "sizemode": "area",
            "sizeref": 0.1392,
            "symbol": "circle"
           },
           "mode": "markers+text",
           "name": "Male",
           "orientation": "v",
           "showlegend": true,
           "text": [
            "MARC",
            "ALEX",
            "PAU",
            "POL",
            "DANIEL",
            "DAVID",
            "ERIC",
            "MARTI",
            "ARNAU",
            "VICTOR",
            "ALEJANDRO",
            "JOAN",
            "PABLO",
            "JAN",
            "ORIOL",
            "GERARD",
            "BIEL",
            "GUILLEM",
            "JOEL",
            "ROGER",
            "HUGO",
            "ADRIA",
            "NICOLAS",
            "IKER",
            "JORDI"
           ],
           "type": "scatter",
           "x": [
            237,
            163,
            148,
            140,
            132,
            127,
            126,
            126,
            115,
            98,
            94,
            89,
            89,
            88,
            84,
            76,
            75,
            71,
            70,
            68,
            67,
            60,
            58,
            54,
            54
           ],
           "xaxis": "x",
           "y": [
            4,
            8,
            12,
            16,
            20,
            24,
            28,
            32,
            36,
            40,
            44,
            48,
            52,
            56,
            60,
            64,
            68,
            72,
            76,
            80,
            84,
            88,
            92,
            96,
            100
           ],
           "yaxis": "y"
          }
         ],
         "name": "2007"
        },
        {
         "data": [
          {
           "hovertemplate": "<b>%{hovertext}</b><br><br>Gender=Female<br>Year=2008<br>Frequency=%{marker.size}<br>Order=%{y}<br>Name=%{text}<extra></extra>",
           "hovertext": [
            "MARTINA",
            "JULIA",
            "MARIA",
            "LAIA",
            "LUCIA",
            "CARLA",
            "PAULA",
            "CLAUDIA",
            "SARA",
            "JANA",
            "ARIADNA",
            "ANNA",
            "LAURA",
            "SOFIA",
            "NOA",
            "AINA",
            "ALBA",
            "BERTA",
            "EMMA",
            "MARTA",
            "IRENE",
            "CLARA",
            "ABRIL",
            "MARINA",
            "CARLOTA"
           ],
           "ids": [
            "MARTINA",
            "JULIA",
            "MARIA",
            "LAIA",
            "LUCIA",
            "CARLA",
            "PAULA",
            "CLAUDIA",
            "SARA",
            "JANA",
            "ARIADNA",
            "ANNA",
            "LAURA",
            "SOFIA",
            "NOA",
            "AINA",
            "ALBA",
            "BERTA",
            "EMMA",
            "MARTA",
            "IRENE",
            "CLARA",
            "ABRIL",
            "MARINA",
            "CARLOTA"
           ],
           "legendgroup": "Female",
           "marker": {
            "color": "#636efa",
            "size": [
             169,
             162,
             158,
             156,
             146,
             139,
             136,
             113,
             102,
             92,
             84,
             82,
             82,
             81,
             78,
             77,
             75,
             73,
             73,
             69,
             66,
             63,
             61,
             60,
             56
            ],
            "sizemode": "area",
            "sizeref": 0.1392,
            "symbol": "circle"
           },
           "mode": "markers+text",
           "name": "Female",
           "orientation": "v",
           "showlegend": true,
           "text": [
            "MARTINA",
            "JULIA",
            "MARIA",
            "LAIA",
            "LUCIA",
            "CARLA",
            "PAULA",
            "CLAUDIA",
            "SARA",
            "JANA",
            "ARIADNA",
            "ANNA",
            "LAURA",
            "SOFIA",
            "NOA",
            "AINA",
            "ALBA",
            "BERTA",
            "EMMA",
            "MARTA",
            "IRENE",
            "CLARA",
            "ABRIL",
            "MARINA",
            "CARLOTA"
           ],
           "type": "scatter",
           "x": [
            169,
            162,
            158,
            156,
            146,
            139,
            136,
            113,
            102,
            92,
            84,
            82,
            82,
            81,
            78,
            77,
            75,
            73,
            73,
            69,
            66,
            63,
            61,
            60,
            56
           ],
           "xaxis": "x",
           "y": [
            4,
            8,
            12,
            16,
            20,
            24,
            28,
            32,
            36,
            40,
            44,
            48,
            52,
            56,
            60,
            64,
            68,
            72,
            76,
            80,
            84,
            88,
            92,
            96,
            100
           ],
           "yaxis": "y"
          },
          {
           "hovertemplate": "<b>%{hovertext}</b><br><br>Gender=Male<br>Year=2008<br>Frequency=%{marker.size}<br>Order=%{y}<br>Name=%{text}<extra></extra>",
           "hovertext": [
            "MARC",
            "POL",
            "ALEX",
            "PAU",
            "DANIEL",
            "DAVID",
            "JAN",
            "ERIC",
            "ARNAU",
            "MARTI",
            "BIEL",
            "VICTOR",
            "ALEJANDRO",
            "PABLO",
            "ORIOL",
            "BRUNO",
            "HUGO",
            "JOAN",
            "IKER",
            "LUCAS",
            "NICOLAS",
            "ADRIA",
            "GUILLEM",
            "JORDI",
            "ROGER"
           ],
           "ids": [
            "MARC",
            "POL",
            "ALEX",
            "PAU",
            "DANIEL",
            "DAVID",
            "JAN",
            "ERIC",
            "ARNAU",
            "MARTI",
            "BIEL",
            "VICTOR",
            "ALEJANDRO",
            "PABLO",
            "ORIOL",
            "BRUNO",
            "HUGO",
            "JOAN",
            "IKER",
            "LUCAS",
            "NICOLAS",
            "ADRIA",
            "GUILLEM",
            "JORDI",
            "ROGER"
           ],
           "legendgroup": "Male",
           "marker": {
            "color": "#EF553B",
            "size": [
             244,
             172,
             156,
             144,
             121,
             109,
             106,
             100,
             98,
             98,
             92,
             88,
             87,
             86,
             84,
             80,
             80,
             80,
             77,
             73,
             73,
             72,
             71,
             71,
             70
            ],
            "sizemode": "area",
            "sizeref": 0.1392,
            "symbol": "circle"
           },
           "mode": "markers+text",
           "name": "Male",
           "orientation": "v",
           "showlegend": true,
           "text": [
            "MARC",
            "POL",
            "ALEX",
            "PAU",
            "DANIEL",
            "DAVID",
            "JAN",
            "ERIC",
            "ARNAU",
            "MARTI",
            "BIEL",
            "VICTOR",
            "ALEJANDRO",
            "PABLO",
            "ORIOL",
            "BRUNO",
            "HUGO",
            "JOAN",
            "IKER",
            "LUCAS",
            "NICOLAS",
            "ADRIA",
            "GUILLEM",
            "JORDI",
            "ROGER"
           ],
           "type": "scatter",
           "x": [
            244,
            172,
            156,
            144,
            121,
            109,
            106,
            100,
            98,
            98,
            92,
            88,
            87,
            86,
            84,
            80,
            80,
            80,
            77,
            73,
            73,
            72,
            71,
            71,
            70
           ],
           "xaxis": "x",
           "y": [
            4,
            8,
            12,
            16,
            20,
            24,
            28,
            32,
            36,
            40,
            44,
            48,
            52,
            56,
            60,
            64,
            68,
            72,
            76,
            80,
            84,
            88,
            92,
            96,
            100
           ],
           "yaxis": "y"
          }
         ],
         "name": "2008"
        },
        {
         "data": [
          {
           "hovertemplate": "<b>%{hovertext}</b><br><br>Gender=Female<br>Year=2009<br>Frequency=%{marker.size}<br>Order=%{y}<br>Name=%{text}<extra></extra>",
           "hovertext": [
            "MARTINA",
            "LAIA",
            "MARIA",
            "PAULA",
            "LUCIA",
            "JULIA",
            "CARLA",
            "CLAUDIA",
            "AINA",
            "SOFIA",
            "LAURA",
            "SARA",
            "ALBA",
            "ANNA",
            "NOA",
            "JANA",
            "ARIADNA",
            "DANIELA",
            "BERTA",
            "EMMA",
            "IRENE",
            "ABRIL",
            "MARTA",
            "CARLOTA",
            "MARINA"
           ],
           "ids": [
            "MARTINA",
            "LAIA",
            "MARIA",
            "PAULA",
            "LUCIA",
            "JULIA",
            "CARLA",
            "CLAUDIA",
            "AINA",
            "SOFIA",
            "LAURA",
            "SARA",
            "ALBA",
            "ANNA",
            "NOA",
            "JANA",
            "ARIADNA",
            "DANIELA",
            "BERTA",
            "EMMA",
            "IRENE",
            "ABRIL",
            "MARTA",
            "CARLOTA",
            "MARINA"
           ],
           "legendgroup": "Female",
           "marker": {
            "color": "#636efa",
            "size": [
             167,
             159,
             154,
             143,
             138,
             128,
             118,
             112,
             88,
             87,
             78,
             77,
             76,
             76,
             74,
             71,
             70,
             66,
             65,
             59,
             56,
             55,
             53,
             51,
             50
            ],
            "sizemode": "area",
            "sizeref": 0.1392,
            "symbol": "circle"
           },
           "mode": "markers+text",
           "name": "Female",
           "orientation": "v",
           "showlegend": true,
           "text": [
            "MARTINA",
            "LAIA",
            "MARIA",
            "PAULA",
            "LUCIA",
            "JULIA",
            "CARLA",
            "CLAUDIA",
            "AINA",
            "SOFIA",
            "LAURA",
            "SARA",
            "ALBA",
            "ANNA",
            "NOA",
            "JANA",
            "ARIADNA",
            "DANIELA",
            "BERTA",
            "EMMA",
            "IRENE",
            "ABRIL",
            "MARTA",
            "CARLOTA",
            "MARINA"
           ],
           "type": "scatter",
           "x": [
            167,
            159,
            154,
            143,
            138,
            128,
            118,
            112,
            88,
            87,
            78,
            77,
            76,
            76,
            74,
            71,
            70,
            66,
            65,
            59,
            56,
            55,
            53,
            51,
            50
           ],
           "xaxis": "x",
           "y": [
            4,
            8,
            12,
            16,
            20,
            24,
            28,
            32,
            36,
            40,
            44,
            48,
            52,
            56,
            60,
            64,
            68,
            72,
            76,
            80,
            84,
            88,
            92,
            96,
            100
           ],
           "yaxis": "y"
          },
          {
           "hovertemplate": "<b>%{hovertext}</b><br><br>Gender=Male<br>Year=2009<br>Frequency=%{marker.size}<br>Order=%{y}<br>Name=%{text}<extra></extra>",
           "hovertext": [
            "MARC",
            "PAU",
            "ALEX",
            "POL",
            "ERIC",
            "MARTI",
            "ARNAU",
            "JAN",
            "DANIEL",
            "HUGO",
            "DAVID",
            "PABLO",
            "BIEL",
            "ADRIA",
            "VICTOR",
            "ORIOL",
            "GUILLEM",
            "ROGER",
            "ALEJANDRO",
            "GERARD",
            "LUCAS",
            "BRUNO",
            "NICOLAS",
            "MAX",
            "JOAN"
           ],
           "ids": [
            "MARC",
            "PAU",
            "ALEX",
            "POL",
            "ERIC",
            "MARTI",
            "ARNAU",
            "JAN",
            "DANIEL",
            "HUGO",
            "DAVID",
            "PABLO",
            "BIEL",
            "ADRIA",
            "VICTOR",
            "ORIOL",
            "GUILLEM",
            "ROGER",
            "ALEJANDRO",
            "GERARD",
            "LUCAS",
            "BRUNO",
            "NICOLAS",
            "MAX",
            "JOAN"
           ],
           "legendgroup": "Male",
           "marker": {
            "color": "#EF553B",
            "size": [
             194,
             165,
             150,
             146,
             130,
             116,
             106,
             100,
             98,
             89,
             87,
             87,
             86,
             83,
             74,
             71,
             70,
             69,
             68,
             67,
             65,
             63,
             62,
             61,
             59
            ],
            "sizemode": "area",
            "sizeref": 0.1392,
            "symbol": "circle"
           },
           "mode": "markers+text",
           "name": "Male",
           "orientation": "v",
           "showlegend": true,
           "text": [
            "MARC",
            "PAU",
            "ALEX",
            "POL",
            "ERIC",
            "MARTI",
            "ARNAU",
            "JAN",
            "DANIEL",
            "HUGO",
            "DAVID",
            "PABLO",
            "BIEL",
            "ADRIA",
            "VICTOR",
            "ORIOL",
            "GUILLEM",
            "ROGER",
            "ALEJANDRO",
            "GERARD",
            "LUCAS",
            "BRUNO",
            "NICOLAS",
            "MAX",
            "JOAN"
           ],
           "type": "scatter",
           "x": [
            194,
            165,
            150,
            146,
            130,
            116,
            106,
            100,
            98,
            89,
            87,
            87,
            86,
            83,
            74,
            71,
            70,
            69,
            68,
            67,
            65,
            63,
            62,
            61,
            59
           ],
           "xaxis": "x",
           "y": [
            4,
            8,
            12,
            16,
            20,
            24,
            28,
            32,
            36,
            40,
            44,
            48,
            52,
            56,
            60,
            64,
            68,
            72,
            76,
            80,
            84,
            88,
            92,
            96,
            100
           ],
           "yaxis": "y"
          }
         ],
         "name": "2009"
        },
        {
         "data": [
          {
           "hovertemplate": "<b>%{hovertext}</b><br><br>Gender=Female<br>Year=2010<br>Frequency=%{marker.size}<br>Order=%{y}<br>Name=%{text}<extra></extra>",
           "hovertext": [
            "MARTINA",
            "JULIA",
            "MARIA",
            "LUCIA",
            "PAULA",
            "LAIA",
            "CARLA",
            "AINA",
            "SARA",
            "CLAUDIA",
            "SOFIA",
            "NOA",
            "ARIADNA",
            "ALBA",
            "LAURA",
            "EMMA",
            "CLARA",
            "ANNA",
            "DANIELA",
            "ABRIL",
            "INES",
            "BERTA",
            "JANA",
            "CARLOTA",
            "IRENE"
           ],
           "ids": [
            "MARTINA",
            "JULIA",
            "MARIA",
            "LUCIA",
            "PAULA",
            "LAIA",
            "CARLA",
            "AINA",
            "SARA",
            "CLAUDIA",
            "SOFIA",
            "NOA",
            "ARIADNA",
            "ALBA",
            "LAURA",
            "EMMA",
            "CLARA",
            "ANNA",
            "DANIELA",
            "ABRIL",
            "INES",
            "BERTA",
            "JANA",
            "CARLOTA",
            "IRENE"
           ],
           "legendgroup": "Female",
           "marker": {
            "color": "#636efa",
            "size": [
             194,
             173,
             147,
             139,
             135,
             128,
             120,
             109,
             102,
             101,
             95,
             83,
             76,
             69,
             66,
             63,
             60,
             58,
             58,
             57,
             57,
             56,
             53,
             49,
             47
            ],
            "sizemode": "area",
            "sizeref": 0.1392,
            "symbol": "circle"
           },
           "mode": "markers+text",
           "name": "Female",
           "orientation": "v",
           "showlegend": true,
           "text": [
            "MARTINA",
            "JULIA",
            "MARIA",
            "LUCIA",
            "PAULA",
            "LAIA",
            "CARLA",
            "AINA",
            "SARA",
            "CLAUDIA",
            "SOFIA",
            "NOA",
            "ARIADNA",
            "ALBA",
            "LAURA",
            "EMMA",
            "CLARA",
            "ANNA",
            "DANIELA",
            "ABRIL",
            "INES",
            "BERTA",
            "JANA",
            "CARLOTA",
            "IRENE"
           ],
           "type": "scatter",
           "x": [
            194,
            173,
            147,
            139,
            135,
            128,
            120,
            109,
            102,
            101,
            95,
            83,
            76,
            69,
            66,
            63,
            60,
            58,
            58,
            57,
            57,
            56,
            53,
            49,
            47
           ],
           "xaxis": "x",
           "y": [
            4,
            8,
            12,
            16,
            20,
            24,
            28,
            32,
            36,
            40,
            44,
            48,
            52,
            56,
            60,
            64,
            68,
            72,
            76,
            80,
            84,
            88,
            92,
            96,
            100
           ],
           "yaxis": "y"
          },
          {
           "hovertemplate": "<b>%{hovertext}</b><br><br>Gender=Male<br>Year=2010<br>Frequency=%{marker.size}<br>Order=%{y}<br>Name=%{text}<extra></extra>",
           "hovertext": [
            "MARC",
            "POL",
            "ALEX",
            "PAU",
            "MARTI",
            "ERIC",
            "ARNAU",
            "DANIEL",
            "GERARD",
            "JAN",
            "DAVID",
            "BIEL",
            "ALEJANDRO",
            "HUGO",
            "PABLO",
            "VICTOR",
            "ADRIA",
            "NIL",
            "BRUNO",
            "GUILLEM",
            "LUCAS",
            "NICOLAS",
            "MAX",
            "ORIOL",
            "IKER"
           ],
           "ids": [
            "MARC",
            "POL",
            "ALEX",
            "PAU",
            "MARTI",
            "ERIC",
            "ARNAU",
            "DANIEL",
            "GERARD",
            "JAN",
            "DAVID",
            "BIEL",
            "ALEJANDRO",
            "HUGO",
            "PABLO",
            "VICTOR",
            "ADRIA",
            "NIL",
            "BRUNO",
            "GUILLEM",
            "LUCAS",
            "NICOLAS",
            "MAX",
            "ORIOL",
            "IKER"
           ],
           "legendgroup": "Male",
           "marker": {
            "color": "#EF553B",
            "size": [
             195,
             148,
             143,
             134,
             124,
             117,
             110,
             103,
             100,
             98,
             90,
             88,
             80,
             79,
             78,
             77,
             69,
             69,
             68,
             66,
             65,
             64,
             60,
             59,
             56
            ],
            "sizemode": "area",
            "sizeref": 0.1392,
            "symbol": "circle"
           },
           "mode": "markers+text",
           "name": "Male",
           "orientation": "v",
           "showlegend": true,
           "text": [
            "MARC",
            "POL",
            "ALEX",
            "PAU",
            "MARTI",
            "ERIC",
            "ARNAU",
            "DANIEL",
            "GERARD",
            "JAN",
            "DAVID",
            "BIEL",
            "ALEJANDRO",
            "HUGO",
            "PABLO",
            "VICTOR",
            "ADRIA",
            "NIL",
            "BRUNO",
            "GUILLEM",
            "LUCAS",
            "NICOLAS",
            "MAX",
            "ORIOL",
            "IKER"
           ],
           "type": "scatter",
           "x": [
            195,
            148,
            143,
            134,
            124,
            117,
            110,
            103,
            100,
            98,
            90,
            88,
            80,
            79,
            78,
            77,
            69,
            69,
            68,
            66,
            65,
            64,
            60,
            59,
            56
           ],
           "xaxis": "x",
           "y": [
            4,
            8,
            12,
            16,
            20,
            24,
            28,
            32,
            36,
            40,
            44,
            48,
            52,
            56,
            60,
            64,
            68,
            72,
            76,
            80,
            84,
            88,
            92,
            96,
            100
           ],
           "yaxis": "y"
          }
         ],
         "name": "2010"
        },
        {
         "data": [
          {
           "hovertemplate": "<b>%{hovertext}</b><br><br>Gender=Female<br>Year=2011<br>Frequency=%{marker.size}<br>Order=%{y}<br>Name=%{text}<extra></extra>",
           "hovertext": [
            "MARTINA",
            "JULIA",
            "LAIA",
            "MARIA",
            "LUCIA",
            "PAULA",
            "SOFIA",
            "CARLA",
            "NOA",
            "CLAUDIA",
            "SARA",
            "AINA",
            "ARIADNA",
            "EMMA",
            "ALBA",
            "ONA",
            "DANIELA",
            "CLARA",
            "IRENE",
            "NORA",
            "MARTA",
            "OLIVIA",
            "JANA",
            "BERTA",
            "ANNA"
           ],
           "ids": [
            "MARTINA",
            "JULIA",
            "LAIA",
            "MARIA",
            "LUCIA",
            "PAULA",
            "SOFIA",
            "CARLA",
            "NOA",
            "CLAUDIA",
            "SARA",
            "AINA",
            "ARIADNA",
            "EMMA",
            "ALBA",
            "ONA",
            "DANIELA",
            "CLARA",
            "IRENE",
            "NORA",
            "MARTA",
            "OLIVIA",
            "JANA",
            "BERTA",
            "ANNA"
           ],
           "legendgroup": "Female",
           "marker": {
            "color": "#636efa",
            "size": [
             157,
             154,
             146,
             124,
             123,
             113,
             109,
             105,
             104,
             95,
             95,
             94,
             81,
             81,
             78,
             74,
             69,
             65,
             60,
             58,
             55,
             55,
             52,
             51,
             50
            ],
            "sizemode": "area",
            "sizeref": 0.1392,
            "symbol": "circle"
           },
           "mode": "markers+text",
           "name": "Female",
           "orientation": "v",
           "showlegend": true,
           "text": [
            "MARTINA",
            "JULIA",
            "LAIA",
            "MARIA",
            "LUCIA",
            "PAULA",
            "SOFIA",
            "CARLA",
            "NOA",
            "CLAUDIA",
            "SARA",
            "AINA",
            "ARIADNA",
            "EMMA",
            "ALBA",
            "ONA",
            "DANIELA",
            "CLARA",
            "IRENE",
            "NORA",
            "MARTA",
            "OLIVIA",
            "JANA",
            "BERTA",
            "ANNA"
           ],
           "type": "scatter",
           "x": [
            157,
            154,
            146,
            124,
            123,
            113,
            109,
            105,
            104,
            95,
            95,
            94,
            81,
            81,
            78,
            74,
            69,
            65,
            60,
            58,
            55,
            55,
            52,
            51,
            50
           ],
           "xaxis": "x",
           "y": [
            4,
            8,
            12,
            16,
            20,
            24,
            28,
            32,
            36,
            40,
            44,
            48,
            52,
            56,
            60,
            64,
            68,
            72,
            76,
            80,
            84,
            88,
            92,
            96,
            100
           ],
           "yaxis": "y"
          },
          {
           "hovertemplate": "<b>%{hovertext}</b><br><br>Gender=Male<br>Year=2011<br>Frequency=%{marker.size}<br>Order=%{y}<br>Name=%{text}<extra></extra>",
           "hovertext": [
            "MARC",
            "ALEX",
            "POL",
            "PAU",
            "ERIC",
            "MARTI",
            "GERARD",
            "ARNAU",
            "BIEL",
            "DAVID",
            "DANIEL",
            "HUGO",
            "NICOLAS",
            "BRUNO",
            "JAN",
            "LUCAS",
            "PABLO",
            "ADRIA",
            "VICTOR",
            "ALEJANDRO",
            "NIL",
            "ALEIX",
            "ORIOL",
            "GUILLEM",
            "LEO"
           ],
           "ids": [
            "MARC",
            "ALEX",
            "POL",
            "PAU",
            "ERIC",
            "MARTI",
            "GERARD",
            "ARNAU",
            "BIEL",
            "DAVID",
            "DANIEL",
            "HUGO",
            "NICOLAS",
            "BRUNO",
            "JAN",
            "LUCAS",
            "PABLO",
            "ADRIA",
            "VICTOR",
            "ALEJANDRO",
            "NIL",
            "ALEIX",
            "ORIOL",
            "GUILLEM",
            "LEO"
           ],
           "legendgroup": "Male",
           "marker": {
            "color": "#EF553B",
            "size": [
             209,
             142,
             124,
             118,
             113,
             103,
             99,
             95,
             87,
             85,
             83,
             79,
             78,
             75,
             73,
             70,
             68,
             67,
             65,
             64,
             62,
             61,
             60,
             58,
             58
            ],
            "sizemode": "area",
            "sizeref": 0.1392,
            "symbol": "circle"
           },
           "mode": "markers+text",
           "name": "Male",
           "orientation": "v",
           "showlegend": true,
           "text": [
            "MARC",
            "ALEX",
            "POL",
            "PAU",
            "ERIC",
            "MARTI",
            "GERARD",
            "ARNAU",
            "BIEL",
            "DAVID",
            "DANIEL",
            "HUGO",
            "NICOLAS",
            "BRUNO",
            "JAN",
            "LUCAS",
            "PABLO",
            "ADRIA",
            "VICTOR",
            "ALEJANDRO",
            "NIL",
            "ALEIX",
            "ORIOL",
            "GUILLEM",
            "LEO"
           ],
           "type": "scatter",
           "x": [
            209,
            142,
            124,
            118,
            113,
            103,
            99,
            95,
            87,
            85,
            83,
            79,
            78,
            75,
            73,
            70,
            68,
            67,
            65,
            64,
            62,
            61,
            60,
            58,
            58
           ],
           "xaxis": "x",
           "y": [
            4,
            8,
            12,
            16,
            20,
            24,
            28,
            32,
            36,
            40,
            44,
            48,
            52,
            56,
            60,
            64,
            68,
            72,
            76,
            80,
            84,
            88,
            92,
            96,
            100
           ],
           "yaxis": "y"
          }
         ],
         "name": "2011"
        },
        {
         "data": [
          {
           "hovertemplate": "<b>%{hovertext}</b><br><br>Gender=Female<br>Year=2012<br>Frequency=%{marker.size}<br>Order=%{y}<br>Name=%{text}<extra></extra>",
           "hovertext": [
            "JULIA",
            "LAIA",
            "MARTINA",
            "CARLA",
            "MARIA",
            "LUCIA",
            "SOFIA",
            "PAULA",
            "AINA",
            "EMMA",
            "CLAUDIA",
            "VALENTINA",
            "ARIADNA",
            "SARA",
            "NOA",
            "ALBA",
            "ONA",
            "JANA",
            "LAURA",
            "CARLOTA",
            "ANNA",
            "OLIVIA",
            "BERTA",
            "ABRIL",
            "MAR"
           ],
           "ids": [
            "JULIA",
            "LAIA",
            "MARTINA",
            "CARLA",
            "MARIA",
            "LUCIA",
            "SOFIA",
            "PAULA",
            "AINA",
            "EMMA",
            "CLAUDIA",
            "VALENTINA",
            "ARIADNA",
            "SARA",
            "NOA",
            "ALBA",
            "ONA",
            "JANA",
            "LAURA",
            "CARLOTA",
            "ANNA",
            "OLIVIA",
            "BERTA",
            "ABRIL",
            "MAR"
           ],
           "legendgroup": "Female",
           "marker": {
            "color": "#636efa",
            "size": [
             158,
             156,
             152,
             122,
             121,
             119,
             100,
             96,
             94,
             93,
             84,
             83,
             78,
             78,
             71,
             70,
             68,
             67,
             65,
             59,
             58,
             57,
             56,
             54,
             53
            ],
            "sizemode": "area",
            "sizeref": 0.1392,
            "symbol": "circle"
           },
           "mode": "markers+text",
           "name": "Female",
           "orientation": "v",
           "showlegend": true,
           "text": [
            "JULIA",
            "LAIA",
            "MARTINA",
            "CARLA",
            "MARIA",
            "LUCIA",
            "SOFIA",
            "PAULA",
            "AINA",
            "EMMA",
            "CLAUDIA",
            "VALENTINA",
            "ARIADNA",
            "SARA",
            "NOA",
            "ALBA",
            "ONA",
            "JANA",
            "LAURA",
            "CARLOTA",
            "ANNA",
            "OLIVIA",
            "BERTA",
            "ABRIL",
            "MAR"
           ],
           "type": "scatter",
           "x": [
            158,
            156,
            152,
            122,
            121,
            119,
            100,
            96,
            94,
            93,
            84,
            83,
            78,
            78,
            71,
            70,
            68,
            67,
            65,
            59,
            58,
            57,
            56,
            54,
            53
           ],
           "xaxis": "x",
           "y": [
            4,
            8,
            12,
            16,
            20,
            24,
            28,
            32,
            36,
            40,
            44,
            48,
            52,
            56,
            60,
            64,
            68,
            72,
            76,
            80,
            84,
            88,
            92,
            96,
            100
           ],
           "yaxis": "y"
          },
          {
           "hovertemplate": "<b>%{hovertext}</b><br><br>Gender=Male<br>Year=2012<br>Frequency=%{marker.size}<br>Order=%{y}<br>Name=%{text}<extra></extra>",
           "hovertext": [
            "MARC",
            "POL",
            "ERIC",
            "ALEX",
            "PAU",
            "ARNAU",
            "MARTI",
            "GERARD",
            "JAN",
            "BIEL",
            "HUGO",
            "DANIEL",
            "NICOLAS",
            "NIL",
            "LEO",
            "VICTOR",
            "PABLO",
            "BRUNO",
            "ALEIX",
            "LUCAS",
            "ORIOL",
            "DAVID",
            "GUILLEM",
            "JOEL",
            "ADRIA"
           ],
           "ids": [
            "MARC",
            "POL",
            "ERIC",
            "ALEX",
            "PAU",
            "ARNAU",
            "MARTI",
            "GERARD",
            "JAN",
            "BIEL",
            "HUGO",
            "DANIEL",
            "NICOLAS",
            "NIL",
            "LEO",
            "VICTOR",
            "PABLO",
            "BRUNO",
            "ALEIX",
            "LUCAS",
            "ORIOL",
            "DAVID",
            "GUILLEM",
            "JOEL",
            "ADRIA"
           ],
           "legendgroup": "Male",
           "marker": {
            "color": "#EF553B",
            "size": [
             206,
             138,
             125,
             120,
             110,
             101,
             99,
             98,
             98,
             95,
             88,
             81,
             73,
             72,
             71,
             68,
             66,
             65,
             64,
             62,
             60,
             59,
             58,
             58,
             56
            ],
            "sizemode": "area",
            "sizeref": 0.1392,
            "symbol": "circle"
           },
           "mode": "markers+text",
           "name": "Male",
           "orientation": "v",
           "showlegend": true,
           "text": [
            "MARC",
            "POL",
            "ERIC",
            "ALEX",
            "PAU",
            "ARNAU",
            "MARTI",
            "GERARD",
            "JAN",
            "BIEL",
            "HUGO",
            "DANIEL",
            "NICOLAS",
            "NIL",
            "LEO",
            "VICTOR",
            "PABLO",
            "BRUNO",
            "ALEIX",
            "LUCAS",
            "ORIOL",
            "DAVID",
            "GUILLEM",
            "JOEL",
            "ADRIA"
           ],
           "type": "scatter",
           "x": [
            206,
            138,
            125,
            120,
            110,
            101,
            99,
            98,
            98,
            95,
            88,
            81,
            73,
            72,
            71,
            68,
            66,
            65,
            64,
            62,
            60,
            59,
            58,
            58,
            56
           ],
           "xaxis": "x",
           "y": [
            4,
            8,
            12,
            16,
            20,
            24,
            28,
            32,
            36,
            40,
            44,
            48,
            52,
            56,
            60,
            64,
            68,
            72,
            76,
            80,
            84,
            88,
            92,
            96,
            100
           ],
           "yaxis": "y"
          }
         ],
         "name": "2012"
        },
        {
         "data": [
          {
           "hovertemplate": "<b>%{hovertext}</b><br><br>Gender=Female<br>Year=2013<br>Frequency=%{marker.size}<br>Order=%{y}<br>Name=%{text}<extra></extra>",
           "hovertext": [
            "JULIA",
            "MARTINA",
            "LAIA",
            "MARIA",
            "LUCIA",
            "PAULA",
            "EMMA",
            "SOFIA",
            "NOA",
            "AINA",
            "CARLA",
            "CLAUDIA",
            "VALENTINA",
            "ARIADNA",
            "ALBA",
            "JANA",
            "SARA",
            "BERTA",
            "OLIVIA",
            "ONA",
            "ABRIL",
            "ARLET",
            "NORA",
            "AINHOA",
            "DANIELA"
           ],
           "ids": [
            "JULIA",
            "MARTINA",
            "LAIA",
            "MARIA",
            "LUCIA",
            "PAULA",
            "EMMA",
            "SOFIA",
            "NOA",
            "AINA",
            "CARLA",
            "CLAUDIA",
            "VALENTINA",
            "ARIADNA",
            "ALBA",
            "JANA",
            "SARA",
            "BERTA",
            "OLIVIA",
            "ONA",
            "ABRIL",
            "ARLET",
            "NORA",
            "AINHOA",
            "DANIELA"
           ],
           "legendgroup": "Female",
           "marker": {
            "color": "#636efa",
            "size": [
             143,
             137,
             131,
             117,
             116,
             111,
             105,
             102,
             88,
             87,
             81,
             81,
             78,
             71,
             69,
             65,
             59,
             55,
             55,
             55,
             51,
             51,
             50,
             49,
             48
            ],
            "sizemode": "area",
            "sizeref": 0.1392,
            "symbol": "circle"
           },
           "mode": "markers+text",
           "name": "Female",
           "orientation": "v",
           "showlegend": true,
           "text": [
            "JULIA",
            "MARTINA",
            "LAIA",
            "MARIA",
            "LUCIA",
            "PAULA",
            "EMMA",
            "SOFIA",
            "NOA",
            "AINA",
            "CARLA",
            "CLAUDIA",
            "VALENTINA",
            "ARIADNA",
            "ALBA",
            "JANA",
            "SARA",
            "BERTA",
            "OLIVIA",
            "ONA",
            "ABRIL",
            "ARLET",
            "NORA",
            "AINHOA",
            "DANIELA"
           ],
           "type": "scatter",
           "x": [
            143,
            137,
            131,
            117,
            116,
            111,
            105,
            102,
            88,
            87,
            81,
            81,
            78,
            71,
            69,
            65,
            59,
            55,
            55,
            55,
            51,
            51,
            50,
            49,
            48
           ],
           "xaxis": "x",
           "y": [
            4,
            8,
            12,
            16,
            20,
            24,
            28,
            32,
            36,
            40,
            44,
            48,
            52,
            56,
            60,
            64,
            68,
            72,
            76,
            80,
            84,
            88,
            92,
            96,
            100
           ],
           "yaxis": "y"
          },
          {
           "hovertemplate": "<b>%{hovertext}</b><br><br>Gender=Male<br>Year=2013<br>Frequency=%{marker.size}<br>Order=%{y}<br>Name=%{text}<extra></extra>",
           "hovertext": [
            "MARC",
            "PAU",
            "POL",
            "ALEX",
            "ERIC",
            "ARNAU",
            "BIEL",
            "MARTI",
            "JAN",
            "HUGO",
            "GERARD",
            "DAVID",
            "LUCAS",
            "LEO",
            "DANIEL",
            "NIL",
            "BRUNO",
            "VICTOR",
            "NICOLAS",
            "MAX",
            "PABLO",
            "ALEIX",
            "MATEO",
            "JOEL",
            "MARIO"
           ],
           "ids": [
            "MARC",
            "PAU",
            "POL",
            "ALEX",
            "ERIC",
            "ARNAU",
            "BIEL",
            "MARTI",
            "JAN",
            "HUGO",
            "GERARD",
            "DAVID",
            "LUCAS",
            "LEO",
            "DANIEL",
            "NIL",
            "BRUNO",
            "VICTOR",
            "NICOLAS",
            "MAX",
            "PABLO",
            "ALEIX",
            "MATEO",
            "JOEL",
            "MARIO"
           ],
           "legendgroup": "Male",
           "marker": {
            "color": "#EF553B",
            "size": [
             175,
             129,
             126,
             122,
             122,
             100,
             95,
             95,
             92,
             89,
             86,
             80,
             77,
             76,
             75,
             73,
             72,
             64,
             62,
             59,
             56,
             53,
             52,
             51,
             46
            ],
            "sizemode": "area",
            "sizeref": 0.1392,
            "symbol": "circle"
           },
           "mode": "markers+text",
           "name": "Male",
           "orientation": "v",
           "showlegend": true,
           "text": [
            "MARC",
            "PAU",
            "POL",
            "ALEX",
            "ERIC",
            "ARNAU",
            "BIEL",
            "MARTI",
            "JAN",
            "HUGO",
            "GERARD",
            "DAVID",
            "LUCAS",
            "LEO",
            "DANIEL",
            "NIL",
            "BRUNO",
            "VICTOR",
            "NICOLAS",
            "MAX",
            "PABLO",
            "ALEIX",
            "MATEO",
            "JOEL",
            "MARIO"
           ],
           "type": "scatter",
           "x": [
            175,
            129,
            126,
            122,
            122,
            100,
            95,
            95,
            92,
            89,
            86,
            80,
            77,
            76,
            75,
            73,
            72,
            64,
            62,
            59,
            56,
            53,
            52,
            51,
            46
           ],
           "xaxis": "x",
           "y": [
            4,
            8,
            12,
            16,
            20,
            24,
            28,
            32,
            36,
            40,
            44,
            48,
            52,
            56,
            60,
            64,
            68,
            72,
            76,
            80,
            84,
            88,
            92,
            96,
            100
           ],
           "yaxis": "y"
          }
         ],
         "name": "2013"
        },
        {
         "data": [
          {
           "hovertemplate": "<b>%{hovertext}</b><br><br>Gender=Female<br>Year=2014<br>Frequency=%{marker.size}<br>Order=%{y}<br>Name=%{text}<extra></extra>",
           "hovertext": [
            "LAIA",
            "MARTINA",
            "JULIA",
            "EMMA",
            "NOA",
            "SOFIA",
            "MARIA",
            "VALENTINA",
            "CARLA",
            "LUCIA",
            "ONA",
            "PAULA",
            "CLAUDIA",
            "OLIVIA",
            "AINA",
            "DANIELA",
            "ALBA",
            "CLARA",
            "JANA",
            "NORA",
            "SARA",
            "ARLET",
            "BERTA",
            "ANNA",
            "CARLOTA"
           ],
           "ids": [
            "LAIA",
            "MARTINA",
            "JULIA",
            "EMMA",
            "NOA",
            "SOFIA",
            "MARIA",
            "VALENTINA",
            "CARLA",
            "LUCIA",
            "ONA",
            "PAULA",
            "CLAUDIA",
            "OLIVIA",
            "AINA",
            "DANIELA",
            "ALBA",
            "CLARA",
            "JANA",
            "NORA",
            "SARA",
            "ARLET",
            "BERTA",
            "ANNA",
            "CARLOTA"
           ],
           "legendgroup": "Female",
           "marker": {
            "color": "#636efa",
            "size": [
             153,
             134,
             120,
             117,
             107,
             106,
             105,
             99,
             91,
             89,
             84,
             84,
             83,
             72,
             71,
             68,
             67,
             60,
             58,
             58,
             57,
             55,
             51,
             49,
             48
            ],
            "sizemode": "area",
            "sizeref": 0.1392,
            "symbol": "circle"
           },
           "mode": "markers+text",
           "name": "Female",
           "orientation": "v",
           "showlegend": true,
           "text": [
            "LAIA",
            "MARTINA",
            "JULIA",
            "EMMA",
            "NOA",
            "SOFIA",
            "MARIA",
            "VALENTINA",
            "CARLA",
            "LUCIA",
            "ONA",
            "PAULA",
            "CLAUDIA",
            "OLIVIA",
            "AINA",
            "DANIELA",
            "ALBA",
            "CLARA",
            "JANA",
            "NORA",
            "SARA",
            "ARLET",
            "BERTA",
            "ANNA",
            "CARLOTA"
           ],
           "type": "scatter",
           "x": [
            153,
            134,
            120,
            117,
            107,
            106,
            105,
            99,
            91,
            89,
            84,
            84,
            83,
            72,
            71,
            68,
            67,
            60,
            58,
            58,
            57,
            55,
            51,
            49,
            48
           ],
           "xaxis": "x",
           "y": [
            4,
            8,
            12,
            16,
            20,
            24,
            28,
            32,
            36,
            40,
            44,
            48,
            52,
            56,
            60,
            64,
            68,
            72,
            76,
            80,
            84,
            88,
            92,
            96,
            100
           ],
           "yaxis": "y"
          },
          {
           "hovertemplate": "<b>%{hovertext}</b><br><br>Gender=Male<br>Year=2014<br>Frequency=%{marker.size}<br>Order=%{y}<br>Name=%{text}<extra></extra>",
           "hovertext": [
            "MARC",
            "POL",
            "ALEX",
            "ERIC",
            "MARTI",
            "PAU",
            "BIEL",
            "DANIEL",
            "JAN",
            "HUGO",
            "LEO",
            "NIL",
            "ARNAU",
            "LUCAS",
            "GERARD",
            "ADRIA",
            "ALEIX",
            "NICOLAS",
            "BRUNO",
            "PABLO",
            "DAVID",
            "MAX",
            "MATEO",
            "VICTOR",
            "GUILLEM"
           ],
           "ids": [
            "MARC",
            "POL",
            "ALEX",
            "ERIC",
            "MARTI",
            "PAU",
            "BIEL",
            "DANIEL",
            "JAN",
            "HUGO",
            "LEO",
            "NIL",
            "ARNAU",
            "LUCAS",
            "GERARD",
            "ADRIA",
            "ALEIX",
            "NICOLAS",
            "BRUNO",
            "PABLO",
            "DAVID",
            "MAX",
            "MATEO",
            "VICTOR",
            "GUILLEM"
           ],
           "legendgroup": "Male",
           "marker": {
            "color": "#EF553B",
            "size": [
             192,
             137,
             135,
             123,
             116,
             104,
             90,
             89,
             89,
             82,
             78,
             77,
             73,
             73,
             71,
             68,
             63,
             62,
             61,
             61,
             57,
             57,
             52,
             52,
             47
            ],
            "sizemode": "area",
            "sizeref": 0.1392,
            "symbol": "circle"
           },
           "mode": "markers+text",
           "name": "Male",
           "orientation": "v",
           "showlegend": true,
           "text": [
            "MARC",
            "POL",
            "ALEX",
            "ERIC",
            "MARTI",
            "PAU",
            "BIEL",
            "DANIEL",
            "JAN",
            "HUGO",
            "LEO",
            "NIL",
            "ARNAU",
            "LUCAS",
            "GERARD",
            "ADRIA",
            "ALEIX",
            "NICOLAS",
            "BRUNO",
            "PABLO",
            "DAVID",
            "MAX",
            "MATEO",
            "VICTOR",
            "GUILLEM"
           ],
           "type": "scatter",
           "x": [
            192,
            137,
            135,
            123,
            116,
            104,
            90,
            89,
            89,
            82,
            78,
            77,
            73,
            73,
            71,
            68,
            63,
            62,
            61,
            61,
            57,
            57,
            52,
            52,
            47
           ],
           "xaxis": "x",
           "y": [
            4,
            8,
            12,
            16,
            20,
            24,
            28,
            32,
            36,
            40,
            44,
            48,
            52,
            56,
            60,
            64,
            68,
            72,
            76,
            80,
            84,
            88,
            92,
            96,
            100
           ],
           "yaxis": "y"
          }
         ],
         "name": "2014"
        },
        {
         "data": [
          {
           "hovertemplate": "<b>%{hovertext}</b><br><br>Gender=Female<br>Year=2015<br>Frequency=%{marker.size}<br>Order=%{y}<br>Name=%{text}<extra></extra>",
           "hovertext": [
            "EMMA",
            "JULIA",
            "LUCIA",
            "MARTINA",
            "MARIA",
            "SOFIA",
            "LAIA",
            "NOA",
            "AINA",
            "PAULA",
            "CARLA",
            "VALENTINA",
            "CLAUDIA",
            "ONA",
            "ALBA",
            "OLIVIA",
            "SARA",
            "ABRIL",
            "CLARA",
            "MIA",
            "JANA",
            "INES",
            "ARLET",
            "CARLOTA",
            "ARIADNA"
           ],
           "ids": [
            "EMMA",
            "JULIA",
            "LUCIA",
            "MARTINA",
            "MARIA",
            "SOFIA",
            "LAIA",
            "NOA",
            "AINA",
            "PAULA",
            "CARLA",
            "VALENTINA",
            "CLAUDIA",
            "ONA",
            "ALBA",
            "OLIVIA",
            "SARA",
            "ABRIL",
            "CLARA",
            "MIA",
            "JANA",
            "INES",
            "ARLET",
            "CARLOTA",
            "ARIADNA"
           ],
           "legendgroup": "Female",
           "marker": {
            "color": "#636efa",
            "size": [
             145,
             123,
             120,
             116,
             106,
             104,
             103,
             98,
             92,
             91,
             85,
             84,
             77,
             77,
             73,
             71,
             65,
             62,
             59,
             57,
             55,
             52,
             50,
             50,
             45
            ],
            "sizemode": "area",
            "sizeref": 0.1392,
            "symbol": "circle"
           },
           "mode": "markers+text",
           "name": "Female",
           "orientation": "v",
           "showlegend": true,
           "text": [
            "EMMA",
            "JULIA",
            "LUCIA",
            "MARTINA",
            "MARIA",
            "SOFIA",
            "LAIA",
            "NOA",
            "AINA",
            "PAULA",
            "CARLA",
            "VALENTINA",
            "CLAUDIA",
            "ONA",
            "ALBA",
            "OLIVIA",
            "SARA",
            "ABRIL",
            "CLARA",
            "MIA",
            "JANA",
            "INES",
            "ARLET",
            "CARLOTA",
            "ARIADNA"
           ],
           "type": "scatter",
           "x": [
            145,
            123,
            120,
            116,
            106,
            104,
            103,
            98,
            92,
            91,
            85,
            84,
            77,
            77,
            73,
            71,
            65,
            62,
            59,
            57,
            55,
            52,
            50,
            50,
            45
           ],
           "xaxis": "x",
           "y": [
            4,
            8,
            12,
            16,
            20,
            24,
            28,
            32,
            36,
            40,
            44,
            48,
            52,
            56,
            60,
            64,
            68,
            72,
            76,
            80,
            84,
            88,
            92,
            96,
            100
           ],
           "yaxis": "y"
          },
          {
           "hovertemplate": "<b>%{hovertext}</b><br><br>Gender=Male<br>Year=2015<br>Frequency=%{marker.size}<br>Order=%{y}<br>Name=%{text}<extra></extra>",
           "hovertext": [
            "MARC",
            "MARTI",
            "ALEX",
            "ERIC",
            "PAU",
            "HUGO",
            "BIEL",
            "ARNAU",
            "JAN",
            "NIL",
            "POL",
            "DANIEL",
            "LEO",
            "BRUNO",
            "LUCAS",
            "MAX",
            "PABLO",
            "MATEO",
            "GERARD",
            "ALEIX",
            "DAVID",
            "ADRIA",
            "ROC",
            "ROGER",
            "ALEJANDRO"
           ],
           "ids": [
            "MARC",
            "MARTI",
            "ALEX",
            "ERIC",
            "PAU",
            "HUGO",
            "BIEL",
            "ARNAU",
            "JAN",
            "NIL",
            "POL",
            "DANIEL",
            "LEO",
            "BRUNO",
            "LUCAS",
            "MAX",
            "PABLO",
            "MATEO",
            "GERARD",
            "ALEIX",
            "DAVID",
            "ADRIA",
            "ROC",
            "ROGER",
            "ALEJANDRO"
           ],
           "legendgroup": "Male",
           "marker": {
            "color": "#EF553B",
            "size": [
             172,
             133,
             110,
             109,
             108,
             107,
             99,
             93,
             88,
             88,
             88,
             83,
             80,
             79,
             79,
             79,
             67,
             65,
             64,
             63,
             60,
             57,
             57,
             53,
             50
            ],
            "sizemode": "area",
            "sizeref": 0.1392,
            "symbol": "circle"
           },
           "mode": "markers+text",
           "name": "Male",
           "orientation": "v",
           "showlegend": true,
           "text": [
            "MARC",
            "MARTI",
            "ALEX",
            "ERIC",
            "PAU",
            "HUGO",
            "BIEL",
            "ARNAU",
            "JAN",
            "NIL",
            "POL",
            "DANIEL",
            "LEO",
            "BRUNO",
            "LUCAS",
            "MAX",
            "PABLO",
            "MATEO",
            "GERARD",
            "ALEIX",
            "DAVID",
            "ADRIA",
            "ROC",
            "ROGER",
            "ALEJANDRO"
           ],
           "type": "scatter",
           "x": [
            172,
            133,
            110,
            109,
            108,
            107,
            99,
            93,
            88,
            88,
            88,
            83,
            80,
            79,
            79,
            79,
            67,
            65,
            64,
            63,
            60,
            57,
            57,
            53,
            50
           ],
           "xaxis": "x",
           "y": [
            4,
            8,
            12,
            16,
            20,
            24,
            28,
            32,
            36,
            40,
            44,
            48,
            52,
            56,
            60,
            64,
            68,
            72,
            76,
            80,
            84,
            88,
            92,
            96,
            100
           ],
           "yaxis": "y"
          }
         ],
         "name": "2015"
        },
        {
         "data": [
          {
           "hovertemplate": "<b>%{hovertext}</b><br><br>Gender=Female<br>Year=2016<br>Frequency=%{marker.size}<br>Order=%{y}<br>Name=%{text}<extra></extra>",
           "hovertext": [
            "JULIA",
            "LAIA",
            "LUCIA",
            "SOFIA",
            "EMMA",
            "MARIA",
            "MARTINA",
            "NOA",
            "PAULA",
            "CARLA",
            "ONA",
            "AINA",
            "CLAUDIA",
            "VALENTINA",
            "MIA",
            "OLIVIA",
            "ALBA",
            "CLARA",
            "CHLOE",
            "ABRIL",
            "SARA",
            "ARIADNA",
            "DANIELA",
            "VALERIA",
            "ARLET"
           ],
           "ids": [
            "JULIA",
            "LAIA",
            "LUCIA",
            "SOFIA",
            "EMMA",
            "MARIA",
            "MARTINA",
            "NOA",
            "PAULA",
            "CARLA",
            "ONA",
            "AINA",
            "CLAUDIA",
            "VALENTINA",
            "MIA",
            "OLIVIA",
            "ALBA",
            "CLARA",
            "CHLOE",
            "ABRIL",
            "SARA",
            "ARIADNA",
            "DANIELA",
            "VALERIA",
            "ARLET"
           ],
           "legendgroup": "Female",
           "marker": {
            "color": "#636efa",
            "size": [
             137,
             129,
             122,
             122,
             119,
             103,
             103,
             102,
             94,
             81,
             79,
             74,
             68,
             68,
             65,
             65,
             63,
             63,
             62,
             60,
             57,
             55,
             55,
             55,
             54
            ],
            "sizemode": "area",
            "sizeref": 0.1392,
            "symbol": "circle"
           },
           "mode": "markers+text",
           "name": "Female",
           "orientation": "v",
           "showlegend": true,
           "text": [
            "JULIA",
            "LAIA",
            "LUCIA",
            "SOFIA",
            "EMMA",
            "MARIA",
            "MARTINA",
            "NOA",
            "PAULA",
            "CARLA",
            "ONA",
            "AINA",
            "CLAUDIA",
            "VALENTINA",
            "MIA",
            "OLIVIA",
            "ALBA",
            "CLARA",
            "CHLOE",
            "ABRIL",
            "SARA",
            "ARIADNA",
            "DANIELA",
            "VALERIA",
            "ARLET"
           ],
           "type": "scatter",
           "x": [
            137,
            129,
            122,
            122,
            119,
            103,
            103,
            102,
            94,
            81,
            79,
            74,
            68,
            68,
            65,
            65,
            63,
            63,
            62,
            60,
            57,
            55,
            55,
            55,
            54
           ],
           "xaxis": "x",
           "y": [
            4,
            8,
            12,
            16,
            20,
            24,
            28,
            32,
            36,
            40,
            44,
            48,
            52,
            56,
            60,
            64,
            68,
            72,
            76,
            80,
            84,
            88,
            92,
            96,
            100
           ],
           "yaxis": "y"
          },
          {
           "hovertemplate": "<b>%{hovertext}</b><br><br>Gender=Male<br>Year=2016<br>Frequency=%{marker.size}<br>Order=%{y}<br>Name=%{text}<extra></extra>",
           "hovertext": [
            "MARC",
            "ALEX",
            "POL",
            "ERIC",
            "PAU",
            "MARTI",
            "BIEL",
            "BRUNO",
            "LUCAS",
            "JAN",
            "NIL",
            "LEO",
            "ARNAU",
            "MAX",
            "MATEO",
            "DANIEL",
            "HUGO",
            "ALEIX",
            "GAEL",
            "PABLO",
            "GERARD",
            "ADRIA",
            "ROC",
            "GABRIEL",
            "ROGER"
           ],
           "ids": [
            "MARC",
            "ALEX",
            "POL",
            "ERIC",
            "PAU",
            "MARTI",
            "BIEL",
            "BRUNO",
            "LUCAS",
            "JAN",
            "NIL",
            "LEO",
            "ARNAU",
            "MAX",
            "MATEO",
            "DANIEL",
            "HUGO",
            "ALEIX",
            "GAEL",
            "PABLO",
            "GERARD",
            "ADRIA",
            "ROC",
            "GABRIEL",
            "ROGER"
           ],
           "legendgroup": "Male",
           "marker": {
            "color": "#EF553B",
            "size": [
             148,
             140,
             110,
             109,
             107,
             104,
             99,
             93,
             93,
             91,
             88,
             83,
             76,
             75,
             69,
             68,
             66,
             64,
             64,
             59,
             57,
             51,
             48,
             44,
             44
            ],
            "sizemode": "area",
            "sizeref": 0.1392,
            "symbol": "circle"
           },
           "mode": "markers+text",
           "name": "Male",
           "orientation": "v",
           "showlegend": true,
           "text": [
            "MARC",
            "ALEX",
            "POL",
            "ERIC",
            "PAU",
            "MARTI",
            "BIEL",
            "BRUNO",
            "LUCAS",
            "JAN",
            "NIL",
            "LEO",
            "ARNAU",
            "MAX",
            "MATEO",
            "DANIEL",
            "HUGO",
            "ALEIX",
            "GAEL",
            "PABLO",
            "GERARD",
            "ADRIA",
            "ROC",
            "GABRIEL",
            "ROGER"
           ],
           "type": "scatter",
           "x": [
            148,
            140,
            110,
            109,
            107,
            104,
            99,
            93,
            93,
            91,
            88,
            83,
            76,
            75,
            69,
            68,
            66,
            64,
            64,
            59,
            57,
            51,
            48,
            44,
            44
           ],
           "xaxis": "x",
           "y": [
            4,
            8,
            12,
            16,
            20,
            24,
            28,
            32,
            36,
            40,
            44,
            48,
            52,
            56,
            60,
            64,
            68,
            72,
            76,
            80,
            84,
            88,
            92,
            96,
            100
           ],
           "yaxis": "y"
          }
         ],
         "name": "2016"
        }
       ],
       "layout": {
        "legend": {
         "itemsizing": "constant",
         "title": {
          "text": "Gender"
         },
         "tracegroupgap": 0
        },
        "plot_bgcolor": "white",
        "showlegend": false,
        "sliders": [
         {
          "active": 0,
          "currentvalue": {
           "prefix": "Year="
          },
          "len": 0.9,
          "pad": {
           "b": 10,
           "t": 60
          },
          "steps": [
           {
            "args": [
             [
              "1996"
             ],
             {
              "frame": {
               "duration": 0,
               "redraw": false
              },
              "fromcurrent": true,
              "mode": "immediate",
              "transition": {
               "duration": 0,
               "easing": "linear"
              }
             }
            ],
            "label": "1996",
            "method": "animate"
           },
           {
            "args": [
             [
              "1997"
             ],
             {
              "frame": {
               "duration": 0,
               "redraw": false
              },
              "fromcurrent": true,
              "mode": "immediate",
              "transition": {
               "duration": 0,
               "easing": "linear"
              }
             }
            ],
            "label": "1997",
            "method": "animate"
           },
           {
            "args": [
             [
              "1998"
             ],
             {
              "frame": {
               "duration": 0,
               "redraw": false
              },
              "fromcurrent": true,
              "mode": "immediate",
              "transition": {
               "duration": 0,
               "easing": "linear"
              }
             }
            ],
            "label": "1998",
            "method": "animate"
           },
           {
            "args": [
             [
              "1999"
             ],
             {
              "frame": {
               "duration": 0,
               "redraw": false
              },
              "fromcurrent": true,
              "mode": "immediate",
              "transition": {
               "duration": 0,
               "easing": "linear"
              }
             }
            ],
            "label": "1999",
            "method": "animate"
           },
           {
            "args": [
             [
              "2000"
             ],
             {
              "frame": {
               "duration": 0,
               "redraw": false
              },
              "fromcurrent": true,
              "mode": "immediate",
              "transition": {
               "duration": 0,
               "easing": "linear"
              }
             }
            ],
            "label": "2000",
            "method": "animate"
           },
           {
            "args": [
             [
              "2001"
             ],
             {
              "frame": {
               "duration": 0,
               "redraw": false
              },
              "fromcurrent": true,
              "mode": "immediate",
              "transition": {
               "duration": 0,
               "easing": "linear"
              }
             }
            ],
            "label": "2001",
            "method": "animate"
           },
           {
            "args": [
             [
              "2002"
             ],
             {
              "frame": {
               "duration": 0,
               "redraw": false
              },
              "fromcurrent": true,
              "mode": "immediate",
              "transition": {
               "duration": 0,
               "easing": "linear"
              }
             }
            ],
            "label": "2002",
            "method": "animate"
           },
           {
            "args": [
             [
              "2003"
             ],
             {
              "frame": {
               "duration": 0,
               "redraw": false
              },
              "fromcurrent": true,
              "mode": "immediate",
              "transition": {
               "duration": 0,
               "easing": "linear"
              }
             }
            ],
            "label": "2003",
            "method": "animate"
           },
           {
            "args": [
             [
              "2004"
             ],
             {
              "frame": {
               "duration": 0,
               "redraw": false
              },
              "fromcurrent": true,
              "mode": "immediate",
              "transition": {
               "duration": 0,
               "easing": "linear"
              }
             }
            ],
            "label": "2004",
            "method": "animate"
           },
           {
            "args": [
             [
              "2005"
             ],
             {
              "frame": {
               "duration": 0,
               "redraw": false
              },
              "fromcurrent": true,
              "mode": "immediate",
              "transition": {
               "duration": 0,
               "easing": "linear"
              }
             }
            ],
            "label": "2005",
            "method": "animate"
           },
           {
            "args": [
             [
              "2006"
             ],
             {
              "frame": {
               "duration": 0,
               "redraw": false
              },
              "fromcurrent": true,
              "mode": "immediate",
              "transition": {
               "duration": 0,
               "easing": "linear"
              }
             }
            ],
            "label": "2006",
            "method": "animate"
           },
           {
            "args": [
             [
              "2007"
             ],
             {
              "frame": {
               "duration": 0,
               "redraw": false
              },
              "fromcurrent": true,
              "mode": "immediate",
              "transition": {
               "duration": 0,
               "easing": "linear"
              }
             }
            ],
            "label": "2007",
            "method": "animate"
           },
           {
            "args": [
             [
              "2008"
             ],
             {
              "frame": {
               "duration": 0,
               "redraw": false
              },
              "fromcurrent": true,
              "mode": "immediate",
              "transition": {
               "duration": 0,
               "easing": "linear"
              }
             }
            ],
            "label": "2008",
            "method": "animate"
           },
           {
            "args": [
             [
              "2009"
             ],
             {
              "frame": {
               "duration": 0,
               "redraw": false
              },
              "fromcurrent": true,
              "mode": "immediate",
              "transition": {
               "duration": 0,
               "easing": "linear"
              }
             }
            ],
            "label": "2009",
            "method": "animate"
           },
           {
            "args": [
             [
              "2010"
             ],
             {
              "frame": {
               "duration": 0,
               "redraw": false
              },
              "fromcurrent": true,
              "mode": "immediate",
              "transition": {
               "duration": 0,
               "easing": "linear"
              }
             }
            ],
            "label": "2010",
            "method": "animate"
           },
           {
            "args": [
             [
              "2011"
             ],
             {
              "frame": {
               "duration": 0,
               "redraw": false
              },
              "fromcurrent": true,
              "mode": "immediate",
              "transition": {
               "duration": 0,
               "easing": "linear"
              }
             }
            ],
            "label": "2011",
            "method": "animate"
           },
           {
            "args": [
             [
              "2012"
             ],
             {
              "frame": {
               "duration": 0,
               "redraw": false
              },
              "fromcurrent": true,
              "mode": "immediate",
              "transition": {
               "duration": 0,
               "easing": "linear"
              }
             }
            ],
            "label": "2012",
            "method": "animate"
           },
           {
            "args": [
             [
              "2013"
             ],
             {
              "frame": {
               "duration": 0,
               "redraw": false
              },
              "fromcurrent": true,
              "mode": "immediate",
              "transition": {
               "duration": 0,
               "easing": "linear"
              }
             }
            ],
            "label": "2013",
            "method": "animate"
           },
           {
            "args": [
             [
              "2014"
             ],
             {
              "frame": {
               "duration": 0,
               "redraw": false
              },
              "fromcurrent": true,
              "mode": "immediate",
              "transition": {
               "duration": 0,
               "easing": "linear"
              }
             }
            ],
            "label": "2014",
            "method": "animate"
           },
           {
            "args": [
             [
              "2015"
             ],
             {
              "frame": {
               "duration": 0,
               "redraw": false
              },
              "fromcurrent": true,
              "mode": "immediate",
              "transition": {
               "duration": 0,
               "easing": "linear"
              }
             }
            ],
            "label": "2015",
            "method": "animate"
           },
           {
            "args": [
             [
              "2016"
             ],
             {
              "frame": {
               "duration": 0,
               "redraw": false
              },
              "fromcurrent": true,
              "mode": "immediate",
              "transition": {
               "duration": 0,
               "easing": "linear"
              }
             }
            ],
            "label": "2016",
            "method": "animate"
           }
          ],
          "x": 0.1,
          "xanchor": "left",
          "y": 0,
          "yanchor": "top"
         }
        ],
        "template": {
         "data": {
          "bar": [
           {
            "error_x": {
             "color": "#2a3f5f"
            },
            "error_y": {
             "color": "#2a3f5f"
            },
            "marker": {
             "line": {
              "color": "#E5ECF6",
              "width": 0.5
             }
            },
            "type": "bar"
           }
          ],
          "barpolar": [
           {
            "marker": {
             "line": {
              "color": "#E5ECF6",
              "width": 0.5
             }
            },
            "type": "barpolar"
           }
          ],
          "carpet": [
           {
            "aaxis": {
             "endlinecolor": "#2a3f5f",
             "gridcolor": "white",
             "linecolor": "white",
             "minorgridcolor": "white",
             "startlinecolor": "#2a3f5f"
            },
            "baxis": {
             "endlinecolor": "#2a3f5f",
             "gridcolor": "white",
             "linecolor": "white",
             "minorgridcolor": "white",
             "startlinecolor": "#2a3f5f"
            },
            "type": "carpet"
           }
          ],
          "choropleth": [
           {
            "colorbar": {
             "outlinewidth": 0,
             "ticks": ""
            },
            "type": "choropleth"
           }
          ],
          "contour": [
           {
            "colorbar": {
             "outlinewidth": 0,
             "ticks": ""
            },
            "colorscale": [
             [
              0,
              "#0d0887"
             ],
             [
              0.1111111111111111,
              "#46039f"
             ],
             [
              0.2222222222222222,
              "#7201a8"
             ],
             [
              0.3333333333333333,
              "#9c179e"
             ],
             [
              0.4444444444444444,
              "#bd3786"
             ],
             [
              0.5555555555555556,
              "#d8576b"
             ],
             [
              0.6666666666666666,
              "#ed7953"
             ],
             [
              0.7777777777777778,
              "#fb9f3a"
             ],
             [
              0.8888888888888888,
              "#fdca26"
             ],
             [
              1,
              "#f0f921"
             ]
            ],
            "type": "contour"
           }
          ],
          "contourcarpet": [
           {
            "colorbar": {
             "outlinewidth": 0,
             "ticks": ""
            },
            "type": "contourcarpet"
           }
          ],
          "heatmap": [
           {
            "colorbar": {
             "outlinewidth": 0,
             "ticks": ""
            },
            "colorscale": [
             [
              0,
              "#0d0887"
             ],
             [
              0.1111111111111111,
              "#46039f"
             ],
             [
              0.2222222222222222,
              "#7201a8"
             ],
             [
              0.3333333333333333,
              "#9c179e"
             ],
             [
              0.4444444444444444,
              "#bd3786"
             ],
             [
              0.5555555555555556,
              "#d8576b"
             ],
             [
              0.6666666666666666,
              "#ed7953"
             ],
             [
              0.7777777777777778,
              "#fb9f3a"
             ],
             [
              0.8888888888888888,
              "#fdca26"
             ],
             [
              1,
              "#f0f921"
             ]
            ],
            "type": "heatmap"
           }
          ],
          "heatmapgl": [
           {
            "colorbar": {
             "outlinewidth": 0,
             "ticks": ""
            },
            "colorscale": [
             [
              0,
              "#0d0887"
             ],
             [
              0.1111111111111111,
              "#46039f"
             ],
             [
              0.2222222222222222,
              "#7201a8"
             ],
             [
              0.3333333333333333,
              "#9c179e"
             ],
             [
              0.4444444444444444,
              "#bd3786"
             ],
             [
              0.5555555555555556,
              "#d8576b"
             ],
             [
              0.6666666666666666,
              "#ed7953"
             ],
             [
              0.7777777777777778,
              "#fb9f3a"
             ],
             [
              0.8888888888888888,
              "#fdca26"
             ],
             [
              1,
              "#f0f921"
             ]
            ],
            "type": "heatmapgl"
           }
          ],
          "histogram": [
           {
            "marker": {
             "colorbar": {
              "outlinewidth": 0,
              "ticks": ""
             }
            },
            "type": "histogram"
           }
          ],
          "histogram2d": [
           {
            "colorbar": {
             "outlinewidth": 0,
             "ticks": ""
            },
            "colorscale": [
             [
              0,
              "#0d0887"
             ],
             [
              0.1111111111111111,
              "#46039f"
             ],
             [
              0.2222222222222222,
              "#7201a8"
             ],
             [
              0.3333333333333333,
              "#9c179e"
             ],
             [
              0.4444444444444444,
              "#bd3786"
             ],
             [
              0.5555555555555556,
              "#d8576b"
             ],
             [
              0.6666666666666666,
              "#ed7953"
             ],
             [
              0.7777777777777778,
              "#fb9f3a"
             ],
             [
              0.8888888888888888,
              "#fdca26"
             ],
             [
              1,
              "#f0f921"
             ]
            ],
            "type": "histogram2d"
           }
          ],
          "histogram2dcontour": [
           {
            "colorbar": {
             "outlinewidth": 0,
             "ticks": ""
            },
            "colorscale": [
             [
              0,
              "#0d0887"
             ],
             [
              0.1111111111111111,
              "#46039f"
             ],
             [
              0.2222222222222222,
              "#7201a8"
             ],
             [
              0.3333333333333333,
              "#9c179e"
             ],
             [
              0.4444444444444444,
              "#bd3786"
             ],
             [
              0.5555555555555556,
              "#d8576b"
             ],
             [
              0.6666666666666666,
              "#ed7953"
             ],
             [
              0.7777777777777778,
              "#fb9f3a"
             ],
             [
              0.8888888888888888,
              "#fdca26"
             ],
             [
              1,
              "#f0f921"
             ]
            ],
            "type": "histogram2dcontour"
           }
          ],
          "mesh3d": [
           {
            "colorbar": {
             "outlinewidth": 0,
             "ticks": ""
            },
            "type": "mesh3d"
           }
          ],
          "parcoords": [
           {
            "line": {
             "colorbar": {
              "outlinewidth": 0,
              "ticks": ""
             }
            },
            "type": "parcoords"
           }
          ],
          "pie": [
           {
            "automargin": true,
            "type": "pie"
           }
          ],
          "scatter": [
           {
            "marker": {
             "colorbar": {
              "outlinewidth": 0,
              "ticks": ""
             }
            },
            "type": "scatter"
           }
          ],
          "scatter3d": [
           {
            "line": {
             "colorbar": {
              "outlinewidth": 0,
              "ticks": ""
             }
            },
            "marker": {
             "colorbar": {
              "outlinewidth": 0,
              "ticks": ""
             }
            },
            "type": "scatter3d"
           }
          ],
          "scattercarpet": [
           {
            "marker": {
             "colorbar": {
              "outlinewidth": 0,
              "ticks": ""
             }
            },
            "type": "scattercarpet"
           }
          ],
          "scattergeo": [
           {
            "marker": {
             "colorbar": {
              "outlinewidth": 0,
              "ticks": ""
             }
            },
            "type": "scattergeo"
           }
          ],
          "scattergl": [
           {
            "marker": {
             "colorbar": {
              "outlinewidth": 0,
              "ticks": ""
             }
            },
            "type": "scattergl"
           }
          ],
          "scattermapbox": [
           {
            "marker": {
             "colorbar": {
              "outlinewidth": 0,
              "ticks": ""
             }
            },
            "type": "scattermapbox"
           }
          ],
          "scatterpolar": [
           {
            "marker": {
             "colorbar": {
              "outlinewidth": 0,
              "ticks": ""
             }
            },
            "type": "scatterpolar"
           }
          ],
          "scatterpolargl": [
           {
            "marker": {
             "colorbar": {
              "outlinewidth": 0,
              "ticks": ""
             }
            },
            "type": "scatterpolargl"
           }
          ],
          "scatterternary": [
           {
            "marker": {
             "colorbar": {
              "outlinewidth": 0,
              "ticks": ""
             }
            },
            "type": "scatterternary"
           }
          ],
          "surface": [
           {
            "colorbar": {
             "outlinewidth": 0,
             "ticks": ""
            },
            "colorscale": [
             [
              0,
              "#0d0887"
             ],
             [
              0.1111111111111111,
              "#46039f"
             ],
             [
              0.2222222222222222,
              "#7201a8"
             ],
             [
              0.3333333333333333,
              "#9c179e"
             ],
             [
              0.4444444444444444,
              "#bd3786"
             ],
             [
              0.5555555555555556,
              "#d8576b"
             ],
             [
              0.6666666666666666,
              "#ed7953"
             ],
             [
              0.7777777777777778,
              "#fb9f3a"
             ],
             [
              0.8888888888888888,
              "#fdca26"
             ],
             [
              1,
              "#f0f921"
             ]
            ],
            "type": "surface"
           }
          ],
          "table": [
           {
            "cells": {
             "fill": {
              "color": "#EBF0F8"
             },
             "line": {
              "color": "white"
             }
            },
            "header": {
             "fill": {
              "color": "#C8D4E3"
             },
             "line": {
              "color": "white"
             }
            },
            "type": "table"
           }
          ]
         },
         "layout": {
          "annotationdefaults": {
           "arrowcolor": "#2a3f5f",
           "arrowhead": 0,
           "arrowwidth": 1
          },
          "autotypenumbers": "strict",
          "coloraxis": {
           "colorbar": {
            "outlinewidth": 0,
            "ticks": ""
           }
          },
          "colorscale": {
           "diverging": [
            [
             0,
             "#8e0152"
            ],
            [
             0.1,
             "#c51b7d"
            ],
            [
             0.2,
             "#de77ae"
            ],
            [
             0.3,
             "#f1b6da"
            ],
            [
             0.4,
             "#fde0ef"
            ],
            [
             0.5,
             "#f7f7f7"
            ],
            [
             0.6,
             "#e6f5d0"
            ],
            [
             0.7,
             "#b8e186"
            ],
            [
             0.8,
             "#7fbc41"
            ],
            [
             0.9,
             "#4d9221"
            ],
            [
             1,
             "#276419"
            ]
           ],
           "sequential": [
            [
             0,
             "#0d0887"
            ],
            [
             0.1111111111111111,
             "#46039f"
            ],
            [
             0.2222222222222222,
             "#7201a8"
            ],
            [
             0.3333333333333333,
             "#9c179e"
            ],
            [
             0.4444444444444444,
             "#bd3786"
            ],
            [
             0.5555555555555556,
             "#d8576b"
            ],
            [
             0.6666666666666666,
             "#ed7953"
            ],
            [
             0.7777777777777778,
             "#fb9f3a"
            ],
            [
             0.8888888888888888,
             "#fdca26"
            ],
            [
             1,
             "#f0f921"
            ]
           ],
           "sequentialminus": [
            [
             0,
             "#0d0887"
            ],
            [
             0.1111111111111111,
             "#46039f"
            ],
            [
             0.2222222222222222,
             "#7201a8"
            ],
            [
             0.3333333333333333,
             "#9c179e"
            ],
            [
             0.4444444444444444,
             "#bd3786"
            ],
            [
             0.5555555555555556,
             "#d8576b"
            ],
            [
             0.6666666666666666,
             "#ed7953"
            ],
            [
             0.7777777777777778,
             "#fb9f3a"
            ],
            [
             0.8888888888888888,
             "#fdca26"
            ],
            [
             1,
             "#f0f921"
            ]
           ]
          },
          "colorway": [
           "#636efa",
           "#EF553B",
           "#00cc96",
           "#ab63fa",
           "#FFA15A",
           "#19d3f3",
           "#FF6692",
           "#B6E880",
           "#FF97FF",
           "#FECB52"
          ],
          "font": {
           "color": "#2a3f5f"
          },
          "geo": {
           "bgcolor": "white",
           "lakecolor": "white",
           "landcolor": "#E5ECF6",
           "showlakes": true,
           "showland": true,
           "subunitcolor": "white"
          },
          "hoverlabel": {
           "align": "left"
          },
          "hovermode": "closest",
          "mapbox": {
           "style": "light"
          },
          "paper_bgcolor": "white",
          "plot_bgcolor": "#E5ECF6",
          "polar": {
           "angularaxis": {
            "gridcolor": "white",
            "linecolor": "white",
            "ticks": ""
           },
           "bgcolor": "#E5ECF6",
           "radialaxis": {
            "gridcolor": "white",
            "linecolor": "white",
            "ticks": ""
           }
          },
          "scene": {
           "xaxis": {
            "backgroundcolor": "#E5ECF6",
            "gridcolor": "white",
            "gridwidth": 2,
            "linecolor": "white",
            "showbackground": true,
            "ticks": "",
            "zerolinecolor": "white"
           },
           "yaxis": {
            "backgroundcolor": "#E5ECF6",
            "gridcolor": "white",
            "gridwidth": 2,
            "linecolor": "white",
            "showbackground": true,
            "ticks": "",
            "zerolinecolor": "white"
           },
           "zaxis": {
            "backgroundcolor": "#E5ECF6",
            "gridcolor": "white",
            "gridwidth": 2,
            "linecolor": "white",
            "showbackground": true,
            "ticks": "",
            "zerolinecolor": "white"
           }
          },
          "shapedefaults": {
           "line": {
            "color": "#2a3f5f"
           }
          },
          "ternary": {
           "aaxis": {
            "gridcolor": "white",
            "linecolor": "white",
            "ticks": ""
           },
           "baxis": {
            "gridcolor": "white",
            "linecolor": "white",
            "ticks": ""
           },
           "bgcolor": "#E5ECF6",
           "caxis": {
            "gridcolor": "white",
            "linecolor": "white",
            "ticks": ""
           }
          },
          "title": {
           "x": 0.05
          },
          "xaxis": {
           "automargin": true,
           "gridcolor": "white",
           "linecolor": "white",
           "ticks": "",
           "title": {
            "standoff": 15
           },
           "zerolinecolor": "white",
           "zerolinewidth": 2
          },
          "yaxis": {
           "automargin": true,
           "gridcolor": "white",
           "linecolor": "white",
           "ticks": "",
           "title": {
            "standoff": 15
           },
           "zerolinecolor": "white",
           "zerolinewidth": 2
          }
         }
        },
        "title": {
         "text": "Baby names in Barcelona 1996-2016"
        },
        "updatemenus": [
         {
          "buttons": [
           {
            "args": [
             null,
             {
              "frame": {
               "duration": 1000,
               "redraw": false
              },
              "fromcurrent": true,
              "mode": "immediate",
              "transition": {
               "duration": 500,
               "easing": "linear"
              }
             }
            ],
            "label": "&#9654;",
            "method": "animate"
           },
           {
            "args": [
             [
              null
             ],
             {
              "frame": {
               "duration": 0,
               "redraw": false
              },
              "fromcurrent": true,
              "mode": "immediate",
              "transition": {
               "duration": 0,
               "easing": "linear"
              }
             }
            ],
            "label": "&#9724;",
            "method": "animate"
           }
          ],
          "direction": "left",
          "pad": {
           "r": 10,
           "t": 70
          },
          "showactive": false,
          "type": "buttons",
          "x": 0.1,
          "xanchor": "right",
          "y": 0,
          "yanchor": "top"
         }
        ],
        "xaxis": {
         "anchor": "y",
         "domain": [
          0,
          1
         ],
         "range": [
          43,
          375
         ],
         "title": {
          "text": "Frequency"
         }
        },
        "yaxis": {
         "anchor": "x",
         "domain": [
          0,
          1
         ],
         "showticklabels": false,
         "title": {
          "text": "Order"
         },
         "visible": false
        }
       }
      },
      "text/html": [
       "<div>                            <div id=\"e2fb6cc6-d66b-4a05-8eec-70943f08c273\" class=\"plotly-graph-div\" style=\"height:525px; width:100%;\"></div>            <script type=\"text/javascript\">                require([\"plotly\"], function(Plotly) {                    window.PLOTLYENV=window.PLOTLYENV || {};                                    if (document.getElementById(\"e2fb6cc6-d66b-4a05-8eec-70943f08c273\")) {                    Plotly.newPlot(                        \"e2fb6cc6-d66b-4a05-8eec-70943f08c273\",                        [{\"hovertemplate\": \"<b>%{hovertext}</b><br><br>Gender=Female<br>Year=1996<br>Frequency=%{marker.size}<br>Order=%{y}<br>Name=%{text}<extra></extra>\", \"hovertext\": [\"LAURA\", \"MARIA\", \"MARTA\", \"ANDREA\", \"ANNA\", \"PAULA\", \"ALBA\", \"SARA\", \"LAIA\", \"CLAUDIA\", \"JULIA\", \"CARLA\", \"MIREIA\", \"MARINA\", \"CRISTINA\", \"CLARA\", \"JUDITH\", \"ARIADNA\", \"NURIA\", \"PATRICIA\", \"RAQUEL\", \"ANA\", \"IRENE\", \"JUDIT\", \"SANDRA\"], \"ids\": [\"LAURA\", \"MARIA\", \"MARTA\", \"ANDREA\", \"ANNA\", \"PAULA\", \"ALBA\", \"SARA\", \"LAIA\", \"CLAUDIA\", \"JULIA\", \"CARLA\", \"MIREIA\", \"MARINA\", \"CRISTINA\", \"CLARA\", \"JUDITH\", \"ARIADNA\", \"NURIA\", \"PATRICIA\", \"RAQUEL\", \"ANA\", \"IRENE\", \"JUDIT\", \"SANDRA\"], \"legendgroup\": \"Female\", \"marker\": {\"color\": \"#636efa\", \"size\": [237, 219, 206, 199, 195, 186, 142, 125, 123, 122, 115, 112, 112, 102, 99, 89, 80, 78, 72, 71, 69, 65, 64, 63, 55], \"sizemode\": \"area\", \"sizeref\": 0.1392, \"symbol\": \"circle\"}, \"mode\": \"markers+text\", \"name\": \"Female\", \"orientation\": \"v\", \"showlegend\": true, \"text\": [\"LAURA\", \"MARIA\", \"MARTA\", \"ANDREA\", \"ANNA\", \"PAULA\", \"ALBA\", \"SARA\", \"LAIA\", \"CLAUDIA\", \"JULIA\", \"CARLA\", \"MIREIA\", \"MARINA\", \"CRISTINA\", \"CLARA\", \"JUDITH\", \"ARIADNA\", \"NURIA\", \"PATRICIA\", \"RAQUEL\", \"ANA\", \"IRENE\", \"JUDIT\", \"SANDRA\"], \"type\": \"scatter\", \"x\": [237, 219, 206, 199, 195, 186, 142, 125, 123, 122, 115, 112, 112, 102, 99, 89, 80, 78, 72, 71, 69, 65, 64, 63, 55], \"xaxis\": \"x\", \"y\": [4, 8, 12, 16, 20, 24, 28, 32, 36, 40, 44, 48, 52, 56, 60, 64, 68, 72, 76, 80, 84, 88, 92, 96, 100], \"yaxis\": \"y\"}, {\"hovertemplate\": \"<b>%{hovertext}</b><br><br>Gender=Male<br>Year=1996<br>Frequency=%{marker.size}<br>Order=%{y}<br>Name=%{text}<extra></extra>\", \"hovertext\": [\"MARC\", \"DAVID\", \"DANIEL\", \"ALBERT\", \"VICTOR\", \"JORDI\", \"SERGI\", \"ALEJANDRO\", \"POL\", \"ALEX\", \"PAU\", \"GUILLEM\", \"CARLOS\", \"ORIOL\", \"ADRIA\", \"ROGER\", \"OSCAR\", \"JAVIER\", \"GERARD\", \"ARNAU\", \"IVAN\", \"XAVIER\", \"JOAN\", \"ERIC\", \"PABLO\"], \"ids\": [\"MARC\", \"DAVID\", \"DANIEL\", \"ALBERT\", \"VICTOR\", \"JORDI\", \"SERGI\", \"ALEJANDRO\", \"POL\", \"ALEX\", \"PAU\", \"GUILLEM\", \"CARLOS\", \"ORIOL\", \"ADRIA\", \"ROGER\", \"OSCAR\", \"JAVIER\", \"GERARD\", \"ARNAU\", \"IVAN\", \"XAVIER\", \"JOAN\", \"ERIC\", \"PABLO\"], \"legendgroup\": \"Male\", \"marker\": {\"color\": \"#EF553B\", \"size\": [295, 198, 174, 151, 145, 143, 137, 132, 123, 113, 103, 100, 97, 97, 92, 91, 90, 88, 85, 84, 80, 79, 76, 75, 74], \"sizemode\": \"area\", \"sizeref\": 0.1392, \"symbol\": \"circle\"}, \"mode\": \"markers+text\", \"name\": \"Male\", \"orientation\": \"v\", \"showlegend\": true, \"text\": [\"MARC\", \"DAVID\", \"DANIEL\", \"ALBERT\", \"VICTOR\", \"JORDI\", \"SERGI\", \"ALEJANDRO\", \"POL\", \"ALEX\", \"PAU\", \"GUILLEM\", \"CARLOS\", \"ORIOL\", \"ADRIA\", \"ROGER\", \"OSCAR\", \"JAVIER\", \"GERARD\", \"ARNAU\", \"IVAN\", \"XAVIER\", \"JOAN\", \"ERIC\", \"PABLO\"], \"type\": \"scatter\", \"x\": [295, 198, 174, 151, 145, 143, 137, 132, 123, 113, 103, 100, 97, 97, 92, 91, 90, 88, 85, 84, 80, 79, 76, 75, 74], \"xaxis\": \"x\", \"y\": [4, 8, 12, 16, 20, 24, 28, 32, 36, 40, 44, 48, 52, 56, 60, 64, 68, 72, 76, 80, 84, 88, 92, 96, 100], \"yaxis\": \"y\"}],                        {\"legend\": {\"itemsizing\": \"constant\", \"title\": {\"text\": \"Gender\"}, \"tracegroupgap\": 0}, \"plot_bgcolor\": \"white\", \"showlegend\": false, \"sliders\": [{\"active\": 0, \"currentvalue\": {\"prefix\": \"Year=\"}, \"len\": 0.9, \"pad\": {\"b\": 10, \"t\": 60}, \"steps\": [{\"args\": [[\"1996\"], {\"frame\": {\"duration\": 0, \"redraw\": false}, \"fromcurrent\": true, \"mode\": \"immediate\", \"transition\": {\"duration\": 0, \"easing\": \"linear\"}}], \"label\": \"1996\", \"method\": \"animate\"}, {\"args\": [[\"1997\"], {\"frame\": {\"duration\": 0, \"redraw\": false}, \"fromcurrent\": true, \"mode\": \"immediate\", \"transition\": {\"duration\": 0, \"easing\": \"linear\"}}], \"label\": \"1997\", \"method\": \"animate\"}, {\"args\": [[\"1998\"], {\"frame\": {\"duration\": 0, \"redraw\": false}, \"fromcurrent\": true, \"mode\": \"immediate\", \"transition\": {\"duration\": 0, \"easing\": \"linear\"}}], \"label\": \"1998\", \"method\": \"animate\"}, {\"args\": [[\"1999\"], {\"frame\": {\"duration\": 0, \"redraw\": false}, \"fromcurrent\": true, \"mode\": \"immediate\", \"transition\": {\"duration\": 0, \"easing\": \"linear\"}}], \"label\": \"1999\", \"method\": \"animate\"}, {\"args\": [[\"2000\"], {\"frame\": {\"duration\": 0, \"redraw\": false}, \"fromcurrent\": true, \"mode\": \"immediate\", \"transition\": {\"duration\": 0, \"easing\": \"linear\"}}], \"label\": \"2000\", \"method\": \"animate\"}, {\"args\": [[\"2001\"], {\"frame\": {\"duration\": 0, \"redraw\": false}, \"fromcurrent\": true, \"mode\": \"immediate\", \"transition\": {\"duration\": 0, \"easing\": \"linear\"}}], \"label\": \"2001\", \"method\": \"animate\"}, {\"args\": [[\"2002\"], {\"frame\": {\"duration\": 0, \"redraw\": false}, \"fromcurrent\": true, \"mode\": \"immediate\", \"transition\": {\"duration\": 0, \"easing\": \"linear\"}}], \"label\": \"2002\", \"method\": \"animate\"}, {\"args\": [[\"2003\"], {\"frame\": {\"duration\": 0, \"redraw\": false}, \"fromcurrent\": true, \"mode\": \"immediate\", \"transition\": {\"duration\": 0, \"easing\": \"linear\"}}], \"label\": \"2003\", \"method\": \"animate\"}, {\"args\": [[\"2004\"], {\"frame\": {\"duration\": 0, \"redraw\": false}, \"fromcurrent\": true, \"mode\": \"immediate\", \"transition\": {\"duration\": 0, \"easing\": \"linear\"}}], \"label\": \"2004\", \"method\": \"animate\"}, {\"args\": [[\"2005\"], {\"frame\": {\"duration\": 0, \"redraw\": false}, \"fromcurrent\": true, \"mode\": \"immediate\", \"transition\": {\"duration\": 0, \"easing\": \"linear\"}}], \"label\": \"2005\", \"method\": \"animate\"}, {\"args\": [[\"2006\"], {\"frame\": {\"duration\": 0, \"redraw\": false}, \"fromcurrent\": true, \"mode\": \"immediate\", \"transition\": {\"duration\": 0, \"easing\": \"linear\"}}], \"label\": \"2006\", \"method\": \"animate\"}, {\"args\": [[\"2007\"], {\"frame\": {\"duration\": 0, \"redraw\": false}, \"fromcurrent\": true, \"mode\": \"immediate\", \"transition\": {\"duration\": 0, \"easing\": \"linear\"}}], \"label\": \"2007\", \"method\": \"animate\"}, {\"args\": [[\"2008\"], {\"frame\": {\"duration\": 0, \"redraw\": false}, \"fromcurrent\": true, \"mode\": \"immediate\", \"transition\": {\"duration\": 0, \"easing\": \"linear\"}}], \"label\": \"2008\", \"method\": \"animate\"}, {\"args\": [[\"2009\"], {\"frame\": {\"duration\": 0, \"redraw\": false}, \"fromcurrent\": true, \"mode\": \"immediate\", \"transition\": {\"duration\": 0, \"easing\": \"linear\"}}], \"label\": \"2009\", \"method\": \"animate\"}, {\"args\": [[\"2010\"], {\"frame\": {\"duration\": 0, \"redraw\": false}, \"fromcurrent\": true, \"mode\": \"immediate\", \"transition\": {\"duration\": 0, \"easing\": \"linear\"}}], \"label\": \"2010\", \"method\": \"animate\"}, {\"args\": [[\"2011\"], {\"frame\": {\"duration\": 0, \"redraw\": false}, \"fromcurrent\": true, \"mode\": \"immediate\", \"transition\": {\"duration\": 0, \"easing\": \"linear\"}}], \"label\": \"2011\", \"method\": \"animate\"}, {\"args\": [[\"2012\"], {\"frame\": {\"duration\": 0, \"redraw\": false}, \"fromcurrent\": true, \"mode\": \"immediate\", \"transition\": {\"duration\": 0, \"easing\": \"linear\"}}], \"label\": \"2012\", \"method\": \"animate\"}, {\"args\": [[\"2013\"], {\"frame\": {\"duration\": 0, \"redraw\": false}, \"fromcurrent\": true, \"mode\": \"immediate\", \"transition\": {\"duration\": 0, \"easing\": \"linear\"}}], \"label\": \"2013\", \"method\": \"animate\"}, {\"args\": [[\"2014\"], {\"frame\": {\"duration\": 0, \"redraw\": false}, \"fromcurrent\": true, \"mode\": \"immediate\", \"transition\": {\"duration\": 0, \"easing\": \"linear\"}}], \"label\": \"2014\", \"method\": \"animate\"}, {\"args\": [[\"2015\"], {\"frame\": {\"duration\": 0, \"redraw\": false}, \"fromcurrent\": true, \"mode\": \"immediate\", \"transition\": {\"duration\": 0, \"easing\": \"linear\"}}], \"label\": \"2015\", \"method\": \"animate\"}, {\"args\": [[\"2016\"], {\"frame\": {\"duration\": 0, \"redraw\": false}, \"fromcurrent\": true, \"mode\": \"immediate\", \"transition\": {\"duration\": 0, \"easing\": \"linear\"}}], \"label\": \"2016\", \"method\": \"animate\"}], \"x\": 0.1, \"xanchor\": \"left\", \"y\": 0, \"yanchor\": \"top\"}], \"template\": {\"data\": {\"bar\": [{\"error_x\": {\"color\": \"#2a3f5f\"}, \"error_y\": {\"color\": \"#2a3f5f\"}, \"marker\": {\"line\": {\"color\": \"#E5ECF6\", \"width\": 0.5}}, \"type\": \"bar\"}], \"barpolar\": [{\"marker\": {\"line\": {\"color\": \"#E5ECF6\", \"width\": 0.5}}, \"type\": \"barpolar\"}], \"carpet\": [{\"aaxis\": {\"endlinecolor\": \"#2a3f5f\", \"gridcolor\": \"white\", \"linecolor\": \"white\", \"minorgridcolor\": \"white\", \"startlinecolor\": \"#2a3f5f\"}, \"baxis\": {\"endlinecolor\": \"#2a3f5f\", \"gridcolor\": \"white\", \"linecolor\": \"white\", \"minorgridcolor\": \"white\", \"startlinecolor\": \"#2a3f5f\"}, \"type\": \"carpet\"}], \"choropleth\": [{\"colorbar\": {\"outlinewidth\": 0, \"ticks\": \"\"}, \"type\": \"choropleth\"}], \"contour\": [{\"colorbar\": {\"outlinewidth\": 0, \"ticks\": \"\"}, \"colorscale\": [[0.0, \"#0d0887\"], [0.1111111111111111, \"#46039f\"], [0.2222222222222222, \"#7201a8\"], [0.3333333333333333, \"#9c179e\"], [0.4444444444444444, \"#bd3786\"], [0.5555555555555556, \"#d8576b\"], [0.6666666666666666, \"#ed7953\"], [0.7777777777777778, \"#fb9f3a\"], [0.8888888888888888, \"#fdca26\"], [1.0, \"#f0f921\"]], \"type\": \"contour\"}], \"contourcarpet\": [{\"colorbar\": {\"outlinewidth\": 0, \"ticks\": \"\"}, \"type\": \"contourcarpet\"}], \"heatmap\": [{\"colorbar\": {\"outlinewidth\": 0, \"ticks\": \"\"}, \"colorscale\": [[0.0, \"#0d0887\"], [0.1111111111111111, \"#46039f\"], [0.2222222222222222, \"#7201a8\"], [0.3333333333333333, \"#9c179e\"], [0.4444444444444444, \"#bd3786\"], [0.5555555555555556, \"#d8576b\"], [0.6666666666666666, \"#ed7953\"], [0.7777777777777778, \"#fb9f3a\"], [0.8888888888888888, \"#fdca26\"], [1.0, \"#f0f921\"]], \"type\": \"heatmap\"}], \"heatmapgl\": [{\"colorbar\": {\"outlinewidth\": 0, \"ticks\": \"\"}, \"colorscale\": [[0.0, \"#0d0887\"], [0.1111111111111111, \"#46039f\"], [0.2222222222222222, \"#7201a8\"], [0.3333333333333333, \"#9c179e\"], [0.4444444444444444, \"#bd3786\"], [0.5555555555555556, \"#d8576b\"], [0.6666666666666666, \"#ed7953\"], [0.7777777777777778, \"#fb9f3a\"], [0.8888888888888888, \"#fdca26\"], [1.0, \"#f0f921\"]], \"type\": \"heatmapgl\"}], \"histogram\": [{\"marker\": {\"colorbar\": {\"outlinewidth\": 0, \"ticks\": \"\"}}, \"type\": \"histogram\"}], \"histogram2d\": [{\"colorbar\": {\"outlinewidth\": 0, \"ticks\": \"\"}, \"colorscale\": [[0.0, \"#0d0887\"], [0.1111111111111111, \"#46039f\"], [0.2222222222222222, \"#7201a8\"], [0.3333333333333333, \"#9c179e\"], [0.4444444444444444, \"#bd3786\"], [0.5555555555555556, \"#d8576b\"], [0.6666666666666666, \"#ed7953\"], [0.7777777777777778, \"#fb9f3a\"], [0.8888888888888888, \"#fdca26\"], [1.0, \"#f0f921\"]], \"type\": \"histogram2d\"}], \"histogram2dcontour\": [{\"colorbar\": {\"outlinewidth\": 0, \"ticks\": \"\"}, \"colorscale\": [[0.0, \"#0d0887\"], [0.1111111111111111, \"#46039f\"], [0.2222222222222222, \"#7201a8\"], [0.3333333333333333, \"#9c179e\"], [0.4444444444444444, \"#bd3786\"], [0.5555555555555556, \"#d8576b\"], [0.6666666666666666, \"#ed7953\"], [0.7777777777777778, \"#fb9f3a\"], [0.8888888888888888, \"#fdca26\"], [1.0, \"#f0f921\"]], \"type\": \"histogram2dcontour\"}], \"mesh3d\": [{\"colorbar\": {\"outlinewidth\": 0, \"ticks\": \"\"}, \"type\": \"mesh3d\"}], \"parcoords\": [{\"line\": {\"colorbar\": {\"outlinewidth\": 0, \"ticks\": \"\"}}, \"type\": \"parcoords\"}], \"pie\": [{\"automargin\": true, \"type\": \"pie\"}], \"scatter\": [{\"marker\": {\"colorbar\": {\"outlinewidth\": 0, \"ticks\": \"\"}}, \"type\": \"scatter\"}], \"scatter3d\": [{\"line\": {\"colorbar\": {\"outlinewidth\": 0, \"ticks\": \"\"}}, \"marker\": {\"colorbar\": {\"outlinewidth\": 0, \"ticks\": \"\"}}, \"type\": \"scatter3d\"}], \"scattercarpet\": [{\"marker\": {\"colorbar\": {\"outlinewidth\": 0, \"ticks\": \"\"}}, \"type\": \"scattercarpet\"}], \"scattergeo\": [{\"marker\": {\"colorbar\": {\"outlinewidth\": 0, \"ticks\": \"\"}}, \"type\": \"scattergeo\"}], \"scattergl\": [{\"marker\": {\"colorbar\": {\"outlinewidth\": 0, \"ticks\": \"\"}}, \"type\": \"scattergl\"}], \"scattermapbox\": [{\"marker\": {\"colorbar\": {\"outlinewidth\": 0, \"ticks\": \"\"}}, \"type\": \"scattermapbox\"}], \"scatterpolar\": [{\"marker\": {\"colorbar\": {\"outlinewidth\": 0, \"ticks\": \"\"}}, \"type\": \"scatterpolar\"}], \"scatterpolargl\": [{\"marker\": {\"colorbar\": {\"outlinewidth\": 0, \"ticks\": \"\"}}, \"type\": \"scatterpolargl\"}], \"scatterternary\": [{\"marker\": {\"colorbar\": {\"outlinewidth\": 0, \"ticks\": \"\"}}, \"type\": \"scatterternary\"}], \"surface\": [{\"colorbar\": {\"outlinewidth\": 0, \"ticks\": \"\"}, \"colorscale\": [[0.0, \"#0d0887\"], [0.1111111111111111, \"#46039f\"], [0.2222222222222222, \"#7201a8\"], [0.3333333333333333, \"#9c179e\"], [0.4444444444444444, \"#bd3786\"], [0.5555555555555556, \"#d8576b\"], [0.6666666666666666, \"#ed7953\"], [0.7777777777777778, \"#fb9f3a\"], [0.8888888888888888, \"#fdca26\"], [1.0, \"#f0f921\"]], \"type\": \"surface\"}], \"table\": [{\"cells\": {\"fill\": {\"color\": \"#EBF0F8\"}, \"line\": {\"color\": \"white\"}}, \"header\": {\"fill\": {\"color\": \"#C8D4E3\"}, \"line\": {\"color\": \"white\"}}, \"type\": \"table\"}]}, \"layout\": {\"annotationdefaults\": {\"arrowcolor\": \"#2a3f5f\", \"arrowhead\": 0, \"arrowwidth\": 1}, \"autotypenumbers\": \"strict\", \"coloraxis\": {\"colorbar\": {\"outlinewidth\": 0, \"ticks\": \"\"}}, \"colorscale\": {\"diverging\": [[0, \"#8e0152\"], [0.1, \"#c51b7d\"], [0.2, \"#de77ae\"], [0.3, \"#f1b6da\"], [0.4, \"#fde0ef\"], [0.5, \"#f7f7f7\"], [0.6, \"#e6f5d0\"], [0.7, \"#b8e186\"], [0.8, \"#7fbc41\"], [0.9, \"#4d9221\"], [1, \"#276419\"]], \"sequential\": [[0.0, \"#0d0887\"], [0.1111111111111111, \"#46039f\"], [0.2222222222222222, \"#7201a8\"], [0.3333333333333333, \"#9c179e\"], [0.4444444444444444, \"#bd3786\"], [0.5555555555555556, \"#d8576b\"], [0.6666666666666666, \"#ed7953\"], [0.7777777777777778, \"#fb9f3a\"], [0.8888888888888888, \"#fdca26\"], [1.0, \"#f0f921\"]], \"sequentialminus\": [[0.0, \"#0d0887\"], [0.1111111111111111, \"#46039f\"], [0.2222222222222222, \"#7201a8\"], [0.3333333333333333, \"#9c179e\"], [0.4444444444444444, \"#bd3786\"], [0.5555555555555556, \"#d8576b\"], [0.6666666666666666, \"#ed7953\"], [0.7777777777777778, \"#fb9f3a\"], [0.8888888888888888, \"#fdca26\"], [1.0, \"#f0f921\"]]}, \"colorway\": [\"#636efa\", \"#EF553B\", \"#00cc96\", \"#ab63fa\", \"#FFA15A\", \"#19d3f3\", \"#FF6692\", \"#B6E880\", \"#FF97FF\", \"#FECB52\"], \"font\": {\"color\": \"#2a3f5f\"}, \"geo\": {\"bgcolor\": \"white\", \"lakecolor\": \"white\", \"landcolor\": \"#E5ECF6\", \"showlakes\": true, \"showland\": true, \"subunitcolor\": \"white\"}, \"hoverlabel\": {\"align\": \"left\"}, \"hovermode\": \"closest\", \"mapbox\": {\"style\": \"light\"}, \"paper_bgcolor\": \"white\", \"plot_bgcolor\": \"#E5ECF6\", \"polar\": {\"angularaxis\": {\"gridcolor\": \"white\", \"linecolor\": \"white\", \"ticks\": \"\"}, \"bgcolor\": \"#E5ECF6\", \"radialaxis\": {\"gridcolor\": \"white\", \"linecolor\": \"white\", \"ticks\": \"\"}}, \"scene\": {\"xaxis\": {\"backgroundcolor\": \"#E5ECF6\", \"gridcolor\": \"white\", \"gridwidth\": 2, \"linecolor\": \"white\", \"showbackground\": true, \"ticks\": \"\", \"zerolinecolor\": \"white\"}, \"yaxis\": {\"backgroundcolor\": \"#E5ECF6\", \"gridcolor\": \"white\", \"gridwidth\": 2, \"linecolor\": \"white\", \"showbackground\": true, \"ticks\": \"\", \"zerolinecolor\": \"white\"}, \"zaxis\": {\"backgroundcolor\": \"#E5ECF6\", \"gridcolor\": \"white\", \"gridwidth\": 2, \"linecolor\": \"white\", \"showbackground\": true, \"ticks\": \"\", \"zerolinecolor\": \"white\"}}, \"shapedefaults\": {\"line\": {\"color\": \"#2a3f5f\"}}, \"ternary\": {\"aaxis\": {\"gridcolor\": \"white\", \"linecolor\": \"white\", \"ticks\": \"\"}, \"baxis\": {\"gridcolor\": \"white\", \"linecolor\": \"white\", \"ticks\": \"\"}, \"bgcolor\": \"#E5ECF6\", \"caxis\": {\"gridcolor\": \"white\", \"linecolor\": \"white\", \"ticks\": \"\"}}, \"title\": {\"x\": 0.05}, \"xaxis\": {\"automargin\": true, \"gridcolor\": \"white\", \"linecolor\": \"white\", \"ticks\": \"\", \"title\": {\"standoff\": 15}, \"zerolinecolor\": \"white\", \"zerolinewidth\": 2}, \"yaxis\": {\"automargin\": true, \"gridcolor\": \"white\", \"linecolor\": \"white\", \"ticks\": \"\", \"title\": {\"standoff\": 15}, \"zerolinecolor\": \"white\", \"zerolinewidth\": 2}}}, \"title\": {\"text\": \"Baby names in Barcelona 1996-2016\"}, \"updatemenus\": [{\"buttons\": [{\"args\": [null, {\"frame\": {\"duration\": 1000, \"redraw\": false}, \"fromcurrent\": true, \"mode\": \"immediate\", \"transition\": {\"duration\": 500, \"easing\": \"linear\"}}], \"label\": \"&#9654;\", \"method\": \"animate\"}, {\"args\": [[null], {\"frame\": {\"duration\": 0, \"redraw\": false}, \"fromcurrent\": true, \"mode\": \"immediate\", \"transition\": {\"duration\": 0, \"easing\": \"linear\"}}], \"label\": \"&#9724;\", \"method\": \"animate\"}], \"direction\": \"left\", \"pad\": {\"r\": 10, \"t\": 70}, \"showactive\": false, \"type\": \"buttons\", \"x\": 0.1, \"xanchor\": \"right\", \"y\": 0, \"yanchor\": \"top\"}], \"xaxis\": {\"anchor\": \"y\", \"domain\": [0.0, 1.0], \"range\": [43, 375], \"title\": {\"text\": \"Frequency\"}}, \"yaxis\": {\"anchor\": \"x\", \"domain\": [0.0, 1.0], \"showticklabels\": false, \"title\": {\"text\": \"Order\"}, \"visible\": false}},                        {\"responsive\": true}                    ).then(function(){\n",
       "                            Plotly.addFrames('e2fb6cc6-d66b-4a05-8eec-70943f08c273', [{\"data\": [{\"hovertemplate\": \"<b>%{hovertext}</b><br><br>Gender=Female<br>Year=1996<br>Frequency=%{marker.size}<br>Order=%{y}<br>Name=%{text}<extra></extra>\", \"hovertext\": [\"LAURA\", \"MARIA\", \"MARTA\", \"ANDREA\", \"ANNA\", \"PAULA\", \"ALBA\", \"SARA\", \"LAIA\", \"CLAUDIA\", \"JULIA\", \"CARLA\", \"MIREIA\", \"MARINA\", \"CRISTINA\", \"CLARA\", \"JUDITH\", \"ARIADNA\", \"NURIA\", \"PATRICIA\", \"RAQUEL\", \"ANA\", \"IRENE\", \"JUDIT\", \"SANDRA\"], \"ids\": [\"LAURA\", \"MARIA\", \"MARTA\", \"ANDREA\", \"ANNA\", \"PAULA\", \"ALBA\", \"SARA\", \"LAIA\", \"CLAUDIA\", \"JULIA\", \"CARLA\", \"MIREIA\", \"MARINA\", \"CRISTINA\", \"CLARA\", \"JUDITH\", \"ARIADNA\", \"NURIA\", \"PATRICIA\", \"RAQUEL\", \"ANA\", \"IRENE\", \"JUDIT\", \"SANDRA\"], \"legendgroup\": \"Female\", \"marker\": {\"color\": \"#636efa\", \"size\": [237, 219, 206, 199, 195, 186, 142, 125, 123, 122, 115, 112, 112, 102, 99, 89, 80, 78, 72, 71, 69, 65, 64, 63, 55], \"sizemode\": \"area\", \"sizeref\": 0.1392, \"symbol\": \"circle\"}, \"mode\": \"markers+text\", \"name\": \"Female\", \"orientation\": \"v\", \"showlegend\": true, \"text\": [\"LAURA\", \"MARIA\", \"MARTA\", \"ANDREA\", \"ANNA\", \"PAULA\", \"ALBA\", \"SARA\", \"LAIA\", \"CLAUDIA\", \"JULIA\", \"CARLA\", \"MIREIA\", \"MARINA\", \"CRISTINA\", \"CLARA\", \"JUDITH\", \"ARIADNA\", \"NURIA\", \"PATRICIA\", \"RAQUEL\", \"ANA\", \"IRENE\", \"JUDIT\", \"SANDRA\"], \"x\": [237, 219, 206, 199, 195, 186, 142, 125, 123, 122, 115, 112, 112, 102, 99, 89, 80, 78, 72, 71, 69, 65, 64, 63, 55], \"xaxis\": \"x\", \"y\": [4, 8, 12, 16, 20, 24, 28, 32, 36, 40, 44, 48, 52, 56, 60, 64, 68, 72, 76, 80, 84, 88, 92, 96, 100], \"yaxis\": \"y\", \"type\": \"scatter\"}, {\"hovertemplate\": \"<b>%{hovertext}</b><br><br>Gender=Male<br>Year=1996<br>Frequency=%{marker.size}<br>Order=%{y}<br>Name=%{text}<extra></extra>\", \"hovertext\": [\"MARC\", \"DAVID\", \"DANIEL\", \"ALBERT\", \"VICTOR\", \"JORDI\", \"SERGI\", \"ALEJANDRO\", \"POL\", \"ALEX\", \"PAU\", \"GUILLEM\", \"CARLOS\", \"ORIOL\", \"ADRIA\", \"ROGER\", \"OSCAR\", \"JAVIER\", \"GERARD\", \"ARNAU\", \"IVAN\", \"XAVIER\", \"JOAN\", \"ERIC\", \"PABLO\"], \"ids\": [\"MARC\", \"DAVID\", \"DANIEL\", \"ALBERT\", \"VICTOR\", \"JORDI\", \"SERGI\", \"ALEJANDRO\", \"POL\", \"ALEX\", \"PAU\", \"GUILLEM\", \"CARLOS\", \"ORIOL\", \"ADRIA\", \"ROGER\", \"OSCAR\", \"JAVIER\", \"GERARD\", \"ARNAU\", \"IVAN\", \"XAVIER\", \"JOAN\", \"ERIC\", \"PABLO\"], \"legendgroup\": \"Male\", \"marker\": {\"color\": \"#EF553B\", \"size\": [295, 198, 174, 151, 145, 143, 137, 132, 123, 113, 103, 100, 97, 97, 92, 91, 90, 88, 85, 84, 80, 79, 76, 75, 74], \"sizemode\": \"area\", \"sizeref\": 0.1392, \"symbol\": \"circle\"}, \"mode\": \"markers+text\", \"name\": \"Male\", \"orientation\": \"v\", \"showlegend\": true, \"text\": [\"MARC\", \"DAVID\", \"DANIEL\", \"ALBERT\", \"VICTOR\", \"JORDI\", \"SERGI\", \"ALEJANDRO\", \"POL\", \"ALEX\", \"PAU\", \"GUILLEM\", \"CARLOS\", \"ORIOL\", \"ADRIA\", \"ROGER\", \"OSCAR\", \"JAVIER\", \"GERARD\", \"ARNAU\", \"IVAN\", \"XAVIER\", \"JOAN\", \"ERIC\", \"PABLO\"], \"x\": [295, 198, 174, 151, 145, 143, 137, 132, 123, 113, 103, 100, 97, 97, 92, 91, 90, 88, 85, 84, 80, 79, 76, 75, 74], \"xaxis\": \"x\", \"y\": [4, 8, 12, 16, 20, 24, 28, 32, 36, 40, 44, 48, 52, 56, 60, 64, 68, 72, 76, 80, 84, 88, 92, 96, 100], \"yaxis\": \"y\", \"type\": \"scatter\"}], \"name\": \"1996\"}, {\"data\": [{\"hovertemplate\": \"<b>%{hovertext}</b><br><br>Gender=Female<br>Year=1997<br>Frequency=%{marker.size}<br>Order=%{y}<br>Name=%{text}<extra></extra>\", \"hovertext\": [\"MARIA\", \"LAURA\", \"MARTA\", \"ANDREA\", \"PAULA\", \"LAIA\", \"ANNA\", \"ALBA\", \"JULIA\", \"CARLA\", \"CLAUDIA\", \"CRISTINA\", \"SARA\", \"IRENE\", \"ARIADNA\", \"MIREIA\", \"CLARA\", \"NURIA\", \"MARINA\", \"JUDITH\", \"JUDIT\", \"RAQUEL\", \"BERTA\", \"MAR\", \"SANDRA\"], \"ids\": [\"MARIA\", \"LAURA\", \"MARTA\", \"ANDREA\", \"PAULA\", \"LAIA\", \"ANNA\", \"ALBA\", \"JULIA\", \"CARLA\", \"CLAUDIA\", \"CRISTINA\", \"SARA\", \"IRENE\", \"ARIADNA\", \"MIREIA\", \"CLARA\", \"NURIA\", \"MARINA\", \"JUDITH\", \"JUDIT\", \"RAQUEL\", \"BERTA\", \"MAR\", \"SANDRA\"], \"legendgroup\": \"Female\", \"marker\": {\"color\": \"#636efa\", \"size\": [241, 229, 211, 209, 205, 158, 146, 134, 132, 118, 106, 105, 97, 96, 90, 90, 83, 83, 81, 72, 71, 67, 66, 64, 64], \"sizemode\": \"area\", \"sizeref\": 0.1392, \"symbol\": \"circle\"}, \"mode\": \"markers+text\", \"name\": \"Female\", \"orientation\": \"v\", \"showlegend\": true, \"text\": [\"MARIA\", \"LAURA\", \"MARTA\", \"ANDREA\", \"PAULA\", \"LAIA\", \"ANNA\", \"ALBA\", \"JULIA\", \"CARLA\", \"CLAUDIA\", \"CRISTINA\", \"SARA\", \"IRENE\", \"ARIADNA\", \"MIREIA\", \"CLARA\", \"NURIA\", \"MARINA\", \"JUDITH\", \"JUDIT\", \"RAQUEL\", \"BERTA\", \"MAR\", \"SANDRA\"], \"x\": [241, 229, 211, 209, 205, 158, 146, 134, 132, 118, 106, 105, 97, 96, 90, 90, 83, 83, 81, 72, 71, 67, 66, 64, 64], \"xaxis\": \"x\", \"y\": [4, 8, 12, 16, 20, 24, 28, 32, 36, 40, 44, 48, 52, 56, 60, 64, 68, 72, 76, 80, 84, 88, 92, 96, 100], \"yaxis\": \"y\", \"type\": \"scatter\"}, {\"hovertemplate\": \"<b>%{hovertext}</b><br><br>Gender=Male<br>Year=1997<br>Frequency=%{marker.size}<br>Order=%{y}<br>Name=%{text}<extra></extra>\", \"hovertext\": [\"MARC\", \"DAVID\", \"DANIEL\", \"VICTOR\", \"ALEX\", \"POL\", \"ALEJANDRO\", \"ALBERT\", \"PAU\", \"SERGI\", \"ORIOL\", \"JORDI\", \"GERARD\", \"JOAN\", \"ARNAU\", \"GUILLEM\", \"ADRIA\", \"ROGER\", \"OSCAR\", \"JAVIER\", \"XAVIER\", \"IVAN\", \"ERIC\", \"CARLOS\", \"ADRIAN\"], \"ids\": [\"MARC\", \"DAVID\", \"DANIEL\", \"VICTOR\", \"ALEX\", \"POL\", \"ALEJANDRO\", \"ALBERT\", \"PAU\", \"SERGI\", \"ORIOL\", \"JORDI\", \"GERARD\", \"JOAN\", \"ARNAU\", \"GUILLEM\", \"ADRIA\", \"ROGER\", \"OSCAR\", \"JAVIER\", \"XAVIER\", \"IVAN\", \"ERIC\", \"CARLOS\", \"ADRIAN\"], \"legendgroup\": \"Male\", \"marker\": {\"color\": \"#EF553B\", \"size\": [348, 183, 163, 150, 148, 143, 128, 126, 125, 120, 115, 112, 104, 103, 101, 100, 98, 98, 92, 85, 84, 81, 80, 76, 72], \"sizemode\": \"area\", \"sizeref\": 0.1392, \"symbol\": \"circle\"}, \"mode\": \"markers+text\", \"name\": \"Male\", \"orientation\": \"v\", \"showlegend\": true, \"text\": [\"MARC\", \"DAVID\", \"DANIEL\", \"VICTOR\", \"ALEX\", \"POL\", \"ALEJANDRO\", \"ALBERT\", \"PAU\", \"SERGI\", \"ORIOL\", \"JORDI\", \"GERARD\", \"JOAN\", \"ARNAU\", \"GUILLEM\", \"ADRIA\", \"ROGER\", \"OSCAR\", \"JAVIER\", \"XAVIER\", \"IVAN\", \"ERIC\", \"CARLOS\", \"ADRIAN\"], \"x\": [348, 183, 163, 150, 148, 143, 128, 126, 125, 120, 115, 112, 104, 103, 101, 100, 98, 98, 92, 85, 84, 81, 80, 76, 72], \"xaxis\": \"x\", \"y\": [4, 8, 12, 16, 20, 24, 28, 32, 36, 40, 44, 48, 52, 56, 60, 64, 68, 72, 76, 80, 84, 88, 92, 96, 100], \"yaxis\": \"y\", \"type\": \"scatter\"}], \"name\": \"1997\"}, {\"data\": [{\"hovertemplate\": \"<b>%{hovertext}</b><br><br>Gender=Female<br>Year=1998<br>Frequency=%{marker.size}<br>Order=%{y}<br>Name=%{text}<extra></extra>\", \"hovertext\": [\"MARIA\", \"LAURA\", \"PAULA\", \"MARTA\", \"ANDREA\", \"ANNA\", \"LAIA\", \"JULIA\", \"CARLA\", \"CLAUDIA\", \"MARINA\", \"SARA\", \"ALBA\", \"MIREIA\", \"CRISTINA\", \"CLARA\", \"IRENE\", \"NURIA\", \"ANA\", \"BERTA\", \"ARIADNA\", \"JUDIT\", \"SANDRA\", \"AINA\", \"MAR\"], \"ids\": [\"MARIA\", \"LAURA\", \"PAULA\", \"MARTA\", \"ANDREA\", \"ANNA\", \"LAIA\", \"JULIA\", \"CARLA\", \"CLAUDIA\", \"MARINA\", \"SARA\", \"ALBA\", \"MIREIA\", \"CRISTINA\", \"CLARA\", \"IRENE\", \"NURIA\", \"ANA\", \"BERTA\", \"ARIADNA\", \"JUDIT\", \"SANDRA\", \"AINA\", \"MAR\"], \"legendgroup\": \"Female\", \"marker\": {\"color\": \"#636efa\", \"size\": [265, 202, 175, 166, 161, 149, 148, 124, 119, 110, 107, 102, 101, 98, 96, 95, 82, 77, 71, 68, 63, 63, 57, 54, 50], \"sizemode\": \"area\", \"sizeref\": 0.1392, \"symbol\": \"circle\"}, \"mode\": \"markers+text\", \"name\": \"Female\", \"orientation\": \"v\", \"showlegend\": true, \"text\": [\"MARIA\", \"LAURA\", \"PAULA\", \"MARTA\", \"ANDREA\", \"ANNA\", \"LAIA\", \"JULIA\", \"CARLA\", \"CLAUDIA\", \"MARINA\", \"SARA\", \"ALBA\", \"MIREIA\", \"CRISTINA\", \"CLARA\", \"IRENE\", \"NURIA\", \"ANA\", \"BERTA\", \"ARIADNA\", \"JUDIT\", \"SANDRA\", \"AINA\", \"MAR\"], \"x\": [265, 202, 175, 166, 161, 149, 148, 124, 119, 110, 107, 102, 101, 98, 96, 95, 82, 77, 71, 68, 63, 63, 57, 54, 50], \"xaxis\": \"x\", \"y\": [4, 8, 12, 16, 20, 24, 28, 32, 36, 40, 44, 48, 52, 56, 60, 64, 68, 72, 76, 80, 84, 88, 92, 96, 100], \"yaxis\": \"y\", \"type\": \"scatter\"}, {\"hovertemplate\": \"<b>%{hovertext}</b><br><br>Gender=Male<br>Year=1998<br>Frequency=%{marker.size}<br>Order=%{y}<br>Name=%{text}<extra></extra>\", \"hovertext\": [\"MARC\", \"DAVID\", \"ALEX\", \"DANIEL\", \"POL\", \"VICTOR\", \"ALBERT\", \"SERGI\", \"PAU\", \"ALEJANDRO\", \"ARNAU\", \"GUILLEM\", \"JORDI\", \"ORIOL\", \"CARLOS\", \"JAVIER\", \"OSCAR\", \"JOAN\", \"ROGER\", \"ADRIA\", \"ERIC\", \"GERARD\", \"IVAN\", \"PABLO\", \"SERGIO\"], \"ids\": [\"MARC\", \"DAVID\", \"ALEX\", \"DANIEL\", \"POL\", \"VICTOR\", \"ALBERT\", \"SERGI\", \"PAU\", \"ALEJANDRO\", \"ARNAU\", \"GUILLEM\", \"JORDI\", \"ORIOL\", \"CARLOS\", \"JAVIER\", \"OSCAR\", \"JOAN\", \"ROGER\", \"ADRIA\", \"ERIC\", \"GERARD\", \"IVAN\", \"PABLO\", \"SERGIO\"], \"legendgroup\": \"Male\", \"marker\": {\"color\": \"#EF553B\", \"size\": [330, 184, 174, 159, 144, 139, 135, 130, 122, 117, 109, 104, 104, 100, 94, 92, 92, 91, 84, 81, 80, 80, 78, 64, 64], \"sizemode\": \"area\", \"sizeref\": 0.1392, \"symbol\": \"circle\"}, \"mode\": \"markers+text\", \"name\": \"Male\", \"orientation\": \"v\", \"showlegend\": true, \"text\": [\"MARC\", \"DAVID\", \"ALEX\", \"DANIEL\", \"POL\", \"VICTOR\", \"ALBERT\", \"SERGI\", \"PAU\", \"ALEJANDRO\", \"ARNAU\", \"GUILLEM\", \"JORDI\", \"ORIOL\", \"CARLOS\", \"JAVIER\", \"OSCAR\", \"JOAN\", \"ROGER\", \"ADRIA\", \"ERIC\", \"GERARD\", \"IVAN\", \"PABLO\", \"SERGIO\"], \"x\": [330, 184, 174, 159, 144, 139, 135, 130, 122, 117, 109, 104, 104, 100, 94, 92, 92, 91, 84, 81, 80, 80, 78, 64, 64], \"xaxis\": \"x\", \"y\": [4, 8, 12, 16, 20, 24, 28, 32, 36, 40, 44, 48, 52, 56, 60, 64, 68, 72, 76, 80, 84, 88, 92, 96, 100], \"yaxis\": \"y\", \"type\": \"scatter\"}], \"name\": \"1998\"}, {\"data\": [{\"hovertemplate\": \"<b>%{hovertext}</b><br><br>Gender=Female<br>Year=1999<br>Frequency=%{marker.size}<br>Order=%{y}<br>Name=%{text}<extra></extra>\", \"hovertext\": [\"MARIA\", \"LAURA\", \"PAULA\", \"ANDREA\", \"MARTA\", \"ANNA\", \"LAIA\", \"CARLA\", \"JULIA\", \"MARINA\", \"ALBA\", \"SARA\", \"CLAUDIA\", \"CRISTINA\", \"ARIADNA\", \"MIREIA\", \"NURIA\", \"BERTA\", \"ANA\", \"CLARA\", \"IRENE\", \"MAR\", \"AINA\", \"SANDRA\", \"HELENA\"], \"ids\": [\"MARIA\", \"LAURA\", \"PAULA\", \"ANDREA\", \"MARTA\", \"ANNA\", \"LAIA\", \"CARLA\", \"JULIA\", \"MARINA\", \"ALBA\", \"SARA\", \"CLAUDIA\", \"CRISTINA\", \"ARIADNA\", \"MIREIA\", \"NURIA\", \"BERTA\", \"ANA\", \"CLARA\", \"IRENE\", \"MAR\", \"AINA\", \"SANDRA\", \"HELENA\"], \"legendgroup\": \"Female\", \"marker\": {\"color\": \"#636efa\", \"size\": [299, 209, 207, 187, 182, 141, 132, 128, 120, 116, 113, 106, 97, 93, 92, 91, 84, 78, 69, 69, 68, 68, 65, 64, 62], \"sizemode\": \"area\", \"sizeref\": 0.1392, \"symbol\": \"circle\"}, \"mode\": \"markers+text\", \"name\": \"Female\", \"orientation\": \"v\", \"showlegend\": true, \"text\": [\"MARIA\", \"LAURA\", \"PAULA\", \"ANDREA\", \"MARTA\", \"ANNA\", \"LAIA\", \"CARLA\", \"JULIA\", \"MARINA\", \"ALBA\", \"SARA\", \"CLAUDIA\", \"CRISTINA\", \"ARIADNA\", \"MIREIA\", \"NURIA\", \"BERTA\", \"ANA\", \"CLARA\", \"IRENE\", \"MAR\", \"AINA\", \"SANDRA\", \"HELENA\"], \"x\": [299, 209, 207, 187, 182, 141, 132, 128, 120, 116, 113, 106, 97, 93, 92, 91, 84, 78, 69, 69, 68, 68, 65, 64, 62], \"xaxis\": \"x\", \"y\": [4, 8, 12, 16, 20, 24, 28, 32, 36, 40, 44, 48, 52, 56, 60, 64, 68, 72, 76, 80, 84, 88, 92, 96, 100], \"yaxis\": \"y\", \"type\": \"scatter\"}, {\"hovertemplate\": \"<b>%{hovertext}</b><br><br>Gender=Male<br>Year=1999<br>Frequency=%{marker.size}<br>Order=%{y}<br>Name=%{text}<extra></extra>\", \"hovertext\": [\"MARC\", \"ALEX\", \"DANIEL\", \"DAVID\", \"VICTOR\", \"POL\", \"PAU\", \"ALBERT\", \"ALEJANDRO\", \"JORDI\", \"ARNAU\", \"GUILLEM\", \"SERGI\", \"ORIOL\", \"JOAN\", \"GERARD\", \"OSCAR\", \"ROGER\", \"CARLOS\", \"ADRIA\", \"ERIC\", \"PABLO\", \"JOEL\", \"JAVIER\", \"XAVIER\"], \"ids\": [\"MARC\", \"ALEX\", \"DANIEL\", \"DAVID\", \"VICTOR\", \"POL\", \"PAU\", \"ALBERT\", \"ALEJANDRO\", \"JORDI\", \"ARNAU\", \"GUILLEM\", \"SERGI\", \"ORIOL\", \"JOAN\", \"GERARD\", \"OSCAR\", \"ROGER\", \"CARLOS\", \"ADRIA\", \"ERIC\", \"PABLO\", \"JOEL\", \"JAVIER\", \"XAVIER\"], \"legendgroup\": \"Male\", \"marker\": {\"color\": \"#EF553B\", \"size\": [291, 169, 166, 159, 157, 155, 133, 122, 118, 115, 112, 110, 107, 101, 97, 93, 91, 91, 88, 82, 80, 75, 70, 65, 65], \"sizemode\": \"area\", \"sizeref\": 0.1392, \"symbol\": \"circle\"}, \"mode\": \"markers+text\", \"name\": \"Male\", \"orientation\": \"v\", \"showlegend\": true, \"text\": [\"MARC\", \"ALEX\", \"DANIEL\", \"DAVID\", \"VICTOR\", \"POL\", \"PAU\", \"ALBERT\", \"ALEJANDRO\", \"JORDI\", \"ARNAU\", \"GUILLEM\", \"SERGI\", \"ORIOL\", \"JOAN\", \"GERARD\", \"OSCAR\", \"ROGER\", \"CARLOS\", \"ADRIA\", \"ERIC\", \"PABLO\", \"JOEL\", \"JAVIER\", \"XAVIER\"], \"x\": [291, 169, 166, 159, 157, 155, 133, 122, 118, 115, 112, 110, 107, 101, 97, 93, 91, 91, 88, 82, 80, 75, 70, 65, 65], \"xaxis\": \"x\", \"y\": [4, 8, 12, 16, 20, 24, 28, 32, 36, 40, 44, 48, 52, 56, 60, 64, 68, 72, 76, 80, 84, 88, 92, 96, 100], \"yaxis\": \"y\", \"type\": \"scatter\"}], \"name\": \"1999\"}, {\"data\": [{\"hovertemplate\": \"<b>%{hovertext}</b><br><br>Gender=Female<br>Year=2000<br>Frequency=%{marker.size}<br>Order=%{y}<br>Name=%{text}<extra></extra>\", \"hovertext\": [\"MARIA\", \"LAURA\", \"PAULA\", \"ANNA\", \"ANDREA\", \"MARTA\", \"JULIA\", \"ALBA\", \"CARLA\", \"LAIA\", \"SARA\", \"CLAUDIA\", \"MARINA\", \"MIREIA\", \"CRISTINA\", \"BERTA\", \"CLARA\", \"ARIADNA\", \"ANA\", \"NATALIA\", \"NURIA\", \"HELENA\", \"IRENE\", \"CARLOTA\", \"EMMA\"], \"ids\": [\"MARIA\", \"LAURA\", \"PAULA\", \"ANNA\", \"ANDREA\", \"MARTA\", \"JULIA\", \"ALBA\", \"CARLA\", \"LAIA\", \"SARA\", \"CLAUDIA\", \"MARINA\", \"MIREIA\", \"CRISTINA\", \"BERTA\", \"CLARA\", \"ARIADNA\", \"ANA\", \"NATALIA\", \"NURIA\", \"HELENA\", \"IRENE\", \"CARLOTA\", \"EMMA\"], \"legendgroup\": \"Female\", \"marker\": {\"color\": \"#636efa\", \"size\": [268, 222, 221, 180, 162, 157, 144, 137, 137, 132, 118, 117, 116, 111, 86, 84, 82, 78, 72, 63, 62, 61, 55, 54, 54], \"sizemode\": \"area\", \"sizeref\": 0.1392, \"symbol\": \"circle\"}, \"mode\": \"markers+text\", \"name\": \"Female\", \"orientation\": \"v\", \"showlegend\": true, \"text\": [\"MARIA\", \"LAURA\", \"PAULA\", \"ANNA\", \"ANDREA\", \"MARTA\", \"JULIA\", \"ALBA\", \"CARLA\", \"LAIA\", \"SARA\", \"CLAUDIA\", \"MARINA\", \"MIREIA\", \"CRISTINA\", \"BERTA\", \"CLARA\", \"ARIADNA\", \"ANA\", \"NATALIA\", \"NURIA\", \"HELENA\", \"IRENE\", \"CARLOTA\", \"EMMA\"], \"x\": [268, 222, 221, 180, 162, 157, 144, 137, 137, 132, 118, 117, 116, 111, 86, 84, 82, 78, 72, 63, 62, 61, 55, 54, 54], \"xaxis\": \"x\", \"y\": [4, 8, 12, 16, 20, 24, 28, 32, 36, 40, 44, 48, 52, 56, 60, 64, 68, 72, 76, 80, 84, 88, 92, 96, 100], \"yaxis\": \"y\", \"type\": \"scatter\"}, {\"hovertemplate\": \"<b>%{hovertext}</b><br><br>Gender=Male<br>Year=2000<br>Frequency=%{marker.size}<br>Order=%{y}<br>Name=%{text}<extra></extra>\", \"hovertext\": [\"MARC\", \"ALEX\", \"POL\", \"DAVID\", \"DANIEL\", \"VICTOR\", \"PAU\", \"ALBERT\", \"ARNAU\", \"ALEJANDRO\", \"SERGI\", \"JOAN\", \"JORDI\", \"CARLOS\", \"ORIOL\", \"GUILLEM\", \"GERARD\", \"ERIC\", \"XAVIER\", \"JAVIER\", \"JOEL\", \"ROGER\", \"ADRIA\", \"OSCAR\", \"PABLO\"], \"ids\": [\"MARC\", \"ALEX\", \"POL\", \"DAVID\", \"DANIEL\", \"VICTOR\", \"PAU\", \"ALBERT\", \"ARNAU\", \"ALEJANDRO\", \"SERGI\", \"JOAN\", \"JORDI\", \"CARLOS\", \"ORIOL\", \"GUILLEM\", \"GERARD\", \"ERIC\", \"XAVIER\", \"JAVIER\", \"JOEL\", \"ROGER\", \"ADRIA\", \"OSCAR\", \"PABLO\"], \"legendgroup\": \"Male\", \"marker\": {\"color\": \"#EF553B\", \"size\": [290, 201, 189, 187, 176, 150, 134, 125, 120, 117, 111, 107, 105, 102, 102, 91, 84, 83, 82, 80, 80, 80, 74, 74, 71], \"sizemode\": \"area\", \"sizeref\": 0.1392, \"symbol\": \"circle\"}, \"mode\": \"markers+text\", \"name\": \"Male\", \"orientation\": \"v\", \"showlegend\": true, \"text\": [\"MARC\", \"ALEX\", \"POL\", \"DAVID\", \"DANIEL\", \"VICTOR\", \"PAU\", \"ALBERT\", \"ARNAU\", \"ALEJANDRO\", \"SERGI\", \"JOAN\", \"JORDI\", \"CARLOS\", \"ORIOL\", \"GUILLEM\", \"GERARD\", \"ERIC\", \"XAVIER\", \"JAVIER\", \"JOEL\", \"ROGER\", \"ADRIA\", \"OSCAR\", \"PABLO\"], \"x\": [290, 201, 189, 187, 176, 150, 134, 125, 120, 117, 111, 107, 105, 102, 102, 91, 84, 83, 82, 80, 80, 80, 74, 74, 71], \"xaxis\": \"x\", \"y\": [4, 8, 12, 16, 20, 24, 28, 32, 36, 40, 44, 48, 52, 56, 60, 64, 68, 72, 76, 80, 84, 88, 92, 96, 100], \"yaxis\": \"y\", \"type\": \"scatter\"}], \"name\": \"2000\"}, {\"data\": [{\"hovertemplate\": \"<b>%{hovertext}</b><br><br>Gender=Female<br>Year=2001<br>Frequency=%{marker.size}<br>Order=%{y}<br>Name=%{text}<extra></extra>\", \"hovertext\": [\"MARIA\", \"PAULA\", \"LAURA\", \"MARTA\", \"CARLA\", \"ANNA\", \"LAIA\", \"JULIA\", \"ALBA\", \"ANDREA\", \"CLAUDIA\", \"SARA\", \"MIREIA\", \"MARINA\", \"ANA\", \"CRISTINA\", \"BERTA\", \"CLARA\", \"NURIA\", \"ARIADNA\", \"AINA\", \"JUDITH\", \"IRENE\", \"CARLOTA\", \"NEREA\"], \"ids\": [\"MARIA\", \"PAULA\", \"LAURA\", \"MARTA\", \"CARLA\", \"ANNA\", \"LAIA\", \"JULIA\", \"ALBA\", \"ANDREA\", \"CLAUDIA\", \"SARA\", \"MIREIA\", \"MARINA\", \"ANA\", \"CRISTINA\", \"BERTA\", \"CLARA\", \"NURIA\", \"ARIADNA\", \"AINA\", \"JUDITH\", \"IRENE\", \"CARLOTA\", \"NEREA\"], \"legendgroup\": \"Female\", \"marker\": {\"color\": \"#636efa\", \"size\": [243, 187, 175, 157, 153, 152, 143, 138, 131, 129, 120, 114, 104, 98, 83, 78, 76, 72, 71, 67, 65, 61, 57, 54, 53], \"sizemode\": \"area\", \"sizeref\": 0.1392, \"symbol\": \"circle\"}, \"mode\": \"markers+text\", \"name\": \"Female\", \"orientation\": \"v\", \"showlegend\": true, \"text\": [\"MARIA\", \"PAULA\", \"LAURA\", \"MARTA\", \"CARLA\", \"ANNA\", \"LAIA\", \"JULIA\", \"ALBA\", \"ANDREA\", \"CLAUDIA\", \"SARA\", \"MIREIA\", \"MARINA\", \"ANA\", \"CRISTINA\", \"BERTA\", \"CLARA\", \"NURIA\", \"ARIADNA\", \"AINA\", \"JUDITH\", \"IRENE\", \"CARLOTA\", \"NEREA\"], \"x\": [243, 187, 175, 157, 153, 152, 143, 138, 131, 129, 120, 114, 104, 98, 83, 78, 76, 72, 71, 67, 65, 61, 57, 54, 53], \"xaxis\": \"x\", \"y\": [4, 8, 12, 16, 20, 24, 28, 32, 36, 40, 44, 48, 52, 56, 60, 64, 68, 72, 76, 80, 84, 88, 92, 96, 100], \"yaxis\": \"y\", \"type\": \"scatter\"}, {\"hovertemplate\": \"<b>%{hovertext}</b><br><br>Gender=Male<br>Year=2001<br>Frequency=%{marker.size}<br>Order=%{y}<br>Name=%{text}<extra></extra>\", \"hovertext\": [\"MARC\", \"ALEX\", \"POL\", \"DAVID\", \"PAU\", \"DANIEL\", \"ALEJANDRO\", \"VICTOR\", \"GERARD\", \"ARNAU\", \"JOAN\", \"ALBERT\", \"JORDI\", \"SERGI\", \"IVAN\", \"ADRIA\", \"PABLO\", \"GUILLEM\", \"CARLOS\", \"ORIOL\", \"ERIC\", \"JOEL\", \"XAVIER\", \"JAVIER\", \"MARTI\"], \"ids\": [\"MARC\", \"ALEX\", \"POL\", \"DAVID\", \"PAU\", \"DANIEL\", \"ALEJANDRO\", \"VICTOR\", \"GERARD\", \"ARNAU\", \"JOAN\", \"ALBERT\", \"JORDI\", \"SERGI\", \"IVAN\", \"ADRIA\", \"PABLO\", \"GUILLEM\", \"CARLOS\", \"ORIOL\", \"ERIC\", \"JOEL\", \"XAVIER\", \"JAVIER\", \"MARTI\"], \"legendgroup\": \"Male\", \"marker\": {\"color\": \"#EF553B\", \"size\": [234, 164, 159, 154, 151, 143, 132, 126, 125, 108, 108, 105, 99, 96, 91, 85, 85, 83, 80, 80, 71, 70, 70, 67, 64], \"sizemode\": \"area\", \"sizeref\": 0.1392, \"symbol\": \"circle\"}, \"mode\": \"markers+text\", \"name\": \"Male\", \"orientation\": \"v\", \"showlegend\": true, \"text\": [\"MARC\", \"ALEX\", \"POL\", \"DAVID\", \"PAU\", \"DANIEL\", \"ALEJANDRO\", \"VICTOR\", \"GERARD\", \"ARNAU\", \"JOAN\", \"ALBERT\", \"JORDI\", \"SERGI\", \"IVAN\", \"ADRIA\", \"PABLO\", \"GUILLEM\", \"CARLOS\", \"ORIOL\", \"ERIC\", \"JOEL\", \"XAVIER\", \"JAVIER\", \"MARTI\"], \"x\": [234, 164, 159, 154, 151, 143, 132, 126, 125, 108, 108, 105, 99, 96, 91, 85, 85, 83, 80, 80, 71, 70, 70, 67, 64], \"xaxis\": \"x\", \"y\": [4, 8, 12, 16, 20, 24, 28, 32, 36, 40, 44, 48, 52, 56, 60, 64, 68, 72, 76, 80, 84, 88, 92, 96, 100], \"yaxis\": \"y\", \"type\": \"scatter\"}], \"name\": \"2001\"}, {\"data\": [{\"hovertemplate\": \"<b>%{hovertext}</b><br><br>Gender=Female<br>Year=2002<br>Frequency=%{marker.size}<br>Order=%{y}<br>Name=%{text}<extra></extra>\", \"hovertext\": [\"MARIA\", \"PAULA\", \"MARTA\", \"LAURA\", \"ALBA\", \"CARLA\", \"LAIA\", \"JULIA\", \"ANNA\", \"CLAUDIA\", \"ANDREA\", \"SARA\", \"LUCIA\", \"MARINA\", \"MIREIA\", \"ARIADNA\", \"CLARA\", \"AINA\", \"NURIA\", \"CARLOTA\", \"MARTINA\", \"BERTA\", \"MAR\", \"CRISTINA\", \"NEREA\"], \"ids\": [\"MARIA\", \"PAULA\", \"MARTA\", \"LAURA\", \"ALBA\", \"CARLA\", \"LAIA\", \"JULIA\", \"ANNA\", \"CLAUDIA\", \"ANDREA\", \"SARA\", \"LUCIA\", \"MARINA\", \"MIREIA\", \"ARIADNA\", \"CLARA\", \"AINA\", \"NURIA\", \"CARLOTA\", \"MARTINA\", \"BERTA\", \"MAR\", \"CRISTINA\", \"NEREA\"], \"legendgroup\": \"Female\", \"marker\": {\"color\": \"#636efa\", \"size\": [243, 197, 162, 161, 147, 142, 137, 134, 132, 124, 117, 105, 100, 98, 96, 92, 81, 80, 71, 70, 65, 63, 63, 62, 62], \"sizemode\": \"area\", \"sizeref\": 0.1392, \"symbol\": \"circle\"}, \"mode\": \"markers+text\", \"name\": \"Female\", \"orientation\": \"v\", \"showlegend\": true, \"text\": [\"MARIA\", \"PAULA\", \"MARTA\", \"LAURA\", \"ALBA\", \"CARLA\", \"LAIA\", \"JULIA\", \"ANNA\", \"CLAUDIA\", \"ANDREA\", \"SARA\", \"LUCIA\", \"MARINA\", \"MIREIA\", \"ARIADNA\", \"CLARA\", \"AINA\", \"NURIA\", \"CARLOTA\", \"MARTINA\", \"BERTA\", \"MAR\", \"CRISTINA\", \"NEREA\"], \"x\": [243, 197, 162, 161, 147, 142, 137, 134, 132, 124, 117, 105, 100, 98, 96, 92, 81, 80, 71, 70, 65, 63, 63, 62, 62], \"xaxis\": \"x\", \"y\": [4, 8, 12, 16, 20, 24, 28, 32, 36, 40, 44, 48, 52, 56, 60, 64, 68, 72, 76, 80, 84, 88, 92, 96, 100], \"yaxis\": \"y\", \"type\": \"scatter\"}, {\"hovertemplate\": \"<b>%{hovertext}</b><br><br>Gender=Male<br>Year=2002<br>Frequency=%{marker.size}<br>Order=%{y}<br>Name=%{text}<extra></extra>\", \"hovertext\": [\"MARC\", \"POL\", \"DAVID\", \"PAU\", \"ALEX\", \"DANIEL\", \"ALEJANDRO\", \"VICTOR\", \"ARNAU\", \"GERARD\", \"PABLO\", \"JOAN\", \"ALBERT\", \"JOEL\", \"ERIC\", \"JORDI\", \"ORIOL\", \"GUILLEM\", \"ADRIA\", \"SERGI\", \"CARLOS\", \"OSCAR\", \"RAUL\", \"IVAN\", \"XAVIER\"], \"ids\": [\"MARC\", \"POL\", \"DAVID\", \"PAU\", \"ALEX\", \"DANIEL\", \"ALEJANDRO\", \"VICTOR\", \"ARNAU\", \"GERARD\", \"PABLO\", \"JOAN\", \"ALBERT\", \"JOEL\", \"ERIC\", \"JORDI\", \"ORIOL\", \"GUILLEM\", \"ADRIA\", \"SERGI\", \"CARLOS\", \"OSCAR\", \"RAUL\", \"IVAN\", \"XAVIER\"], \"legendgroup\": \"Male\", \"marker\": {\"color\": \"#EF553B\", \"size\": [267, 175, 150, 149, 148, 128, 124, 120, 115, 106, 103, 97, 88, 86, 84, 78, 77, 74, 73, 72, 65, 65, 65, 62, 61], \"sizemode\": \"area\", \"sizeref\": 0.1392, \"symbol\": \"circle\"}, \"mode\": \"markers+text\", \"name\": \"Male\", \"orientation\": \"v\", \"showlegend\": true, \"text\": [\"MARC\", \"POL\", \"DAVID\", \"PAU\", \"ALEX\", \"DANIEL\", \"ALEJANDRO\", \"VICTOR\", \"ARNAU\", \"GERARD\", \"PABLO\", \"JOAN\", \"ALBERT\", \"JOEL\", \"ERIC\", \"JORDI\", \"ORIOL\", \"GUILLEM\", \"ADRIA\", \"SERGI\", \"CARLOS\", \"OSCAR\", \"RAUL\", \"IVAN\", \"XAVIER\"], \"x\": [267, 175, 150, 149, 148, 128, 124, 120, 115, 106, 103, 97, 88, 86, 84, 78, 77, 74, 73, 72, 65, 65, 65, 62, 61], \"xaxis\": \"x\", \"y\": [4, 8, 12, 16, 20, 24, 28, 32, 36, 40, 44, 48, 52, 56, 60, 64, 68, 72, 76, 80, 84, 88, 92, 96, 100], \"yaxis\": \"y\", \"type\": \"scatter\"}], \"name\": \"2002\"}, {\"data\": [{\"hovertemplate\": \"<b>%{hovertext}</b><br><br>Gender=Female<br>Year=2003<br>Frequency=%{marker.size}<br>Order=%{y}<br>Name=%{text}<extra></extra>\", \"hovertext\": [\"MARIA\", \"PAULA\", \"CARLA\", \"LAIA\", \"LAURA\", \"ALBA\", \"ANNA\", \"MARTA\", \"JULIA\", \"ANDREA\", \"CLAUDIA\", \"LUCIA\", \"SARA\", \"ARIADNA\", \"MARINA\", \"CRISTINA\", \"BERTA\", \"CLARA\", \"MIREIA\", \"MARTINA\", \"NURIA\", \"MAR\", \"AINHOA\", \"NEREA\", \"ANA\"], \"ids\": [\"MARIA\", \"PAULA\", \"CARLA\", \"LAIA\", \"LAURA\", \"ALBA\", \"ANNA\", \"MARTA\", \"JULIA\", \"ANDREA\", \"CLAUDIA\", \"LUCIA\", \"SARA\", \"ARIADNA\", \"MARINA\", \"CRISTINA\", \"BERTA\", \"CLARA\", \"MIREIA\", \"MARTINA\", \"NURIA\", \"MAR\", \"AINHOA\", \"NEREA\", \"ANA\"], \"legendgroup\": \"Female\", \"marker\": {\"color\": \"#636efa\", \"size\": [196, 192, 165, 158, 148, 135, 135, 131, 128, 126, 121, 119, 107, 96, 84, 75, 72, 71, 71, 67, 66, 65, 64, 60, 59], \"sizemode\": \"area\", \"sizeref\": 0.1392, \"symbol\": \"circle\"}, \"mode\": \"markers+text\", \"name\": \"Female\", \"orientation\": \"v\", \"showlegend\": true, \"text\": [\"MARIA\", \"PAULA\", \"CARLA\", \"LAIA\", \"LAURA\", \"ALBA\", \"ANNA\", \"MARTA\", \"JULIA\", \"ANDREA\", \"CLAUDIA\", \"LUCIA\", \"SARA\", \"ARIADNA\", \"MARINA\", \"CRISTINA\", \"BERTA\", \"CLARA\", \"MIREIA\", \"MARTINA\", \"NURIA\", \"MAR\", \"AINHOA\", \"NEREA\", \"ANA\"], \"x\": [196, 192, 165, 158, 148, 135, 135, 131, 128, 126, 121, 119, 107, 96, 84, 75, 72, 71, 71, 67, 66, 65, 64, 60, 59], \"xaxis\": \"x\", \"y\": [4, 8, 12, 16, 20, 24, 28, 32, 36, 40, 44, 48, 52, 56, 60, 64, 68, 72, 76, 80, 84, 88, 92, 96, 100], \"yaxis\": \"y\", \"type\": \"scatter\"}, {\"hovertemplate\": \"<b>%{hovertext}</b><br><br>Gender=Male<br>Year=2003<br>Frequency=%{marker.size}<br>Order=%{y}<br>Name=%{text}<extra></extra>\", \"hovertext\": [\"MARC\", \"ALEX\", \"PAU\", \"POL\", \"DAVID\", \"DANIEL\", \"JOAN\", \"ARNAU\", \"VICTOR\", \"ALEJANDRO\", \"PABLO\", \"GERARD\", \"JORDI\", \"ORIOL\", \"ERIC\", \"JAN\", \"SERGI\", \"ADRIA\", \"ALBERT\", \"MARTI\", \"GUILLEM\", \"JOEL\", \"ADRIAN\", \"ALVARO\", \"CARLOS\"], \"ids\": [\"MARC\", \"ALEX\", \"PAU\", \"POL\", \"DAVID\", \"DANIEL\", \"JOAN\", \"ARNAU\", \"VICTOR\", \"ALEJANDRO\", \"PABLO\", \"GERARD\", \"JORDI\", \"ORIOL\", \"ERIC\", \"JAN\", \"SERGI\", \"ADRIA\", \"ALBERT\", \"MARTI\", \"GUILLEM\", \"JOEL\", \"ADRIAN\", \"ALVARO\", \"CARLOS\"], \"legendgroup\": \"Male\", \"marker\": {\"color\": \"#EF553B\", \"size\": [287, 205, 202, 184, 173, 156, 119, 109, 107, 105, 104, 94, 93, 90, 89, 87, 82, 79, 79, 79, 72, 72, 68, 68, 63], \"sizemode\": \"area\", \"sizeref\": 0.1392, \"symbol\": \"circle\"}, \"mode\": \"markers+text\", \"name\": \"Male\", \"orientation\": \"v\", \"showlegend\": true, \"text\": [\"MARC\", \"ALEX\", \"PAU\", \"POL\", \"DAVID\", \"DANIEL\", \"JOAN\", \"ARNAU\", \"VICTOR\", \"ALEJANDRO\", \"PABLO\", \"GERARD\", \"JORDI\", \"ORIOL\", \"ERIC\", \"JAN\", \"SERGI\", \"ADRIA\", \"ALBERT\", \"MARTI\", \"GUILLEM\", \"JOEL\", \"ADRIAN\", \"ALVARO\", \"CARLOS\"], \"x\": [287, 205, 202, 184, 173, 156, 119, 109, 107, 105, 104, 94, 93, 90, 89, 87, 82, 79, 79, 79, 72, 72, 68, 68, 63], \"xaxis\": \"x\", \"y\": [4, 8, 12, 16, 20, 24, 28, 32, 36, 40, 44, 48, 52, 56, 60, 64, 68, 72, 76, 80, 84, 88, 92, 96, 100], \"yaxis\": \"y\", \"type\": \"scatter\"}], \"name\": \"2003\"}, {\"data\": [{\"hovertemplate\": \"<b>%{hovertext}</b><br><br>Gender=Female<br>Year=2004<br>Frequency=%{marker.size}<br>Order=%{y}<br>Name=%{text}<extra></extra>\", \"hovertext\": [\"MARIA\", \"PAULA\", \"LAIA\", \"JULIA\", \"LUCIA\", \"CARLA\", \"LAURA\", \"CLAUDIA\", \"ALBA\", \"ANNA\", \"MARTA\", \"ANDREA\", \"MARTINA\", \"SARA\", \"MARINA\", \"ARIADNA\", \"BERTA\", \"AINA\", \"MIREIA\", \"NEREA\", \"CLARA\", \"CRISTINA\", \"NURIA\", \"JUDITH\", \"MAR\"], \"ids\": [\"MARIA\", \"PAULA\", \"LAIA\", \"JULIA\", \"LUCIA\", \"CARLA\", \"LAURA\", \"CLAUDIA\", \"ALBA\", \"ANNA\", \"MARTA\", \"ANDREA\", \"MARTINA\", \"SARA\", \"MARINA\", \"ARIADNA\", \"BERTA\", \"AINA\", \"MIREIA\", \"NEREA\", \"CLARA\", \"CRISTINA\", \"NURIA\", \"JUDITH\", \"MAR\"], \"legendgroup\": \"Female\", \"marker\": {\"color\": \"#636efa\", \"size\": [200, 190, 184, 171, 171, 164, 146, 127, 122, 111, 110, 106, 105, 84, 81, 77, 76, 73, 68, 62, 61, 58, 56, 55, 55], \"sizemode\": \"area\", \"sizeref\": 0.1392, \"symbol\": \"circle\"}, \"mode\": \"markers+text\", \"name\": \"Female\", \"orientation\": \"v\", \"showlegend\": true, \"text\": [\"MARIA\", \"PAULA\", \"LAIA\", \"JULIA\", \"LUCIA\", \"CARLA\", \"LAURA\", \"CLAUDIA\", \"ALBA\", \"ANNA\", \"MARTA\", \"ANDREA\", \"MARTINA\", \"SARA\", \"MARINA\", \"ARIADNA\", \"BERTA\", \"AINA\", \"MIREIA\", \"NEREA\", \"CLARA\", \"CRISTINA\", \"NURIA\", \"JUDITH\", \"MAR\"], \"x\": [200, 190, 184, 171, 171, 164, 146, 127, 122, 111, 110, 106, 105, 84, 81, 77, 76, 73, 68, 62, 61, 58, 56, 55, 55], \"xaxis\": \"x\", \"y\": [4, 8, 12, 16, 20, 24, 28, 32, 36, 40, 44, 48, 52, 56, 60, 64, 68, 72, 76, 80, 84, 88, 92, 96, 100], \"yaxis\": \"y\", \"type\": \"scatter\"}, {\"hovertemplate\": \"<b>%{hovertext}</b><br><br>Gender=Male<br>Year=2004<br>Frequency=%{marker.size}<br>Order=%{y}<br>Name=%{text}<extra></extra>\", \"hovertext\": [\"MARC\", \"ALEX\", \"POL\", \"PAU\", \"DAVID\", \"DANIEL\", \"ARNAU\", \"VICTOR\", \"ALEJANDRO\", \"PABLO\", \"JOAN\", \"ADRIA\", \"JOEL\", \"GERARD\", \"ERIC\", \"JAN\", \"MARTI\", \"GUILLEM\", \"ORIOL\", \"JORDI\", \"SERGI\", \"IVAN\", \"ALBERT\", \"OSCAR\", \"XAVIER\"], \"ids\": [\"MARC\", \"ALEX\", \"POL\", \"PAU\", \"DAVID\", \"DANIEL\", \"ARNAU\", \"VICTOR\", \"ALEJANDRO\", \"PABLO\", \"JOAN\", \"ADRIA\", \"JOEL\", \"GERARD\", \"ERIC\", \"JAN\", \"MARTI\", \"GUILLEM\", \"ORIOL\", \"JORDI\", \"SERGI\", \"IVAN\", \"ALBERT\", \"OSCAR\", \"XAVIER\"], \"legendgroup\": \"Male\", \"marker\": {\"color\": \"#EF553B\", \"size\": [259, 185, 181, 173, 129, 128, 125, 116, 107, 107, 98, 93, 93, 90, 88, 88, 88, 82, 81, 80, 79, 75, 73, 61, 61], \"sizemode\": \"area\", \"sizeref\": 0.1392, \"symbol\": \"circle\"}, \"mode\": \"markers+text\", \"name\": \"Male\", \"orientation\": \"v\", \"showlegend\": true, \"text\": [\"MARC\", \"ALEX\", \"POL\", \"PAU\", \"DAVID\", \"DANIEL\", \"ARNAU\", \"VICTOR\", \"ALEJANDRO\", \"PABLO\", \"JOAN\", \"ADRIA\", \"JOEL\", \"GERARD\", \"ERIC\", \"JAN\", \"MARTI\", \"GUILLEM\", \"ORIOL\", \"JORDI\", \"SERGI\", \"IVAN\", \"ALBERT\", \"OSCAR\", \"XAVIER\"], \"x\": [259, 185, 181, 173, 129, 128, 125, 116, 107, 107, 98, 93, 93, 90, 88, 88, 88, 82, 81, 80, 79, 75, 73, 61, 61], \"xaxis\": \"x\", \"y\": [4, 8, 12, 16, 20, 24, 28, 32, 36, 40, 44, 48, 52, 56, 60, 64, 68, 72, 76, 80, 84, 88, 92, 96, 100], \"yaxis\": \"y\", \"type\": \"scatter\"}], \"name\": \"2004\"}, {\"data\": [{\"hovertemplate\": \"<b>%{hovertext}</b><br><br>Gender=Female<br>Year=2005<br>Frequency=%{marker.size}<br>Order=%{y}<br>Name=%{text}<extra></extra>\", \"hovertext\": [\"LAIA\", \"MARIA\", \"JULIA\", \"CARLA\", \"LUCIA\", \"PAULA\", \"MARTINA\", \"LAURA\", \"MARTA\", \"ALBA\", \"CLAUDIA\", \"ARIADNA\", \"SOFIA\", \"ANNA\", \"BERTA\", \"SARA\", \"MARINA\", \"AINA\", \"CLARA\", \"ANDREA\", \"NOA\", \"MIREIA\", \"MAR\", \"NATALIA\", \"EMMA\"], \"ids\": [\"LAIA\", \"MARIA\", \"JULIA\", \"CARLA\", \"LUCIA\", \"PAULA\", \"MARTINA\", \"LAURA\", \"MARTA\", \"ALBA\", \"CLAUDIA\", \"ARIADNA\", \"SOFIA\", \"ANNA\", \"BERTA\", \"SARA\", \"MARINA\", \"AINA\", \"CLARA\", \"ANDREA\", \"NOA\", \"MIREIA\", \"MAR\", \"NATALIA\", \"EMMA\"], \"legendgroup\": \"Female\", \"marker\": {\"color\": \"#636efa\", \"size\": [200, 183, 182, 171, 165, 157, 144, 124, 122, 117, 112, 99, 90, 87, 77, 77, 76, 73, 69, 68, 66, 60, 59, 59, 57], \"sizemode\": \"area\", \"sizeref\": 0.1392, \"symbol\": \"circle\"}, \"mode\": \"markers+text\", \"name\": \"Female\", \"orientation\": \"v\", \"showlegend\": true, \"text\": [\"LAIA\", \"MARIA\", \"JULIA\", \"CARLA\", \"LUCIA\", \"PAULA\", \"MARTINA\", \"LAURA\", \"MARTA\", \"ALBA\", \"CLAUDIA\", \"ARIADNA\", \"SOFIA\", \"ANNA\", \"BERTA\", \"SARA\", \"MARINA\", \"AINA\", \"CLARA\", \"ANDREA\", \"NOA\", \"MIREIA\", \"MAR\", \"NATALIA\", \"EMMA\"], \"x\": [200, 183, 182, 171, 165, 157, 144, 124, 122, 117, 112, 99, 90, 87, 77, 77, 76, 73, 69, 68, 66, 60, 59, 59, 57], \"xaxis\": \"x\", \"y\": [4, 8, 12, 16, 20, 24, 28, 32, 36, 40, 44, 48, 52, 56, 60, 64, 68, 72, 76, 80, 84, 88, 92, 96, 100], \"yaxis\": \"y\", \"type\": \"scatter\"}, {\"hovertemplate\": \"<b>%{hovertext}</b><br><br>Gender=Male<br>Year=2005<br>Frequency=%{marker.size}<br>Order=%{y}<br>Name=%{text}<extra></extra>\", \"hovertext\": [\"MARC\", \"PAU\", \"POL\", \"ALEX\", \"DAVID\", \"DANIEL\", \"JAN\", \"ARNAU\", \"MARTI\", \"PABLO\", \"VICTOR\", \"ALEJANDRO\", \"ADRIA\", \"ERIC\", \"ORIOL\", \"GERARD\", \"JOAN\", \"JORDI\", \"GUILLEM\", \"IVAN\", \"SERGI\", \"ALBERT\", \"JOEL\", \"XAVIER\", \"ROGER\"], \"ids\": [\"MARC\", \"PAU\", \"POL\", \"ALEX\", \"DAVID\", \"DANIEL\", \"JAN\", \"ARNAU\", \"MARTI\", \"PABLO\", \"VICTOR\", \"ALEJANDRO\", \"ADRIA\", \"ERIC\", \"ORIOL\", \"GERARD\", \"JOAN\", \"JORDI\", \"GUILLEM\", \"IVAN\", \"SERGI\", \"ALBERT\", \"JOEL\", \"XAVIER\", \"ROGER\"], \"legendgroup\": \"Male\", \"marker\": {\"color\": \"#EF553B\", \"size\": [277, 187, 176, 167, 157, 151, 122, 115, 111, 106, 103, 102, 100, 90, 89, 87, 82, 78, 77, 68, 67, 66, 66, 63, 62], \"sizemode\": \"area\", \"sizeref\": 0.1392, \"symbol\": \"circle\"}, \"mode\": \"markers+text\", \"name\": \"Male\", \"orientation\": \"v\", \"showlegend\": true, \"text\": [\"MARC\", \"PAU\", \"POL\", \"ALEX\", \"DAVID\", \"DANIEL\", \"JAN\", \"ARNAU\", \"MARTI\", \"PABLO\", \"VICTOR\", \"ALEJANDRO\", \"ADRIA\", \"ERIC\", \"ORIOL\", \"GERARD\", \"JOAN\", \"JORDI\", \"GUILLEM\", \"IVAN\", \"SERGI\", \"ALBERT\", \"JOEL\", \"XAVIER\", \"ROGER\"], \"x\": [277, 187, 176, 167, 157, 151, 122, 115, 111, 106, 103, 102, 100, 90, 89, 87, 82, 78, 77, 68, 67, 66, 66, 63, 62], \"xaxis\": \"x\", \"y\": [4, 8, 12, 16, 20, 24, 28, 32, 36, 40, 44, 48, 52, 56, 60, 64, 68, 72, 76, 80, 84, 88, 92, 96, 100], \"yaxis\": \"y\", \"type\": \"scatter\"}], \"name\": \"2005\"}, {\"data\": [{\"hovertemplate\": \"<b>%{hovertext}</b><br><br>Gender=Female<br>Year=2006<br>Frequency=%{marker.size}<br>Order=%{y}<br>Name=%{text}<extra></extra>\", \"hovertext\": [\"MARIA\", \"LAIA\", \"LUCIA\", \"JULIA\", \"CARLA\", \"MARTINA\", \"CLAUDIA\", \"PAULA\", \"LAURA\", \"ALBA\", \"SARA\", \"MARTA\", \"ANNA\", \"AINA\", \"ARIADNA\", \"BERTA\", \"ANDREA\", \"CLARA\", \"IRENE\", \"MARINA\", \"EMMA\", \"SOFIA\", \"JANA\", \"MIREIA\", \"CARLOTA\"], \"ids\": [\"MARIA\", \"LAIA\", \"LUCIA\", \"JULIA\", \"CARLA\", \"MARTINA\", \"CLAUDIA\", \"PAULA\", \"LAURA\", \"ALBA\", \"SARA\", \"MARTA\", \"ANNA\", \"AINA\", \"ARIADNA\", \"BERTA\", \"ANDREA\", \"CLARA\", \"IRENE\", \"MARINA\", \"EMMA\", \"SOFIA\", \"JANA\", \"MIREIA\", \"CARLOTA\"], \"legendgroup\": \"Female\", \"marker\": {\"color\": \"#636efa\", \"size\": [196, 180, 170, 160, 145, 129, 126, 122, 111, 101, 97, 89, 86, 82, 76, 68, 66, 66, 65, 61, 58, 58, 56, 56, 55], \"sizemode\": \"area\", \"sizeref\": 0.1392, \"symbol\": \"circle\"}, \"mode\": \"markers+text\", \"name\": \"Female\", \"orientation\": \"v\", \"showlegend\": true, \"text\": [\"MARIA\", \"LAIA\", \"LUCIA\", \"JULIA\", \"CARLA\", \"MARTINA\", \"CLAUDIA\", \"PAULA\", \"LAURA\", \"ALBA\", \"SARA\", \"MARTA\", \"ANNA\", \"AINA\", \"ARIADNA\", \"BERTA\", \"ANDREA\", \"CLARA\", \"IRENE\", \"MARINA\", \"EMMA\", \"SOFIA\", \"JANA\", \"MIREIA\", \"CARLOTA\"], \"x\": [196, 180, 170, 160, 145, 129, 126, 122, 111, 101, 97, 89, 86, 82, 76, 68, 66, 66, 65, 61, 58, 58, 56, 56, 55], \"xaxis\": \"x\", \"y\": [4, 8, 12, 16, 20, 24, 28, 32, 36, 40, 44, 48, 52, 56, 60, 64, 68, 72, 76, 80, 84, 88, 92, 96, 100], \"yaxis\": \"y\", \"type\": \"scatter\"}, {\"hovertemplate\": \"<b>%{hovertext}</b><br><br>Gender=Male<br>Year=2006<br>Frequency=%{marker.size}<br>Order=%{y}<br>Name=%{text}<extra></extra>\", \"hovertext\": [\"MARC\", \"POL\", \"ALEX\", \"PAU\", \"DANIEL\", \"ARNAU\", \"DAVID\", \"VICTOR\", \"MARTI\", \"ALEJANDRO\", \"ADRIA\", \"JOAN\", \"ERIC\", \"ORIOL\", \"JAN\", \"JOEL\", \"GUILLEM\", \"PABLO\", \"GERARD\", \"ROGER\", \"HUGO\", \"IKER\", \"ALBERT\", \"BIEL\", \"ALVARO\"], \"ids\": [\"MARC\", \"POL\", \"ALEX\", \"PAU\", \"DANIEL\", \"ARNAU\", \"DAVID\", \"VICTOR\", \"MARTI\", \"ALEJANDRO\", \"ADRIA\", \"JOAN\", \"ERIC\", \"ORIOL\", \"JAN\", \"JOEL\", \"GUILLEM\", \"PABLO\", \"GERARD\", \"ROGER\", \"HUGO\", \"IKER\", \"ALBERT\", \"BIEL\", \"ALVARO\"], \"legendgroup\": \"Male\", \"marker\": {\"color\": \"#EF553B\", \"size\": [229, 173, 168, 163, 141, 117, 116, 111, 98, 95, 92, 91, 88, 88, 84, 83, 79, 76, 72, 71, 70, 63, 61, 59, 58], \"sizemode\": \"area\", \"sizeref\": 0.1392, \"symbol\": \"circle\"}, \"mode\": \"markers+text\", \"name\": \"Male\", \"orientation\": \"v\", \"showlegend\": true, \"text\": [\"MARC\", \"POL\", \"ALEX\", \"PAU\", \"DANIEL\", \"ARNAU\", \"DAVID\", \"VICTOR\", \"MARTI\", \"ALEJANDRO\", \"ADRIA\", \"JOAN\", \"ERIC\", \"ORIOL\", \"JAN\", \"JOEL\", \"GUILLEM\", \"PABLO\", \"GERARD\", \"ROGER\", \"HUGO\", \"IKER\", \"ALBERT\", \"BIEL\", \"ALVARO\"], \"x\": [229, 173, 168, 163, 141, 117, 116, 111, 98, 95, 92, 91, 88, 88, 84, 83, 79, 76, 72, 71, 70, 63, 61, 59, 58], \"xaxis\": \"x\", \"y\": [4, 8, 12, 16, 20, 24, 28, 32, 36, 40, 44, 48, 52, 56, 60, 64, 68, 72, 76, 80, 84, 88, 92, 96, 100], \"yaxis\": \"y\", \"type\": \"scatter\"}], \"name\": \"2006\"}, {\"data\": [{\"hovertemplate\": \"<b>%{hovertext}</b><br><br>Gender=Female<br>Year=2007<br>Frequency=%{marker.size}<br>Order=%{y}<br>Name=%{text}<extra></extra>\", \"hovertext\": [\"LUCIA\", \"MARIA\", \"MARTINA\", \"LAIA\", \"JULIA\", \"CARLA\", \"PAULA\", \"CLAUDIA\", \"SARA\", \"JANA\", \"AINA\", \"ARIADNA\", \"ALBA\", \"SOFIA\", \"LAURA\", \"BERTA\", \"MAR\", \"IRENE\", \"NOA\", \"MARTA\", \"ANNA\", \"ANDREA\", \"EMMA\", \"MARINA\", \"CARLOTA\"], \"ids\": [\"LUCIA\", \"MARIA\", \"MARTINA\", \"LAIA\", \"JULIA\", \"CARLA\", \"PAULA\", \"CLAUDIA\", \"SARA\", \"JANA\", \"AINA\", \"ARIADNA\", \"ALBA\", \"SOFIA\", \"LAURA\", \"BERTA\", \"MAR\", \"IRENE\", \"NOA\", \"MARTA\", \"ANNA\", \"ANDREA\", \"EMMA\", \"MARINA\", \"CARLOTA\"], \"legendgroup\": \"Female\", \"marker\": {\"color\": \"#636efa\", \"size\": [159, 155, 152, 138, 130, 125, 124, 114, 100, 93, 90, 88, 87, 87, 84, 80, 76, 75, 73, 72, 63, 60, 60, 57, 56], \"sizemode\": \"area\", \"sizeref\": 0.1392, \"symbol\": \"circle\"}, \"mode\": \"markers+text\", \"name\": \"Female\", \"orientation\": \"v\", \"showlegend\": true, \"text\": [\"LUCIA\", \"MARIA\", \"MARTINA\", \"LAIA\", \"JULIA\", \"CARLA\", \"PAULA\", \"CLAUDIA\", \"SARA\", \"JANA\", \"AINA\", \"ARIADNA\", \"ALBA\", \"SOFIA\", \"LAURA\", \"BERTA\", \"MAR\", \"IRENE\", \"NOA\", \"MARTA\", \"ANNA\", \"ANDREA\", \"EMMA\", \"MARINA\", \"CARLOTA\"], \"x\": [159, 155, 152, 138, 130, 125, 124, 114, 100, 93, 90, 88, 87, 87, 84, 80, 76, 75, 73, 72, 63, 60, 60, 57, 56], \"xaxis\": \"x\", \"y\": [4, 8, 12, 16, 20, 24, 28, 32, 36, 40, 44, 48, 52, 56, 60, 64, 68, 72, 76, 80, 84, 88, 92, 96, 100], \"yaxis\": \"y\", \"type\": \"scatter\"}, {\"hovertemplate\": \"<b>%{hovertext}</b><br><br>Gender=Male<br>Year=2007<br>Frequency=%{marker.size}<br>Order=%{y}<br>Name=%{text}<extra></extra>\", \"hovertext\": [\"MARC\", \"ALEX\", \"PAU\", \"POL\", \"DANIEL\", \"DAVID\", \"ERIC\", \"MARTI\", \"ARNAU\", \"VICTOR\", \"ALEJANDRO\", \"JOAN\", \"PABLO\", \"JAN\", \"ORIOL\", \"GERARD\", \"BIEL\", \"GUILLEM\", \"JOEL\", \"ROGER\", \"HUGO\", \"ADRIA\", \"NICOLAS\", \"IKER\", \"JORDI\"], \"ids\": [\"MARC\", \"ALEX\", \"PAU\", \"POL\", \"DANIEL\", \"DAVID\", \"ERIC\", \"MARTI\", \"ARNAU\", \"VICTOR\", \"ALEJANDRO\", \"JOAN\", \"PABLO\", \"JAN\", \"ORIOL\", \"GERARD\", \"BIEL\", \"GUILLEM\", \"JOEL\", \"ROGER\", \"HUGO\", \"ADRIA\", \"NICOLAS\", \"IKER\", \"JORDI\"], \"legendgroup\": \"Male\", \"marker\": {\"color\": \"#EF553B\", \"size\": [237, 163, 148, 140, 132, 127, 126, 126, 115, 98, 94, 89, 89, 88, 84, 76, 75, 71, 70, 68, 67, 60, 58, 54, 54], \"sizemode\": \"area\", \"sizeref\": 0.1392, \"symbol\": \"circle\"}, \"mode\": \"markers+text\", \"name\": \"Male\", \"orientation\": \"v\", \"showlegend\": true, \"text\": [\"MARC\", \"ALEX\", \"PAU\", \"POL\", \"DANIEL\", \"DAVID\", \"ERIC\", \"MARTI\", \"ARNAU\", \"VICTOR\", \"ALEJANDRO\", \"JOAN\", \"PABLO\", \"JAN\", \"ORIOL\", \"GERARD\", \"BIEL\", \"GUILLEM\", \"JOEL\", \"ROGER\", \"HUGO\", \"ADRIA\", \"NICOLAS\", \"IKER\", \"JORDI\"], \"x\": [237, 163, 148, 140, 132, 127, 126, 126, 115, 98, 94, 89, 89, 88, 84, 76, 75, 71, 70, 68, 67, 60, 58, 54, 54], \"xaxis\": \"x\", \"y\": [4, 8, 12, 16, 20, 24, 28, 32, 36, 40, 44, 48, 52, 56, 60, 64, 68, 72, 76, 80, 84, 88, 92, 96, 100], \"yaxis\": \"y\", \"type\": \"scatter\"}], \"name\": \"2007\"}, {\"data\": [{\"hovertemplate\": \"<b>%{hovertext}</b><br><br>Gender=Female<br>Year=2008<br>Frequency=%{marker.size}<br>Order=%{y}<br>Name=%{text}<extra></extra>\", \"hovertext\": [\"MARTINA\", \"JULIA\", \"MARIA\", \"LAIA\", \"LUCIA\", \"CARLA\", \"PAULA\", \"CLAUDIA\", \"SARA\", \"JANA\", \"ARIADNA\", \"ANNA\", \"LAURA\", \"SOFIA\", \"NOA\", \"AINA\", \"ALBA\", \"BERTA\", \"EMMA\", \"MARTA\", \"IRENE\", \"CLARA\", \"ABRIL\", \"MARINA\", \"CARLOTA\"], \"ids\": [\"MARTINA\", \"JULIA\", \"MARIA\", \"LAIA\", \"LUCIA\", \"CARLA\", \"PAULA\", \"CLAUDIA\", \"SARA\", \"JANA\", \"ARIADNA\", \"ANNA\", \"LAURA\", \"SOFIA\", \"NOA\", \"AINA\", \"ALBA\", \"BERTA\", \"EMMA\", \"MARTA\", \"IRENE\", \"CLARA\", \"ABRIL\", \"MARINA\", \"CARLOTA\"], \"legendgroup\": \"Female\", \"marker\": {\"color\": \"#636efa\", \"size\": [169, 162, 158, 156, 146, 139, 136, 113, 102, 92, 84, 82, 82, 81, 78, 77, 75, 73, 73, 69, 66, 63, 61, 60, 56], \"sizemode\": \"area\", \"sizeref\": 0.1392, \"symbol\": \"circle\"}, \"mode\": \"markers+text\", \"name\": \"Female\", \"orientation\": \"v\", \"showlegend\": true, \"text\": [\"MARTINA\", \"JULIA\", \"MARIA\", \"LAIA\", \"LUCIA\", \"CARLA\", \"PAULA\", \"CLAUDIA\", \"SARA\", \"JANA\", \"ARIADNA\", \"ANNA\", \"LAURA\", \"SOFIA\", \"NOA\", \"AINA\", \"ALBA\", \"BERTA\", \"EMMA\", \"MARTA\", \"IRENE\", \"CLARA\", \"ABRIL\", \"MARINA\", \"CARLOTA\"], \"x\": [169, 162, 158, 156, 146, 139, 136, 113, 102, 92, 84, 82, 82, 81, 78, 77, 75, 73, 73, 69, 66, 63, 61, 60, 56], \"xaxis\": \"x\", \"y\": [4, 8, 12, 16, 20, 24, 28, 32, 36, 40, 44, 48, 52, 56, 60, 64, 68, 72, 76, 80, 84, 88, 92, 96, 100], \"yaxis\": \"y\", \"type\": \"scatter\"}, {\"hovertemplate\": \"<b>%{hovertext}</b><br><br>Gender=Male<br>Year=2008<br>Frequency=%{marker.size}<br>Order=%{y}<br>Name=%{text}<extra></extra>\", \"hovertext\": [\"MARC\", \"POL\", \"ALEX\", \"PAU\", \"DANIEL\", \"DAVID\", \"JAN\", \"ERIC\", \"ARNAU\", \"MARTI\", \"BIEL\", \"VICTOR\", \"ALEJANDRO\", \"PABLO\", \"ORIOL\", \"BRUNO\", \"HUGO\", \"JOAN\", \"IKER\", \"LUCAS\", \"NICOLAS\", \"ADRIA\", \"GUILLEM\", \"JORDI\", \"ROGER\"], \"ids\": [\"MARC\", \"POL\", \"ALEX\", \"PAU\", \"DANIEL\", \"DAVID\", \"JAN\", \"ERIC\", \"ARNAU\", \"MARTI\", \"BIEL\", \"VICTOR\", \"ALEJANDRO\", \"PABLO\", \"ORIOL\", \"BRUNO\", \"HUGO\", \"JOAN\", \"IKER\", \"LUCAS\", \"NICOLAS\", \"ADRIA\", \"GUILLEM\", \"JORDI\", \"ROGER\"], \"legendgroup\": \"Male\", \"marker\": {\"color\": \"#EF553B\", \"size\": [244, 172, 156, 144, 121, 109, 106, 100, 98, 98, 92, 88, 87, 86, 84, 80, 80, 80, 77, 73, 73, 72, 71, 71, 70], \"sizemode\": \"area\", \"sizeref\": 0.1392, \"symbol\": \"circle\"}, \"mode\": \"markers+text\", \"name\": \"Male\", \"orientation\": \"v\", \"showlegend\": true, \"text\": [\"MARC\", \"POL\", \"ALEX\", \"PAU\", \"DANIEL\", \"DAVID\", \"JAN\", \"ERIC\", \"ARNAU\", \"MARTI\", \"BIEL\", \"VICTOR\", \"ALEJANDRO\", \"PABLO\", \"ORIOL\", \"BRUNO\", \"HUGO\", \"JOAN\", \"IKER\", \"LUCAS\", \"NICOLAS\", \"ADRIA\", \"GUILLEM\", \"JORDI\", \"ROGER\"], \"x\": [244, 172, 156, 144, 121, 109, 106, 100, 98, 98, 92, 88, 87, 86, 84, 80, 80, 80, 77, 73, 73, 72, 71, 71, 70], \"xaxis\": \"x\", \"y\": [4, 8, 12, 16, 20, 24, 28, 32, 36, 40, 44, 48, 52, 56, 60, 64, 68, 72, 76, 80, 84, 88, 92, 96, 100], \"yaxis\": \"y\", \"type\": \"scatter\"}], \"name\": \"2008\"}, {\"data\": [{\"hovertemplate\": \"<b>%{hovertext}</b><br><br>Gender=Female<br>Year=2009<br>Frequency=%{marker.size}<br>Order=%{y}<br>Name=%{text}<extra></extra>\", \"hovertext\": [\"MARTINA\", \"LAIA\", \"MARIA\", \"PAULA\", \"LUCIA\", \"JULIA\", \"CARLA\", \"CLAUDIA\", \"AINA\", \"SOFIA\", \"LAURA\", \"SARA\", \"ALBA\", \"ANNA\", \"NOA\", \"JANA\", \"ARIADNA\", \"DANIELA\", \"BERTA\", \"EMMA\", \"IRENE\", \"ABRIL\", \"MARTA\", \"CARLOTA\", \"MARINA\"], \"ids\": [\"MARTINA\", \"LAIA\", \"MARIA\", \"PAULA\", \"LUCIA\", \"JULIA\", \"CARLA\", \"CLAUDIA\", \"AINA\", \"SOFIA\", \"LAURA\", \"SARA\", \"ALBA\", \"ANNA\", \"NOA\", \"JANA\", \"ARIADNA\", \"DANIELA\", \"BERTA\", \"EMMA\", \"IRENE\", \"ABRIL\", \"MARTA\", \"CARLOTA\", \"MARINA\"], \"legendgroup\": \"Female\", \"marker\": {\"color\": \"#636efa\", \"size\": [167, 159, 154, 143, 138, 128, 118, 112, 88, 87, 78, 77, 76, 76, 74, 71, 70, 66, 65, 59, 56, 55, 53, 51, 50], \"sizemode\": \"area\", \"sizeref\": 0.1392, \"symbol\": \"circle\"}, \"mode\": \"markers+text\", \"name\": \"Female\", \"orientation\": \"v\", \"showlegend\": true, \"text\": [\"MARTINA\", \"LAIA\", \"MARIA\", \"PAULA\", \"LUCIA\", \"JULIA\", \"CARLA\", \"CLAUDIA\", \"AINA\", \"SOFIA\", \"LAURA\", \"SARA\", \"ALBA\", \"ANNA\", \"NOA\", \"JANA\", \"ARIADNA\", \"DANIELA\", \"BERTA\", \"EMMA\", \"IRENE\", \"ABRIL\", \"MARTA\", \"CARLOTA\", \"MARINA\"], \"x\": [167, 159, 154, 143, 138, 128, 118, 112, 88, 87, 78, 77, 76, 76, 74, 71, 70, 66, 65, 59, 56, 55, 53, 51, 50], \"xaxis\": \"x\", \"y\": [4, 8, 12, 16, 20, 24, 28, 32, 36, 40, 44, 48, 52, 56, 60, 64, 68, 72, 76, 80, 84, 88, 92, 96, 100], \"yaxis\": \"y\", \"type\": \"scatter\"}, {\"hovertemplate\": \"<b>%{hovertext}</b><br><br>Gender=Male<br>Year=2009<br>Frequency=%{marker.size}<br>Order=%{y}<br>Name=%{text}<extra></extra>\", \"hovertext\": [\"MARC\", \"PAU\", \"ALEX\", \"POL\", \"ERIC\", \"MARTI\", \"ARNAU\", \"JAN\", \"DANIEL\", \"HUGO\", \"DAVID\", \"PABLO\", \"BIEL\", \"ADRIA\", \"VICTOR\", \"ORIOL\", \"GUILLEM\", \"ROGER\", \"ALEJANDRO\", \"GERARD\", \"LUCAS\", \"BRUNO\", \"NICOLAS\", \"MAX\", \"JOAN\"], \"ids\": [\"MARC\", \"PAU\", \"ALEX\", \"POL\", \"ERIC\", \"MARTI\", \"ARNAU\", \"JAN\", \"DANIEL\", \"HUGO\", \"DAVID\", \"PABLO\", \"BIEL\", \"ADRIA\", \"VICTOR\", \"ORIOL\", \"GUILLEM\", \"ROGER\", \"ALEJANDRO\", \"GERARD\", \"LUCAS\", \"BRUNO\", \"NICOLAS\", \"MAX\", \"JOAN\"], \"legendgroup\": \"Male\", \"marker\": {\"color\": \"#EF553B\", \"size\": [194, 165, 150, 146, 130, 116, 106, 100, 98, 89, 87, 87, 86, 83, 74, 71, 70, 69, 68, 67, 65, 63, 62, 61, 59], \"sizemode\": \"area\", \"sizeref\": 0.1392, \"symbol\": \"circle\"}, \"mode\": \"markers+text\", \"name\": \"Male\", \"orientation\": \"v\", \"showlegend\": true, \"text\": [\"MARC\", \"PAU\", \"ALEX\", \"POL\", \"ERIC\", \"MARTI\", \"ARNAU\", \"JAN\", \"DANIEL\", \"HUGO\", \"DAVID\", \"PABLO\", \"BIEL\", \"ADRIA\", \"VICTOR\", \"ORIOL\", \"GUILLEM\", \"ROGER\", \"ALEJANDRO\", \"GERARD\", \"LUCAS\", \"BRUNO\", \"NICOLAS\", \"MAX\", \"JOAN\"], \"x\": [194, 165, 150, 146, 130, 116, 106, 100, 98, 89, 87, 87, 86, 83, 74, 71, 70, 69, 68, 67, 65, 63, 62, 61, 59], \"xaxis\": \"x\", \"y\": [4, 8, 12, 16, 20, 24, 28, 32, 36, 40, 44, 48, 52, 56, 60, 64, 68, 72, 76, 80, 84, 88, 92, 96, 100], \"yaxis\": \"y\", \"type\": \"scatter\"}], \"name\": \"2009\"}, {\"data\": [{\"hovertemplate\": \"<b>%{hovertext}</b><br><br>Gender=Female<br>Year=2010<br>Frequency=%{marker.size}<br>Order=%{y}<br>Name=%{text}<extra></extra>\", \"hovertext\": [\"MARTINA\", \"JULIA\", \"MARIA\", \"LUCIA\", \"PAULA\", \"LAIA\", \"CARLA\", \"AINA\", \"SARA\", \"CLAUDIA\", \"SOFIA\", \"NOA\", \"ARIADNA\", \"ALBA\", \"LAURA\", \"EMMA\", \"CLARA\", \"ANNA\", \"DANIELA\", \"ABRIL\", \"INES\", \"BERTA\", \"JANA\", \"CARLOTA\", \"IRENE\"], \"ids\": [\"MARTINA\", \"JULIA\", \"MARIA\", \"LUCIA\", \"PAULA\", \"LAIA\", \"CARLA\", \"AINA\", \"SARA\", \"CLAUDIA\", \"SOFIA\", \"NOA\", \"ARIADNA\", \"ALBA\", \"LAURA\", \"EMMA\", \"CLARA\", \"ANNA\", \"DANIELA\", \"ABRIL\", \"INES\", \"BERTA\", \"JANA\", \"CARLOTA\", \"IRENE\"], \"legendgroup\": \"Female\", \"marker\": {\"color\": \"#636efa\", \"size\": [194, 173, 147, 139, 135, 128, 120, 109, 102, 101, 95, 83, 76, 69, 66, 63, 60, 58, 58, 57, 57, 56, 53, 49, 47], \"sizemode\": \"area\", \"sizeref\": 0.1392, \"symbol\": \"circle\"}, \"mode\": \"markers+text\", \"name\": \"Female\", \"orientation\": \"v\", \"showlegend\": true, \"text\": [\"MARTINA\", \"JULIA\", \"MARIA\", \"LUCIA\", \"PAULA\", \"LAIA\", \"CARLA\", \"AINA\", \"SARA\", \"CLAUDIA\", \"SOFIA\", \"NOA\", \"ARIADNA\", \"ALBA\", \"LAURA\", \"EMMA\", \"CLARA\", \"ANNA\", \"DANIELA\", \"ABRIL\", \"INES\", \"BERTA\", \"JANA\", \"CARLOTA\", \"IRENE\"], \"x\": [194, 173, 147, 139, 135, 128, 120, 109, 102, 101, 95, 83, 76, 69, 66, 63, 60, 58, 58, 57, 57, 56, 53, 49, 47], \"xaxis\": \"x\", \"y\": [4, 8, 12, 16, 20, 24, 28, 32, 36, 40, 44, 48, 52, 56, 60, 64, 68, 72, 76, 80, 84, 88, 92, 96, 100], \"yaxis\": \"y\", \"type\": \"scatter\"}, {\"hovertemplate\": \"<b>%{hovertext}</b><br><br>Gender=Male<br>Year=2010<br>Frequency=%{marker.size}<br>Order=%{y}<br>Name=%{text}<extra></extra>\", \"hovertext\": [\"MARC\", \"POL\", \"ALEX\", \"PAU\", \"MARTI\", \"ERIC\", \"ARNAU\", \"DANIEL\", \"GERARD\", \"JAN\", \"DAVID\", \"BIEL\", \"ALEJANDRO\", \"HUGO\", \"PABLO\", \"VICTOR\", \"ADRIA\", \"NIL\", \"BRUNO\", \"GUILLEM\", \"LUCAS\", \"NICOLAS\", \"MAX\", \"ORIOL\", \"IKER\"], \"ids\": [\"MARC\", \"POL\", \"ALEX\", \"PAU\", \"MARTI\", \"ERIC\", \"ARNAU\", \"DANIEL\", \"GERARD\", \"JAN\", \"DAVID\", \"BIEL\", \"ALEJANDRO\", \"HUGO\", \"PABLO\", \"VICTOR\", \"ADRIA\", \"NIL\", \"BRUNO\", \"GUILLEM\", \"LUCAS\", \"NICOLAS\", \"MAX\", \"ORIOL\", \"IKER\"], \"legendgroup\": \"Male\", \"marker\": {\"color\": \"#EF553B\", \"size\": [195, 148, 143, 134, 124, 117, 110, 103, 100, 98, 90, 88, 80, 79, 78, 77, 69, 69, 68, 66, 65, 64, 60, 59, 56], \"sizemode\": \"area\", \"sizeref\": 0.1392, \"symbol\": \"circle\"}, \"mode\": \"markers+text\", \"name\": \"Male\", \"orientation\": \"v\", \"showlegend\": true, \"text\": [\"MARC\", \"POL\", \"ALEX\", \"PAU\", \"MARTI\", \"ERIC\", \"ARNAU\", \"DANIEL\", \"GERARD\", \"JAN\", \"DAVID\", \"BIEL\", \"ALEJANDRO\", \"HUGO\", \"PABLO\", \"VICTOR\", \"ADRIA\", \"NIL\", \"BRUNO\", \"GUILLEM\", \"LUCAS\", \"NICOLAS\", \"MAX\", \"ORIOL\", \"IKER\"], \"x\": [195, 148, 143, 134, 124, 117, 110, 103, 100, 98, 90, 88, 80, 79, 78, 77, 69, 69, 68, 66, 65, 64, 60, 59, 56], \"xaxis\": \"x\", \"y\": [4, 8, 12, 16, 20, 24, 28, 32, 36, 40, 44, 48, 52, 56, 60, 64, 68, 72, 76, 80, 84, 88, 92, 96, 100], \"yaxis\": \"y\", \"type\": \"scatter\"}], \"name\": \"2010\"}, {\"data\": [{\"hovertemplate\": \"<b>%{hovertext}</b><br><br>Gender=Female<br>Year=2011<br>Frequency=%{marker.size}<br>Order=%{y}<br>Name=%{text}<extra></extra>\", \"hovertext\": [\"MARTINA\", \"JULIA\", \"LAIA\", \"MARIA\", \"LUCIA\", \"PAULA\", \"SOFIA\", \"CARLA\", \"NOA\", \"CLAUDIA\", \"SARA\", \"AINA\", \"ARIADNA\", \"EMMA\", \"ALBA\", \"ONA\", \"DANIELA\", \"CLARA\", \"IRENE\", \"NORA\", \"MARTA\", \"OLIVIA\", \"JANA\", \"BERTA\", \"ANNA\"], \"ids\": [\"MARTINA\", \"JULIA\", \"LAIA\", \"MARIA\", \"LUCIA\", \"PAULA\", \"SOFIA\", \"CARLA\", \"NOA\", \"CLAUDIA\", \"SARA\", \"AINA\", \"ARIADNA\", \"EMMA\", \"ALBA\", \"ONA\", \"DANIELA\", \"CLARA\", \"IRENE\", \"NORA\", \"MARTA\", \"OLIVIA\", \"JANA\", \"BERTA\", \"ANNA\"], \"legendgroup\": \"Female\", \"marker\": {\"color\": \"#636efa\", \"size\": [157, 154, 146, 124, 123, 113, 109, 105, 104, 95, 95, 94, 81, 81, 78, 74, 69, 65, 60, 58, 55, 55, 52, 51, 50], \"sizemode\": \"area\", \"sizeref\": 0.1392, \"symbol\": \"circle\"}, \"mode\": \"markers+text\", \"name\": \"Female\", \"orientation\": \"v\", \"showlegend\": true, \"text\": [\"MARTINA\", \"JULIA\", \"LAIA\", \"MARIA\", \"LUCIA\", \"PAULA\", \"SOFIA\", \"CARLA\", \"NOA\", \"CLAUDIA\", \"SARA\", \"AINA\", \"ARIADNA\", \"EMMA\", \"ALBA\", \"ONA\", \"DANIELA\", \"CLARA\", \"IRENE\", \"NORA\", \"MARTA\", \"OLIVIA\", \"JANA\", \"BERTA\", \"ANNA\"], \"x\": [157, 154, 146, 124, 123, 113, 109, 105, 104, 95, 95, 94, 81, 81, 78, 74, 69, 65, 60, 58, 55, 55, 52, 51, 50], \"xaxis\": \"x\", \"y\": [4, 8, 12, 16, 20, 24, 28, 32, 36, 40, 44, 48, 52, 56, 60, 64, 68, 72, 76, 80, 84, 88, 92, 96, 100], \"yaxis\": \"y\", \"type\": \"scatter\"}, {\"hovertemplate\": \"<b>%{hovertext}</b><br><br>Gender=Male<br>Year=2011<br>Frequency=%{marker.size}<br>Order=%{y}<br>Name=%{text}<extra></extra>\", \"hovertext\": [\"MARC\", \"ALEX\", \"POL\", \"PAU\", \"ERIC\", \"MARTI\", \"GERARD\", \"ARNAU\", \"BIEL\", \"DAVID\", \"DANIEL\", \"HUGO\", \"NICOLAS\", \"BRUNO\", \"JAN\", \"LUCAS\", \"PABLO\", \"ADRIA\", \"VICTOR\", \"ALEJANDRO\", \"NIL\", \"ALEIX\", \"ORIOL\", \"GUILLEM\", \"LEO\"], \"ids\": [\"MARC\", \"ALEX\", \"POL\", \"PAU\", \"ERIC\", \"MARTI\", \"GERARD\", \"ARNAU\", \"BIEL\", \"DAVID\", \"DANIEL\", \"HUGO\", \"NICOLAS\", \"BRUNO\", \"JAN\", \"LUCAS\", \"PABLO\", \"ADRIA\", \"VICTOR\", \"ALEJANDRO\", \"NIL\", \"ALEIX\", \"ORIOL\", \"GUILLEM\", \"LEO\"], \"legendgroup\": \"Male\", \"marker\": {\"color\": \"#EF553B\", \"size\": [209, 142, 124, 118, 113, 103, 99, 95, 87, 85, 83, 79, 78, 75, 73, 70, 68, 67, 65, 64, 62, 61, 60, 58, 58], \"sizemode\": \"area\", \"sizeref\": 0.1392, \"symbol\": \"circle\"}, \"mode\": \"markers+text\", \"name\": \"Male\", \"orientation\": \"v\", \"showlegend\": true, \"text\": [\"MARC\", \"ALEX\", \"POL\", \"PAU\", \"ERIC\", \"MARTI\", \"GERARD\", \"ARNAU\", \"BIEL\", \"DAVID\", \"DANIEL\", \"HUGO\", \"NICOLAS\", \"BRUNO\", \"JAN\", \"LUCAS\", \"PABLO\", \"ADRIA\", \"VICTOR\", \"ALEJANDRO\", \"NIL\", \"ALEIX\", \"ORIOL\", \"GUILLEM\", \"LEO\"], \"x\": [209, 142, 124, 118, 113, 103, 99, 95, 87, 85, 83, 79, 78, 75, 73, 70, 68, 67, 65, 64, 62, 61, 60, 58, 58], \"xaxis\": \"x\", \"y\": [4, 8, 12, 16, 20, 24, 28, 32, 36, 40, 44, 48, 52, 56, 60, 64, 68, 72, 76, 80, 84, 88, 92, 96, 100], \"yaxis\": \"y\", \"type\": \"scatter\"}], \"name\": \"2011\"}, {\"data\": [{\"hovertemplate\": \"<b>%{hovertext}</b><br><br>Gender=Female<br>Year=2012<br>Frequency=%{marker.size}<br>Order=%{y}<br>Name=%{text}<extra></extra>\", \"hovertext\": [\"JULIA\", \"LAIA\", \"MARTINA\", \"CARLA\", \"MARIA\", \"LUCIA\", \"SOFIA\", \"PAULA\", \"AINA\", \"EMMA\", \"CLAUDIA\", \"VALENTINA\", \"ARIADNA\", \"SARA\", \"NOA\", \"ALBA\", \"ONA\", \"JANA\", \"LAURA\", \"CARLOTA\", \"ANNA\", \"OLIVIA\", \"BERTA\", \"ABRIL\", \"MAR\"], \"ids\": [\"JULIA\", \"LAIA\", \"MARTINA\", \"CARLA\", \"MARIA\", \"LUCIA\", \"SOFIA\", \"PAULA\", \"AINA\", \"EMMA\", \"CLAUDIA\", \"VALENTINA\", \"ARIADNA\", \"SARA\", \"NOA\", \"ALBA\", \"ONA\", \"JANA\", \"LAURA\", \"CARLOTA\", \"ANNA\", \"OLIVIA\", \"BERTA\", \"ABRIL\", \"MAR\"], \"legendgroup\": \"Female\", \"marker\": {\"color\": \"#636efa\", \"size\": [158, 156, 152, 122, 121, 119, 100, 96, 94, 93, 84, 83, 78, 78, 71, 70, 68, 67, 65, 59, 58, 57, 56, 54, 53], \"sizemode\": \"area\", \"sizeref\": 0.1392, \"symbol\": \"circle\"}, \"mode\": \"markers+text\", \"name\": \"Female\", \"orientation\": \"v\", \"showlegend\": true, \"text\": [\"JULIA\", \"LAIA\", \"MARTINA\", \"CARLA\", \"MARIA\", \"LUCIA\", \"SOFIA\", \"PAULA\", \"AINA\", \"EMMA\", \"CLAUDIA\", \"VALENTINA\", \"ARIADNA\", \"SARA\", \"NOA\", \"ALBA\", \"ONA\", \"JANA\", \"LAURA\", \"CARLOTA\", \"ANNA\", \"OLIVIA\", \"BERTA\", \"ABRIL\", \"MAR\"], \"x\": [158, 156, 152, 122, 121, 119, 100, 96, 94, 93, 84, 83, 78, 78, 71, 70, 68, 67, 65, 59, 58, 57, 56, 54, 53], \"xaxis\": \"x\", \"y\": [4, 8, 12, 16, 20, 24, 28, 32, 36, 40, 44, 48, 52, 56, 60, 64, 68, 72, 76, 80, 84, 88, 92, 96, 100], \"yaxis\": \"y\", \"type\": \"scatter\"}, {\"hovertemplate\": \"<b>%{hovertext}</b><br><br>Gender=Male<br>Year=2012<br>Frequency=%{marker.size}<br>Order=%{y}<br>Name=%{text}<extra></extra>\", \"hovertext\": [\"MARC\", \"POL\", \"ERIC\", \"ALEX\", \"PAU\", \"ARNAU\", \"MARTI\", \"GERARD\", \"JAN\", \"BIEL\", \"HUGO\", \"DANIEL\", \"NICOLAS\", \"NIL\", \"LEO\", \"VICTOR\", \"PABLO\", \"BRUNO\", \"ALEIX\", \"LUCAS\", \"ORIOL\", \"DAVID\", \"GUILLEM\", \"JOEL\", \"ADRIA\"], \"ids\": [\"MARC\", \"POL\", \"ERIC\", \"ALEX\", \"PAU\", \"ARNAU\", \"MARTI\", \"GERARD\", \"JAN\", \"BIEL\", \"HUGO\", \"DANIEL\", \"NICOLAS\", \"NIL\", \"LEO\", \"VICTOR\", \"PABLO\", \"BRUNO\", \"ALEIX\", \"LUCAS\", \"ORIOL\", \"DAVID\", \"GUILLEM\", \"JOEL\", \"ADRIA\"], \"legendgroup\": \"Male\", \"marker\": {\"color\": \"#EF553B\", \"size\": [206, 138, 125, 120, 110, 101, 99, 98, 98, 95, 88, 81, 73, 72, 71, 68, 66, 65, 64, 62, 60, 59, 58, 58, 56], \"sizemode\": \"area\", \"sizeref\": 0.1392, \"symbol\": \"circle\"}, \"mode\": \"markers+text\", \"name\": \"Male\", \"orientation\": \"v\", \"showlegend\": true, \"text\": [\"MARC\", \"POL\", \"ERIC\", \"ALEX\", \"PAU\", \"ARNAU\", \"MARTI\", \"GERARD\", \"JAN\", \"BIEL\", \"HUGO\", \"DANIEL\", \"NICOLAS\", \"NIL\", \"LEO\", \"VICTOR\", \"PABLO\", \"BRUNO\", \"ALEIX\", \"LUCAS\", \"ORIOL\", \"DAVID\", \"GUILLEM\", \"JOEL\", \"ADRIA\"], \"x\": [206, 138, 125, 120, 110, 101, 99, 98, 98, 95, 88, 81, 73, 72, 71, 68, 66, 65, 64, 62, 60, 59, 58, 58, 56], \"xaxis\": \"x\", \"y\": [4, 8, 12, 16, 20, 24, 28, 32, 36, 40, 44, 48, 52, 56, 60, 64, 68, 72, 76, 80, 84, 88, 92, 96, 100], \"yaxis\": \"y\", \"type\": \"scatter\"}], \"name\": \"2012\"}, {\"data\": [{\"hovertemplate\": \"<b>%{hovertext}</b><br><br>Gender=Female<br>Year=2013<br>Frequency=%{marker.size}<br>Order=%{y}<br>Name=%{text}<extra></extra>\", \"hovertext\": [\"JULIA\", \"MARTINA\", \"LAIA\", \"MARIA\", \"LUCIA\", \"PAULA\", \"EMMA\", \"SOFIA\", \"NOA\", \"AINA\", \"CARLA\", \"CLAUDIA\", \"VALENTINA\", \"ARIADNA\", \"ALBA\", \"JANA\", \"SARA\", \"BERTA\", \"OLIVIA\", \"ONA\", \"ABRIL\", \"ARLET\", \"NORA\", \"AINHOA\", \"DANIELA\"], \"ids\": [\"JULIA\", \"MARTINA\", \"LAIA\", \"MARIA\", \"LUCIA\", \"PAULA\", \"EMMA\", \"SOFIA\", \"NOA\", \"AINA\", \"CARLA\", \"CLAUDIA\", \"VALENTINA\", \"ARIADNA\", \"ALBA\", \"JANA\", \"SARA\", \"BERTA\", \"OLIVIA\", \"ONA\", \"ABRIL\", \"ARLET\", \"NORA\", \"AINHOA\", \"DANIELA\"], \"legendgroup\": \"Female\", \"marker\": {\"color\": \"#636efa\", \"size\": [143, 137, 131, 117, 116, 111, 105, 102, 88, 87, 81, 81, 78, 71, 69, 65, 59, 55, 55, 55, 51, 51, 50, 49, 48], \"sizemode\": \"area\", \"sizeref\": 0.1392, \"symbol\": \"circle\"}, \"mode\": \"markers+text\", \"name\": \"Female\", \"orientation\": \"v\", \"showlegend\": true, \"text\": [\"JULIA\", \"MARTINA\", \"LAIA\", \"MARIA\", \"LUCIA\", \"PAULA\", \"EMMA\", \"SOFIA\", \"NOA\", \"AINA\", \"CARLA\", \"CLAUDIA\", \"VALENTINA\", \"ARIADNA\", \"ALBA\", \"JANA\", \"SARA\", \"BERTA\", \"OLIVIA\", \"ONA\", \"ABRIL\", \"ARLET\", \"NORA\", \"AINHOA\", \"DANIELA\"], \"x\": [143, 137, 131, 117, 116, 111, 105, 102, 88, 87, 81, 81, 78, 71, 69, 65, 59, 55, 55, 55, 51, 51, 50, 49, 48], \"xaxis\": \"x\", \"y\": [4, 8, 12, 16, 20, 24, 28, 32, 36, 40, 44, 48, 52, 56, 60, 64, 68, 72, 76, 80, 84, 88, 92, 96, 100], \"yaxis\": \"y\", \"type\": \"scatter\"}, {\"hovertemplate\": \"<b>%{hovertext}</b><br><br>Gender=Male<br>Year=2013<br>Frequency=%{marker.size}<br>Order=%{y}<br>Name=%{text}<extra></extra>\", \"hovertext\": [\"MARC\", \"PAU\", \"POL\", \"ALEX\", \"ERIC\", \"ARNAU\", \"BIEL\", \"MARTI\", \"JAN\", \"HUGO\", \"GERARD\", \"DAVID\", \"LUCAS\", \"LEO\", \"DANIEL\", \"NIL\", \"BRUNO\", \"VICTOR\", \"NICOLAS\", \"MAX\", \"PABLO\", \"ALEIX\", \"MATEO\", \"JOEL\", \"MARIO\"], \"ids\": [\"MARC\", \"PAU\", \"POL\", \"ALEX\", \"ERIC\", \"ARNAU\", \"BIEL\", \"MARTI\", \"JAN\", \"HUGO\", \"GERARD\", \"DAVID\", \"LUCAS\", \"LEO\", \"DANIEL\", \"NIL\", \"BRUNO\", \"VICTOR\", \"NICOLAS\", \"MAX\", \"PABLO\", \"ALEIX\", \"MATEO\", \"JOEL\", \"MARIO\"], \"legendgroup\": \"Male\", \"marker\": {\"color\": \"#EF553B\", \"size\": [175, 129, 126, 122, 122, 100, 95, 95, 92, 89, 86, 80, 77, 76, 75, 73, 72, 64, 62, 59, 56, 53, 52, 51, 46], \"sizemode\": \"area\", \"sizeref\": 0.1392, \"symbol\": \"circle\"}, \"mode\": \"markers+text\", \"name\": \"Male\", \"orientation\": \"v\", \"showlegend\": true, \"text\": [\"MARC\", \"PAU\", \"POL\", \"ALEX\", \"ERIC\", \"ARNAU\", \"BIEL\", \"MARTI\", \"JAN\", \"HUGO\", \"GERARD\", \"DAVID\", \"LUCAS\", \"LEO\", \"DANIEL\", \"NIL\", \"BRUNO\", \"VICTOR\", \"NICOLAS\", \"MAX\", \"PABLO\", \"ALEIX\", \"MATEO\", \"JOEL\", \"MARIO\"], \"x\": [175, 129, 126, 122, 122, 100, 95, 95, 92, 89, 86, 80, 77, 76, 75, 73, 72, 64, 62, 59, 56, 53, 52, 51, 46], \"xaxis\": \"x\", \"y\": [4, 8, 12, 16, 20, 24, 28, 32, 36, 40, 44, 48, 52, 56, 60, 64, 68, 72, 76, 80, 84, 88, 92, 96, 100], \"yaxis\": \"y\", \"type\": \"scatter\"}], \"name\": \"2013\"}, {\"data\": [{\"hovertemplate\": \"<b>%{hovertext}</b><br><br>Gender=Female<br>Year=2014<br>Frequency=%{marker.size}<br>Order=%{y}<br>Name=%{text}<extra></extra>\", \"hovertext\": [\"LAIA\", \"MARTINA\", \"JULIA\", \"EMMA\", \"NOA\", \"SOFIA\", \"MARIA\", \"VALENTINA\", \"CARLA\", \"LUCIA\", \"ONA\", \"PAULA\", \"CLAUDIA\", \"OLIVIA\", \"AINA\", \"DANIELA\", \"ALBA\", \"CLARA\", \"JANA\", \"NORA\", \"SARA\", \"ARLET\", \"BERTA\", \"ANNA\", \"CARLOTA\"], \"ids\": [\"LAIA\", \"MARTINA\", \"JULIA\", \"EMMA\", \"NOA\", \"SOFIA\", \"MARIA\", \"VALENTINA\", \"CARLA\", \"LUCIA\", \"ONA\", \"PAULA\", \"CLAUDIA\", \"OLIVIA\", \"AINA\", \"DANIELA\", \"ALBA\", \"CLARA\", \"JANA\", \"NORA\", \"SARA\", \"ARLET\", \"BERTA\", \"ANNA\", \"CARLOTA\"], \"legendgroup\": \"Female\", \"marker\": {\"color\": \"#636efa\", \"size\": [153, 134, 120, 117, 107, 106, 105, 99, 91, 89, 84, 84, 83, 72, 71, 68, 67, 60, 58, 58, 57, 55, 51, 49, 48], \"sizemode\": \"area\", \"sizeref\": 0.1392, \"symbol\": \"circle\"}, \"mode\": \"markers+text\", \"name\": \"Female\", \"orientation\": \"v\", \"showlegend\": true, \"text\": [\"LAIA\", \"MARTINA\", \"JULIA\", \"EMMA\", \"NOA\", \"SOFIA\", \"MARIA\", \"VALENTINA\", \"CARLA\", \"LUCIA\", \"ONA\", \"PAULA\", \"CLAUDIA\", \"OLIVIA\", \"AINA\", \"DANIELA\", \"ALBA\", \"CLARA\", \"JANA\", \"NORA\", \"SARA\", \"ARLET\", \"BERTA\", \"ANNA\", \"CARLOTA\"], \"x\": [153, 134, 120, 117, 107, 106, 105, 99, 91, 89, 84, 84, 83, 72, 71, 68, 67, 60, 58, 58, 57, 55, 51, 49, 48], \"xaxis\": \"x\", \"y\": [4, 8, 12, 16, 20, 24, 28, 32, 36, 40, 44, 48, 52, 56, 60, 64, 68, 72, 76, 80, 84, 88, 92, 96, 100], \"yaxis\": \"y\", \"type\": \"scatter\"}, {\"hovertemplate\": \"<b>%{hovertext}</b><br><br>Gender=Male<br>Year=2014<br>Frequency=%{marker.size}<br>Order=%{y}<br>Name=%{text}<extra></extra>\", \"hovertext\": [\"MARC\", \"POL\", \"ALEX\", \"ERIC\", \"MARTI\", \"PAU\", \"BIEL\", \"DANIEL\", \"JAN\", \"HUGO\", \"LEO\", \"NIL\", \"ARNAU\", \"LUCAS\", \"GERARD\", \"ADRIA\", \"ALEIX\", \"NICOLAS\", \"BRUNO\", \"PABLO\", \"DAVID\", \"MAX\", \"MATEO\", \"VICTOR\", \"GUILLEM\"], \"ids\": [\"MARC\", \"POL\", \"ALEX\", \"ERIC\", \"MARTI\", \"PAU\", \"BIEL\", \"DANIEL\", \"JAN\", \"HUGO\", \"LEO\", \"NIL\", \"ARNAU\", \"LUCAS\", \"GERARD\", \"ADRIA\", \"ALEIX\", \"NICOLAS\", \"BRUNO\", \"PABLO\", \"DAVID\", \"MAX\", \"MATEO\", \"VICTOR\", \"GUILLEM\"], \"legendgroup\": \"Male\", \"marker\": {\"color\": \"#EF553B\", \"size\": [192, 137, 135, 123, 116, 104, 90, 89, 89, 82, 78, 77, 73, 73, 71, 68, 63, 62, 61, 61, 57, 57, 52, 52, 47], \"sizemode\": \"area\", \"sizeref\": 0.1392, \"symbol\": \"circle\"}, \"mode\": \"markers+text\", \"name\": \"Male\", \"orientation\": \"v\", \"showlegend\": true, \"text\": [\"MARC\", \"POL\", \"ALEX\", \"ERIC\", \"MARTI\", \"PAU\", \"BIEL\", \"DANIEL\", \"JAN\", \"HUGO\", \"LEO\", \"NIL\", \"ARNAU\", \"LUCAS\", \"GERARD\", \"ADRIA\", \"ALEIX\", \"NICOLAS\", \"BRUNO\", \"PABLO\", \"DAVID\", \"MAX\", \"MATEO\", \"VICTOR\", \"GUILLEM\"], \"x\": [192, 137, 135, 123, 116, 104, 90, 89, 89, 82, 78, 77, 73, 73, 71, 68, 63, 62, 61, 61, 57, 57, 52, 52, 47], \"xaxis\": \"x\", \"y\": [4, 8, 12, 16, 20, 24, 28, 32, 36, 40, 44, 48, 52, 56, 60, 64, 68, 72, 76, 80, 84, 88, 92, 96, 100], \"yaxis\": \"y\", \"type\": \"scatter\"}], \"name\": \"2014\"}, {\"data\": [{\"hovertemplate\": \"<b>%{hovertext}</b><br><br>Gender=Female<br>Year=2015<br>Frequency=%{marker.size}<br>Order=%{y}<br>Name=%{text}<extra></extra>\", \"hovertext\": [\"EMMA\", \"JULIA\", \"LUCIA\", \"MARTINA\", \"MARIA\", \"SOFIA\", \"LAIA\", \"NOA\", \"AINA\", \"PAULA\", \"CARLA\", \"VALENTINA\", \"CLAUDIA\", \"ONA\", \"ALBA\", \"OLIVIA\", \"SARA\", \"ABRIL\", \"CLARA\", \"MIA\", \"JANA\", \"INES\", \"ARLET\", \"CARLOTA\", \"ARIADNA\"], \"ids\": [\"EMMA\", \"JULIA\", \"LUCIA\", \"MARTINA\", \"MARIA\", \"SOFIA\", \"LAIA\", \"NOA\", \"AINA\", \"PAULA\", \"CARLA\", \"VALENTINA\", \"CLAUDIA\", \"ONA\", \"ALBA\", \"OLIVIA\", \"SARA\", \"ABRIL\", \"CLARA\", \"MIA\", \"JANA\", \"INES\", \"ARLET\", \"CARLOTA\", \"ARIADNA\"], \"legendgroup\": \"Female\", \"marker\": {\"color\": \"#636efa\", \"size\": [145, 123, 120, 116, 106, 104, 103, 98, 92, 91, 85, 84, 77, 77, 73, 71, 65, 62, 59, 57, 55, 52, 50, 50, 45], \"sizemode\": \"area\", \"sizeref\": 0.1392, \"symbol\": \"circle\"}, \"mode\": \"markers+text\", \"name\": \"Female\", \"orientation\": \"v\", \"showlegend\": true, \"text\": [\"EMMA\", \"JULIA\", \"LUCIA\", \"MARTINA\", \"MARIA\", \"SOFIA\", \"LAIA\", \"NOA\", \"AINA\", \"PAULA\", \"CARLA\", \"VALENTINA\", \"CLAUDIA\", \"ONA\", \"ALBA\", \"OLIVIA\", \"SARA\", \"ABRIL\", \"CLARA\", \"MIA\", \"JANA\", \"INES\", \"ARLET\", \"CARLOTA\", \"ARIADNA\"], \"x\": [145, 123, 120, 116, 106, 104, 103, 98, 92, 91, 85, 84, 77, 77, 73, 71, 65, 62, 59, 57, 55, 52, 50, 50, 45], \"xaxis\": \"x\", \"y\": [4, 8, 12, 16, 20, 24, 28, 32, 36, 40, 44, 48, 52, 56, 60, 64, 68, 72, 76, 80, 84, 88, 92, 96, 100], \"yaxis\": \"y\", \"type\": \"scatter\"}, {\"hovertemplate\": \"<b>%{hovertext}</b><br><br>Gender=Male<br>Year=2015<br>Frequency=%{marker.size}<br>Order=%{y}<br>Name=%{text}<extra></extra>\", \"hovertext\": [\"MARC\", \"MARTI\", \"ALEX\", \"ERIC\", \"PAU\", \"HUGO\", \"BIEL\", \"ARNAU\", \"JAN\", \"NIL\", \"POL\", \"DANIEL\", \"LEO\", \"BRUNO\", \"LUCAS\", \"MAX\", \"PABLO\", \"MATEO\", \"GERARD\", \"ALEIX\", \"DAVID\", \"ADRIA\", \"ROC\", \"ROGER\", \"ALEJANDRO\"], \"ids\": [\"MARC\", \"MARTI\", \"ALEX\", \"ERIC\", \"PAU\", \"HUGO\", \"BIEL\", \"ARNAU\", \"JAN\", \"NIL\", \"POL\", \"DANIEL\", \"LEO\", \"BRUNO\", \"LUCAS\", \"MAX\", \"PABLO\", \"MATEO\", \"GERARD\", \"ALEIX\", \"DAVID\", \"ADRIA\", \"ROC\", \"ROGER\", \"ALEJANDRO\"], \"legendgroup\": \"Male\", \"marker\": {\"color\": \"#EF553B\", \"size\": [172, 133, 110, 109, 108, 107, 99, 93, 88, 88, 88, 83, 80, 79, 79, 79, 67, 65, 64, 63, 60, 57, 57, 53, 50], \"sizemode\": \"area\", \"sizeref\": 0.1392, \"symbol\": \"circle\"}, \"mode\": \"markers+text\", \"name\": \"Male\", \"orientation\": \"v\", \"showlegend\": true, \"text\": [\"MARC\", \"MARTI\", \"ALEX\", \"ERIC\", \"PAU\", \"HUGO\", \"BIEL\", \"ARNAU\", \"JAN\", \"NIL\", \"POL\", \"DANIEL\", \"LEO\", \"BRUNO\", \"LUCAS\", \"MAX\", \"PABLO\", \"MATEO\", \"GERARD\", \"ALEIX\", \"DAVID\", \"ADRIA\", \"ROC\", \"ROGER\", \"ALEJANDRO\"], \"x\": [172, 133, 110, 109, 108, 107, 99, 93, 88, 88, 88, 83, 80, 79, 79, 79, 67, 65, 64, 63, 60, 57, 57, 53, 50], \"xaxis\": \"x\", \"y\": [4, 8, 12, 16, 20, 24, 28, 32, 36, 40, 44, 48, 52, 56, 60, 64, 68, 72, 76, 80, 84, 88, 92, 96, 100], \"yaxis\": \"y\", \"type\": \"scatter\"}], \"name\": \"2015\"}, {\"data\": [{\"hovertemplate\": \"<b>%{hovertext}</b><br><br>Gender=Female<br>Year=2016<br>Frequency=%{marker.size}<br>Order=%{y}<br>Name=%{text}<extra></extra>\", \"hovertext\": [\"JULIA\", \"LAIA\", \"LUCIA\", \"SOFIA\", \"EMMA\", \"MARIA\", \"MARTINA\", \"NOA\", \"PAULA\", \"CARLA\", \"ONA\", \"AINA\", \"CLAUDIA\", \"VALENTINA\", \"MIA\", \"OLIVIA\", \"ALBA\", \"CLARA\", \"CHLOE\", \"ABRIL\", \"SARA\", \"ARIADNA\", \"DANIELA\", \"VALERIA\", \"ARLET\"], \"ids\": [\"JULIA\", \"LAIA\", \"LUCIA\", \"SOFIA\", \"EMMA\", \"MARIA\", \"MARTINA\", \"NOA\", \"PAULA\", \"CARLA\", \"ONA\", \"AINA\", \"CLAUDIA\", \"VALENTINA\", \"MIA\", \"OLIVIA\", \"ALBA\", \"CLARA\", \"CHLOE\", \"ABRIL\", \"SARA\", \"ARIADNA\", \"DANIELA\", \"VALERIA\", \"ARLET\"], \"legendgroup\": \"Female\", \"marker\": {\"color\": \"#636efa\", \"size\": [137, 129, 122, 122, 119, 103, 103, 102, 94, 81, 79, 74, 68, 68, 65, 65, 63, 63, 62, 60, 57, 55, 55, 55, 54], \"sizemode\": \"area\", \"sizeref\": 0.1392, \"symbol\": \"circle\"}, \"mode\": \"markers+text\", \"name\": \"Female\", \"orientation\": \"v\", \"showlegend\": true, \"text\": [\"JULIA\", \"LAIA\", \"LUCIA\", \"SOFIA\", \"EMMA\", \"MARIA\", \"MARTINA\", \"NOA\", \"PAULA\", \"CARLA\", \"ONA\", \"AINA\", \"CLAUDIA\", \"VALENTINA\", \"MIA\", \"OLIVIA\", \"ALBA\", \"CLARA\", \"CHLOE\", \"ABRIL\", \"SARA\", \"ARIADNA\", \"DANIELA\", \"VALERIA\", \"ARLET\"], \"x\": [137, 129, 122, 122, 119, 103, 103, 102, 94, 81, 79, 74, 68, 68, 65, 65, 63, 63, 62, 60, 57, 55, 55, 55, 54], \"xaxis\": \"x\", \"y\": [4, 8, 12, 16, 20, 24, 28, 32, 36, 40, 44, 48, 52, 56, 60, 64, 68, 72, 76, 80, 84, 88, 92, 96, 100], \"yaxis\": \"y\", \"type\": \"scatter\"}, {\"hovertemplate\": \"<b>%{hovertext}</b><br><br>Gender=Male<br>Year=2016<br>Frequency=%{marker.size}<br>Order=%{y}<br>Name=%{text}<extra></extra>\", \"hovertext\": [\"MARC\", \"ALEX\", \"POL\", \"ERIC\", \"PAU\", \"MARTI\", \"BIEL\", \"BRUNO\", \"LUCAS\", \"JAN\", \"NIL\", \"LEO\", \"ARNAU\", \"MAX\", \"MATEO\", \"DANIEL\", \"HUGO\", \"ALEIX\", \"GAEL\", \"PABLO\", \"GERARD\", \"ADRIA\", \"ROC\", \"GABRIEL\", \"ROGER\"], \"ids\": [\"MARC\", \"ALEX\", \"POL\", \"ERIC\", \"PAU\", \"MARTI\", \"BIEL\", \"BRUNO\", \"LUCAS\", \"JAN\", \"NIL\", \"LEO\", \"ARNAU\", \"MAX\", \"MATEO\", \"DANIEL\", \"HUGO\", \"ALEIX\", \"GAEL\", \"PABLO\", \"GERARD\", \"ADRIA\", \"ROC\", \"GABRIEL\", \"ROGER\"], \"legendgroup\": \"Male\", \"marker\": {\"color\": \"#EF553B\", \"size\": [148, 140, 110, 109, 107, 104, 99, 93, 93, 91, 88, 83, 76, 75, 69, 68, 66, 64, 64, 59, 57, 51, 48, 44, 44], \"sizemode\": \"area\", \"sizeref\": 0.1392, \"symbol\": \"circle\"}, \"mode\": \"markers+text\", \"name\": \"Male\", \"orientation\": \"v\", \"showlegend\": true, \"text\": [\"MARC\", \"ALEX\", \"POL\", \"ERIC\", \"PAU\", \"MARTI\", \"BIEL\", \"BRUNO\", \"LUCAS\", \"JAN\", \"NIL\", \"LEO\", \"ARNAU\", \"MAX\", \"MATEO\", \"DANIEL\", \"HUGO\", \"ALEIX\", \"GAEL\", \"PABLO\", \"GERARD\", \"ADRIA\", \"ROC\", \"GABRIEL\", \"ROGER\"], \"x\": [148, 140, 110, 109, 107, 104, 99, 93, 93, 91, 88, 83, 76, 75, 69, 68, 66, 64, 64, 59, 57, 51, 48, 44, 44], \"xaxis\": \"x\", \"y\": [4, 8, 12, 16, 20, 24, 28, 32, 36, 40, 44, 48, 52, 56, 60, 64, 68, 72, 76, 80, 84, 88, 92, 96, 100], \"yaxis\": \"y\", \"type\": \"scatter\"}], \"name\": \"2016\"}]);\n",
       "                        }).then(function(){\n",
       "                            \n",
       "var gd = document.getElementById('e2fb6cc6-d66b-4a05-8eec-70943f08c273');\n",
       "var x = new MutationObserver(function (mutations, observer) {{\n",
       "        var display = window.getComputedStyle(gd).display;\n",
       "        if (!display || display === 'none') {{\n",
       "            console.log([gd, 'removed!']);\n",
       "            Plotly.purge(gd);\n",
       "            observer.disconnect();\n",
       "        }}\n",
       "}});\n",
       "\n",
       "// Listen for the removal of the full notebook cells\n",
       "var notebookContainer = gd.closest('#notebook-container');\n",
       "if (notebookContainer) {{\n",
       "    x.observe(notebookContainer, {childList: true});\n",
       "}}\n",
       "\n",
       "// Listen for the clearing of the current output cell\n",
       "var outputEl = gd.closest('.output');\n",
       "if (outputEl) {{\n",
       "    x.observe(outputEl, {childList: true});\n",
       "}}\n",
       "\n",
       "                        })                };                });            </script>        </div>"
      ]
     },
     "metadata": {},
     "output_type": "display_data"
    }
   ],
   "source": [
    "fig = px.scatter(df, x=\"Frequency\", y=\"Order\", \n",
    "          animation_frame=\"Year\",\n",
    "          animation_group = \"Name\",\n",
    "                 text = \"Name\",\n",
    "          size=\"Frequency\", color=\"Gender\", hover_name=\"Name\",size_max=50, range_x = [43, 375],\n",
    "                 \n",
    "                 title= \"Baby names in Barcelona 1996-2016\"\n",
    "                \n",
    "                )\n",
    "\n",
    "fig.update_layout(showlegend=False, plot_bgcolor=\"white\")\n",
    "fig.update_yaxes(visible=False, showticklabels=False)\n",
    "fig.layout.updatemenus[0].buttons[0].args[1][\"frame\"][\"duration\"] = 1000\n",
    "\n",
    "\n",
    "fig.show()"
   ]
  },
  {
   "cell_type": "markdown",
   "id": "dramatic-admission",
   "metadata": {},
   "source": [
    "# Male Names"
   ]
  },
  {
   "cell_type": "code",
   "execution_count": 5,
   "id": "affecting-theorem",
   "metadata": {
    "ExecuteTime": {
     "end_time": "2021-03-22T09:10:19.386758Z",
     "start_time": "2021-03-22T09:10:19.380809Z"
    }
   },
   "outputs": [],
   "source": [
    "df_Male = df[df[\"Gender\"] == \"Male\"]"
   ]
  },
  {
   "cell_type": "code",
   "execution_count": 6,
   "id": "italic-planner",
   "metadata": {
    "ExecuteTime": {
     "end_time": "2021-03-22T09:10:20.863597Z",
     "start_time": "2021-03-22T09:10:20.497878Z"
    },
    "scrolled": false
   },
   "outputs": [
    {
     "data": {
      "application/vnd.plotly.v1+json": {
       "config": {
        "plotlyServerURL": "https://plotly.com"
       },
       "data": [
        {
         "alignmentgroup": "True",
         "hovertemplate": "Name=%{x}<br>Frequency=%{y}<extra></extra>",
         "legendgroup": "MARC",
         "marker": {
          "color": "#636efa"
         },
         "name": "MARC",
         "offsetgroup": "MARC",
         "orientation": "v",
         "showlegend": true,
         "textposition": "outside",
         "type": "bar",
         "x": [
          "MARC",
          "MARC",
          "MARC",
          "MARC",
          "MARC",
          "MARC",
          "MARC",
          "MARC",
          "MARC",
          "MARC",
          "MARC",
          "MARC",
          "MARC",
          "MARC",
          "MARC",
          "MARC",
          "MARC",
          "MARC",
          "MARC",
          "MARC",
          "MARC"
         ],
         "xaxis": "x",
         "y": [
          295,
          348,
          330,
          291,
          290,
          234,
          267,
          287,
          259,
          277,
          229,
          237,
          244,
          194,
          195,
          209,
          206,
          175,
          192,
          172,
          148
         ],
         "yaxis": "y"
        },
        {
         "alignmentgroup": "True",
         "hovertemplate": "Name=%{x}<br>Frequency=%{y}<extra></extra>",
         "legendgroup": "DAVID",
         "marker": {
          "color": "#EF553B"
         },
         "name": "DAVID",
         "offsetgroup": "DAVID",
         "orientation": "v",
         "showlegend": true,
         "textposition": "outside",
         "type": "bar",
         "x": [
          "DAVID",
          "DAVID",
          "DAVID",
          "DAVID",
          "DAVID",
          "DAVID",
          "DAVID",
          "DAVID",
          "DAVID",
          "DAVID",
          "DAVID",
          "DAVID",
          "DAVID",
          "DAVID",
          "DAVID",
          "DAVID",
          "DAVID",
          "DAVID",
          "DAVID",
          "DAVID"
         ],
         "xaxis": "x",
         "y": [
          198,
          183,
          184,
          159,
          187,
          154,
          150,
          173,
          129,
          157,
          116,
          127,
          109,
          87,
          90,
          85,
          59,
          80,
          57,
          60
         ],
         "yaxis": "y"
        },
        {
         "alignmentgroup": "True",
         "hovertemplate": "Name=%{x}<br>Frequency=%{y}<extra></extra>",
         "legendgroup": "DANIEL",
         "marker": {
          "color": "#00cc96"
         },
         "name": "DANIEL",
         "offsetgroup": "DANIEL",
         "orientation": "v",
         "showlegend": true,
         "textposition": "outside",
         "type": "bar",
         "x": [
          "DANIEL",
          "DANIEL",
          "DANIEL",
          "DANIEL",
          "DANIEL",
          "DANIEL",
          "DANIEL",
          "DANIEL",
          "DANIEL",
          "DANIEL",
          "DANIEL",
          "DANIEL",
          "DANIEL",
          "DANIEL",
          "DANIEL",
          "DANIEL",
          "DANIEL",
          "DANIEL",
          "DANIEL",
          "DANIEL",
          "DANIEL"
         ],
         "xaxis": "x",
         "y": [
          174,
          163,
          159,
          166,
          176,
          143,
          128,
          156,
          128,
          151,
          141,
          132,
          121,
          98,
          103,
          83,
          81,
          75,
          89,
          83,
          68
         ],
         "yaxis": "y"
        },
        {
         "alignmentgroup": "True",
         "hovertemplate": "Name=%{x}<br>Frequency=%{y}<extra></extra>",
         "legendgroup": "ALBERT",
         "marker": {
          "color": "#ab63fa"
         },
         "name": "ALBERT",
         "offsetgroup": "ALBERT",
         "orientation": "v",
         "showlegend": true,
         "textposition": "outside",
         "type": "bar",
         "x": [
          "ALBERT",
          "ALBERT",
          "ALBERT",
          "ALBERT",
          "ALBERT",
          "ALBERT",
          "ALBERT",
          "ALBERT",
          "ALBERT",
          "ALBERT",
          "ALBERT"
         ],
         "xaxis": "x",
         "y": [
          151,
          126,
          135,
          122,
          125,
          105,
          88,
          79,
          73,
          66,
          61
         ],
         "yaxis": "y"
        },
        {
         "alignmentgroup": "True",
         "hovertemplate": "Name=%{x}<br>Frequency=%{y}<extra></extra>",
         "legendgroup": "VICTOR",
         "marker": {
          "color": "#FFA15A"
         },
         "name": "VICTOR",
         "offsetgroup": "VICTOR",
         "orientation": "v",
         "showlegend": true,
         "textposition": "outside",
         "type": "bar",
         "x": [
          "VICTOR",
          "VICTOR",
          "VICTOR",
          "VICTOR",
          "VICTOR",
          "VICTOR",
          "VICTOR",
          "VICTOR",
          "VICTOR",
          "VICTOR",
          "VICTOR",
          "VICTOR",
          "VICTOR",
          "VICTOR",
          "VICTOR",
          "VICTOR",
          "VICTOR",
          "VICTOR",
          "VICTOR"
         ],
         "xaxis": "x",
         "y": [
          145,
          150,
          139,
          157,
          150,
          126,
          120,
          107,
          116,
          103,
          111,
          98,
          88,
          74,
          77,
          65,
          68,
          64,
          52
         ],
         "yaxis": "y"
        },
        {
         "alignmentgroup": "True",
         "hovertemplate": "Name=%{x}<br>Frequency=%{y}<extra></extra>",
         "legendgroup": "JORDI",
         "marker": {
          "color": "#19d3f3"
         },
         "name": "JORDI",
         "offsetgroup": "JORDI",
         "orientation": "v",
         "showlegend": true,
         "textposition": "outside",
         "type": "bar",
         "x": [
          "JORDI",
          "JORDI",
          "JORDI",
          "JORDI",
          "JORDI",
          "JORDI",
          "JORDI",
          "JORDI",
          "JORDI",
          "JORDI",
          "JORDI",
          "JORDI"
         ],
         "xaxis": "x",
         "y": [
          143,
          112,
          104,
          115,
          105,
          99,
          78,
          93,
          80,
          78,
          54,
          71
         ],
         "yaxis": "y"
        },
        {
         "alignmentgroup": "True",
         "hovertemplate": "Name=%{x}<br>Frequency=%{y}<extra></extra>",
         "legendgroup": "SERGI",
         "marker": {
          "color": "#FF6692"
         },
         "name": "SERGI",
         "offsetgroup": "SERGI",
         "orientation": "v",
         "showlegend": true,
         "textposition": "outside",
         "type": "bar",
         "x": [
          "SERGI",
          "SERGI",
          "SERGI",
          "SERGI",
          "SERGI",
          "SERGI",
          "SERGI",
          "SERGI",
          "SERGI",
          "SERGI"
         ],
         "xaxis": "x",
         "y": [
          137,
          120,
          130,
          107,
          111,
          96,
          72,
          82,
          79,
          67
         ],
         "yaxis": "y"
        },
        {
         "alignmentgroup": "True",
         "hovertemplate": "Name=%{x}<br>Frequency=%{y}<extra></extra>",
         "legendgroup": "ALEJANDRO",
         "marker": {
          "color": "#B6E880"
         },
         "name": "ALEJANDRO",
         "offsetgroup": "ALEJANDRO",
         "orientation": "v",
         "showlegend": true,
         "textposition": "outside",
         "type": "bar",
         "x": [
          "ALEJANDRO",
          "ALEJANDRO",
          "ALEJANDRO",
          "ALEJANDRO",
          "ALEJANDRO",
          "ALEJANDRO",
          "ALEJANDRO",
          "ALEJANDRO",
          "ALEJANDRO",
          "ALEJANDRO",
          "ALEJANDRO",
          "ALEJANDRO",
          "ALEJANDRO",
          "ALEJANDRO",
          "ALEJANDRO",
          "ALEJANDRO",
          "ALEJANDRO"
         ],
         "xaxis": "x",
         "y": [
          132,
          128,
          117,
          118,
          117,
          132,
          124,
          105,
          107,
          102,
          95,
          94,
          87,
          68,
          80,
          64,
          50
         ],
         "yaxis": "y"
        },
        {
         "alignmentgroup": "True",
         "hovertemplate": "Name=%{x}<br>Frequency=%{y}<extra></extra>",
         "legendgroup": "POL",
         "marker": {
          "color": "#FF97FF"
         },
         "name": "POL",
         "offsetgroup": "POL",
         "orientation": "v",
         "showlegend": true,
         "textposition": "outside",
         "type": "bar",
         "x": [
          "POL",
          "POL",
          "POL",
          "POL",
          "POL",
          "POL",
          "POL",
          "POL",
          "POL",
          "POL",
          "POL",
          "POL",
          "POL",
          "POL",
          "POL",
          "POL",
          "POL",
          "POL",
          "POL",
          "POL",
          "POL"
         ],
         "xaxis": "x",
         "y": [
          123,
          143,
          144,
          155,
          189,
          159,
          175,
          184,
          181,
          176,
          173,
          140,
          172,
          146,
          148,
          124,
          138,
          126,
          137,
          88,
          110
         ],
         "yaxis": "y"
        },
        {
         "alignmentgroup": "True",
         "hovertemplate": "Name=%{x}<br>Frequency=%{y}<extra></extra>",
         "legendgroup": "ALEX",
         "marker": {
          "color": "#FECB52"
         },
         "name": "ALEX",
         "offsetgroup": "ALEX",
         "orientation": "v",
         "showlegend": true,
         "textposition": "outside",
         "type": "bar",
         "x": [
          "ALEX",
          "ALEX",
          "ALEX",
          "ALEX",
          "ALEX",
          "ALEX",
          "ALEX",
          "ALEX",
          "ALEX",
          "ALEX",
          "ALEX",
          "ALEX",
          "ALEX",
          "ALEX",
          "ALEX",
          "ALEX",
          "ALEX",
          "ALEX",
          "ALEX",
          "ALEX",
          "ALEX"
         ],
         "xaxis": "x",
         "y": [
          113,
          148,
          174,
          169,
          201,
          164,
          148,
          205,
          185,
          167,
          168,
          163,
          156,
          150,
          143,
          142,
          120,
          122,
          135,
          110,
          140
         ],
         "yaxis": "y"
        },
        {
         "alignmentgroup": "True",
         "hovertemplate": "Name=%{x}<br>Frequency=%{y}<extra></extra>",
         "legendgroup": "PAU",
         "marker": {
          "color": "#636efa"
         },
         "name": "PAU",
         "offsetgroup": "PAU",
         "orientation": "v",
         "showlegend": true,
         "textposition": "outside",
         "type": "bar",
         "x": [
          "PAU",
          "PAU",
          "PAU",
          "PAU",
          "PAU",
          "PAU",
          "PAU",
          "PAU",
          "PAU",
          "PAU",
          "PAU",
          "PAU",
          "PAU",
          "PAU",
          "PAU",
          "PAU",
          "PAU",
          "PAU",
          "PAU",
          "PAU",
          "PAU"
         ],
         "xaxis": "x",
         "y": [
          103,
          125,
          122,
          133,
          134,
          151,
          149,
          202,
          173,
          187,
          163,
          148,
          144,
          165,
          134,
          118,
          110,
          129,
          104,
          108,
          107
         ],
         "yaxis": "y"
        },
        {
         "alignmentgroup": "True",
         "hovertemplate": "Name=%{x}<br>Frequency=%{y}<extra></extra>",
         "legendgroup": "GUILLEM",
         "marker": {
          "color": "#EF553B"
         },
         "name": "GUILLEM",
         "offsetgroup": "GUILLEM",
         "orientation": "v",
         "showlegend": true,
         "textposition": "outside",
         "type": "bar",
         "x": [
          "GUILLEM",
          "GUILLEM",
          "GUILLEM",
          "GUILLEM",
          "GUILLEM",
          "GUILLEM",
          "GUILLEM",
          "GUILLEM",
          "GUILLEM",
          "GUILLEM",
          "GUILLEM",
          "GUILLEM",
          "GUILLEM",
          "GUILLEM",
          "GUILLEM",
          "GUILLEM",
          "GUILLEM",
          "GUILLEM"
         ],
         "xaxis": "x",
         "y": [
          100,
          100,
          104,
          110,
          91,
          83,
          74,
          72,
          82,
          77,
          79,
          71,
          71,
          70,
          66,
          58,
          58,
          47
         ],
         "yaxis": "y"
        },
        {
         "alignmentgroup": "True",
         "hovertemplate": "Name=%{x}<br>Frequency=%{y}<extra></extra>",
         "legendgroup": "CARLOS",
         "marker": {
          "color": "#00cc96"
         },
         "name": "CARLOS",
         "offsetgroup": "CARLOS",
         "orientation": "v",
         "showlegend": true,
         "textposition": "outside",
         "type": "bar",
         "x": [
          "CARLOS",
          "CARLOS",
          "CARLOS",
          "CARLOS",
          "CARLOS",
          "CARLOS",
          "CARLOS",
          "CARLOS"
         ],
         "xaxis": "x",
         "y": [
          97,
          76,
          94,
          88,
          102,
          80,
          65,
          63
         ],
         "yaxis": "y"
        },
        {
         "alignmentgroup": "True",
         "hovertemplate": "Name=%{x}<br>Frequency=%{y}<extra></extra>",
         "legendgroup": "ORIOL",
         "marker": {
          "color": "#ab63fa"
         },
         "name": "ORIOL",
         "offsetgroup": "ORIOL",
         "orientation": "v",
         "showlegend": true,
         "textposition": "outside",
         "type": "bar",
         "x": [
          "ORIOL",
          "ORIOL",
          "ORIOL",
          "ORIOL",
          "ORIOL",
          "ORIOL",
          "ORIOL",
          "ORIOL",
          "ORIOL",
          "ORIOL",
          "ORIOL",
          "ORIOL",
          "ORIOL",
          "ORIOL",
          "ORIOL",
          "ORIOL",
          "ORIOL"
         ],
         "xaxis": "x",
         "y": [
          97,
          115,
          100,
          101,
          102,
          80,
          77,
          90,
          81,
          89,
          88,
          84,
          84,
          71,
          59,
          60,
          60
         ],
         "yaxis": "y"
        },
        {
         "alignmentgroup": "True",
         "hovertemplate": "Name=%{x}<br>Frequency=%{y}<extra></extra>",
         "legendgroup": "ADRIA",
         "marker": {
          "color": "#FFA15A"
         },
         "name": "ADRIA",
         "offsetgroup": "ADRIA",
         "orientation": "v",
         "showlegend": true,
         "textposition": "outside",
         "type": "bar",
         "x": [
          "ADRIA",
          "ADRIA",
          "ADRIA",
          "ADRIA",
          "ADRIA",
          "ADRIA",
          "ADRIA",
          "ADRIA",
          "ADRIA",
          "ADRIA",
          "ADRIA",
          "ADRIA",
          "ADRIA",
          "ADRIA",
          "ADRIA",
          "ADRIA",
          "ADRIA",
          "ADRIA",
          "ADRIA",
          "ADRIA"
         ],
         "xaxis": "x",
         "y": [
          92,
          98,
          81,
          82,
          74,
          85,
          73,
          79,
          93,
          100,
          92,
          60,
          72,
          83,
          69,
          67,
          56,
          68,
          57,
          51
         ],
         "yaxis": "y"
        },
        {
         "alignmentgroup": "True",
         "hovertemplate": "Name=%{x}<br>Frequency=%{y}<extra></extra>",
         "legendgroup": "ROGER",
         "marker": {
          "color": "#19d3f3"
         },
         "name": "ROGER",
         "offsetgroup": "ROGER",
         "orientation": "v",
         "showlegend": true,
         "textposition": "outside",
         "type": "bar",
         "x": [
          "ROGER",
          "ROGER",
          "ROGER",
          "ROGER",
          "ROGER",
          "ROGER",
          "ROGER",
          "ROGER",
          "ROGER",
          "ROGER",
          "ROGER",
          "ROGER"
         ],
         "xaxis": "x",
         "y": [
          91,
          98,
          84,
          91,
          80,
          62,
          71,
          68,
          70,
          69,
          53,
          44
         ],
         "yaxis": "y"
        },
        {
         "alignmentgroup": "True",
         "hovertemplate": "Name=%{x}<br>Frequency=%{y}<extra></extra>",
         "legendgroup": "OSCAR",
         "marker": {
          "color": "#FF6692"
         },
         "name": "OSCAR",
         "offsetgroup": "OSCAR",
         "orientation": "v",
         "showlegend": true,
         "textposition": "outside",
         "type": "bar",
         "x": [
          "OSCAR",
          "OSCAR",
          "OSCAR",
          "OSCAR",
          "OSCAR",
          "OSCAR",
          "OSCAR"
         ],
         "xaxis": "x",
         "y": [
          90,
          92,
          92,
          91,
          74,
          65,
          61
         ],
         "yaxis": "y"
        },
        {
         "alignmentgroup": "True",
         "hovertemplate": "Name=%{x}<br>Frequency=%{y}<extra></extra>",
         "legendgroup": "JAVIER",
         "marker": {
          "color": "#B6E880"
         },
         "name": "JAVIER",
         "offsetgroup": "JAVIER",
         "orientation": "v",
         "showlegend": true,
         "textposition": "outside",
         "type": "bar",
         "x": [
          "JAVIER",
          "JAVIER",
          "JAVIER",
          "JAVIER",
          "JAVIER",
          "JAVIER"
         ],
         "xaxis": "x",
         "y": [
          88,
          85,
          92,
          65,
          80,
          67
         ],
         "yaxis": "y"
        },
        {
         "alignmentgroup": "True",
         "hovertemplate": "Name=%{x}<br>Frequency=%{y}<extra></extra>",
         "legendgroup": "GERARD",
         "marker": {
          "color": "#FF97FF"
         },
         "name": "GERARD",
         "offsetgroup": "GERARD",
         "orientation": "v",
         "showlegend": true,
         "textposition": "outside",
         "type": "bar",
         "x": [
          "GERARD",
          "GERARD",
          "GERARD",
          "GERARD",
          "GERARD",
          "GERARD",
          "GERARD",
          "GERARD",
          "GERARD",
          "GERARD",
          "GERARD",
          "GERARD",
          "GERARD",
          "GERARD",
          "GERARD",
          "GERARD",
          "GERARD",
          "GERARD",
          "GERARD",
          "GERARD"
         ],
         "xaxis": "x",
         "y": [
          85,
          104,
          80,
          93,
          84,
          125,
          106,
          94,
          90,
          87,
          72,
          76,
          67,
          100,
          99,
          98,
          86,
          71,
          64,
          57
         ],
         "yaxis": "y"
        },
        {
         "alignmentgroup": "True",
         "hovertemplate": "Name=%{x}<br>Frequency=%{y}<extra></extra>",
         "legendgroup": "ARNAU",
         "marker": {
          "color": "#FECB52"
         },
         "name": "ARNAU",
         "offsetgroup": "ARNAU",
         "orientation": "v",
         "showlegend": true,
         "textposition": "outside",
         "type": "bar",
         "x": [
          "ARNAU",
          "ARNAU",
          "ARNAU",
          "ARNAU",
          "ARNAU",
          "ARNAU",
          "ARNAU",
          "ARNAU",
          "ARNAU",
          "ARNAU",
          "ARNAU",
          "ARNAU",
          "ARNAU",
          "ARNAU",
          "ARNAU",
          "ARNAU",
          "ARNAU",
          "ARNAU",
          "ARNAU",
          "ARNAU",
          "ARNAU"
         ],
         "xaxis": "x",
         "y": [
          84,
          101,
          109,
          112,
          120,
          108,
          115,
          109,
          125,
          115,
          117,
          115,
          98,
          106,
          110,
          95,
          101,
          100,
          73,
          93,
          76
         ],
         "yaxis": "y"
        },
        {
         "alignmentgroup": "True",
         "hovertemplate": "Name=%{x}<br>Frequency=%{y}<extra></extra>",
         "legendgroup": "IVAN",
         "marker": {
          "color": "#636efa"
         },
         "name": "IVAN",
         "offsetgroup": "IVAN",
         "orientation": "v",
         "showlegend": true,
         "textposition": "outside",
         "type": "bar",
         "x": [
          "IVAN",
          "IVAN",
          "IVAN",
          "IVAN",
          "IVAN",
          "IVAN",
          "IVAN"
         ],
         "xaxis": "x",
         "y": [
          80,
          81,
          78,
          91,
          62,
          75,
          68
         ],
         "yaxis": "y"
        },
        {
         "alignmentgroup": "True",
         "hovertemplate": "Name=%{x}<br>Frequency=%{y}<extra></extra>",
         "legendgroup": "XAVIER",
         "marker": {
          "color": "#EF553B"
         },
         "name": "XAVIER",
         "offsetgroup": "XAVIER",
         "orientation": "v",
         "showlegend": true,
         "textposition": "outside",
         "type": "bar",
         "x": [
          "XAVIER",
          "XAVIER",
          "XAVIER",
          "XAVIER",
          "XAVIER",
          "XAVIER",
          "XAVIER",
          "XAVIER"
         ],
         "xaxis": "x",
         "y": [
          79,
          84,
          65,
          82,
          70,
          61,
          61,
          63
         ],
         "yaxis": "y"
        },
        {
         "alignmentgroup": "True",
         "hovertemplate": "Name=%{x}<br>Frequency=%{y}<extra></extra>",
         "legendgroup": "JOAN",
         "marker": {
          "color": "#00cc96"
         },
         "name": "JOAN",
         "offsetgroup": "JOAN",
         "orientation": "v",
         "showlegend": true,
         "textposition": "outside",
         "type": "bar",
         "x": [
          "JOAN",
          "JOAN",
          "JOAN",
          "JOAN",
          "JOAN",
          "JOAN",
          "JOAN",
          "JOAN",
          "JOAN",
          "JOAN",
          "JOAN",
          "JOAN",
          "JOAN",
          "JOAN"
         ],
         "xaxis": "x",
         "y": [
          76,
          103,
          91,
          97,
          107,
          108,
          97,
          119,
          98,
          82,
          91,
          89,
          80,
          59
         ],
         "yaxis": "y"
        },
        {
         "alignmentgroup": "True",
         "hovertemplate": "Name=%{x}<br>Frequency=%{y}<extra></extra>",
         "legendgroup": "ERIC",
         "marker": {
          "color": "#ab63fa"
         },
         "name": "ERIC",
         "offsetgroup": "ERIC",
         "orientation": "v",
         "showlegend": true,
         "textposition": "outside",
         "type": "bar",
         "x": [
          "ERIC",
          "ERIC",
          "ERIC",
          "ERIC",
          "ERIC",
          "ERIC",
          "ERIC",
          "ERIC",
          "ERIC",
          "ERIC",
          "ERIC",
          "ERIC",
          "ERIC",
          "ERIC",
          "ERIC",
          "ERIC",
          "ERIC",
          "ERIC",
          "ERIC",
          "ERIC",
          "ERIC"
         ],
         "xaxis": "x",
         "y": [
          75,
          80,
          80,
          80,
          83,
          71,
          84,
          89,
          88,
          90,
          88,
          126,
          100,
          130,
          117,
          113,
          125,
          122,
          123,
          109,
          109
         ],
         "yaxis": "y"
        },
        {
         "alignmentgroup": "True",
         "hovertemplate": "Name=%{x}<br>Frequency=%{y}<extra></extra>",
         "legendgroup": "PABLO",
         "marker": {
          "color": "#FFA15A"
         },
         "name": "PABLO",
         "offsetgroup": "PABLO",
         "orientation": "v",
         "showlegend": true,
         "textposition": "outside",
         "type": "bar",
         "x": [
          "PABLO",
          "PABLO",
          "PABLO",
          "PABLO",
          "PABLO",
          "PABLO",
          "PABLO",
          "PABLO",
          "PABLO",
          "PABLO",
          "PABLO",
          "PABLO",
          "PABLO",
          "PABLO",
          "PABLO",
          "PABLO",
          "PABLO",
          "PABLO",
          "PABLO",
          "PABLO"
         ],
         "xaxis": "x",
         "y": [
          74,
          64,
          75,
          71,
          85,
          103,
          104,
          107,
          106,
          76,
          89,
          86,
          87,
          78,
          68,
          66,
          56,
          61,
          67,
          59
         ],
         "yaxis": "y"
        },
        {
         "alignmentgroup": "True",
         "hovertemplate": "Name=%{x}<br>Frequency=%{y}<extra></extra>",
         "legendgroup": "ADRIAN",
         "marker": {
          "color": "#19d3f3"
         },
         "name": "ADRIAN",
         "offsetgroup": "ADRIAN",
         "orientation": "v",
         "showlegend": true,
         "textposition": "outside",
         "type": "bar",
         "x": [
          "ADRIAN",
          "ADRIAN"
         ],
         "xaxis": "x",
         "y": [
          72,
          68
         ],
         "yaxis": "y"
        },
        {
         "alignmentgroup": "True",
         "hovertemplate": "Name=%{x}<br>Frequency=%{y}<extra></extra>",
         "legendgroup": "SERGIO",
         "marker": {
          "color": "#FF6692"
         },
         "name": "SERGIO",
         "offsetgroup": "SERGIO",
         "orientation": "v",
         "showlegend": true,
         "textposition": "outside",
         "type": "bar",
         "x": [
          "SERGIO"
         ],
         "xaxis": "x",
         "y": [
          64
         ],
         "yaxis": "y"
        },
        {
         "alignmentgroup": "True",
         "hovertemplate": "Name=%{x}<br>Frequency=%{y}<extra></extra>",
         "legendgroup": "JOEL",
         "marker": {
          "color": "#B6E880"
         },
         "name": "JOEL",
         "offsetgroup": "JOEL",
         "orientation": "v",
         "showlegend": true,
         "textposition": "outside",
         "type": "bar",
         "x": [
          "JOEL",
          "JOEL",
          "JOEL",
          "JOEL",
          "JOEL",
          "JOEL",
          "JOEL",
          "JOEL",
          "JOEL",
          "JOEL",
          "JOEL"
         ],
         "xaxis": "x",
         "y": [
          70,
          80,
          70,
          86,
          72,
          93,
          66,
          83,
          70,
          58,
          51
         ],
         "yaxis": "y"
        },
        {
         "alignmentgroup": "True",
         "hovertemplate": "Name=%{x}<br>Frequency=%{y}<extra></extra>",
         "legendgroup": "MARTI",
         "marker": {
          "color": "#FF97FF"
         },
         "name": "MARTI",
         "offsetgroup": "MARTI",
         "orientation": "v",
         "showlegend": true,
         "textposition": "outside",
         "type": "bar",
         "x": [
          "MARTI",
          "MARTI",
          "MARTI",
          "MARTI",
          "MARTI",
          "MARTI",
          "MARTI",
          "MARTI",
          "MARTI",
          "MARTI",
          "MARTI",
          "MARTI",
          "MARTI",
          "MARTI",
          "MARTI"
         ],
         "xaxis": "x",
         "y": [
          64,
          79,
          88,
          111,
          98,
          126,
          98,
          116,
          124,
          103,
          99,
          95,
          116,
          133,
          104
         ],
         "yaxis": "y"
        },
        {
         "alignmentgroup": "True",
         "hovertemplate": "Name=%{x}<br>Frequency=%{y}<extra></extra>",
         "legendgroup": "RAUL",
         "marker": {
          "color": "#FECB52"
         },
         "name": "RAUL",
         "offsetgroup": "RAUL",
         "orientation": "v",
         "showlegend": true,
         "textposition": "outside",
         "type": "bar",
         "x": [
          "RAUL"
         ],
         "xaxis": "x",
         "y": [
          65
         ],
         "yaxis": "y"
        },
        {
         "alignmentgroup": "True",
         "hovertemplate": "Name=%{x}<br>Frequency=%{y}<extra></extra>",
         "legendgroup": "JAN",
         "marker": {
          "color": "#636efa"
         },
         "name": "JAN",
         "offsetgroup": "JAN",
         "orientation": "v",
         "showlegend": true,
         "textposition": "outside",
         "type": "bar",
         "x": [
          "JAN",
          "JAN",
          "JAN",
          "JAN",
          "JAN",
          "JAN",
          "JAN",
          "JAN",
          "JAN",
          "JAN",
          "JAN",
          "JAN",
          "JAN",
          "JAN"
         ],
         "xaxis": "x",
         "y": [
          87,
          88,
          122,
          84,
          88,
          106,
          100,
          98,
          73,
          98,
          92,
          89,
          88,
          91
         ],
         "yaxis": "y"
        },
        {
         "alignmentgroup": "True",
         "hovertemplate": "Name=%{x}<br>Frequency=%{y}<extra></extra>",
         "legendgroup": "ALVARO",
         "marker": {
          "color": "#EF553B"
         },
         "name": "ALVARO",
         "offsetgroup": "ALVARO",
         "orientation": "v",
         "showlegend": true,
         "textposition": "outside",
         "type": "bar",
         "x": [
          "ALVARO",
          "ALVARO"
         ],
         "xaxis": "x",
         "y": [
          68,
          58
         ],
         "yaxis": "y"
        },
        {
         "alignmentgroup": "True",
         "hovertemplate": "Name=%{x}<br>Frequency=%{y}<extra></extra>",
         "legendgroup": "HUGO",
         "marker": {
          "color": "#00cc96"
         },
         "name": "HUGO",
         "offsetgroup": "HUGO",
         "orientation": "v",
         "showlegend": true,
         "textposition": "outside",
         "type": "bar",
         "x": [
          "HUGO",
          "HUGO",
          "HUGO",
          "HUGO",
          "HUGO",
          "HUGO",
          "HUGO",
          "HUGO",
          "HUGO",
          "HUGO",
          "HUGO"
         ],
         "xaxis": "x",
         "y": [
          70,
          67,
          80,
          89,
          79,
          79,
          88,
          89,
          82,
          107,
          66
         ],
         "yaxis": "y"
        },
        {
         "alignmentgroup": "True",
         "hovertemplate": "Name=%{x}<br>Frequency=%{y}<extra></extra>",
         "legendgroup": "IKER",
         "marker": {
          "color": "#ab63fa"
         },
         "name": "IKER",
         "offsetgroup": "IKER",
         "orientation": "v",
         "showlegend": true,
         "textposition": "outside",
         "type": "bar",
         "x": [
          "IKER",
          "IKER",
          "IKER",
          "IKER"
         ],
         "xaxis": "x",
         "y": [
          63,
          54,
          77,
          56
         ],
         "yaxis": "y"
        },
        {
         "alignmentgroup": "True",
         "hovertemplate": "Name=%{x}<br>Frequency=%{y}<extra></extra>",
         "legendgroup": "BIEL",
         "marker": {
          "color": "#FFA15A"
         },
         "name": "BIEL",
         "offsetgroup": "BIEL",
         "orientation": "v",
         "showlegend": true,
         "textposition": "outside",
         "type": "bar",
         "x": [
          "BIEL",
          "BIEL",
          "BIEL",
          "BIEL",
          "BIEL",
          "BIEL",
          "BIEL",
          "BIEL",
          "BIEL",
          "BIEL",
          "BIEL"
         ],
         "xaxis": "x",
         "y": [
          59,
          75,
          92,
          86,
          88,
          87,
          95,
          95,
          90,
          99,
          99
         ],
         "yaxis": "y"
        },
        {
         "alignmentgroup": "True",
         "hovertemplate": "Name=%{x}<br>Frequency=%{y}<extra></extra>",
         "legendgroup": "NICOLAS",
         "marker": {
          "color": "#19d3f3"
         },
         "name": "NICOLAS",
         "offsetgroup": "NICOLAS",
         "orientation": "v",
         "showlegend": true,
         "textposition": "outside",
         "type": "bar",
         "x": [
          "NICOLAS",
          "NICOLAS",
          "NICOLAS",
          "NICOLAS",
          "NICOLAS",
          "NICOLAS",
          "NICOLAS",
          "NICOLAS"
         ],
         "xaxis": "x",
         "y": [
          58,
          73,
          62,
          64,
          78,
          73,
          62,
          62
         ],
         "yaxis": "y"
        },
        {
         "alignmentgroup": "True",
         "hovertemplate": "Name=%{x}<br>Frequency=%{y}<extra></extra>",
         "legendgroup": "BRUNO",
         "marker": {
          "color": "#FF6692"
         },
         "name": "BRUNO",
         "offsetgroup": "BRUNO",
         "orientation": "v",
         "showlegend": true,
         "textposition": "outside",
         "type": "bar",
         "x": [
          "BRUNO",
          "BRUNO",
          "BRUNO",
          "BRUNO",
          "BRUNO",
          "BRUNO",
          "BRUNO",
          "BRUNO",
          "BRUNO"
         ],
         "xaxis": "x",
         "y": [
          80,
          63,
          68,
          75,
          65,
          72,
          61,
          79,
          93
         ],
         "yaxis": "y"
        },
        {
         "alignmentgroup": "True",
         "hovertemplate": "Name=%{x}<br>Frequency=%{y}<extra></extra>",
         "legendgroup": "LUCAS",
         "marker": {
          "color": "#B6E880"
         },
         "name": "LUCAS",
         "offsetgroup": "LUCAS",
         "orientation": "v",
         "showlegend": true,
         "textposition": "outside",
         "type": "bar",
         "x": [
          "LUCAS",
          "LUCAS",
          "LUCAS",
          "LUCAS",
          "LUCAS",
          "LUCAS",
          "LUCAS",
          "LUCAS",
          "LUCAS"
         ],
         "xaxis": "x",
         "y": [
          73,
          65,
          65,
          70,
          62,
          77,
          73,
          79,
          93
         ],
         "yaxis": "y"
        },
        {
         "alignmentgroup": "True",
         "hovertemplate": "Name=%{x}<br>Frequency=%{y}<extra></extra>",
         "legendgroup": "MAX",
         "marker": {
          "color": "#FF97FF"
         },
         "name": "MAX",
         "offsetgroup": "MAX",
         "orientation": "v",
         "showlegend": true,
         "textposition": "outside",
         "type": "bar",
         "x": [
          "MAX",
          "MAX",
          "MAX",
          "MAX",
          "MAX",
          "MAX"
         ],
         "xaxis": "x",
         "y": [
          61,
          60,
          59,
          57,
          79,
          75
         ],
         "yaxis": "y"
        },
        {
         "alignmentgroup": "True",
         "hovertemplate": "Name=%{x}<br>Frequency=%{y}<extra></extra>",
         "legendgroup": "NIL",
         "marker": {
          "color": "#FECB52"
         },
         "name": "NIL",
         "offsetgroup": "NIL",
         "orientation": "v",
         "showlegend": true,
         "textposition": "outside",
         "type": "bar",
         "x": [
          "NIL",
          "NIL",
          "NIL",
          "NIL",
          "NIL",
          "NIL",
          "NIL"
         ],
         "xaxis": "x",
         "y": [
          69,
          62,
          72,
          73,
          77,
          88,
          88
         ],
         "yaxis": "y"
        },
        {
         "alignmentgroup": "True",
         "hovertemplate": "Name=%{x}<br>Frequency=%{y}<extra></extra>",
         "legendgroup": "ALEIX",
         "marker": {
          "color": "#636efa"
         },
         "name": "ALEIX",
         "offsetgroup": "ALEIX",
         "orientation": "v",
         "showlegend": true,
         "textposition": "outside",
         "type": "bar",
         "x": [
          "ALEIX",
          "ALEIX",
          "ALEIX",
          "ALEIX",
          "ALEIX",
          "ALEIX"
         ],
         "xaxis": "x",
         "y": [
          61,
          64,
          53,
          63,
          63,
          64
         ],
         "yaxis": "y"
        },
        {
         "alignmentgroup": "True",
         "hovertemplate": "Name=%{x}<br>Frequency=%{y}<extra></extra>",
         "legendgroup": "LEO",
         "marker": {
          "color": "#EF553B"
         },
         "name": "LEO",
         "offsetgroup": "LEO",
         "orientation": "v",
         "showlegend": true,
         "textposition": "outside",
         "type": "bar",
         "x": [
          "LEO",
          "LEO",
          "LEO",
          "LEO",
          "LEO",
          "LEO"
         ],
         "xaxis": "x",
         "y": [
          58,
          71,
          76,
          78,
          80,
          83
         ],
         "yaxis": "y"
        },
        {
         "alignmentgroup": "True",
         "hovertemplate": "Name=%{x}<br>Frequency=%{y}<extra></extra>",
         "legendgroup": "MATEO",
         "marker": {
          "color": "#00cc96"
         },
         "name": "MATEO",
         "offsetgroup": "MATEO",
         "orientation": "v",
         "showlegend": true,
         "textposition": "outside",
         "type": "bar",
         "x": [
          "MATEO",
          "MATEO",
          "MATEO",
          "MATEO"
         ],
         "xaxis": "x",
         "y": [
          52,
          52,
          65,
          69
         ],
         "yaxis": "y"
        },
        {
         "alignmentgroup": "True",
         "hovertemplate": "Name=%{x}<br>Frequency=%{y}<extra></extra>",
         "legendgroup": "MARIO",
         "marker": {
          "color": "#ab63fa"
         },
         "name": "MARIO",
         "offsetgroup": "MARIO",
         "orientation": "v",
         "showlegend": true,
         "textposition": "outside",
         "type": "bar",
         "x": [
          "MARIO"
         ],
         "xaxis": "x",
         "y": [
          46
         ],
         "yaxis": "y"
        },
        {
         "alignmentgroup": "True",
         "hovertemplate": "Name=%{x}<br>Frequency=%{y}<extra></extra>",
         "legendgroup": "ROC",
         "marker": {
          "color": "#FFA15A"
         },
         "name": "ROC",
         "offsetgroup": "ROC",
         "orientation": "v",
         "showlegend": true,
         "textposition": "outside",
         "type": "bar",
         "x": [
          "ROC",
          "ROC"
         ],
         "xaxis": "x",
         "y": [
          57,
          48
         ],
         "yaxis": "y"
        },
        {
         "alignmentgroup": "True",
         "hovertemplate": "Name=%{x}<br>Frequency=%{y}<extra></extra>",
         "legendgroup": "GAEL",
         "marker": {
          "color": "#19d3f3"
         },
         "name": "GAEL",
         "offsetgroup": "GAEL",
         "orientation": "v",
         "showlegend": true,
         "textposition": "outside",
         "type": "bar",
         "x": [
          "GAEL"
         ],
         "xaxis": "x",
         "y": [
          64
         ],
         "yaxis": "y"
        },
        {
         "alignmentgroup": "True",
         "hovertemplate": "Name=%{x}<br>Frequency=%{y}<extra></extra>",
         "legendgroup": "GABRIEL",
         "marker": {
          "color": "#FF6692"
         },
         "name": "GABRIEL",
         "offsetgroup": "GABRIEL",
         "orientation": "v",
         "showlegend": true,
         "textposition": "outside",
         "type": "bar",
         "x": [
          "GABRIEL"
         ],
         "xaxis": "x",
         "y": [
          44
         ],
         "yaxis": "y"
        }
       ],
       "layout": {
        "autosize": false,
        "barmode": "relative",
        "legend": {
         "title": {
          "text": "Name"
         },
         "tracegroupgap": 0
        },
        "margin": {
         "autoexpand": true
        },
        "plot_bgcolor": "white",
        "showlegend": false,
        "template": {
         "data": {
          "bar": [
           {
            "error_x": {
             "color": "#2a3f5f"
            },
            "error_y": {
             "color": "#2a3f5f"
            },
            "marker": {
             "line": {
              "color": "#E5ECF6",
              "width": 0.5
             }
            },
            "type": "bar"
           }
          ],
          "barpolar": [
           {
            "marker": {
             "line": {
              "color": "#E5ECF6",
              "width": 0.5
             }
            },
            "type": "barpolar"
           }
          ],
          "carpet": [
           {
            "aaxis": {
             "endlinecolor": "#2a3f5f",
             "gridcolor": "white",
             "linecolor": "white",
             "minorgridcolor": "white",
             "startlinecolor": "#2a3f5f"
            },
            "baxis": {
             "endlinecolor": "#2a3f5f",
             "gridcolor": "white",
             "linecolor": "white",
             "minorgridcolor": "white",
             "startlinecolor": "#2a3f5f"
            },
            "type": "carpet"
           }
          ],
          "choropleth": [
           {
            "colorbar": {
             "outlinewidth": 0,
             "ticks": ""
            },
            "type": "choropleth"
           }
          ],
          "contour": [
           {
            "colorbar": {
             "outlinewidth": 0,
             "ticks": ""
            },
            "colorscale": [
             [
              0,
              "#0d0887"
             ],
             [
              0.1111111111111111,
              "#46039f"
             ],
             [
              0.2222222222222222,
              "#7201a8"
             ],
             [
              0.3333333333333333,
              "#9c179e"
             ],
             [
              0.4444444444444444,
              "#bd3786"
             ],
             [
              0.5555555555555556,
              "#d8576b"
             ],
             [
              0.6666666666666666,
              "#ed7953"
             ],
             [
              0.7777777777777778,
              "#fb9f3a"
             ],
             [
              0.8888888888888888,
              "#fdca26"
             ],
             [
              1,
              "#f0f921"
             ]
            ],
            "type": "contour"
           }
          ],
          "contourcarpet": [
           {
            "colorbar": {
             "outlinewidth": 0,
             "ticks": ""
            },
            "type": "contourcarpet"
           }
          ],
          "heatmap": [
           {
            "colorbar": {
             "outlinewidth": 0,
             "ticks": ""
            },
            "colorscale": [
             [
              0,
              "#0d0887"
             ],
             [
              0.1111111111111111,
              "#46039f"
             ],
             [
              0.2222222222222222,
              "#7201a8"
             ],
             [
              0.3333333333333333,
              "#9c179e"
             ],
             [
              0.4444444444444444,
              "#bd3786"
             ],
             [
              0.5555555555555556,
              "#d8576b"
             ],
             [
              0.6666666666666666,
              "#ed7953"
             ],
             [
              0.7777777777777778,
              "#fb9f3a"
             ],
             [
              0.8888888888888888,
              "#fdca26"
             ],
             [
              1,
              "#f0f921"
             ]
            ],
            "type": "heatmap"
           }
          ],
          "heatmapgl": [
           {
            "colorbar": {
             "outlinewidth": 0,
             "ticks": ""
            },
            "colorscale": [
             [
              0,
              "#0d0887"
             ],
             [
              0.1111111111111111,
              "#46039f"
             ],
             [
              0.2222222222222222,
              "#7201a8"
             ],
             [
              0.3333333333333333,
              "#9c179e"
             ],
             [
              0.4444444444444444,
              "#bd3786"
             ],
             [
              0.5555555555555556,
              "#d8576b"
             ],
             [
              0.6666666666666666,
              "#ed7953"
             ],
             [
              0.7777777777777778,
              "#fb9f3a"
             ],
             [
              0.8888888888888888,
              "#fdca26"
             ],
             [
              1,
              "#f0f921"
             ]
            ],
            "type": "heatmapgl"
           }
          ],
          "histogram": [
           {
            "marker": {
             "colorbar": {
              "outlinewidth": 0,
              "ticks": ""
             }
            },
            "type": "histogram"
           }
          ],
          "histogram2d": [
           {
            "colorbar": {
             "outlinewidth": 0,
             "ticks": ""
            },
            "colorscale": [
             [
              0,
              "#0d0887"
             ],
             [
              0.1111111111111111,
              "#46039f"
             ],
             [
              0.2222222222222222,
              "#7201a8"
             ],
             [
              0.3333333333333333,
              "#9c179e"
             ],
             [
              0.4444444444444444,
              "#bd3786"
             ],
             [
              0.5555555555555556,
              "#d8576b"
             ],
             [
              0.6666666666666666,
              "#ed7953"
             ],
             [
              0.7777777777777778,
              "#fb9f3a"
             ],
             [
              0.8888888888888888,
              "#fdca26"
             ],
             [
              1,
              "#f0f921"
             ]
            ],
            "type": "histogram2d"
           }
          ],
          "histogram2dcontour": [
           {
            "colorbar": {
             "outlinewidth": 0,
             "ticks": ""
            },
            "colorscale": [
             [
              0,
              "#0d0887"
             ],
             [
              0.1111111111111111,
              "#46039f"
             ],
             [
              0.2222222222222222,
              "#7201a8"
             ],
             [
              0.3333333333333333,
              "#9c179e"
             ],
             [
              0.4444444444444444,
              "#bd3786"
             ],
             [
              0.5555555555555556,
              "#d8576b"
             ],
             [
              0.6666666666666666,
              "#ed7953"
             ],
             [
              0.7777777777777778,
              "#fb9f3a"
             ],
             [
              0.8888888888888888,
              "#fdca26"
             ],
             [
              1,
              "#f0f921"
             ]
            ],
            "type": "histogram2dcontour"
           }
          ],
          "mesh3d": [
           {
            "colorbar": {
             "outlinewidth": 0,
             "ticks": ""
            },
            "type": "mesh3d"
           }
          ],
          "parcoords": [
           {
            "line": {
             "colorbar": {
              "outlinewidth": 0,
              "ticks": ""
             }
            },
            "type": "parcoords"
           }
          ],
          "pie": [
           {
            "automargin": true,
            "type": "pie"
           }
          ],
          "scatter": [
           {
            "marker": {
             "colorbar": {
              "outlinewidth": 0,
              "ticks": ""
             }
            },
            "type": "scatter"
           }
          ],
          "scatter3d": [
           {
            "line": {
             "colorbar": {
              "outlinewidth": 0,
              "ticks": ""
             }
            },
            "marker": {
             "colorbar": {
              "outlinewidth": 0,
              "ticks": ""
             }
            },
            "type": "scatter3d"
           }
          ],
          "scattercarpet": [
           {
            "marker": {
             "colorbar": {
              "outlinewidth": 0,
              "ticks": ""
             }
            },
            "type": "scattercarpet"
           }
          ],
          "scattergeo": [
           {
            "marker": {
             "colorbar": {
              "outlinewidth": 0,
              "ticks": ""
             }
            },
            "type": "scattergeo"
           }
          ],
          "scattergl": [
           {
            "marker": {
             "colorbar": {
              "outlinewidth": 0,
              "ticks": ""
             }
            },
            "type": "scattergl"
           }
          ],
          "scattermapbox": [
           {
            "marker": {
             "colorbar": {
              "outlinewidth": 0,
              "ticks": ""
             }
            },
            "type": "scattermapbox"
           }
          ],
          "scatterpolar": [
           {
            "marker": {
             "colorbar": {
              "outlinewidth": 0,
              "ticks": ""
             }
            },
            "type": "scatterpolar"
           }
          ],
          "scatterpolargl": [
           {
            "marker": {
             "colorbar": {
              "outlinewidth": 0,
              "ticks": ""
             }
            },
            "type": "scatterpolargl"
           }
          ],
          "scatterternary": [
           {
            "marker": {
             "colorbar": {
              "outlinewidth": 0,
              "ticks": ""
             }
            },
            "type": "scatterternary"
           }
          ],
          "surface": [
           {
            "colorbar": {
             "outlinewidth": 0,
             "ticks": ""
            },
            "colorscale": [
             [
              0,
              "#0d0887"
             ],
             [
              0.1111111111111111,
              "#46039f"
             ],
             [
              0.2222222222222222,
              "#7201a8"
             ],
             [
              0.3333333333333333,
              "#9c179e"
             ],
             [
              0.4444444444444444,
              "#bd3786"
             ],
             [
              0.5555555555555556,
              "#d8576b"
             ],
             [
              0.6666666666666666,
              "#ed7953"
             ],
             [
              0.7777777777777778,
              "#fb9f3a"
             ],
             [
              0.8888888888888888,
              "#fdca26"
             ],
             [
              1,
              "#f0f921"
             ]
            ],
            "type": "surface"
           }
          ],
          "table": [
           {
            "cells": {
             "fill": {
              "color": "#EBF0F8"
             },
             "line": {
              "color": "white"
             }
            },
            "header": {
             "fill": {
              "color": "#C8D4E3"
             },
             "line": {
              "color": "white"
             }
            },
            "type": "table"
           }
          ]
         },
         "layout": {
          "annotationdefaults": {
           "arrowcolor": "#2a3f5f",
           "arrowhead": 0,
           "arrowwidth": 1
          },
          "autotypenumbers": "strict",
          "coloraxis": {
           "colorbar": {
            "outlinewidth": 0,
            "ticks": ""
           }
          },
          "colorscale": {
           "diverging": [
            [
             0,
             "#8e0152"
            ],
            [
             0.1,
             "#c51b7d"
            ],
            [
             0.2,
             "#de77ae"
            ],
            [
             0.3,
             "#f1b6da"
            ],
            [
             0.4,
             "#fde0ef"
            ],
            [
             0.5,
             "#f7f7f7"
            ],
            [
             0.6,
             "#e6f5d0"
            ],
            [
             0.7,
             "#b8e186"
            ],
            [
             0.8,
             "#7fbc41"
            ],
            [
             0.9,
             "#4d9221"
            ],
            [
             1,
             "#276419"
            ]
           ],
           "sequential": [
            [
             0,
             "#0d0887"
            ],
            [
             0.1111111111111111,
             "#46039f"
            ],
            [
             0.2222222222222222,
             "#7201a8"
            ],
            [
             0.3333333333333333,
             "#9c179e"
            ],
            [
             0.4444444444444444,
             "#bd3786"
            ],
            [
             0.5555555555555556,
             "#d8576b"
            ],
            [
             0.6666666666666666,
             "#ed7953"
            ],
            [
             0.7777777777777778,
             "#fb9f3a"
            ],
            [
             0.8888888888888888,
             "#fdca26"
            ],
            [
             1,
             "#f0f921"
            ]
           ],
           "sequentialminus": [
            [
             0,
             "#0d0887"
            ],
            [
             0.1111111111111111,
             "#46039f"
            ],
            [
             0.2222222222222222,
             "#7201a8"
            ],
            [
             0.3333333333333333,
             "#9c179e"
            ],
            [
             0.4444444444444444,
             "#bd3786"
            ],
            [
             0.5555555555555556,
             "#d8576b"
            ],
            [
             0.6666666666666666,
             "#ed7953"
            ],
            [
             0.7777777777777778,
             "#fb9f3a"
            ],
            [
             0.8888888888888888,
             "#fdca26"
            ],
            [
             1,
             "#f0f921"
            ]
           ]
          },
          "colorway": [
           "#636efa",
           "#EF553B",
           "#00cc96",
           "#ab63fa",
           "#FFA15A",
           "#19d3f3",
           "#FF6692",
           "#B6E880",
           "#FF97FF",
           "#FECB52"
          ],
          "font": {
           "color": "#2a3f5f"
          },
          "geo": {
           "bgcolor": "white",
           "lakecolor": "white",
           "landcolor": "#E5ECF6",
           "showlakes": true,
           "showland": true,
           "subunitcolor": "white"
          },
          "hoverlabel": {
           "align": "left"
          },
          "hovermode": "closest",
          "mapbox": {
           "style": "light"
          },
          "paper_bgcolor": "white",
          "plot_bgcolor": "#E5ECF6",
          "polar": {
           "angularaxis": {
            "gridcolor": "white",
            "linecolor": "white",
            "ticks": ""
           },
           "bgcolor": "#E5ECF6",
           "radialaxis": {
            "gridcolor": "white",
            "linecolor": "white",
            "ticks": ""
           }
          },
          "scene": {
           "xaxis": {
            "backgroundcolor": "#E5ECF6",
            "gridcolor": "white",
            "gridwidth": 2,
            "linecolor": "white",
            "showbackground": true,
            "ticks": "",
            "zerolinecolor": "white"
           },
           "yaxis": {
            "backgroundcolor": "#E5ECF6",
            "gridcolor": "white",
            "gridwidth": 2,
            "linecolor": "white",
            "showbackground": true,
            "ticks": "",
            "zerolinecolor": "white"
           },
           "zaxis": {
            "backgroundcolor": "#E5ECF6",
            "gridcolor": "white",
            "gridwidth": 2,
            "linecolor": "white",
            "showbackground": true,
            "ticks": "",
            "zerolinecolor": "white"
           }
          },
          "shapedefaults": {
           "line": {
            "color": "#2a3f5f"
           }
          },
          "ternary": {
           "aaxis": {
            "gridcolor": "white",
            "linecolor": "white",
            "ticks": ""
           },
           "baxis": {
            "gridcolor": "white",
            "linecolor": "white",
            "ticks": ""
           },
           "bgcolor": "#E5ECF6",
           "caxis": {
            "gridcolor": "white",
            "linecolor": "white",
            "ticks": ""
           }
          },
          "title": {
           "x": 0.05
          },
          "xaxis": {
           "automargin": true,
           "gridcolor": "white",
           "linecolor": "white",
           "ticks": "",
           "title": {
            "standoff": 15
           },
           "zerolinecolor": "white",
           "zerolinewidth": 2
          },
          "yaxis": {
           "automargin": true,
           "gridcolor": "white",
           "linecolor": "white",
           "ticks": "",
           "title": {
            "standoff": 15
           },
           "zerolinecolor": "white",
           "zerolinewidth": 2
          }
         }
        },
        "title": {
         "text": "Most common Baby Boy Names "
        },
        "uniformtext": {
         "minsize": 7
        },
        "xaxis": {
         "anchor": "y",
         "categoryarray": [
          "MARC",
          "DAVID",
          "DANIEL",
          "ALBERT",
          "VICTOR",
          "JORDI",
          "SERGI",
          "ALEJANDRO",
          "POL",
          "ALEX",
          "PAU",
          "GUILLEM",
          "CARLOS",
          "ORIOL",
          "ADRIA",
          "ROGER",
          "OSCAR",
          "JAVIER",
          "GERARD",
          "ARNAU",
          "IVAN",
          "XAVIER",
          "JOAN",
          "ERIC",
          "PABLO",
          "ADRIAN",
          "SERGIO",
          "JOEL",
          "MARTI",
          "RAUL",
          "JAN",
          "ALVARO",
          "HUGO",
          "IKER",
          "BIEL",
          "NICOLAS",
          "BRUNO",
          "LUCAS",
          "MAX",
          "NIL",
          "ALEIX",
          "LEO",
          "MATEO",
          "MARIO",
          "ROC",
          "GAEL",
          "GABRIEL"
         ],
         "categoryorder": "array",
         "domain": [
          0,
          1
         ],
         "tickangle": -45,
         "title": {
          "text": "Name"
         }
        },
        "yaxis": {
         "anchor": "x",
         "domain": [
          0,
          1
         ],
         "title": {
          "text": "Frequency"
         }
        }
       }
      },
      "text/html": [
       "<div>                            <div id=\"a5d45921-55d9-408f-b828-99503dceb730\" class=\"plotly-graph-div\" style=\"height:525px; width:100%;\"></div>            <script type=\"text/javascript\">                require([\"plotly\"], function(Plotly) {                    window.PLOTLYENV=window.PLOTLYENV || {};                                    if (document.getElementById(\"a5d45921-55d9-408f-b828-99503dceb730\")) {                    Plotly.newPlot(                        \"a5d45921-55d9-408f-b828-99503dceb730\",                        [{\"alignmentgroup\": \"True\", \"hovertemplate\": \"Name=%{x}<br>Frequency=%{y}<extra></extra>\", \"legendgroup\": \"MARC\", \"marker\": {\"color\": \"#636efa\"}, \"name\": \"MARC\", \"offsetgroup\": \"MARC\", \"orientation\": \"v\", \"showlegend\": true, \"textposition\": \"outside\", \"type\": \"bar\", \"x\": [\"MARC\", \"MARC\", \"MARC\", \"MARC\", \"MARC\", \"MARC\", \"MARC\", \"MARC\", \"MARC\", \"MARC\", \"MARC\", \"MARC\", \"MARC\", \"MARC\", \"MARC\", \"MARC\", \"MARC\", \"MARC\", \"MARC\", \"MARC\", \"MARC\"], \"xaxis\": \"x\", \"y\": [295, 348, 330, 291, 290, 234, 267, 287, 259, 277, 229, 237, 244, 194, 195, 209, 206, 175, 192, 172, 148], \"yaxis\": \"y\"}, {\"alignmentgroup\": \"True\", \"hovertemplate\": \"Name=%{x}<br>Frequency=%{y}<extra></extra>\", \"legendgroup\": \"DAVID\", \"marker\": {\"color\": \"#EF553B\"}, \"name\": \"DAVID\", \"offsetgroup\": \"DAVID\", \"orientation\": \"v\", \"showlegend\": true, \"textposition\": \"outside\", \"type\": \"bar\", \"x\": [\"DAVID\", \"DAVID\", \"DAVID\", \"DAVID\", \"DAVID\", \"DAVID\", \"DAVID\", \"DAVID\", \"DAVID\", \"DAVID\", \"DAVID\", \"DAVID\", \"DAVID\", \"DAVID\", \"DAVID\", \"DAVID\", \"DAVID\", \"DAVID\", \"DAVID\", \"DAVID\"], \"xaxis\": \"x\", \"y\": [198, 183, 184, 159, 187, 154, 150, 173, 129, 157, 116, 127, 109, 87, 90, 85, 59, 80, 57, 60], \"yaxis\": \"y\"}, {\"alignmentgroup\": \"True\", \"hovertemplate\": \"Name=%{x}<br>Frequency=%{y}<extra></extra>\", \"legendgroup\": \"DANIEL\", \"marker\": {\"color\": \"#00cc96\"}, \"name\": \"DANIEL\", \"offsetgroup\": \"DANIEL\", \"orientation\": \"v\", \"showlegend\": true, \"textposition\": \"outside\", \"type\": \"bar\", \"x\": [\"DANIEL\", \"DANIEL\", \"DANIEL\", \"DANIEL\", \"DANIEL\", \"DANIEL\", \"DANIEL\", \"DANIEL\", \"DANIEL\", \"DANIEL\", \"DANIEL\", \"DANIEL\", \"DANIEL\", \"DANIEL\", \"DANIEL\", \"DANIEL\", \"DANIEL\", \"DANIEL\", \"DANIEL\", \"DANIEL\", \"DANIEL\"], \"xaxis\": \"x\", \"y\": [174, 163, 159, 166, 176, 143, 128, 156, 128, 151, 141, 132, 121, 98, 103, 83, 81, 75, 89, 83, 68], \"yaxis\": \"y\"}, {\"alignmentgroup\": \"True\", \"hovertemplate\": \"Name=%{x}<br>Frequency=%{y}<extra></extra>\", \"legendgroup\": \"ALBERT\", \"marker\": {\"color\": \"#ab63fa\"}, \"name\": \"ALBERT\", \"offsetgroup\": \"ALBERT\", \"orientation\": \"v\", \"showlegend\": true, \"textposition\": \"outside\", \"type\": \"bar\", \"x\": [\"ALBERT\", \"ALBERT\", \"ALBERT\", \"ALBERT\", \"ALBERT\", \"ALBERT\", \"ALBERT\", \"ALBERT\", \"ALBERT\", \"ALBERT\", \"ALBERT\"], \"xaxis\": \"x\", \"y\": [151, 126, 135, 122, 125, 105, 88, 79, 73, 66, 61], \"yaxis\": \"y\"}, {\"alignmentgroup\": \"True\", \"hovertemplate\": \"Name=%{x}<br>Frequency=%{y}<extra></extra>\", \"legendgroup\": \"VICTOR\", \"marker\": {\"color\": \"#FFA15A\"}, \"name\": \"VICTOR\", \"offsetgroup\": \"VICTOR\", \"orientation\": \"v\", \"showlegend\": true, \"textposition\": \"outside\", \"type\": \"bar\", \"x\": [\"VICTOR\", \"VICTOR\", \"VICTOR\", \"VICTOR\", \"VICTOR\", \"VICTOR\", \"VICTOR\", \"VICTOR\", \"VICTOR\", \"VICTOR\", \"VICTOR\", \"VICTOR\", \"VICTOR\", \"VICTOR\", \"VICTOR\", \"VICTOR\", \"VICTOR\", \"VICTOR\", \"VICTOR\"], \"xaxis\": \"x\", \"y\": [145, 150, 139, 157, 150, 126, 120, 107, 116, 103, 111, 98, 88, 74, 77, 65, 68, 64, 52], \"yaxis\": \"y\"}, {\"alignmentgroup\": \"True\", \"hovertemplate\": \"Name=%{x}<br>Frequency=%{y}<extra></extra>\", \"legendgroup\": \"JORDI\", \"marker\": {\"color\": \"#19d3f3\"}, \"name\": \"JORDI\", \"offsetgroup\": \"JORDI\", \"orientation\": \"v\", \"showlegend\": true, \"textposition\": \"outside\", \"type\": \"bar\", \"x\": [\"JORDI\", \"JORDI\", \"JORDI\", \"JORDI\", \"JORDI\", \"JORDI\", \"JORDI\", \"JORDI\", \"JORDI\", \"JORDI\", \"JORDI\", \"JORDI\"], \"xaxis\": \"x\", \"y\": [143, 112, 104, 115, 105, 99, 78, 93, 80, 78, 54, 71], \"yaxis\": \"y\"}, {\"alignmentgroup\": \"True\", \"hovertemplate\": \"Name=%{x}<br>Frequency=%{y}<extra></extra>\", \"legendgroup\": \"SERGI\", \"marker\": {\"color\": \"#FF6692\"}, \"name\": \"SERGI\", \"offsetgroup\": \"SERGI\", \"orientation\": \"v\", \"showlegend\": true, \"textposition\": \"outside\", \"type\": \"bar\", \"x\": [\"SERGI\", \"SERGI\", \"SERGI\", \"SERGI\", \"SERGI\", \"SERGI\", \"SERGI\", \"SERGI\", \"SERGI\", \"SERGI\"], \"xaxis\": \"x\", \"y\": [137, 120, 130, 107, 111, 96, 72, 82, 79, 67], \"yaxis\": \"y\"}, {\"alignmentgroup\": \"True\", \"hovertemplate\": \"Name=%{x}<br>Frequency=%{y}<extra></extra>\", \"legendgroup\": \"ALEJANDRO\", \"marker\": {\"color\": \"#B6E880\"}, \"name\": \"ALEJANDRO\", \"offsetgroup\": \"ALEJANDRO\", \"orientation\": \"v\", \"showlegend\": true, \"textposition\": \"outside\", \"type\": \"bar\", \"x\": [\"ALEJANDRO\", \"ALEJANDRO\", \"ALEJANDRO\", \"ALEJANDRO\", \"ALEJANDRO\", \"ALEJANDRO\", \"ALEJANDRO\", \"ALEJANDRO\", \"ALEJANDRO\", \"ALEJANDRO\", \"ALEJANDRO\", \"ALEJANDRO\", \"ALEJANDRO\", \"ALEJANDRO\", \"ALEJANDRO\", \"ALEJANDRO\", \"ALEJANDRO\"], \"xaxis\": \"x\", \"y\": [132, 128, 117, 118, 117, 132, 124, 105, 107, 102, 95, 94, 87, 68, 80, 64, 50], \"yaxis\": \"y\"}, {\"alignmentgroup\": \"True\", \"hovertemplate\": \"Name=%{x}<br>Frequency=%{y}<extra></extra>\", \"legendgroup\": \"POL\", \"marker\": {\"color\": \"#FF97FF\"}, \"name\": \"POL\", \"offsetgroup\": \"POL\", \"orientation\": \"v\", \"showlegend\": true, \"textposition\": \"outside\", \"type\": \"bar\", \"x\": [\"POL\", \"POL\", \"POL\", \"POL\", \"POL\", \"POL\", \"POL\", \"POL\", \"POL\", \"POL\", \"POL\", \"POL\", \"POL\", \"POL\", \"POL\", \"POL\", \"POL\", \"POL\", \"POL\", \"POL\", \"POL\"], \"xaxis\": \"x\", \"y\": [123, 143, 144, 155, 189, 159, 175, 184, 181, 176, 173, 140, 172, 146, 148, 124, 138, 126, 137, 88, 110], \"yaxis\": \"y\"}, {\"alignmentgroup\": \"True\", \"hovertemplate\": \"Name=%{x}<br>Frequency=%{y}<extra></extra>\", \"legendgroup\": \"ALEX\", \"marker\": {\"color\": \"#FECB52\"}, \"name\": \"ALEX\", \"offsetgroup\": \"ALEX\", \"orientation\": \"v\", \"showlegend\": true, \"textposition\": \"outside\", \"type\": \"bar\", \"x\": [\"ALEX\", \"ALEX\", \"ALEX\", \"ALEX\", \"ALEX\", \"ALEX\", \"ALEX\", \"ALEX\", \"ALEX\", \"ALEX\", \"ALEX\", \"ALEX\", \"ALEX\", \"ALEX\", \"ALEX\", \"ALEX\", \"ALEX\", \"ALEX\", \"ALEX\", \"ALEX\", \"ALEX\"], \"xaxis\": \"x\", \"y\": [113, 148, 174, 169, 201, 164, 148, 205, 185, 167, 168, 163, 156, 150, 143, 142, 120, 122, 135, 110, 140], \"yaxis\": \"y\"}, {\"alignmentgroup\": \"True\", \"hovertemplate\": \"Name=%{x}<br>Frequency=%{y}<extra></extra>\", \"legendgroup\": \"PAU\", \"marker\": {\"color\": \"#636efa\"}, \"name\": \"PAU\", \"offsetgroup\": \"PAU\", \"orientation\": \"v\", \"showlegend\": true, \"textposition\": \"outside\", \"type\": \"bar\", \"x\": [\"PAU\", \"PAU\", \"PAU\", \"PAU\", \"PAU\", \"PAU\", \"PAU\", \"PAU\", \"PAU\", \"PAU\", \"PAU\", \"PAU\", \"PAU\", \"PAU\", \"PAU\", \"PAU\", \"PAU\", \"PAU\", \"PAU\", \"PAU\", \"PAU\"], \"xaxis\": \"x\", \"y\": [103, 125, 122, 133, 134, 151, 149, 202, 173, 187, 163, 148, 144, 165, 134, 118, 110, 129, 104, 108, 107], \"yaxis\": \"y\"}, {\"alignmentgroup\": \"True\", \"hovertemplate\": \"Name=%{x}<br>Frequency=%{y}<extra></extra>\", \"legendgroup\": \"GUILLEM\", \"marker\": {\"color\": \"#EF553B\"}, \"name\": \"GUILLEM\", \"offsetgroup\": \"GUILLEM\", \"orientation\": \"v\", \"showlegend\": true, \"textposition\": \"outside\", \"type\": \"bar\", \"x\": [\"GUILLEM\", \"GUILLEM\", \"GUILLEM\", \"GUILLEM\", \"GUILLEM\", \"GUILLEM\", \"GUILLEM\", \"GUILLEM\", \"GUILLEM\", \"GUILLEM\", \"GUILLEM\", \"GUILLEM\", \"GUILLEM\", \"GUILLEM\", \"GUILLEM\", \"GUILLEM\", \"GUILLEM\", \"GUILLEM\"], \"xaxis\": \"x\", \"y\": [100, 100, 104, 110, 91, 83, 74, 72, 82, 77, 79, 71, 71, 70, 66, 58, 58, 47], \"yaxis\": \"y\"}, {\"alignmentgroup\": \"True\", \"hovertemplate\": \"Name=%{x}<br>Frequency=%{y}<extra></extra>\", \"legendgroup\": \"CARLOS\", \"marker\": {\"color\": \"#00cc96\"}, \"name\": \"CARLOS\", \"offsetgroup\": \"CARLOS\", \"orientation\": \"v\", \"showlegend\": true, \"textposition\": \"outside\", \"type\": \"bar\", \"x\": [\"CARLOS\", \"CARLOS\", \"CARLOS\", \"CARLOS\", \"CARLOS\", \"CARLOS\", \"CARLOS\", \"CARLOS\"], \"xaxis\": \"x\", \"y\": [97, 76, 94, 88, 102, 80, 65, 63], \"yaxis\": \"y\"}, {\"alignmentgroup\": \"True\", \"hovertemplate\": \"Name=%{x}<br>Frequency=%{y}<extra></extra>\", \"legendgroup\": \"ORIOL\", \"marker\": {\"color\": \"#ab63fa\"}, \"name\": \"ORIOL\", \"offsetgroup\": \"ORIOL\", \"orientation\": \"v\", \"showlegend\": true, \"textposition\": \"outside\", \"type\": \"bar\", \"x\": [\"ORIOL\", \"ORIOL\", \"ORIOL\", \"ORIOL\", \"ORIOL\", \"ORIOL\", \"ORIOL\", \"ORIOL\", \"ORIOL\", \"ORIOL\", \"ORIOL\", \"ORIOL\", \"ORIOL\", \"ORIOL\", \"ORIOL\", \"ORIOL\", \"ORIOL\"], \"xaxis\": \"x\", \"y\": [97, 115, 100, 101, 102, 80, 77, 90, 81, 89, 88, 84, 84, 71, 59, 60, 60], \"yaxis\": \"y\"}, {\"alignmentgroup\": \"True\", \"hovertemplate\": \"Name=%{x}<br>Frequency=%{y}<extra></extra>\", \"legendgroup\": \"ADRIA\", \"marker\": {\"color\": \"#FFA15A\"}, \"name\": \"ADRIA\", \"offsetgroup\": \"ADRIA\", \"orientation\": \"v\", \"showlegend\": true, \"textposition\": \"outside\", \"type\": \"bar\", \"x\": [\"ADRIA\", \"ADRIA\", \"ADRIA\", \"ADRIA\", \"ADRIA\", \"ADRIA\", \"ADRIA\", \"ADRIA\", \"ADRIA\", \"ADRIA\", \"ADRIA\", \"ADRIA\", \"ADRIA\", \"ADRIA\", \"ADRIA\", \"ADRIA\", \"ADRIA\", \"ADRIA\", \"ADRIA\", \"ADRIA\"], \"xaxis\": \"x\", \"y\": [92, 98, 81, 82, 74, 85, 73, 79, 93, 100, 92, 60, 72, 83, 69, 67, 56, 68, 57, 51], \"yaxis\": \"y\"}, {\"alignmentgroup\": \"True\", \"hovertemplate\": \"Name=%{x}<br>Frequency=%{y}<extra></extra>\", \"legendgroup\": \"ROGER\", \"marker\": {\"color\": \"#19d3f3\"}, \"name\": \"ROGER\", \"offsetgroup\": \"ROGER\", \"orientation\": \"v\", \"showlegend\": true, \"textposition\": \"outside\", \"type\": \"bar\", \"x\": [\"ROGER\", \"ROGER\", \"ROGER\", \"ROGER\", \"ROGER\", \"ROGER\", \"ROGER\", \"ROGER\", \"ROGER\", \"ROGER\", \"ROGER\", \"ROGER\"], \"xaxis\": \"x\", \"y\": [91, 98, 84, 91, 80, 62, 71, 68, 70, 69, 53, 44], \"yaxis\": \"y\"}, {\"alignmentgroup\": \"True\", \"hovertemplate\": \"Name=%{x}<br>Frequency=%{y}<extra></extra>\", \"legendgroup\": \"OSCAR\", \"marker\": {\"color\": \"#FF6692\"}, \"name\": \"OSCAR\", \"offsetgroup\": \"OSCAR\", \"orientation\": \"v\", \"showlegend\": true, \"textposition\": \"outside\", \"type\": \"bar\", \"x\": [\"OSCAR\", \"OSCAR\", \"OSCAR\", \"OSCAR\", \"OSCAR\", \"OSCAR\", \"OSCAR\"], \"xaxis\": \"x\", \"y\": [90, 92, 92, 91, 74, 65, 61], \"yaxis\": \"y\"}, {\"alignmentgroup\": \"True\", \"hovertemplate\": \"Name=%{x}<br>Frequency=%{y}<extra></extra>\", \"legendgroup\": \"JAVIER\", \"marker\": {\"color\": \"#B6E880\"}, \"name\": \"JAVIER\", \"offsetgroup\": \"JAVIER\", \"orientation\": \"v\", \"showlegend\": true, \"textposition\": \"outside\", \"type\": \"bar\", \"x\": [\"JAVIER\", \"JAVIER\", \"JAVIER\", \"JAVIER\", \"JAVIER\", \"JAVIER\"], \"xaxis\": \"x\", \"y\": [88, 85, 92, 65, 80, 67], \"yaxis\": \"y\"}, {\"alignmentgroup\": \"True\", \"hovertemplate\": \"Name=%{x}<br>Frequency=%{y}<extra></extra>\", \"legendgroup\": \"GERARD\", \"marker\": {\"color\": \"#FF97FF\"}, \"name\": \"GERARD\", \"offsetgroup\": \"GERARD\", \"orientation\": \"v\", \"showlegend\": true, \"textposition\": \"outside\", \"type\": \"bar\", \"x\": [\"GERARD\", \"GERARD\", \"GERARD\", \"GERARD\", \"GERARD\", \"GERARD\", \"GERARD\", \"GERARD\", \"GERARD\", \"GERARD\", \"GERARD\", \"GERARD\", \"GERARD\", \"GERARD\", \"GERARD\", \"GERARD\", \"GERARD\", \"GERARD\", \"GERARD\", \"GERARD\"], \"xaxis\": \"x\", \"y\": [85, 104, 80, 93, 84, 125, 106, 94, 90, 87, 72, 76, 67, 100, 99, 98, 86, 71, 64, 57], \"yaxis\": \"y\"}, {\"alignmentgroup\": \"True\", \"hovertemplate\": \"Name=%{x}<br>Frequency=%{y}<extra></extra>\", \"legendgroup\": \"ARNAU\", \"marker\": {\"color\": \"#FECB52\"}, \"name\": \"ARNAU\", \"offsetgroup\": \"ARNAU\", \"orientation\": \"v\", \"showlegend\": true, \"textposition\": \"outside\", \"type\": \"bar\", \"x\": [\"ARNAU\", \"ARNAU\", \"ARNAU\", \"ARNAU\", \"ARNAU\", \"ARNAU\", \"ARNAU\", \"ARNAU\", \"ARNAU\", \"ARNAU\", \"ARNAU\", \"ARNAU\", \"ARNAU\", \"ARNAU\", \"ARNAU\", \"ARNAU\", \"ARNAU\", \"ARNAU\", \"ARNAU\", \"ARNAU\", \"ARNAU\"], \"xaxis\": \"x\", \"y\": [84, 101, 109, 112, 120, 108, 115, 109, 125, 115, 117, 115, 98, 106, 110, 95, 101, 100, 73, 93, 76], \"yaxis\": \"y\"}, {\"alignmentgroup\": \"True\", \"hovertemplate\": \"Name=%{x}<br>Frequency=%{y}<extra></extra>\", \"legendgroup\": \"IVAN\", \"marker\": {\"color\": \"#636efa\"}, \"name\": \"IVAN\", \"offsetgroup\": \"IVAN\", \"orientation\": \"v\", \"showlegend\": true, \"textposition\": \"outside\", \"type\": \"bar\", \"x\": [\"IVAN\", \"IVAN\", \"IVAN\", \"IVAN\", \"IVAN\", \"IVAN\", \"IVAN\"], \"xaxis\": \"x\", \"y\": [80, 81, 78, 91, 62, 75, 68], \"yaxis\": \"y\"}, {\"alignmentgroup\": \"True\", \"hovertemplate\": \"Name=%{x}<br>Frequency=%{y}<extra></extra>\", \"legendgroup\": \"XAVIER\", \"marker\": {\"color\": \"#EF553B\"}, \"name\": \"XAVIER\", \"offsetgroup\": \"XAVIER\", \"orientation\": \"v\", \"showlegend\": true, \"textposition\": \"outside\", \"type\": \"bar\", \"x\": [\"XAVIER\", \"XAVIER\", \"XAVIER\", \"XAVIER\", \"XAVIER\", \"XAVIER\", \"XAVIER\", \"XAVIER\"], \"xaxis\": \"x\", \"y\": [79, 84, 65, 82, 70, 61, 61, 63], \"yaxis\": \"y\"}, {\"alignmentgroup\": \"True\", \"hovertemplate\": \"Name=%{x}<br>Frequency=%{y}<extra></extra>\", \"legendgroup\": \"JOAN\", \"marker\": {\"color\": \"#00cc96\"}, \"name\": \"JOAN\", \"offsetgroup\": \"JOAN\", \"orientation\": \"v\", \"showlegend\": true, \"textposition\": \"outside\", \"type\": \"bar\", \"x\": [\"JOAN\", \"JOAN\", \"JOAN\", \"JOAN\", \"JOAN\", \"JOAN\", \"JOAN\", \"JOAN\", \"JOAN\", \"JOAN\", \"JOAN\", \"JOAN\", \"JOAN\", \"JOAN\"], \"xaxis\": \"x\", \"y\": [76, 103, 91, 97, 107, 108, 97, 119, 98, 82, 91, 89, 80, 59], \"yaxis\": \"y\"}, {\"alignmentgroup\": \"True\", \"hovertemplate\": \"Name=%{x}<br>Frequency=%{y}<extra></extra>\", \"legendgroup\": \"ERIC\", \"marker\": {\"color\": \"#ab63fa\"}, \"name\": \"ERIC\", \"offsetgroup\": \"ERIC\", \"orientation\": \"v\", \"showlegend\": true, \"textposition\": \"outside\", \"type\": \"bar\", \"x\": [\"ERIC\", \"ERIC\", \"ERIC\", \"ERIC\", \"ERIC\", \"ERIC\", \"ERIC\", \"ERIC\", \"ERIC\", \"ERIC\", \"ERIC\", \"ERIC\", \"ERIC\", \"ERIC\", \"ERIC\", \"ERIC\", \"ERIC\", \"ERIC\", \"ERIC\", \"ERIC\", \"ERIC\"], \"xaxis\": \"x\", \"y\": [75, 80, 80, 80, 83, 71, 84, 89, 88, 90, 88, 126, 100, 130, 117, 113, 125, 122, 123, 109, 109], \"yaxis\": \"y\"}, {\"alignmentgroup\": \"True\", \"hovertemplate\": \"Name=%{x}<br>Frequency=%{y}<extra></extra>\", \"legendgroup\": \"PABLO\", \"marker\": {\"color\": \"#FFA15A\"}, \"name\": \"PABLO\", \"offsetgroup\": \"PABLO\", \"orientation\": \"v\", \"showlegend\": true, \"textposition\": \"outside\", \"type\": \"bar\", \"x\": [\"PABLO\", \"PABLO\", \"PABLO\", \"PABLO\", \"PABLO\", \"PABLO\", \"PABLO\", \"PABLO\", \"PABLO\", \"PABLO\", \"PABLO\", \"PABLO\", \"PABLO\", \"PABLO\", \"PABLO\", \"PABLO\", \"PABLO\", \"PABLO\", \"PABLO\", \"PABLO\"], \"xaxis\": \"x\", \"y\": [74, 64, 75, 71, 85, 103, 104, 107, 106, 76, 89, 86, 87, 78, 68, 66, 56, 61, 67, 59], \"yaxis\": \"y\"}, {\"alignmentgroup\": \"True\", \"hovertemplate\": \"Name=%{x}<br>Frequency=%{y}<extra></extra>\", \"legendgroup\": \"ADRIAN\", \"marker\": {\"color\": \"#19d3f3\"}, \"name\": \"ADRIAN\", \"offsetgroup\": \"ADRIAN\", \"orientation\": \"v\", \"showlegend\": true, \"textposition\": \"outside\", \"type\": \"bar\", \"x\": [\"ADRIAN\", \"ADRIAN\"], \"xaxis\": \"x\", \"y\": [72, 68], \"yaxis\": \"y\"}, {\"alignmentgroup\": \"True\", \"hovertemplate\": \"Name=%{x}<br>Frequency=%{y}<extra></extra>\", \"legendgroup\": \"SERGIO\", \"marker\": {\"color\": \"#FF6692\"}, \"name\": \"SERGIO\", \"offsetgroup\": \"SERGIO\", \"orientation\": \"v\", \"showlegend\": true, \"textposition\": \"outside\", \"type\": \"bar\", \"x\": [\"SERGIO\"], \"xaxis\": \"x\", \"y\": [64], \"yaxis\": \"y\"}, {\"alignmentgroup\": \"True\", \"hovertemplate\": \"Name=%{x}<br>Frequency=%{y}<extra></extra>\", \"legendgroup\": \"JOEL\", \"marker\": {\"color\": \"#B6E880\"}, \"name\": \"JOEL\", \"offsetgroup\": \"JOEL\", \"orientation\": \"v\", \"showlegend\": true, \"textposition\": \"outside\", \"type\": \"bar\", \"x\": [\"JOEL\", \"JOEL\", \"JOEL\", \"JOEL\", \"JOEL\", \"JOEL\", \"JOEL\", \"JOEL\", \"JOEL\", \"JOEL\", \"JOEL\"], \"xaxis\": \"x\", \"y\": [70, 80, 70, 86, 72, 93, 66, 83, 70, 58, 51], \"yaxis\": \"y\"}, {\"alignmentgroup\": \"True\", \"hovertemplate\": \"Name=%{x}<br>Frequency=%{y}<extra></extra>\", \"legendgroup\": \"MARTI\", \"marker\": {\"color\": \"#FF97FF\"}, \"name\": \"MARTI\", \"offsetgroup\": \"MARTI\", \"orientation\": \"v\", \"showlegend\": true, \"textposition\": \"outside\", \"type\": \"bar\", \"x\": [\"MARTI\", \"MARTI\", \"MARTI\", \"MARTI\", \"MARTI\", \"MARTI\", \"MARTI\", \"MARTI\", \"MARTI\", \"MARTI\", \"MARTI\", \"MARTI\", \"MARTI\", \"MARTI\", \"MARTI\"], \"xaxis\": \"x\", \"y\": [64, 79, 88, 111, 98, 126, 98, 116, 124, 103, 99, 95, 116, 133, 104], \"yaxis\": \"y\"}, {\"alignmentgroup\": \"True\", \"hovertemplate\": \"Name=%{x}<br>Frequency=%{y}<extra></extra>\", \"legendgroup\": \"RAUL\", \"marker\": {\"color\": \"#FECB52\"}, \"name\": \"RAUL\", \"offsetgroup\": \"RAUL\", \"orientation\": \"v\", \"showlegend\": true, \"textposition\": \"outside\", \"type\": \"bar\", \"x\": [\"RAUL\"], \"xaxis\": \"x\", \"y\": [65], \"yaxis\": \"y\"}, {\"alignmentgroup\": \"True\", \"hovertemplate\": \"Name=%{x}<br>Frequency=%{y}<extra></extra>\", \"legendgroup\": \"JAN\", \"marker\": {\"color\": \"#636efa\"}, \"name\": \"JAN\", \"offsetgroup\": \"JAN\", \"orientation\": \"v\", \"showlegend\": true, \"textposition\": \"outside\", \"type\": \"bar\", \"x\": [\"JAN\", \"JAN\", \"JAN\", \"JAN\", \"JAN\", \"JAN\", \"JAN\", \"JAN\", \"JAN\", \"JAN\", \"JAN\", \"JAN\", \"JAN\", \"JAN\"], \"xaxis\": \"x\", \"y\": [87, 88, 122, 84, 88, 106, 100, 98, 73, 98, 92, 89, 88, 91], \"yaxis\": \"y\"}, {\"alignmentgroup\": \"True\", \"hovertemplate\": \"Name=%{x}<br>Frequency=%{y}<extra></extra>\", \"legendgroup\": \"ALVARO\", \"marker\": {\"color\": \"#EF553B\"}, \"name\": \"ALVARO\", \"offsetgroup\": \"ALVARO\", \"orientation\": \"v\", \"showlegend\": true, \"textposition\": \"outside\", \"type\": \"bar\", \"x\": [\"ALVARO\", \"ALVARO\"], \"xaxis\": \"x\", \"y\": [68, 58], \"yaxis\": \"y\"}, {\"alignmentgroup\": \"True\", \"hovertemplate\": \"Name=%{x}<br>Frequency=%{y}<extra></extra>\", \"legendgroup\": \"HUGO\", \"marker\": {\"color\": \"#00cc96\"}, \"name\": \"HUGO\", \"offsetgroup\": \"HUGO\", \"orientation\": \"v\", \"showlegend\": true, \"textposition\": \"outside\", \"type\": \"bar\", \"x\": [\"HUGO\", \"HUGO\", \"HUGO\", \"HUGO\", \"HUGO\", \"HUGO\", \"HUGO\", \"HUGO\", \"HUGO\", \"HUGO\", \"HUGO\"], \"xaxis\": \"x\", \"y\": [70, 67, 80, 89, 79, 79, 88, 89, 82, 107, 66], \"yaxis\": \"y\"}, {\"alignmentgroup\": \"True\", \"hovertemplate\": \"Name=%{x}<br>Frequency=%{y}<extra></extra>\", \"legendgroup\": \"IKER\", \"marker\": {\"color\": \"#ab63fa\"}, \"name\": \"IKER\", \"offsetgroup\": \"IKER\", \"orientation\": \"v\", \"showlegend\": true, \"textposition\": \"outside\", \"type\": \"bar\", \"x\": [\"IKER\", \"IKER\", \"IKER\", \"IKER\"], \"xaxis\": \"x\", \"y\": [63, 54, 77, 56], \"yaxis\": \"y\"}, {\"alignmentgroup\": \"True\", \"hovertemplate\": \"Name=%{x}<br>Frequency=%{y}<extra></extra>\", \"legendgroup\": \"BIEL\", \"marker\": {\"color\": \"#FFA15A\"}, \"name\": \"BIEL\", \"offsetgroup\": \"BIEL\", \"orientation\": \"v\", \"showlegend\": true, \"textposition\": \"outside\", \"type\": \"bar\", \"x\": [\"BIEL\", \"BIEL\", \"BIEL\", \"BIEL\", \"BIEL\", \"BIEL\", \"BIEL\", \"BIEL\", \"BIEL\", \"BIEL\", \"BIEL\"], \"xaxis\": \"x\", \"y\": [59, 75, 92, 86, 88, 87, 95, 95, 90, 99, 99], \"yaxis\": \"y\"}, {\"alignmentgroup\": \"True\", \"hovertemplate\": \"Name=%{x}<br>Frequency=%{y}<extra></extra>\", \"legendgroup\": \"NICOLAS\", \"marker\": {\"color\": \"#19d3f3\"}, \"name\": \"NICOLAS\", \"offsetgroup\": \"NICOLAS\", \"orientation\": \"v\", \"showlegend\": true, \"textposition\": \"outside\", \"type\": \"bar\", \"x\": [\"NICOLAS\", \"NICOLAS\", \"NICOLAS\", \"NICOLAS\", \"NICOLAS\", \"NICOLAS\", \"NICOLAS\", \"NICOLAS\"], \"xaxis\": \"x\", \"y\": [58, 73, 62, 64, 78, 73, 62, 62], \"yaxis\": \"y\"}, {\"alignmentgroup\": \"True\", \"hovertemplate\": \"Name=%{x}<br>Frequency=%{y}<extra></extra>\", \"legendgroup\": \"BRUNO\", \"marker\": {\"color\": \"#FF6692\"}, \"name\": \"BRUNO\", \"offsetgroup\": \"BRUNO\", \"orientation\": \"v\", \"showlegend\": true, \"textposition\": \"outside\", \"type\": \"bar\", \"x\": [\"BRUNO\", \"BRUNO\", \"BRUNO\", \"BRUNO\", \"BRUNO\", \"BRUNO\", \"BRUNO\", \"BRUNO\", \"BRUNO\"], \"xaxis\": \"x\", \"y\": [80, 63, 68, 75, 65, 72, 61, 79, 93], \"yaxis\": \"y\"}, {\"alignmentgroup\": \"True\", \"hovertemplate\": \"Name=%{x}<br>Frequency=%{y}<extra></extra>\", \"legendgroup\": \"LUCAS\", \"marker\": {\"color\": \"#B6E880\"}, \"name\": \"LUCAS\", \"offsetgroup\": \"LUCAS\", \"orientation\": \"v\", \"showlegend\": true, \"textposition\": \"outside\", \"type\": \"bar\", \"x\": [\"LUCAS\", \"LUCAS\", \"LUCAS\", \"LUCAS\", \"LUCAS\", \"LUCAS\", \"LUCAS\", \"LUCAS\", \"LUCAS\"], \"xaxis\": \"x\", \"y\": [73, 65, 65, 70, 62, 77, 73, 79, 93], \"yaxis\": \"y\"}, {\"alignmentgroup\": \"True\", \"hovertemplate\": \"Name=%{x}<br>Frequency=%{y}<extra></extra>\", \"legendgroup\": \"MAX\", \"marker\": {\"color\": \"#FF97FF\"}, \"name\": \"MAX\", \"offsetgroup\": \"MAX\", \"orientation\": \"v\", \"showlegend\": true, \"textposition\": \"outside\", \"type\": \"bar\", \"x\": [\"MAX\", \"MAX\", \"MAX\", \"MAX\", \"MAX\", \"MAX\"], \"xaxis\": \"x\", \"y\": [61, 60, 59, 57, 79, 75], \"yaxis\": \"y\"}, {\"alignmentgroup\": \"True\", \"hovertemplate\": \"Name=%{x}<br>Frequency=%{y}<extra></extra>\", \"legendgroup\": \"NIL\", \"marker\": {\"color\": \"#FECB52\"}, \"name\": \"NIL\", \"offsetgroup\": \"NIL\", \"orientation\": \"v\", \"showlegend\": true, \"textposition\": \"outside\", \"type\": \"bar\", \"x\": [\"NIL\", \"NIL\", \"NIL\", \"NIL\", \"NIL\", \"NIL\", \"NIL\"], \"xaxis\": \"x\", \"y\": [69, 62, 72, 73, 77, 88, 88], \"yaxis\": \"y\"}, {\"alignmentgroup\": \"True\", \"hovertemplate\": \"Name=%{x}<br>Frequency=%{y}<extra></extra>\", \"legendgroup\": \"ALEIX\", \"marker\": {\"color\": \"#636efa\"}, \"name\": \"ALEIX\", \"offsetgroup\": \"ALEIX\", \"orientation\": \"v\", \"showlegend\": true, \"textposition\": \"outside\", \"type\": \"bar\", \"x\": [\"ALEIX\", \"ALEIX\", \"ALEIX\", \"ALEIX\", \"ALEIX\", \"ALEIX\"], \"xaxis\": \"x\", \"y\": [61, 64, 53, 63, 63, 64], \"yaxis\": \"y\"}, {\"alignmentgroup\": \"True\", \"hovertemplate\": \"Name=%{x}<br>Frequency=%{y}<extra></extra>\", \"legendgroup\": \"LEO\", \"marker\": {\"color\": \"#EF553B\"}, \"name\": \"LEO\", \"offsetgroup\": \"LEO\", \"orientation\": \"v\", \"showlegend\": true, \"textposition\": \"outside\", \"type\": \"bar\", \"x\": [\"LEO\", \"LEO\", \"LEO\", \"LEO\", \"LEO\", \"LEO\"], \"xaxis\": \"x\", \"y\": [58, 71, 76, 78, 80, 83], \"yaxis\": \"y\"}, {\"alignmentgroup\": \"True\", \"hovertemplate\": \"Name=%{x}<br>Frequency=%{y}<extra></extra>\", \"legendgroup\": \"MATEO\", \"marker\": {\"color\": \"#00cc96\"}, \"name\": \"MATEO\", \"offsetgroup\": \"MATEO\", \"orientation\": \"v\", \"showlegend\": true, \"textposition\": \"outside\", \"type\": \"bar\", \"x\": [\"MATEO\", \"MATEO\", \"MATEO\", \"MATEO\"], \"xaxis\": \"x\", \"y\": [52, 52, 65, 69], \"yaxis\": \"y\"}, {\"alignmentgroup\": \"True\", \"hovertemplate\": \"Name=%{x}<br>Frequency=%{y}<extra></extra>\", \"legendgroup\": \"MARIO\", \"marker\": {\"color\": \"#ab63fa\"}, \"name\": \"MARIO\", \"offsetgroup\": \"MARIO\", \"orientation\": \"v\", \"showlegend\": true, \"textposition\": \"outside\", \"type\": \"bar\", \"x\": [\"MARIO\"], \"xaxis\": \"x\", \"y\": [46], \"yaxis\": \"y\"}, {\"alignmentgroup\": \"True\", \"hovertemplate\": \"Name=%{x}<br>Frequency=%{y}<extra></extra>\", \"legendgroup\": \"ROC\", \"marker\": {\"color\": \"#FFA15A\"}, \"name\": \"ROC\", \"offsetgroup\": \"ROC\", \"orientation\": \"v\", \"showlegend\": true, \"textposition\": \"outside\", \"type\": \"bar\", \"x\": [\"ROC\", \"ROC\"], \"xaxis\": \"x\", \"y\": [57, 48], \"yaxis\": \"y\"}, {\"alignmentgroup\": \"True\", \"hovertemplate\": \"Name=%{x}<br>Frequency=%{y}<extra></extra>\", \"legendgroup\": \"GAEL\", \"marker\": {\"color\": \"#19d3f3\"}, \"name\": \"GAEL\", \"offsetgroup\": \"GAEL\", \"orientation\": \"v\", \"showlegend\": true, \"textposition\": \"outside\", \"type\": \"bar\", \"x\": [\"GAEL\"], \"xaxis\": \"x\", \"y\": [64], \"yaxis\": \"y\"}, {\"alignmentgroup\": \"True\", \"hovertemplate\": \"Name=%{x}<br>Frequency=%{y}<extra></extra>\", \"legendgroup\": \"GABRIEL\", \"marker\": {\"color\": \"#FF6692\"}, \"name\": \"GABRIEL\", \"offsetgroup\": \"GABRIEL\", \"orientation\": \"v\", \"showlegend\": true, \"textposition\": \"outside\", \"type\": \"bar\", \"x\": [\"GABRIEL\"], \"xaxis\": \"x\", \"y\": [44], \"yaxis\": \"y\"}],                        {\"autosize\": false, \"barmode\": \"relative\", \"legend\": {\"title\": {\"text\": \"Name\"}, \"tracegroupgap\": 0}, \"margin\": {\"autoexpand\": true}, \"plot_bgcolor\": \"white\", \"showlegend\": false, \"template\": {\"data\": {\"bar\": [{\"error_x\": {\"color\": \"#2a3f5f\"}, \"error_y\": {\"color\": \"#2a3f5f\"}, \"marker\": {\"line\": {\"color\": \"#E5ECF6\", \"width\": 0.5}}, \"type\": \"bar\"}], \"barpolar\": [{\"marker\": {\"line\": {\"color\": \"#E5ECF6\", \"width\": 0.5}}, \"type\": \"barpolar\"}], \"carpet\": [{\"aaxis\": {\"endlinecolor\": \"#2a3f5f\", \"gridcolor\": \"white\", \"linecolor\": \"white\", \"minorgridcolor\": \"white\", \"startlinecolor\": \"#2a3f5f\"}, \"baxis\": {\"endlinecolor\": \"#2a3f5f\", \"gridcolor\": \"white\", \"linecolor\": \"white\", \"minorgridcolor\": \"white\", \"startlinecolor\": \"#2a3f5f\"}, \"type\": \"carpet\"}], \"choropleth\": [{\"colorbar\": {\"outlinewidth\": 0, \"ticks\": \"\"}, \"type\": \"choropleth\"}], \"contour\": [{\"colorbar\": {\"outlinewidth\": 0, \"ticks\": \"\"}, \"colorscale\": [[0.0, \"#0d0887\"], [0.1111111111111111, \"#46039f\"], [0.2222222222222222, \"#7201a8\"], [0.3333333333333333, \"#9c179e\"], [0.4444444444444444, \"#bd3786\"], [0.5555555555555556, \"#d8576b\"], [0.6666666666666666, \"#ed7953\"], [0.7777777777777778, \"#fb9f3a\"], [0.8888888888888888, \"#fdca26\"], [1.0, \"#f0f921\"]], \"type\": \"contour\"}], \"contourcarpet\": [{\"colorbar\": {\"outlinewidth\": 0, \"ticks\": \"\"}, \"type\": \"contourcarpet\"}], \"heatmap\": [{\"colorbar\": {\"outlinewidth\": 0, \"ticks\": \"\"}, \"colorscale\": [[0.0, \"#0d0887\"], [0.1111111111111111, \"#46039f\"], [0.2222222222222222, \"#7201a8\"], [0.3333333333333333, \"#9c179e\"], [0.4444444444444444, \"#bd3786\"], [0.5555555555555556, \"#d8576b\"], [0.6666666666666666, \"#ed7953\"], [0.7777777777777778, \"#fb9f3a\"], [0.8888888888888888, \"#fdca26\"], [1.0, \"#f0f921\"]], \"type\": \"heatmap\"}], \"heatmapgl\": [{\"colorbar\": {\"outlinewidth\": 0, \"ticks\": \"\"}, \"colorscale\": [[0.0, \"#0d0887\"], [0.1111111111111111, \"#46039f\"], [0.2222222222222222, \"#7201a8\"], [0.3333333333333333, \"#9c179e\"], [0.4444444444444444, \"#bd3786\"], [0.5555555555555556, \"#d8576b\"], [0.6666666666666666, \"#ed7953\"], [0.7777777777777778, \"#fb9f3a\"], [0.8888888888888888, \"#fdca26\"], [1.0, \"#f0f921\"]], \"type\": \"heatmapgl\"}], \"histogram\": [{\"marker\": {\"colorbar\": {\"outlinewidth\": 0, \"ticks\": \"\"}}, \"type\": \"histogram\"}], \"histogram2d\": [{\"colorbar\": {\"outlinewidth\": 0, \"ticks\": \"\"}, \"colorscale\": [[0.0, \"#0d0887\"], [0.1111111111111111, \"#46039f\"], [0.2222222222222222, \"#7201a8\"], [0.3333333333333333, \"#9c179e\"], [0.4444444444444444, \"#bd3786\"], [0.5555555555555556, \"#d8576b\"], [0.6666666666666666, \"#ed7953\"], [0.7777777777777778, \"#fb9f3a\"], [0.8888888888888888, \"#fdca26\"], [1.0, \"#f0f921\"]], \"type\": \"histogram2d\"}], \"histogram2dcontour\": [{\"colorbar\": {\"outlinewidth\": 0, \"ticks\": \"\"}, \"colorscale\": [[0.0, \"#0d0887\"], [0.1111111111111111, \"#46039f\"], [0.2222222222222222, \"#7201a8\"], [0.3333333333333333, \"#9c179e\"], [0.4444444444444444, \"#bd3786\"], [0.5555555555555556, \"#d8576b\"], [0.6666666666666666, \"#ed7953\"], [0.7777777777777778, \"#fb9f3a\"], [0.8888888888888888, \"#fdca26\"], [1.0, \"#f0f921\"]], \"type\": \"histogram2dcontour\"}], \"mesh3d\": [{\"colorbar\": {\"outlinewidth\": 0, \"ticks\": \"\"}, \"type\": \"mesh3d\"}], \"parcoords\": [{\"line\": {\"colorbar\": {\"outlinewidth\": 0, \"ticks\": \"\"}}, \"type\": \"parcoords\"}], \"pie\": [{\"automargin\": true, \"type\": \"pie\"}], \"scatter\": [{\"marker\": {\"colorbar\": {\"outlinewidth\": 0, \"ticks\": \"\"}}, \"type\": \"scatter\"}], \"scatter3d\": [{\"line\": {\"colorbar\": {\"outlinewidth\": 0, \"ticks\": \"\"}}, \"marker\": {\"colorbar\": {\"outlinewidth\": 0, \"ticks\": \"\"}}, \"type\": \"scatter3d\"}], \"scattercarpet\": [{\"marker\": {\"colorbar\": {\"outlinewidth\": 0, \"ticks\": \"\"}}, \"type\": \"scattercarpet\"}], \"scattergeo\": [{\"marker\": {\"colorbar\": {\"outlinewidth\": 0, \"ticks\": \"\"}}, \"type\": \"scattergeo\"}], \"scattergl\": [{\"marker\": {\"colorbar\": {\"outlinewidth\": 0, \"ticks\": \"\"}}, \"type\": \"scattergl\"}], \"scattermapbox\": [{\"marker\": {\"colorbar\": {\"outlinewidth\": 0, \"ticks\": \"\"}}, \"type\": \"scattermapbox\"}], \"scatterpolar\": [{\"marker\": {\"colorbar\": {\"outlinewidth\": 0, \"ticks\": \"\"}}, \"type\": \"scatterpolar\"}], \"scatterpolargl\": [{\"marker\": {\"colorbar\": {\"outlinewidth\": 0, \"ticks\": \"\"}}, \"type\": \"scatterpolargl\"}], \"scatterternary\": [{\"marker\": {\"colorbar\": {\"outlinewidth\": 0, \"ticks\": \"\"}}, \"type\": \"scatterternary\"}], \"surface\": [{\"colorbar\": {\"outlinewidth\": 0, \"ticks\": \"\"}, \"colorscale\": [[0.0, \"#0d0887\"], [0.1111111111111111, \"#46039f\"], [0.2222222222222222, \"#7201a8\"], [0.3333333333333333, \"#9c179e\"], [0.4444444444444444, \"#bd3786\"], [0.5555555555555556, \"#d8576b\"], [0.6666666666666666, \"#ed7953\"], [0.7777777777777778, \"#fb9f3a\"], [0.8888888888888888, \"#fdca26\"], [1.0, \"#f0f921\"]], \"type\": \"surface\"}], \"table\": [{\"cells\": {\"fill\": {\"color\": \"#EBF0F8\"}, \"line\": {\"color\": \"white\"}}, \"header\": {\"fill\": {\"color\": \"#C8D4E3\"}, \"line\": {\"color\": \"white\"}}, \"type\": \"table\"}]}, \"layout\": {\"annotationdefaults\": {\"arrowcolor\": \"#2a3f5f\", \"arrowhead\": 0, \"arrowwidth\": 1}, \"autotypenumbers\": \"strict\", \"coloraxis\": {\"colorbar\": {\"outlinewidth\": 0, \"ticks\": \"\"}}, \"colorscale\": {\"diverging\": [[0, \"#8e0152\"], [0.1, \"#c51b7d\"], [0.2, \"#de77ae\"], [0.3, \"#f1b6da\"], [0.4, \"#fde0ef\"], [0.5, \"#f7f7f7\"], [0.6, \"#e6f5d0\"], [0.7, \"#b8e186\"], [0.8, \"#7fbc41\"], [0.9, \"#4d9221\"], [1, \"#276419\"]], \"sequential\": [[0.0, \"#0d0887\"], [0.1111111111111111, \"#46039f\"], [0.2222222222222222, \"#7201a8\"], [0.3333333333333333, \"#9c179e\"], [0.4444444444444444, \"#bd3786\"], [0.5555555555555556, \"#d8576b\"], [0.6666666666666666, \"#ed7953\"], [0.7777777777777778, \"#fb9f3a\"], [0.8888888888888888, \"#fdca26\"], [1.0, \"#f0f921\"]], \"sequentialminus\": [[0.0, \"#0d0887\"], [0.1111111111111111, \"#46039f\"], [0.2222222222222222, \"#7201a8\"], [0.3333333333333333, \"#9c179e\"], [0.4444444444444444, \"#bd3786\"], [0.5555555555555556, \"#d8576b\"], [0.6666666666666666, \"#ed7953\"], [0.7777777777777778, \"#fb9f3a\"], [0.8888888888888888, \"#fdca26\"], [1.0, \"#f0f921\"]]}, \"colorway\": [\"#636efa\", \"#EF553B\", \"#00cc96\", \"#ab63fa\", \"#FFA15A\", \"#19d3f3\", \"#FF6692\", \"#B6E880\", \"#FF97FF\", \"#FECB52\"], \"font\": {\"color\": \"#2a3f5f\"}, \"geo\": {\"bgcolor\": \"white\", \"lakecolor\": \"white\", \"landcolor\": \"#E5ECF6\", \"showlakes\": true, \"showland\": true, \"subunitcolor\": \"white\"}, \"hoverlabel\": {\"align\": \"left\"}, \"hovermode\": \"closest\", \"mapbox\": {\"style\": \"light\"}, \"paper_bgcolor\": \"white\", \"plot_bgcolor\": \"#E5ECF6\", \"polar\": {\"angularaxis\": {\"gridcolor\": \"white\", \"linecolor\": \"white\", \"ticks\": \"\"}, \"bgcolor\": \"#E5ECF6\", \"radialaxis\": {\"gridcolor\": \"white\", \"linecolor\": \"white\", \"ticks\": \"\"}}, \"scene\": {\"xaxis\": {\"backgroundcolor\": \"#E5ECF6\", \"gridcolor\": \"white\", \"gridwidth\": 2, \"linecolor\": \"white\", \"showbackground\": true, \"ticks\": \"\", \"zerolinecolor\": \"white\"}, \"yaxis\": {\"backgroundcolor\": \"#E5ECF6\", \"gridcolor\": \"white\", \"gridwidth\": 2, \"linecolor\": \"white\", \"showbackground\": true, \"ticks\": \"\", \"zerolinecolor\": \"white\"}, \"zaxis\": {\"backgroundcolor\": \"#E5ECF6\", \"gridcolor\": \"white\", \"gridwidth\": 2, \"linecolor\": \"white\", \"showbackground\": true, \"ticks\": \"\", \"zerolinecolor\": \"white\"}}, \"shapedefaults\": {\"line\": {\"color\": \"#2a3f5f\"}}, \"ternary\": {\"aaxis\": {\"gridcolor\": \"white\", \"linecolor\": \"white\", \"ticks\": \"\"}, \"baxis\": {\"gridcolor\": \"white\", \"linecolor\": \"white\", \"ticks\": \"\"}, \"bgcolor\": \"#E5ECF6\", \"caxis\": {\"gridcolor\": \"white\", \"linecolor\": \"white\", \"ticks\": \"\"}}, \"title\": {\"x\": 0.05}, \"xaxis\": {\"automargin\": true, \"gridcolor\": \"white\", \"linecolor\": \"white\", \"ticks\": \"\", \"title\": {\"standoff\": 15}, \"zerolinecolor\": \"white\", \"zerolinewidth\": 2}, \"yaxis\": {\"automargin\": true, \"gridcolor\": \"white\", \"linecolor\": \"white\", \"ticks\": \"\", \"title\": {\"standoff\": 15}, \"zerolinecolor\": \"white\", \"zerolinewidth\": 2}}}, \"title\": {\"text\": \"Most common Baby Boy Names \"}, \"uniformtext\": {\"minsize\": 7}, \"xaxis\": {\"anchor\": \"y\", \"categoryarray\": [\"MARC\", \"DAVID\", \"DANIEL\", \"ALBERT\", \"VICTOR\", \"JORDI\", \"SERGI\", \"ALEJANDRO\", \"POL\", \"ALEX\", \"PAU\", \"GUILLEM\", \"CARLOS\", \"ORIOL\", \"ADRIA\", \"ROGER\", \"OSCAR\", \"JAVIER\", \"GERARD\", \"ARNAU\", \"IVAN\", \"XAVIER\", \"JOAN\", \"ERIC\", \"PABLO\", \"ADRIAN\", \"SERGIO\", \"JOEL\", \"MARTI\", \"RAUL\", \"JAN\", \"ALVARO\", \"HUGO\", \"IKER\", \"BIEL\", \"NICOLAS\", \"BRUNO\", \"LUCAS\", \"MAX\", \"NIL\", \"ALEIX\", \"LEO\", \"MATEO\", \"MARIO\", \"ROC\", \"GAEL\", \"GABRIEL\"], \"categoryorder\": \"array\", \"domain\": [0.0, 1.0], \"tickangle\": -45, \"title\": {\"text\": \"Name\"}}, \"yaxis\": {\"anchor\": \"x\", \"domain\": [0.0, 1.0], \"title\": {\"text\": \"Frequency\"}}},                        {\"responsive\": true}                    ).then(function(){\n",
       "                            \n",
       "var gd = document.getElementById('a5d45921-55d9-408f-b828-99503dceb730');\n",
       "var x = new MutationObserver(function (mutations, observer) {{\n",
       "        var display = window.getComputedStyle(gd).display;\n",
       "        if (!display || display === 'none') {{\n",
       "            console.log([gd, 'removed!']);\n",
       "            Plotly.purge(gd);\n",
       "            observer.disconnect();\n",
       "        }}\n",
       "}});\n",
       "\n",
       "// Listen for the removal of the full notebook cells\n",
       "var notebookContainer = gd.closest('#notebook-container');\n",
       "if (notebookContainer) {{\n",
       "    x.observe(notebookContainer, {childList: true});\n",
       "}}\n",
       "\n",
       "// Listen for the clearing of the current output cell\n",
       "var outputEl = gd.closest('.output');\n",
       "if (outputEl) {{\n",
       "    x.observe(outputEl, {childList: true});\n",
       "}}\n",
       "\n",
       "                        })                };                });            </script>        </div>"
      ]
     },
     "metadata": {},
     "output_type": "display_data"
    }
   ],
   "source": [
    "fig = px.bar(df_Male, x=\"Name\", y=\"Frequency\", color=\"Name\",\n",
    "      title=\"Most common Baby Boy Names \")\n",
    "fig.update_traces(  textposition=\"outside\")\n",
    "fig.update_layout(uniformtext_minsize=7)\n",
    "fig.update_layout(xaxis_tickangle=-45, )\n",
    "fig.update_traces( textposition='outside')\n",
    "\n",
    "fig.update_layout(\n",
    "\n",
    "autosize=False,\n",
    "margin=dict(\n",
    "autoexpand=True ),\n",
    "showlegend=False, plot_bgcolor=\"white\")"
   ]
  },
  {
   "cell_type": "markdown",
   "id": "insured-institution",
   "metadata": {
    "ExecuteTime": {
     "end_time": "2021-03-21T18:48:24.914356Z",
     "start_time": "2021-03-21T18:48:24.909517Z"
    }
   },
   "source": [
    "# Female Names "
   ]
  },
  {
   "cell_type": "code",
   "execution_count": 7,
   "id": "sophisticated-soviet",
   "metadata": {
    "ExecuteTime": {
     "end_time": "2021-03-22T09:10:28.674676Z",
     "start_time": "2021-03-22T09:10:28.668814Z"
    }
   },
   "outputs": [],
   "source": [
    "df_Female = df[df[\"Gender\"] == \"Female\"]"
   ]
  },
  {
   "cell_type": "code",
   "execution_count": 8,
   "id": "joint-spell",
   "metadata": {
    "ExecuteTime": {
     "end_time": "2021-03-22T09:10:29.165371Z",
     "start_time": "2021-03-22T09:10:28.919847Z"
    }
   },
   "outputs": [
    {
     "data": {
      "application/vnd.plotly.v1+json": {
       "config": {
        "plotlyServerURL": "https://plotly.com"
       },
       "data": [
        {
         "alignmentgroup": "True",
         "hovertemplate": "Name=%{x}<br>Frequency=%{y}<extra></extra>",
         "legendgroup": "LAURA",
         "marker": {
          "color": "#636efa"
         },
         "name": "LAURA",
         "offsetgroup": "LAURA",
         "orientation": "v",
         "showlegend": true,
         "textposition": "outside",
         "type": "bar",
         "x": [
          "LAURA",
          "LAURA",
          "LAURA",
          "LAURA",
          "LAURA",
          "LAURA",
          "LAURA",
          "LAURA",
          "LAURA",
          "LAURA",
          "LAURA",
          "LAURA",
          "LAURA",
          "LAURA",
          "LAURA",
          "LAURA"
         ],
         "xaxis": "x",
         "y": [
          237,
          229,
          202,
          209,
          222,
          175,
          161,
          148,
          146,
          124,
          111,
          84,
          82,
          78,
          66,
          65
         ],
         "yaxis": "y"
        },
        {
         "alignmentgroup": "True",
         "hovertemplate": "Name=%{x}<br>Frequency=%{y}<extra></extra>",
         "legendgroup": "MARIA",
         "marker": {
          "color": "#EF553B"
         },
         "name": "MARIA",
         "offsetgroup": "MARIA",
         "orientation": "v",
         "showlegend": true,
         "textposition": "outside",
         "type": "bar",
         "x": [
          "MARIA",
          "MARIA",
          "MARIA",
          "MARIA",
          "MARIA",
          "MARIA",
          "MARIA",
          "MARIA",
          "MARIA",
          "MARIA",
          "MARIA",
          "MARIA",
          "MARIA",
          "MARIA",
          "MARIA",
          "MARIA",
          "MARIA",
          "MARIA",
          "MARIA",
          "MARIA",
          "MARIA"
         ],
         "xaxis": "x",
         "y": [
          219,
          241,
          265,
          299,
          268,
          243,
          243,
          196,
          200,
          183,
          196,
          155,
          158,
          154,
          147,
          124,
          121,
          117,
          105,
          106,
          103
         ],
         "yaxis": "y"
        },
        {
         "alignmentgroup": "True",
         "hovertemplate": "Name=%{x}<br>Frequency=%{y}<extra></extra>",
         "legendgroup": "MARTA",
         "marker": {
          "color": "#00cc96"
         },
         "name": "MARTA",
         "offsetgroup": "MARTA",
         "orientation": "v",
         "showlegend": true,
         "textposition": "outside",
         "type": "bar",
         "x": [
          "MARTA",
          "MARTA",
          "MARTA",
          "MARTA",
          "MARTA",
          "MARTA",
          "MARTA",
          "MARTA",
          "MARTA",
          "MARTA",
          "MARTA",
          "MARTA",
          "MARTA",
          "MARTA",
          "MARTA"
         ],
         "xaxis": "x",
         "y": [
          206,
          211,
          166,
          182,
          157,
          157,
          162,
          131,
          110,
          122,
          89,
          72,
          69,
          53,
          55
         ],
         "yaxis": "y"
        },
        {
         "alignmentgroup": "True",
         "hovertemplate": "Name=%{x}<br>Frequency=%{y}<extra></extra>",
         "legendgroup": "ANDREA",
         "marker": {
          "color": "#ab63fa"
         },
         "name": "ANDREA",
         "offsetgroup": "ANDREA",
         "orientation": "v",
         "showlegend": true,
         "textposition": "outside",
         "type": "bar",
         "x": [
          "ANDREA",
          "ANDREA",
          "ANDREA",
          "ANDREA",
          "ANDREA",
          "ANDREA",
          "ANDREA",
          "ANDREA",
          "ANDREA",
          "ANDREA",
          "ANDREA",
          "ANDREA"
         ],
         "xaxis": "x",
         "y": [
          199,
          209,
          161,
          187,
          162,
          129,
          117,
          126,
          106,
          68,
          66,
          60
         ],
         "yaxis": "y"
        },
        {
         "alignmentgroup": "True",
         "hovertemplate": "Name=%{x}<br>Frequency=%{y}<extra></extra>",
         "legendgroup": "ANNA",
         "marker": {
          "color": "#FFA15A"
         },
         "name": "ANNA",
         "offsetgroup": "ANNA",
         "orientation": "v",
         "showlegend": true,
         "textposition": "outside",
         "type": "bar",
         "x": [
          "ANNA",
          "ANNA",
          "ANNA",
          "ANNA",
          "ANNA",
          "ANNA",
          "ANNA",
          "ANNA",
          "ANNA",
          "ANNA",
          "ANNA",
          "ANNA",
          "ANNA",
          "ANNA",
          "ANNA",
          "ANNA",
          "ANNA",
          "ANNA"
         ],
         "xaxis": "x",
         "y": [
          195,
          146,
          149,
          141,
          180,
          152,
          132,
          135,
          111,
          87,
          86,
          63,
          82,
          76,
          58,
          50,
          58,
          49
         ],
         "yaxis": "y"
        },
        {
         "alignmentgroup": "True",
         "hovertemplate": "Name=%{x}<br>Frequency=%{y}<extra></extra>",
         "legendgroup": "PAULA",
         "marker": {
          "color": "#19d3f3"
         },
         "name": "PAULA",
         "offsetgroup": "PAULA",
         "orientation": "v",
         "showlegend": true,
         "textposition": "outside",
         "type": "bar",
         "x": [
          "PAULA",
          "PAULA",
          "PAULA",
          "PAULA",
          "PAULA",
          "PAULA",
          "PAULA",
          "PAULA",
          "PAULA",
          "PAULA",
          "PAULA",
          "PAULA",
          "PAULA",
          "PAULA",
          "PAULA",
          "PAULA",
          "PAULA",
          "PAULA",
          "PAULA",
          "PAULA",
          "PAULA"
         ],
         "xaxis": "x",
         "y": [
          186,
          205,
          175,
          207,
          221,
          187,
          197,
          192,
          190,
          157,
          122,
          124,
          136,
          143,
          135,
          113,
          96,
          111,
          84,
          91,
          94
         ],
         "yaxis": "y"
        },
        {
         "alignmentgroup": "True",
         "hovertemplate": "Name=%{x}<br>Frequency=%{y}<extra></extra>",
         "legendgroup": "ALBA",
         "marker": {
          "color": "#FF6692"
         },
         "name": "ALBA",
         "offsetgroup": "ALBA",
         "orientation": "v",
         "showlegend": true,
         "textposition": "outside",
         "type": "bar",
         "x": [
          "ALBA",
          "ALBA",
          "ALBA",
          "ALBA",
          "ALBA",
          "ALBA",
          "ALBA",
          "ALBA",
          "ALBA",
          "ALBA",
          "ALBA",
          "ALBA",
          "ALBA",
          "ALBA",
          "ALBA",
          "ALBA",
          "ALBA",
          "ALBA",
          "ALBA",
          "ALBA",
          "ALBA"
         ],
         "xaxis": "x",
         "y": [
          142,
          134,
          101,
          113,
          137,
          131,
          147,
          135,
          122,
          117,
          101,
          87,
          75,
          76,
          69,
          78,
          70,
          69,
          67,
          73,
          63
         ],
         "yaxis": "y"
        },
        {
         "alignmentgroup": "True",
         "hovertemplate": "Name=%{x}<br>Frequency=%{y}<extra></extra>",
         "legendgroup": "SARA",
         "marker": {
          "color": "#B6E880"
         },
         "name": "SARA",
         "offsetgroup": "SARA",
         "orientation": "v",
         "showlegend": true,
         "textposition": "outside",
         "type": "bar",
         "x": [
          "SARA",
          "SARA",
          "SARA",
          "SARA",
          "SARA",
          "SARA",
          "SARA",
          "SARA",
          "SARA",
          "SARA",
          "SARA",
          "SARA",
          "SARA",
          "SARA",
          "SARA",
          "SARA",
          "SARA",
          "SARA",
          "SARA",
          "SARA",
          "SARA"
         ],
         "xaxis": "x",
         "y": [
          125,
          97,
          102,
          106,
          118,
          114,
          105,
          107,
          84,
          77,
          97,
          100,
          102,
          77,
          102,
          95,
          78,
          59,
          57,
          65,
          57
         ],
         "yaxis": "y"
        },
        {
         "alignmentgroup": "True",
         "hovertemplate": "Name=%{x}<br>Frequency=%{y}<extra></extra>",
         "legendgroup": "LAIA",
         "marker": {
          "color": "#FF97FF"
         },
         "name": "LAIA",
         "offsetgroup": "LAIA",
         "orientation": "v",
         "showlegend": true,
         "textposition": "outside",
         "type": "bar",
         "x": [
          "LAIA",
          "LAIA",
          "LAIA",
          "LAIA",
          "LAIA",
          "LAIA",
          "LAIA",
          "LAIA",
          "LAIA",
          "LAIA",
          "LAIA",
          "LAIA",
          "LAIA",
          "LAIA",
          "LAIA",
          "LAIA",
          "LAIA",
          "LAIA",
          "LAIA",
          "LAIA",
          "LAIA"
         ],
         "xaxis": "x",
         "y": [
          123,
          158,
          148,
          132,
          132,
          143,
          137,
          158,
          184,
          200,
          180,
          138,
          156,
          159,
          128,
          146,
          156,
          131,
          153,
          103,
          129
         ],
         "yaxis": "y"
        },
        {
         "alignmentgroup": "True",
         "hovertemplate": "Name=%{x}<br>Frequency=%{y}<extra></extra>",
         "legendgroup": "CLAUDIA",
         "marker": {
          "color": "#FECB52"
         },
         "name": "CLAUDIA",
         "offsetgroup": "CLAUDIA",
         "orientation": "v",
         "showlegend": true,
         "textposition": "outside",
         "type": "bar",
         "x": [
          "CLAUDIA",
          "CLAUDIA",
          "CLAUDIA",
          "CLAUDIA",
          "CLAUDIA",
          "CLAUDIA",
          "CLAUDIA",
          "CLAUDIA",
          "CLAUDIA",
          "CLAUDIA",
          "CLAUDIA",
          "CLAUDIA",
          "CLAUDIA",
          "CLAUDIA",
          "CLAUDIA",
          "CLAUDIA",
          "CLAUDIA",
          "CLAUDIA",
          "CLAUDIA",
          "CLAUDIA",
          "CLAUDIA"
         ],
         "xaxis": "x",
         "y": [
          122,
          106,
          110,
          97,
          117,
          120,
          124,
          121,
          127,
          112,
          126,
          114,
          113,
          112,
          101,
          95,
          84,
          81,
          83,
          77,
          68
         ],
         "yaxis": "y"
        },
        {
         "alignmentgroup": "True",
         "hovertemplate": "Name=%{x}<br>Frequency=%{y}<extra></extra>",
         "legendgroup": "JULIA",
         "marker": {
          "color": "#636efa"
         },
         "name": "JULIA",
         "offsetgroup": "JULIA",
         "orientation": "v",
         "showlegend": true,
         "textposition": "outside",
         "type": "bar",
         "x": [
          "JULIA",
          "JULIA",
          "JULIA",
          "JULIA",
          "JULIA",
          "JULIA",
          "JULIA",
          "JULIA",
          "JULIA",
          "JULIA",
          "JULIA",
          "JULIA",
          "JULIA",
          "JULIA",
          "JULIA",
          "JULIA",
          "JULIA",
          "JULIA",
          "JULIA",
          "JULIA",
          "JULIA"
         ],
         "xaxis": "x",
         "y": [
          115,
          132,
          124,
          120,
          144,
          138,
          134,
          128,
          171,
          182,
          160,
          130,
          162,
          128,
          173,
          154,
          158,
          143,
          120,
          123,
          137
         ],
         "yaxis": "y"
        },
        {
         "alignmentgroup": "True",
         "hovertemplate": "Name=%{x}<br>Frequency=%{y}<extra></extra>",
         "legendgroup": "CARLA",
         "marker": {
          "color": "#EF553B"
         },
         "name": "CARLA",
         "offsetgroup": "CARLA",
         "orientation": "v",
         "showlegend": true,
         "textposition": "outside",
         "type": "bar",
         "x": [
          "CARLA",
          "CARLA",
          "CARLA",
          "CARLA",
          "CARLA",
          "CARLA",
          "CARLA",
          "CARLA",
          "CARLA",
          "CARLA",
          "CARLA",
          "CARLA",
          "CARLA",
          "CARLA",
          "CARLA",
          "CARLA",
          "CARLA",
          "CARLA",
          "CARLA",
          "CARLA",
          "CARLA"
         ],
         "xaxis": "x",
         "y": [
          112,
          118,
          119,
          128,
          137,
          153,
          142,
          165,
          164,
          171,
          145,
          125,
          139,
          118,
          120,
          105,
          122,
          81,
          91,
          85,
          81
         ],
         "yaxis": "y"
        },
        {
         "alignmentgroup": "True",
         "hovertemplate": "Name=%{x}<br>Frequency=%{y}<extra></extra>",
         "legendgroup": "MIREIA",
         "marker": {
          "color": "#00cc96"
         },
         "name": "MIREIA",
         "offsetgroup": "MIREIA",
         "orientation": "v",
         "showlegend": true,
         "textposition": "outside",
         "type": "bar",
         "x": [
          "MIREIA",
          "MIREIA",
          "MIREIA",
          "MIREIA",
          "MIREIA",
          "MIREIA",
          "MIREIA",
          "MIREIA",
          "MIREIA",
          "MIREIA",
          "MIREIA"
         ],
         "xaxis": "x",
         "y": [
          112,
          90,
          98,
          91,
          111,
          104,
          96,
          71,
          68,
          60,
          56
         ],
         "yaxis": "y"
        },
        {
         "alignmentgroup": "True",
         "hovertemplate": "Name=%{x}<br>Frequency=%{y}<extra></extra>",
         "legendgroup": "MARINA",
         "marker": {
          "color": "#ab63fa"
         },
         "name": "MARINA",
         "offsetgroup": "MARINA",
         "orientation": "v",
         "showlegend": true,
         "textposition": "outside",
         "type": "bar",
         "x": [
          "MARINA",
          "MARINA",
          "MARINA",
          "MARINA",
          "MARINA",
          "MARINA",
          "MARINA",
          "MARINA",
          "MARINA",
          "MARINA",
          "MARINA",
          "MARINA",
          "MARINA",
          "MARINA"
         ],
         "xaxis": "x",
         "y": [
          102,
          81,
          107,
          116,
          116,
          98,
          98,
          84,
          81,
          76,
          61,
          57,
          60,
          50
         ],
         "yaxis": "y"
        },
        {
         "alignmentgroup": "True",
         "hovertemplate": "Name=%{x}<br>Frequency=%{y}<extra></extra>",
         "legendgroup": "CRISTINA",
         "marker": {
          "color": "#FFA15A"
         },
         "name": "CRISTINA",
         "offsetgroup": "CRISTINA",
         "orientation": "v",
         "showlegend": true,
         "textposition": "outside",
         "type": "bar",
         "x": [
          "CRISTINA",
          "CRISTINA",
          "CRISTINA",
          "CRISTINA",
          "CRISTINA",
          "CRISTINA",
          "CRISTINA",
          "CRISTINA",
          "CRISTINA"
         ],
         "xaxis": "x",
         "y": [
          99,
          105,
          96,
          93,
          86,
          78,
          62,
          75,
          58
         ],
         "yaxis": "y"
        },
        {
         "alignmentgroup": "True",
         "hovertemplate": "Name=%{x}<br>Frequency=%{y}<extra></extra>",
         "legendgroup": "CLARA",
         "marker": {
          "color": "#19d3f3"
         },
         "name": "CLARA",
         "offsetgroup": "CLARA",
         "orientation": "v",
         "showlegend": true,
         "textposition": "outside",
         "type": "bar",
         "x": [
          "CLARA",
          "CLARA",
          "CLARA",
          "CLARA",
          "CLARA",
          "CLARA",
          "CLARA",
          "CLARA",
          "CLARA",
          "CLARA",
          "CLARA",
          "CLARA",
          "CLARA",
          "CLARA",
          "CLARA",
          "CLARA",
          "CLARA"
         ],
         "xaxis": "x",
         "y": [
          89,
          83,
          95,
          69,
          82,
          72,
          81,
          71,
          61,
          69,
          66,
          63,
          60,
          65,
          60,
          59,
          63
         ],
         "yaxis": "y"
        },
        {
         "alignmentgroup": "True",
         "hovertemplate": "Name=%{x}<br>Frequency=%{y}<extra></extra>",
         "legendgroup": "JUDITH",
         "marker": {
          "color": "#FF6692"
         },
         "name": "JUDITH",
         "offsetgroup": "JUDITH",
         "orientation": "v",
         "showlegend": true,
         "textposition": "outside",
         "type": "bar",
         "x": [
          "JUDITH",
          "JUDITH",
          "JUDITH",
          "JUDITH"
         ],
         "xaxis": "x",
         "y": [
          80,
          72,
          61,
          55
         ],
         "yaxis": "y"
        },
        {
         "alignmentgroup": "True",
         "hovertemplate": "Name=%{x}<br>Frequency=%{y}<extra></extra>",
         "legendgroup": "ARIADNA",
         "marker": {
          "color": "#B6E880"
         },
         "name": "ARIADNA",
         "offsetgroup": "ARIADNA",
         "orientation": "v",
         "showlegend": true,
         "textposition": "outside",
         "type": "bar",
         "x": [
          "ARIADNA",
          "ARIADNA",
          "ARIADNA",
          "ARIADNA",
          "ARIADNA",
          "ARIADNA",
          "ARIADNA",
          "ARIADNA",
          "ARIADNA",
          "ARIADNA",
          "ARIADNA",
          "ARIADNA",
          "ARIADNA",
          "ARIADNA",
          "ARIADNA",
          "ARIADNA",
          "ARIADNA",
          "ARIADNA",
          "ARIADNA",
          "ARIADNA"
         ],
         "xaxis": "x",
         "y": [
          78,
          90,
          63,
          92,
          78,
          67,
          92,
          96,
          77,
          99,
          76,
          88,
          84,
          70,
          76,
          81,
          78,
          71,
          45,
          55
         ],
         "yaxis": "y"
        },
        {
         "alignmentgroup": "True",
         "hovertemplate": "Name=%{x}<br>Frequency=%{y}<extra></extra>",
         "legendgroup": "NURIA",
         "marker": {
          "color": "#FF97FF"
         },
         "name": "NURIA",
         "offsetgroup": "NURIA",
         "orientation": "v",
         "showlegend": true,
         "textposition": "outside",
         "type": "bar",
         "x": [
          "NURIA",
          "NURIA",
          "NURIA",
          "NURIA",
          "NURIA",
          "NURIA",
          "NURIA",
          "NURIA",
          "NURIA"
         ],
         "xaxis": "x",
         "y": [
          72,
          83,
          77,
          84,
          62,
          71,
          71,
          66,
          56
         ],
         "yaxis": "y"
        },
        {
         "alignmentgroup": "True",
         "hovertemplate": "Name=%{x}<br>Frequency=%{y}<extra></extra>",
         "legendgroup": "PATRICIA",
         "marker": {
          "color": "#FECB52"
         },
         "name": "PATRICIA",
         "offsetgroup": "PATRICIA",
         "orientation": "v",
         "showlegend": true,
         "textposition": "outside",
         "type": "bar",
         "x": [
          "PATRICIA"
         ],
         "xaxis": "x",
         "y": [
          71
         ],
         "yaxis": "y"
        },
        {
         "alignmentgroup": "True",
         "hovertemplate": "Name=%{x}<br>Frequency=%{y}<extra></extra>",
         "legendgroup": "RAQUEL",
         "marker": {
          "color": "#636efa"
         },
         "name": "RAQUEL",
         "offsetgroup": "RAQUEL",
         "orientation": "v",
         "showlegend": true,
         "textposition": "outside",
         "type": "bar",
         "x": [
          "RAQUEL",
          "RAQUEL"
         ],
         "xaxis": "x",
         "y": [
          69,
          67
         ],
         "yaxis": "y"
        },
        {
         "alignmentgroup": "True",
         "hovertemplate": "Name=%{x}<br>Frequency=%{y}<extra></extra>",
         "legendgroup": "ANA",
         "marker": {
          "color": "#EF553B"
         },
         "name": "ANA",
         "offsetgroup": "ANA",
         "orientation": "v",
         "showlegend": true,
         "textposition": "outside",
         "type": "bar",
         "x": [
          "ANA",
          "ANA",
          "ANA",
          "ANA",
          "ANA",
          "ANA"
         ],
         "xaxis": "x",
         "y": [
          65,
          71,
          69,
          72,
          83,
          59
         ],
         "yaxis": "y"
        },
        {
         "alignmentgroup": "True",
         "hovertemplate": "Name=%{x}<br>Frequency=%{y}<extra></extra>",
         "legendgroup": "IRENE",
         "marker": {
          "color": "#00cc96"
         },
         "name": "IRENE",
         "offsetgroup": "IRENE",
         "orientation": "v",
         "showlegend": true,
         "textposition": "outside",
         "type": "bar",
         "x": [
          "IRENE",
          "IRENE",
          "IRENE",
          "IRENE",
          "IRENE",
          "IRENE",
          "IRENE",
          "IRENE",
          "IRENE",
          "IRENE",
          "IRENE",
          "IRENE"
         ],
         "xaxis": "x",
         "y": [
          64,
          96,
          82,
          68,
          55,
          57,
          65,
          75,
          66,
          56,
          47,
          60
         ],
         "yaxis": "y"
        },
        {
         "alignmentgroup": "True",
         "hovertemplate": "Name=%{x}<br>Frequency=%{y}<extra></extra>",
         "legendgroup": "JUDIT",
         "marker": {
          "color": "#ab63fa"
         },
         "name": "JUDIT",
         "offsetgroup": "JUDIT",
         "orientation": "v",
         "showlegend": true,
         "textposition": "outside",
         "type": "bar",
         "x": [
          "JUDIT",
          "JUDIT",
          "JUDIT"
         ],
         "xaxis": "x",
         "y": [
          63,
          71,
          63
         ],
         "yaxis": "y"
        },
        {
         "alignmentgroup": "True",
         "hovertemplate": "Name=%{x}<br>Frequency=%{y}<extra></extra>",
         "legendgroup": "SANDRA",
         "marker": {
          "color": "#FFA15A"
         },
         "name": "SANDRA",
         "offsetgroup": "SANDRA",
         "orientation": "v",
         "showlegend": true,
         "textposition": "outside",
         "type": "bar",
         "x": [
          "SANDRA",
          "SANDRA",
          "SANDRA",
          "SANDRA"
         ],
         "xaxis": "x",
         "y": [
          55,
          64,
          57,
          64
         ],
         "yaxis": "y"
        },
        {
         "alignmentgroup": "True",
         "hovertemplate": "Name=%{x}<br>Frequency=%{y}<extra></extra>",
         "legendgroup": "BERTA",
         "marker": {
          "color": "#19d3f3"
         },
         "name": "BERTA",
         "offsetgroup": "BERTA",
         "orientation": "v",
         "showlegend": true,
         "textposition": "outside",
         "type": "bar",
         "x": [
          "BERTA",
          "BERTA",
          "BERTA",
          "BERTA",
          "BERTA",
          "BERTA",
          "BERTA",
          "BERTA",
          "BERTA",
          "BERTA",
          "BERTA",
          "BERTA",
          "BERTA",
          "BERTA",
          "BERTA",
          "BERTA",
          "BERTA",
          "BERTA"
         ],
         "xaxis": "x",
         "y": [
          66,
          68,
          78,
          84,
          76,
          63,
          72,
          76,
          77,
          68,
          80,
          73,
          65,
          56,
          51,
          56,
          55,
          51
         ],
         "yaxis": "y"
        },
        {
         "alignmentgroup": "True",
         "hovertemplate": "Name=%{x}<br>Frequency=%{y}<extra></extra>",
         "legendgroup": "MAR",
         "marker": {
          "color": "#FF6692"
         },
         "name": "MAR",
         "offsetgroup": "MAR",
         "orientation": "v",
         "showlegend": true,
         "textposition": "outside",
         "type": "bar",
         "x": [
          "MAR",
          "MAR",
          "MAR",
          "MAR",
          "MAR",
          "MAR",
          "MAR",
          "MAR",
          "MAR"
         ],
         "xaxis": "x",
         "y": [
          64,
          50,
          68,
          63,
          65,
          55,
          59,
          76,
          53
         ],
         "yaxis": "y"
        },
        {
         "alignmentgroup": "True",
         "hovertemplate": "Name=%{x}<br>Frequency=%{y}<extra></extra>",
         "legendgroup": "AINA",
         "marker": {
          "color": "#B6E880"
         },
         "name": "AINA",
         "offsetgroup": "AINA",
         "orientation": "v",
         "showlegend": true,
         "textposition": "outside",
         "type": "bar",
         "x": [
          "AINA",
          "AINA",
          "AINA",
          "AINA",
          "AINA",
          "AINA",
          "AINA",
          "AINA",
          "AINA",
          "AINA",
          "AINA",
          "AINA",
          "AINA",
          "AINA",
          "AINA",
          "AINA",
          "AINA"
         ],
         "xaxis": "x",
         "y": [
          54,
          65,
          65,
          80,
          73,
          73,
          82,
          90,
          77,
          88,
          109,
          94,
          94,
          87,
          71,
          92,
          74
         ],
         "yaxis": "y"
        },
        {
         "alignmentgroup": "True",
         "hovertemplate": "Name=%{x}<br>Frequency=%{y}<extra></extra>",
         "legendgroup": "HELENA",
         "marker": {
          "color": "#FF97FF"
         },
         "name": "HELENA",
         "offsetgroup": "HELENA",
         "orientation": "v",
         "showlegend": true,
         "textposition": "outside",
         "type": "bar",
         "x": [
          "HELENA",
          "HELENA"
         ],
         "xaxis": "x",
         "y": [
          62,
          61
         ],
         "yaxis": "y"
        },
        {
         "alignmentgroup": "True",
         "hovertemplate": "Name=%{x}<br>Frequency=%{y}<extra></extra>",
         "legendgroup": "NATALIA",
         "marker": {
          "color": "#FECB52"
         },
         "name": "NATALIA",
         "offsetgroup": "NATALIA",
         "orientation": "v",
         "showlegend": true,
         "textposition": "outside",
         "type": "bar",
         "x": [
          "NATALIA",
          "NATALIA"
         ],
         "xaxis": "x",
         "y": [
          63,
          59
         ],
         "yaxis": "y"
        },
        {
         "alignmentgroup": "True",
         "hovertemplate": "Name=%{x}<br>Frequency=%{y}<extra></extra>",
         "legendgroup": "CARLOTA",
         "marker": {
          "color": "#636efa"
         },
         "name": "CARLOTA",
         "offsetgroup": "CARLOTA",
         "orientation": "v",
         "showlegend": true,
         "textposition": "outside",
         "type": "bar",
         "x": [
          "CARLOTA",
          "CARLOTA",
          "CARLOTA",
          "CARLOTA",
          "CARLOTA",
          "CARLOTA",
          "CARLOTA",
          "CARLOTA",
          "CARLOTA",
          "CARLOTA",
          "CARLOTA"
         ],
         "xaxis": "x",
         "y": [
          54,
          54,
          70,
          55,
          56,
          56,
          51,
          49,
          59,
          48,
          50
         ],
         "yaxis": "y"
        },
        {
         "alignmentgroup": "True",
         "hovertemplate": "Name=%{x}<br>Frequency=%{y}<extra></extra>",
         "legendgroup": "EMMA",
         "marker": {
          "color": "#EF553B"
         },
         "name": "EMMA",
         "offsetgroup": "EMMA",
         "orientation": "v",
         "showlegend": true,
         "textposition": "outside",
         "type": "bar",
         "x": [
          "EMMA",
          "EMMA",
          "EMMA",
          "EMMA",
          "EMMA",
          "EMMA",
          "EMMA",
          "EMMA",
          "EMMA",
          "EMMA",
          "EMMA",
          "EMMA",
          "EMMA"
         ],
         "xaxis": "x",
         "y": [
          54,
          57,
          58,
          60,
          73,
          59,
          63,
          81,
          93,
          105,
          117,
          145,
          119
         ],
         "yaxis": "y"
        },
        {
         "alignmentgroup": "True",
         "hovertemplate": "Name=%{x}<br>Frequency=%{y}<extra></extra>",
         "legendgroup": "NEREA",
         "marker": {
          "color": "#00cc96"
         },
         "name": "NEREA",
         "offsetgroup": "NEREA",
         "orientation": "v",
         "showlegend": true,
         "textposition": "outside",
         "type": "bar",
         "x": [
          "NEREA",
          "NEREA",
          "NEREA",
          "NEREA"
         ],
         "xaxis": "x",
         "y": [
          53,
          62,
          60,
          62
         ],
         "yaxis": "y"
        },
        {
         "alignmentgroup": "True",
         "hovertemplate": "Name=%{x}<br>Frequency=%{y}<extra></extra>",
         "legendgroup": "LUCIA",
         "marker": {
          "color": "#ab63fa"
         },
         "name": "LUCIA",
         "offsetgroup": "LUCIA",
         "orientation": "v",
         "showlegend": true,
         "textposition": "outside",
         "type": "bar",
         "x": [
          "LUCIA",
          "LUCIA",
          "LUCIA",
          "LUCIA",
          "LUCIA",
          "LUCIA",
          "LUCIA",
          "LUCIA",
          "LUCIA",
          "LUCIA",
          "LUCIA",
          "LUCIA",
          "LUCIA",
          "LUCIA",
          "LUCIA"
         ],
         "xaxis": "x",
         "y": [
          100,
          119,
          171,
          165,
          170,
          159,
          146,
          138,
          139,
          123,
          119,
          116,
          89,
          120,
          122
         ],
         "yaxis": "y"
        },
        {
         "alignmentgroup": "True",
         "hovertemplate": "Name=%{x}<br>Frequency=%{y}<extra></extra>",
         "legendgroup": "MARTINA",
         "marker": {
          "color": "#FFA15A"
         },
         "name": "MARTINA",
         "offsetgroup": "MARTINA",
         "orientation": "v",
         "showlegend": true,
         "textposition": "outside",
         "type": "bar",
         "x": [
          "MARTINA",
          "MARTINA",
          "MARTINA",
          "MARTINA",
          "MARTINA",
          "MARTINA",
          "MARTINA",
          "MARTINA",
          "MARTINA",
          "MARTINA",
          "MARTINA",
          "MARTINA",
          "MARTINA",
          "MARTINA",
          "MARTINA"
         ],
         "xaxis": "x",
         "y": [
          65,
          67,
          105,
          144,
          129,
          152,
          169,
          167,
          194,
          157,
          152,
          137,
          134,
          116,
          103
         ],
         "yaxis": "y"
        },
        {
         "alignmentgroup": "True",
         "hovertemplate": "Name=%{x}<br>Frequency=%{y}<extra></extra>",
         "legendgroup": "AINHOA",
         "marker": {
          "color": "#19d3f3"
         },
         "name": "AINHOA",
         "offsetgroup": "AINHOA",
         "orientation": "v",
         "showlegend": true,
         "textposition": "outside",
         "type": "bar",
         "x": [
          "AINHOA",
          "AINHOA"
         ],
         "xaxis": "x",
         "y": [
          64,
          49
         ],
         "yaxis": "y"
        },
        {
         "alignmentgroup": "True",
         "hovertemplate": "Name=%{x}<br>Frequency=%{y}<extra></extra>",
         "legendgroup": "SOFIA",
         "marker": {
          "color": "#FF6692"
         },
         "name": "SOFIA",
         "offsetgroup": "SOFIA",
         "orientation": "v",
         "showlegend": true,
         "textposition": "outside",
         "type": "bar",
         "x": [
          "SOFIA",
          "SOFIA",
          "SOFIA",
          "SOFIA",
          "SOFIA",
          "SOFIA",
          "SOFIA",
          "SOFIA",
          "SOFIA",
          "SOFIA",
          "SOFIA",
          "SOFIA"
         ],
         "xaxis": "x",
         "y": [
          90,
          58,
          87,
          81,
          87,
          95,
          109,
          100,
          102,
          106,
          104,
          122
         ],
         "yaxis": "y"
        },
        {
         "alignmentgroup": "True",
         "hovertemplate": "Name=%{x}<br>Frequency=%{y}<extra></extra>",
         "legendgroup": "NOA",
         "marker": {
          "color": "#B6E880"
         },
         "name": "NOA",
         "offsetgroup": "NOA",
         "orientation": "v",
         "showlegend": true,
         "textposition": "outside",
         "type": "bar",
         "x": [
          "NOA",
          "NOA",
          "NOA",
          "NOA",
          "NOA",
          "NOA",
          "NOA",
          "NOA",
          "NOA",
          "NOA",
          "NOA"
         ],
         "xaxis": "x",
         "y": [
          66,
          73,
          78,
          74,
          83,
          104,
          71,
          88,
          107,
          98,
          102
         ],
         "yaxis": "y"
        },
        {
         "alignmentgroup": "True",
         "hovertemplate": "Name=%{x}<br>Frequency=%{y}<extra></extra>",
         "legendgroup": "JANA",
         "marker": {
          "color": "#FF97FF"
         },
         "name": "JANA",
         "offsetgroup": "JANA",
         "orientation": "v",
         "showlegend": true,
         "textposition": "outside",
         "type": "bar",
         "x": [
          "JANA",
          "JANA",
          "JANA",
          "JANA",
          "JANA",
          "JANA",
          "JANA",
          "JANA",
          "JANA",
          "JANA"
         ],
         "xaxis": "x",
         "y": [
          56,
          93,
          92,
          71,
          53,
          52,
          67,
          65,
          58,
          55
         ],
         "yaxis": "y"
        },
        {
         "alignmentgroup": "True",
         "hovertemplate": "Name=%{x}<br>Frequency=%{y}<extra></extra>",
         "legendgroup": "ABRIL",
         "marker": {
          "color": "#FECB52"
         },
         "name": "ABRIL",
         "offsetgroup": "ABRIL",
         "orientation": "v",
         "showlegend": true,
         "textposition": "outside",
         "type": "bar",
         "x": [
          "ABRIL",
          "ABRIL",
          "ABRIL",
          "ABRIL",
          "ABRIL",
          "ABRIL",
          "ABRIL"
         ],
         "xaxis": "x",
         "y": [
          61,
          55,
          57,
          54,
          51,
          62,
          60
         ],
         "yaxis": "y"
        },
        {
         "alignmentgroup": "True",
         "hovertemplate": "Name=%{x}<br>Frequency=%{y}<extra></extra>",
         "legendgroup": "DANIELA",
         "marker": {
          "color": "#636efa"
         },
         "name": "DANIELA",
         "offsetgroup": "DANIELA",
         "orientation": "v",
         "showlegend": true,
         "textposition": "outside",
         "type": "bar",
         "x": [
          "DANIELA",
          "DANIELA",
          "DANIELA",
          "DANIELA",
          "DANIELA",
          "DANIELA"
         ],
         "xaxis": "x",
         "y": [
          66,
          58,
          69,
          48,
          68,
          55
         ],
         "yaxis": "y"
        },
        {
         "alignmentgroup": "True",
         "hovertemplate": "Name=%{x}<br>Frequency=%{y}<extra></extra>",
         "legendgroup": "INES",
         "marker": {
          "color": "#EF553B"
         },
         "name": "INES",
         "offsetgroup": "INES",
         "orientation": "v",
         "showlegend": true,
         "textposition": "outside",
         "type": "bar",
         "x": [
          "INES",
          "INES"
         ],
         "xaxis": "x",
         "y": [
          57,
          52
         ],
         "yaxis": "y"
        },
        {
         "alignmentgroup": "True",
         "hovertemplate": "Name=%{x}<br>Frequency=%{y}<extra></extra>",
         "legendgroup": "ONA",
         "marker": {
          "color": "#00cc96"
         },
         "name": "ONA",
         "offsetgroup": "ONA",
         "orientation": "v",
         "showlegend": true,
         "textposition": "outside",
         "type": "bar",
         "x": [
          "ONA",
          "ONA",
          "ONA",
          "ONA",
          "ONA",
          "ONA"
         ],
         "xaxis": "x",
         "y": [
          74,
          68,
          55,
          84,
          77,
          79
         ],
         "yaxis": "y"
        },
        {
         "alignmentgroup": "True",
         "hovertemplate": "Name=%{x}<br>Frequency=%{y}<extra></extra>",
         "legendgroup": "NORA",
         "marker": {
          "color": "#ab63fa"
         },
         "name": "NORA",
         "offsetgroup": "NORA",
         "orientation": "v",
         "showlegend": true,
         "textposition": "outside",
         "type": "bar",
         "x": [
          "NORA",
          "NORA",
          "NORA"
         ],
         "xaxis": "x",
         "y": [
          58,
          50,
          58
         ],
         "yaxis": "y"
        },
        {
         "alignmentgroup": "True",
         "hovertemplate": "Name=%{x}<br>Frequency=%{y}<extra></extra>",
         "legendgroup": "OLIVIA",
         "marker": {
          "color": "#FFA15A"
         },
         "name": "OLIVIA",
         "offsetgroup": "OLIVIA",
         "orientation": "v",
         "showlegend": true,
         "textposition": "outside",
         "type": "bar",
         "x": [
          "OLIVIA",
          "OLIVIA",
          "OLIVIA",
          "OLIVIA",
          "OLIVIA",
          "OLIVIA"
         ],
         "xaxis": "x",
         "y": [
          55,
          57,
          55,
          72,
          71,
          65
         ],
         "yaxis": "y"
        },
        {
         "alignmentgroup": "True",
         "hovertemplate": "Name=%{x}<br>Frequency=%{y}<extra></extra>",
         "legendgroup": "VALENTINA",
         "marker": {
          "color": "#19d3f3"
         },
         "name": "VALENTINA",
         "offsetgroup": "VALENTINA",
         "orientation": "v",
         "showlegend": true,
         "textposition": "outside",
         "type": "bar",
         "x": [
          "VALENTINA",
          "VALENTINA",
          "VALENTINA",
          "VALENTINA",
          "VALENTINA"
         ],
         "xaxis": "x",
         "y": [
          83,
          78,
          99,
          84,
          68
         ],
         "yaxis": "y"
        },
        {
         "alignmentgroup": "True",
         "hovertemplate": "Name=%{x}<br>Frequency=%{y}<extra></extra>",
         "legendgroup": "ARLET",
         "marker": {
          "color": "#FF6692"
         },
         "name": "ARLET",
         "offsetgroup": "ARLET",
         "orientation": "v",
         "showlegend": true,
         "textposition": "outside",
         "type": "bar",
         "x": [
          "ARLET",
          "ARLET",
          "ARLET",
          "ARLET"
         ],
         "xaxis": "x",
         "y": [
          51,
          55,
          50,
          54
         ],
         "yaxis": "y"
        },
        {
         "alignmentgroup": "True",
         "hovertemplate": "Name=%{x}<br>Frequency=%{y}<extra></extra>",
         "legendgroup": "MIA",
         "marker": {
          "color": "#B6E880"
         },
         "name": "MIA",
         "offsetgroup": "MIA",
         "orientation": "v",
         "showlegend": true,
         "textposition": "outside",
         "type": "bar",
         "x": [
          "MIA",
          "MIA"
         ],
         "xaxis": "x",
         "y": [
          57,
          65
         ],
         "yaxis": "y"
        },
        {
         "alignmentgroup": "True",
         "hovertemplate": "Name=%{x}<br>Frequency=%{y}<extra></extra>",
         "legendgroup": "CHLOE",
         "marker": {
          "color": "#FF97FF"
         },
         "name": "CHLOE",
         "offsetgroup": "CHLOE",
         "orientation": "v",
         "showlegend": true,
         "textposition": "outside",
         "type": "bar",
         "x": [
          "CHLOE"
         ],
         "xaxis": "x",
         "y": [
          62
         ],
         "yaxis": "y"
        },
        {
         "alignmentgroup": "True",
         "hovertemplate": "Name=%{x}<br>Frequency=%{y}<extra></extra>",
         "legendgroup": "VALERIA",
         "marker": {
          "color": "#FECB52"
         },
         "name": "VALERIA",
         "offsetgroup": "VALERIA",
         "orientation": "v",
         "showlegend": true,
         "textposition": "outside",
         "type": "bar",
         "x": [
          "VALERIA"
         ],
         "xaxis": "x",
         "y": [
          55
         ],
         "yaxis": "y"
        }
       ],
       "layout": {
        "autosize": false,
        "barmode": "relative",
        "legend": {
         "title": {
          "text": "Name"
         },
         "tracegroupgap": 0
        },
        "margin": {
         "autoexpand": true
        },
        "plot_bgcolor": "white",
        "showlegend": false,
        "template": {
         "data": {
          "bar": [
           {
            "error_x": {
             "color": "#2a3f5f"
            },
            "error_y": {
             "color": "#2a3f5f"
            },
            "marker": {
             "line": {
              "color": "#E5ECF6",
              "width": 0.5
             }
            },
            "type": "bar"
           }
          ],
          "barpolar": [
           {
            "marker": {
             "line": {
              "color": "#E5ECF6",
              "width": 0.5
             }
            },
            "type": "barpolar"
           }
          ],
          "carpet": [
           {
            "aaxis": {
             "endlinecolor": "#2a3f5f",
             "gridcolor": "white",
             "linecolor": "white",
             "minorgridcolor": "white",
             "startlinecolor": "#2a3f5f"
            },
            "baxis": {
             "endlinecolor": "#2a3f5f",
             "gridcolor": "white",
             "linecolor": "white",
             "minorgridcolor": "white",
             "startlinecolor": "#2a3f5f"
            },
            "type": "carpet"
           }
          ],
          "choropleth": [
           {
            "colorbar": {
             "outlinewidth": 0,
             "ticks": ""
            },
            "type": "choropleth"
           }
          ],
          "contour": [
           {
            "colorbar": {
             "outlinewidth": 0,
             "ticks": ""
            },
            "colorscale": [
             [
              0,
              "#0d0887"
             ],
             [
              0.1111111111111111,
              "#46039f"
             ],
             [
              0.2222222222222222,
              "#7201a8"
             ],
             [
              0.3333333333333333,
              "#9c179e"
             ],
             [
              0.4444444444444444,
              "#bd3786"
             ],
             [
              0.5555555555555556,
              "#d8576b"
             ],
             [
              0.6666666666666666,
              "#ed7953"
             ],
             [
              0.7777777777777778,
              "#fb9f3a"
             ],
             [
              0.8888888888888888,
              "#fdca26"
             ],
             [
              1,
              "#f0f921"
             ]
            ],
            "type": "contour"
           }
          ],
          "contourcarpet": [
           {
            "colorbar": {
             "outlinewidth": 0,
             "ticks": ""
            },
            "type": "contourcarpet"
           }
          ],
          "heatmap": [
           {
            "colorbar": {
             "outlinewidth": 0,
             "ticks": ""
            },
            "colorscale": [
             [
              0,
              "#0d0887"
             ],
             [
              0.1111111111111111,
              "#46039f"
             ],
             [
              0.2222222222222222,
              "#7201a8"
             ],
             [
              0.3333333333333333,
              "#9c179e"
             ],
             [
              0.4444444444444444,
              "#bd3786"
             ],
             [
              0.5555555555555556,
              "#d8576b"
             ],
             [
              0.6666666666666666,
              "#ed7953"
             ],
             [
              0.7777777777777778,
              "#fb9f3a"
             ],
             [
              0.8888888888888888,
              "#fdca26"
             ],
             [
              1,
              "#f0f921"
             ]
            ],
            "type": "heatmap"
           }
          ],
          "heatmapgl": [
           {
            "colorbar": {
             "outlinewidth": 0,
             "ticks": ""
            },
            "colorscale": [
             [
              0,
              "#0d0887"
             ],
             [
              0.1111111111111111,
              "#46039f"
             ],
             [
              0.2222222222222222,
              "#7201a8"
             ],
             [
              0.3333333333333333,
              "#9c179e"
             ],
             [
              0.4444444444444444,
              "#bd3786"
             ],
             [
              0.5555555555555556,
              "#d8576b"
             ],
             [
              0.6666666666666666,
              "#ed7953"
             ],
             [
              0.7777777777777778,
              "#fb9f3a"
             ],
             [
              0.8888888888888888,
              "#fdca26"
             ],
             [
              1,
              "#f0f921"
             ]
            ],
            "type": "heatmapgl"
           }
          ],
          "histogram": [
           {
            "marker": {
             "colorbar": {
              "outlinewidth": 0,
              "ticks": ""
             }
            },
            "type": "histogram"
           }
          ],
          "histogram2d": [
           {
            "colorbar": {
             "outlinewidth": 0,
             "ticks": ""
            },
            "colorscale": [
             [
              0,
              "#0d0887"
             ],
             [
              0.1111111111111111,
              "#46039f"
             ],
             [
              0.2222222222222222,
              "#7201a8"
             ],
             [
              0.3333333333333333,
              "#9c179e"
             ],
             [
              0.4444444444444444,
              "#bd3786"
             ],
             [
              0.5555555555555556,
              "#d8576b"
             ],
             [
              0.6666666666666666,
              "#ed7953"
             ],
             [
              0.7777777777777778,
              "#fb9f3a"
             ],
             [
              0.8888888888888888,
              "#fdca26"
             ],
             [
              1,
              "#f0f921"
             ]
            ],
            "type": "histogram2d"
           }
          ],
          "histogram2dcontour": [
           {
            "colorbar": {
             "outlinewidth": 0,
             "ticks": ""
            },
            "colorscale": [
             [
              0,
              "#0d0887"
             ],
             [
              0.1111111111111111,
              "#46039f"
             ],
             [
              0.2222222222222222,
              "#7201a8"
             ],
             [
              0.3333333333333333,
              "#9c179e"
             ],
             [
              0.4444444444444444,
              "#bd3786"
             ],
             [
              0.5555555555555556,
              "#d8576b"
             ],
             [
              0.6666666666666666,
              "#ed7953"
             ],
             [
              0.7777777777777778,
              "#fb9f3a"
             ],
             [
              0.8888888888888888,
              "#fdca26"
             ],
             [
              1,
              "#f0f921"
             ]
            ],
            "type": "histogram2dcontour"
           }
          ],
          "mesh3d": [
           {
            "colorbar": {
             "outlinewidth": 0,
             "ticks": ""
            },
            "type": "mesh3d"
           }
          ],
          "parcoords": [
           {
            "line": {
             "colorbar": {
              "outlinewidth": 0,
              "ticks": ""
             }
            },
            "type": "parcoords"
           }
          ],
          "pie": [
           {
            "automargin": true,
            "type": "pie"
           }
          ],
          "scatter": [
           {
            "marker": {
             "colorbar": {
              "outlinewidth": 0,
              "ticks": ""
             }
            },
            "type": "scatter"
           }
          ],
          "scatter3d": [
           {
            "line": {
             "colorbar": {
              "outlinewidth": 0,
              "ticks": ""
             }
            },
            "marker": {
             "colorbar": {
              "outlinewidth": 0,
              "ticks": ""
             }
            },
            "type": "scatter3d"
           }
          ],
          "scattercarpet": [
           {
            "marker": {
             "colorbar": {
              "outlinewidth": 0,
              "ticks": ""
             }
            },
            "type": "scattercarpet"
           }
          ],
          "scattergeo": [
           {
            "marker": {
             "colorbar": {
              "outlinewidth": 0,
              "ticks": ""
             }
            },
            "type": "scattergeo"
           }
          ],
          "scattergl": [
           {
            "marker": {
             "colorbar": {
              "outlinewidth": 0,
              "ticks": ""
             }
            },
            "type": "scattergl"
           }
          ],
          "scattermapbox": [
           {
            "marker": {
             "colorbar": {
              "outlinewidth": 0,
              "ticks": ""
             }
            },
            "type": "scattermapbox"
           }
          ],
          "scatterpolar": [
           {
            "marker": {
             "colorbar": {
              "outlinewidth": 0,
              "ticks": ""
             }
            },
            "type": "scatterpolar"
           }
          ],
          "scatterpolargl": [
           {
            "marker": {
             "colorbar": {
              "outlinewidth": 0,
              "ticks": ""
             }
            },
            "type": "scatterpolargl"
           }
          ],
          "scatterternary": [
           {
            "marker": {
             "colorbar": {
              "outlinewidth": 0,
              "ticks": ""
             }
            },
            "type": "scatterternary"
           }
          ],
          "surface": [
           {
            "colorbar": {
             "outlinewidth": 0,
             "ticks": ""
            },
            "colorscale": [
             [
              0,
              "#0d0887"
             ],
             [
              0.1111111111111111,
              "#46039f"
             ],
             [
              0.2222222222222222,
              "#7201a8"
             ],
             [
              0.3333333333333333,
              "#9c179e"
             ],
             [
              0.4444444444444444,
              "#bd3786"
             ],
             [
              0.5555555555555556,
              "#d8576b"
             ],
             [
              0.6666666666666666,
              "#ed7953"
             ],
             [
              0.7777777777777778,
              "#fb9f3a"
             ],
             [
              0.8888888888888888,
              "#fdca26"
             ],
             [
              1,
              "#f0f921"
             ]
            ],
            "type": "surface"
           }
          ],
          "table": [
           {
            "cells": {
             "fill": {
              "color": "#EBF0F8"
             },
             "line": {
              "color": "white"
             }
            },
            "header": {
             "fill": {
              "color": "#C8D4E3"
             },
             "line": {
              "color": "white"
             }
            },
            "type": "table"
           }
          ]
         },
         "layout": {
          "annotationdefaults": {
           "arrowcolor": "#2a3f5f",
           "arrowhead": 0,
           "arrowwidth": 1
          },
          "autotypenumbers": "strict",
          "coloraxis": {
           "colorbar": {
            "outlinewidth": 0,
            "ticks": ""
           }
          },
          "colorscale": {
           "diverging": [
            [
             0,
             "#8e0152"
            ],
            [
             0.1,
             "#c51b7d"
            ],
            [
             0.2,
             "#de77ae"
            ],
            [
             0.3,
             "#f1b6da"
            ],
            [
             0.4,
             "#fde0ef"
            ],
            [
             0.5,
             "#f7f7f7"
            ],
            [
             0.6,
             "#e6f5d0"
            ],
            [
             0.7,
             "#b8e186"
            ],
            [
             0.8,
             "#7fbc41"
            ],
            [
             0.9,
             "#4d9221"
            ],
            [
             1,
             "#276419"
            ]
           ],
           "sequential": [
            [
             0,
             "#0d0887"
            ],
            [
             0.1111111111111111,
             "#46039f"
            ],
            [
             0.2222222222222222,
             "#7201a8"
            ],
            [
             0.3333333333333333,
             "#9c179e"
            ],
            [
             0.4444444444444444,
             "#bd3786"
            ],
            [
             0.5555555555555556,
             "#d8576b"
            ],
            [
             0.6666666666666666,
             "#ed7953"
            ],
            [
             0.7777777777777778,
             "#fb9f3a"
            ],
            [
             0.8888888888888888,
             "#fdca26"
            ],
            [
             1,
             "#f0f921"
            ]
           ],
           "sequentialminus": [
            [
             0,
             "#0d0887"
            ],
            [
             0.1111111111111111,
             "#46039f"
            ],
            [
             0.2222222222222222,
             "#7201a8"
            ],
            [
             0.3333333333333333,
             "#9c179e"
            ],
            [
             0.4444444444444444,
             "#bd3786"
            ],
            [
             0.5555555555555556,
             "#d8576b"
            ],
            [
             0.6666666666666666,
             "#ed7953"
            ],
            [
             0.7777777777777778,
             "#fb9f3a"
            ],
            [
             0.8888888888888888,
             "#fdca26"
            ],
            [
             1,
             "#f0f921"
            ]
           ]
          },
          "colorway": [
           "#636efa",
           "#EF553B",
           "#00cc96",
           "#ab63fa",
           "#FFA15A",
           "#19d3f3",
           "#FF6692",
           "#B6E880",
           "#FF97FF",
           "#FECB52"
          ],
          "font": {
           "color": "#2a3f5f"
          },
          "geo": {
           "bgcolor": "white",
           "lakecolor": "white",
           "landcolor": "#E5ECF6",
           "showlakes": true,
           "showland": true,
           "subunitcolor": "white"
          },
          "hoverlabel": {
           "align": "left"
          },
          "hovermode": "closest",
          "mapbox": {
           "style": "light"
          },
          "paper_bgcolor": "white",
          "plot_bgcolor": "#E5ECF6",
          "polar": {
           "angularaxis": {
            "gridcolor": "white",
            "linecolor": "white",
            "ticks": ""
           },
           "bgcolor": "#E5ECF6",
           "radialaxis": {
            "gridcolor": "white",
            "linecolor": "white",
            "ticks": ""
           }
          },
          "scene": {
           "xaxis": {
            "backgroundcolor": "#E5ECF6",
            "gridcolor": "white",
            "gridwidth": 2,
            "linecolor": "white",
            "showbackground": true,
            "ticks": "",
            "zerolinecolor": "white"
           },
           "yaxis": {
            "backgroundcolor": "#E5ECF6",
            "gridcolor": "white",
            "gridwidth": 2,
            "linecolor": "white",
            "showbackground": true,
            "ticks": "",
            "zerolinecolor": "white"
           },
           "zaxis": {
            "backgroundcolor": "#E5ECF6",
            "gridcolor": "white",
            "gridwidth": 2,
            "linecolor": "white",
            "showbackground": true,
            "ticks": "",
            "zerolinecolor": "white"
           }
          },
          "shapedefaults": {
           "line": {
            "color": "#2a3f5f"
           }
          },
          "ternary": {
           "aaxis": {
            "gridcolor": "white",
            "linecolor": "white",
            "ticks": ""
           },
           "baxis": {
            "gridcolor": "white",
            "linecolor": "white",
            "ticks": ""
           },
           "bgcolor": "#E5ECF6",
           "caxis": {
            "gridcolor": "white",
            "linecolor": "white",
            "ticks": ""
           }
          },
          "title": {
           "x": 0.05
          },
          "xaxis": {
           "automargin": true,
           "gridcolor": "white",
           "linecolor": "white",
           "ticks": "",
           "title": {
            "standoff": 15
           },
           "zerolinecolor": "white",
           "zerolinewidth": 2
          },
          "yaxis": {
           "automargin": true,
           "gridcolor": "white",
           "linecolor": "white",
           "ticks": "",
           "title": {
            "standoff": 15
           },
           "zerolinecolor": "white",
           "zerolinewidth": 2
          }
         }
        },
        "title": {
         "text": "Most common Baby Boy Names "
        },
        "uniformtext": {
         "minsize": 7
        },
        "xaxis": {
         "anchor": "y",
         "categoryarray": [
          "LAURA",
          "MARIA",
          "MARTA",
          "ANDREA",
          "ANNA",
          "PAULA",
          "ALBA",
          "SARA",
          "LAIA",
          "CLAUDIA",
          "JULIA",
          "CARLA",
          "MIREIA",
          "MARINA",
          "CRISTINA",
          "CLARA",
          "JUDITH",
          "ARIADNA",
          "NURIA",
          "PATRICIA",
          "RAQUEL",
          "ANA",
          "IRENE",
          "JUDIT",
          "SANDRA",
          "BERTA",
          "MAR",
          "AINA",
          "HELENA",
          "NATALIA",
          "CARLOTA",
          "EMMA",
          "NEREA",
          "LUCIA",
          "MARTINA",
          "AINHOA",
          "SOFIA",
          "NOA",
          "JANA",
          "ABRIL",
          "DANIELA",
          "INES",
          "ONA",
          "NORA",
          "OLIVIA",
          "VALENTINA",
          "ARLET",
          "MIA",
          "CHLOE",
          "VALERIA"
         ],
         "categoryorder": "array",
         "domain": [
          0,
          1
         ],
         "tickangle": -45,
         "title": {
          "text": "Name"
         }
        },
        "yaxis": {
         "anchor": "x",
         "domain": [
          0,
          1
         ],
         "title": {
          "text": "Frequency"
         }
        }
       }
      },
      "text/html": [
       "<div>                            <div id=\"e3222828-1bf1-4da0-8f8c-dcb9403b09fa\" class=\"plotly-graph-div\" style=\"height:525px; width:100%;\"></div>            <script type=\"text/javascript\">                require([\"plotly\"], function(Plotly) {                    window.PLOTLYENV=window.PLOTLYENV || {};                                    if (document.getElementById(\"e3222828-1bf1-4da0-8f8c-dcb9403b09fa\")) {                    Plotly.newPlot(                        \"e3222828-1bf1-4da0-8f8c-dcb9403b09fa\",                        [{\"alignmentgroup\": \"True\", \"hovertemplate\": \"Name=%{x}<br>Frequency=%{y}<extra></extra>\", \"legendgroup\": \"LAURA\", \"marker\": {\"color\": \"#636efa\"}, \"name\": \"LAURA\", \"offsetgroup\": \"LAURA\", \"orientation\": \"v\", \"showlegend\": true, \"textposition\": \"outside\", \"type\": \"bar\", \"x\": [\"LAURA\", \"LAURA\", \"LAURA\", \"LAURA\", \"LAURA\", \"LAURA\", \"LAURA\", \"LAURA\", \"LAURA\", \"LAURA\", \"LAURA\", \"LAURA\", \"LAURA\", \"LAURA\", \"LAURA\", \"LAURA\"], \"xaxis\": \"x\", \"y\": [237, 229, 202, 209, 222, 175, 161, 148, 146, 124, 111, 84, 82, 78, 66, 65], \"yaxis\": \"y\"}, {\"alignmentgroup\": \"True\", \"hovertemplate\": \"Name=%{x}<br>Frequency=%{y}<extra></extra>\", \"legendgroup\": \"MARIA\", \"marker\": {\"color\": \"#EF553B\"}, \"name\": \"MARIA\", \"offsetgroup\": \"MARIA\", \"orientation\": \"v\", \"showlegend\": true, \"textposition\": \"outside\", \"type\": \"bar\", \"x\": [\"MARIA\", \"MARIA\", \"MARIA\", \"MARIA\", \"MARIA\", \"MARIA\", \"MARIA\", \"MARIA\", \"MARIA\", \"MARIA\", \"MARIA\", \"MARIA\", \"MARIA\", \"MARIA\", \"MARIA\", \"MARIA\", \"MARIA\", \"MARIA\", \"MARIA\", \"MARIA\", \"MARIA\"], \"xaxis\": \"x\", \"y\": [219, 241, 265, 299, 268, 243, 243, 196, 200, 183, 196, 155, 158, 154, 147, 124, 121, 117, 105, 106, 103], \"yaxis\": \"y\"}, {\"alignmentgroup\": \"True\", \"hovertemplate\": \"Name=%{x}<br>Frequency=%{y}<extra></extra>\", \"legendgroup\": \"MARTA\", \"marker\": {\"color\": \"#00cc96\"}, \"name\": \"MARTA\", \"offsetgroup\": \"MARTA\", \"orientation\": \"v\", \"showlegend\": true, \"textposition\": \"outside\", \"type\": \"bar\", \"x\": [\"MARTA\", \"MARTA\", \"MARTA\", \"MARTA\", \"MARTA\", \"MARTA\", \"MARTA\", \"MARTA\", \"MARTA\", \"MARTA\", \"MARTA\", \"MARTA\", \"MARTA\", \"MARTA\", \"MARTA\"], \"xaxis\": \"x\", \"y\": [206, 211, 166, 182, 157, 157, 162, 131, 110, 122, 89, 72, 69, 53, 55], \"yaxis\": \"y\"}, {\"alignmentgroup\": \"True\", \"hovertemplate\": \"Name=%{x}<br>Frequency=%{y}<extra></extra>\", \"legendgroup\": \"ANDREA\", \"marker\": {\"color\": \"#ab63fa\"}, \"name\": \"ANDREA\", \"offsetgroup\": \"ANDREA\", \"orientation\": \"v\", \"showlegend\": true, \"textposition\": \"outside\", \"type\": \"bar\", \"x\": [\"ANDREA\", \"ANDREA\", \"ANDREA\", \"ANDREA\", \"ANDREA\", \"ANDREA\", \"ANDREA\", \"ANDREA\", \"ANDREA\", \"ANDREA\", \"ANDREA\", \"ANDREA\"], \"xaxis\": \"x\", \"y\": [199, 209, 161, 187, 162, 129, 117, 126, 106, 68, 66, 60], \"yaxis\": \"y\"}, {\"alignmentgroup\": \"True\", \"hovertemplate\": \"Name=%{x}<br>Frequency=%{y}<extra></extra>\", \"legendgroup\": \"ANNA\", \"marker\": {\"color\": \"#FFA15A\"}, \"name\": \"ANNA\", \"offsetgroup\": \"ANNA\", \"orientation\": \"v\", \"showlegend\": true, \"textposition\": \"outside\", \"type\": \"bar\", \"x\": [\"ANNA\", \"ANNA\", \"ANNA\", \"ANNA\", \"ANNA\", \"ANNA\", \"ANNA\", \"ANNA\", \"ANNA\", \"ANNA\", \"ANNA\", \"ANNA\", \"ANNA\", \"ANNA\", \"ANNA\", \"ANNA\", \"ANNA\", \"ANNA\"], \"xaxis\": \"x\", \"y\": [195, 146, 149, 141, 180, 152, 132, 135, 111, 87, 86, 63, 82, 76, 58, 50, 58, 49], \"yaxis\": \"y\"}, {\"alignmentgroup\": \"True\", \"hovertemplate\": \"Name=%{x}<br>Frequency=%{y}<extra></extra>\", \"legendgroup\": \"PAULA\", \"marker\": {\"color\": \"#19d3f3\"}, \"name\": \"PAULA\", \"offsetgroup\": \"PAULA\", \"orientation\": \"v\", \"showlegend\": true, \"textposition\": \"outside\", \"type\": \"bar\", \"x\": [\"PAULA\", \"PAULA\", \"PAULA\", \"PAULA\", \"PAULA\", \"PAULA\", \"PAULA\", \"PAULA\", \"PAULA\", \"PAULA\", \"PAULA\", \"PAULA\", \"PAULA\", \"PAULA\", \"PAULA\", \"PAULA\", \"PAULA\", \"PAULA\", \"PAULA\", \"PAULA\", \"PAULA\"], \"xaxis\": \"x\", \"y\": [186, 205, 175, 207, 221, 187, 197, 192, 190, 157, 122, 124, 136, 143, 135, 113, 96, 111, 84, 91, 94], \"yaxis\": \"y\"}, {\"alignmentgroup\": \"True\", \"hovertemplate\": \"Name=%{x}<br>Frequency=%{y}<extra></extra>\", \"legendgroup\": \"ALBA\", \"marker\": {\"color\": \"#FF6692\"}, \"name\": \"ALBA\", \"offsetgroup\": \"ALBA\", \"orientation\": \"v\", \"showlegend\": true, \"textposition\": \"outside\", \"type\": \"bar\", \"x\": [\"ALBA\", \"ALBA\", \"ALBA\", \"ALBA\", \"ALBA\", \"ALBA\", \"ALBA\", \"ALBA\", \"ALBA\", \"ALBA\", \"ALBA\", \"ALBA\", \"ALBA\", \"ALBA\", \"ALBA\", \"ALBA\", \"ALBA\", \"ALBA\", \"ALBA\", \"ALBA\", \"ALBA\"], \"xaxis\": \"x\", \"y\": [142, 134, 101, 113, 137, 131, 147, 135, 122, 117, 101, 87, 75, 76, 69, 78, 70, 69, 67, 73, 63], \"yaxis\": \"y\"}, {\"alignmentgroup\": \"True\", \"hovertemplate\": \"Name=%{x}<br>Frequency=%{y}<extra></extra>\", \"legendgroup\": \"SARA\", \"marker\": {\"color\": \"#B6E880\"}, \"name\": \"SARA\", \"offsetgroup\": \"SARA\", \"orientation\": \"v\", \"showlegend\": true, \"textposition\": \"outside\", \"type\": \"bar\", \"x\": [\"SARA\", \"SARA\", \"SARA\", \"SARA\", \"SARA\", \"SARA\", \"SARA\", \"SARA\", \"SARA\", \"SARA\", \"SARA\", \"SARA\", \"SARA\", \"SARA\", \"SARA\", \"SARA\", \"SARA\", \"SARA\", \"SARA\", \"SARA\", \"SARA\"], \"xaxis\": \"x\", \"y\": [125, 97, 102, 106, 118, 114, 105, 107, 84, 77, 97, 100, 102, 77, 102, 95, 78, 59, 57, 65, 57], \"yaxis\": \"y\"}, {\"alignmentgroup\": \"True\", \"hovertemplate\": \"Name=%{x}<br>Frequency=%{y}<extra></extra>\", \"legendgroup\": \"LAIA\", \"marker\": {\"color\": \"#FF97FF\"}, \"name\": \"LAIA\", \"offsetgroup\": \"LAIA\", \"orientation\": \"v\", \"showlegend\": true, \"textposition\": \"outside\", \"type\": \"bar\", \"x\": [\"LAIA\", \"LAIA\", \"LAIA\", \"LAIA\", \"LAIA\", \"LAIA\", \"LAIA\", \"LAIA\", \"LAIA\", \"LAIA\", \"LAIA\", \"LAIA\", \"LAIA\", \"LAIA\", \"LAIA\", \"LAIA\", \"LAIA\", \"LAIA\", \"LAIA\", \"LAIA\", \"LAIA\"], \"xaxis\": \"x\", \"y\": [123, 158, 148, 132, 132, 143, 137, 158, 184, 200, 180, 138, 156, 159, 128, 146, 156, 131, 153, 103, 129], \"yaxis\": \"y\"}, {\"alignmentgroup\": \"True\", \"hovertemplate\": \"Name=%{x}<br>Frequency=%{y}<extra></extra>\", \"legendgroup\": \"CLAUDIA\", \"marker\": {\"color\": \"#FECB52\"}, \"name\": \"CLAUDIA\", \"offsetgroup\": \"CLAUDIA\", \"orientation\": \"v\", \"showlegend\": true, \"textposition\": \"outside\", \"type\": \"bar\", \"x\": [\"CLAUDIA\", \"CLAUDIA\", \"CLAUDIA\", \"CLAUDIA\", \"CLAUDIA\", \"CLAUDIA\", \"CLAUDIA\", \"CLAUDIA\", \"CLAUDIA\", \"CLAUDIA\", \"CLAUDIA\", \"CLAUDIA\", \"CLAUDIA\", \"CLAUDIA\", \"CLAUDIA\", \"CLAUDIA\", \"CLAUDIA\", \"CLAUDIA\", \"CLAUDIA\", \"CLAUDIA\", \"CLAUDIA\"], \"xaxis\": \"x\", \"y\": [122, 106, 110, 97, 117, 120, 124, 121, 127, 112, 126, 114, 113, 112, 101, 95, 84, 81, 83, 77, 68], \"yaxis\": \"y\"}, {\"alignmentgroup\": \"True\", \"hovertemplate\": \"Name=%{x}<br>Frequency=%{y}<extra></extra>\", \"legendgroup\": \"JULIA\", \"marker\": {\"color\": \"#636efa\"}, \"name\": \"JULIA\", \"offsetgroup\": \"JULIA\", \"orientation\": \"v\", \"showlegend\": true, \"textposition\": \"outside\", \"type\": \"bar\", \"x\": [\"JULIA\", \"JULIA\", \"JULIA\", \"JULIA\", \"JULIA\", \"JULIA\", \"JULIA\", \"JULIA\", \"JULIA\", \"JULIA\", \"JULIA\", \"JULIA\", \"JULIA\", \"JULIA\", \"JULIA\", \"JULIA\", \"JULIA\", \"JULIA\", \"JULIA\", \"JULIA\", \"JULIA\"], \"xaxis\": \"x\", \"y\": [115, 132, 124, 120, 144, 138, 134, 128, 171, 182, 160, 130, 162, 128, 173, 154, 158, 143, 120, 123, 137], \"yaxis\": \"y\"}, {\"alignmentgroup\": \"True\", \"hovertemplate\": \"Name=%{x}<br>Frequency=%{y}<extra></extra>\", \"legendgroup\": \"CARLA\", \"marker\": {\"color\": \"#EF553B\"}, \"name\": \"CARLA\", \"offsetgroup\": \"CARLA\", \"orientation\": \"v\", \"showlegend\": true, \"textposition\": \"outside\", \"type\": \"bar\", \"x\": [\"CARLA\", \"CARLA\", \"CARLA\", \"CARLA\", \"CARLA\", \"CARLA\", \"CARLA\", \"CARLA\", \"CARLA\", \"CARLA\", \"CARLA\", \"CARLA\", \"CARLA\", \"CARLA\", \"CARLA\", \"CARLA\", \"CARLA\", \"CARLA\", \"CARLA\", \"CARLA\", \"CARLA\"], \"xaxis\": \"x\", \"y\": [112, 118, 119, 128, 137, 153, 142, 165, 164, 171, 145, 125, 139, 118, 120, 105, 122, 81, 91, 85, 81], \"yaxis\": \"y\"}, {\"alignmentgroup\": \"True\", \"hovertemplate\": \"Name=%{x}<br>Frequency=%{y}<extra></extra>\", \"legendgroup\": \"MIREIA\", \"marker\": {\"color\": \"#00cc96\"}, \"name\": \"MIREIA\", \"offsetgroup\": \"MIREIA\", \"orientation\": \"v\", \"showlegend\": true, \"textposition\": \"outside\", \"type\": \"bar\", \"x\": [\"MIREIA\", \"MIREIA\", \"MIREIA\", \"MIREIA\", \"MIREIA\", \"MIREIA\", \"MIREIA\", \"MIREIA\", \"MIREIA\", \"MIREIA\", \"MIREIA\"], \"xaxis\": \"x\", \"y\": [112, 90, 98, 91, 111, 104, 96, 71, 68, 60, 56], \"yaxis\": \"y\"}, {\"alignmentgroup\": \"True\", \"hovertemplate\": \"Name=%{x}<br>Frequency=%{y}<extra></extra>\", \"legendgroup\": \"MARINA\", \"marker\": {\"color\": \"#ab63fa\"}, \"name\": \"MARINA\", \"offsetgroup\": \"MARINA\", \"orientation\": \"v\", \"showlegend\": true, \"textposition\": \"outside\", \"type\": \"bar\", \"x\": [\"MARINA\", \"MARINA\", \"MARINA\", \"MARINA\", \"MARINA\", \"MARINA\", \"MARINA\", \"MARINA\", \"MARINA\", \"MARINA\", \"MARINA\", \"MARINA\", \"MARINA\", \"MARINA\"], \"xaxis\": \"x\", \"y\": [102, 81, 107, 116, 116, 98, 98, 84, 81, 76, 61, 57, 60, 50], \"yaxis\": \"y\"}, {\"alignmentgroup\": \"True\", \"hovertemplate\": \"Name=%{x}<br>Frequency=%{y}<extra></extra>\", \"legendgroup\": \"CRISTINA\", \"marker\": {\"color\": \"#FFA15A\"}, \"name\": \"CRISTINA\", \"offsetgroup\": \"CRISTINA\", \"orientation\": \"v\", \"showlegend\": true, \"textposition\": \"outside\", \"type\": \"bar\", \"x\": [\"CRISTINA\", \"CRISTINA\", \"CRISTINA\", \"CRISTINA\", \"CRISTINA\", \"CRISTINA\", \"CRISTINA\", \"CRISTINA\", \"CRISTINA\"], \"xaxis\": \"x\", \"y\": [99, 105, 96, 93, 86, 78, 62, 75, 58], \"yaxis\": \"y\"}, {\"alignmentgroup\": \"True\", \"hovertemplate\": \"Name=%{x}<br>Frequency=%{y}<extra></extra>\", \"legendgroup\": \"CLARA\", \"marker\": {\"color\": \"#19d3f3\"}, \"name\": \"CLARA\", \"offsetgroup\": \"CLARA\", \"orientation\": \"v\", \"showlegend\": true, \"textposition\": \"outside\", \"type\": \"bar\", \"x\": [\"CLARA\", \"CLARA\", \"CLARA\", \"CLARA\", \"CLARA\", \"CLARA\", \"CLARA\", \"CLARA\", \"CLARA\", \"CLARA\", \"CLARA\", \"CLARA\", \"CLARA\", \"CLARA\", \"CLARA\", \"CLARA\", \"CLARA\"], \"xaxis\": \"x\", \"y\": [89, 83, 95, 69, 82, 72, 81, 71, 61, 69, 66, 63, 60, 65, 60, 59, 63], \"yaxis\": \"y\"}, {\"alignmentgroup\": \"True\", \"hovertemplate\": \"Name=%{x}<br>Frequency=%{y}<extra></extra>\", \"legendgroup\": \"JUDITH\", \"marker\": {\"color\": \"#FF6692\"}, \"name\": \"JUDITH\", \"offsetgroup\": \"JUDITH\", \"orientation\": \"v\", \"showlegend\": true, \"textposition\": \"outside\", \"type\": \"bar\", \"x\": [\"JUDITH\", \"JUDITH\", \"JUDITH\", \"JUDITH\"], \"xaxis\": \"x\", \"y\": [80, 72, 61, 55], \"yaxis\": \"y\"}, {\"alignmentgroup\": \"True\", \"hovertemplate\": \"Name=%{x}<br>Frequency=%{y}<extra></extra>\", \"legendgroup\": \"ARIADNA\", \"marker\": {\"color\": \"#B6E880\"}, \"name\": \"ARIADNA\", \"offsetgroup\": \"ARIADNA\", \"orientation\": \"v\", \"showlegend\": true, \"textposition\": \"outside\", \"type\": \"bar\", \"x\": [\"ARIADNA\", \"ARIADNA\", \"ARIADNA\", \"ARIADNA\", \"ARIADNA\", \"ARIADNA\", \"ARIADNA\", \"ARIADNA\", \"ARIADNA\", \"ARIADNA\", \"ARIADNA\", \"ARIADNA\", \"ARIADNA\", \"ARIADNA\", \"ARIADNA\", \"ARIADNA\", \"ARIADNA\", \"ARIADNA\", \"ARIADNA\", \"ARIADNA\"], \"xaxis\": \"x\", \"y\": [78, 90, 63, 92, 78, 67, 92, 96, 77, 99, 76, 88, 84, 70, 76, 81, 78, 71, 45, 55], \"yaxis\": \"y\"}, {\"alignmentgroup\": \"True\", \"hovertemplate\": \"Name=%{x}<br>Frequency=%{y}<extra></extra>\", \"legendgroup\": \"NURIA\", \"marker\": {\"color\": \"#FF97FF\"}, \"name\": \"NURIA\", \"offsetgroup\": \"NURIA\", \"orientation\": \"v\", \"showlegend\": true, \"textposition\": \"outside\", \"type\": \"bar\", \"x\": [\"NURIA\", \"NURIA\", \"NURIA\", \"NURIA\", \"NURIA\", \"NURIA\", \"NURIA\", \"NURIA\", \"NURIA\"], \"xaxis\": \"x\", \"y\": [72, 83, 77, 84, 62, 71, 71, 66, 56], \"yaxis\": \"y\"}, {\"alignmentgroup\": \"True\", \"hovertemplate\": \"Name=%{x}<br>Frequency=%{y}<extra></extra>\", \"legendgroup\": \"PATRICIA\", \"marker\": {\"color\": \"#FECB52\"}, \"name\": \"PATRICIA\", \"offsetgroup\": \"PATRICIA\", \"orientation\": \"v\", \"showlegend\": true, \"textposition\": \"outside\", \"type\": \"bar\", \"x\": [\"PATRICIA\"], \"xaxis\": \"x\", \"y\": [71], \"yaxis\": \"y\"}, {\"alignmentgroup\": \"True\", \"hovertemplate\": \"Name=%{x}<br>Frequency=%{y}<extra></extra>\", \"legendgroup\": \"RAQUEL\", \"marker\": {\"color\": \"#636efa\"}, \"name\": \"RAQUEL\", \"offsetgroup\": \"RAQUEL\", \"orientation\": \"v\", \"showlegend\": true, \"textposition\": \"outside\", \"type\": \"bar\", \"x\": [\"RAQUEL\", \"RAQUEL\"], \"xaxis\": \"x\", \"y\": [69, 67], \"yaxis\": \"y\"}, {\"alignmentgroup\": \"True\", \"hovertemplate\": \"Name=%{x}<br>Frequency=%{y}<extra></extra>\", \"legendgroup\": \"ANA\", \"marker\": {\"color\": \"#EF553B\"}, \"name\": \"ANA\", \"offsetgroup\": \"ANA\", \"orientation\": \"v\", \"showlegend\": true, \"textposition\": \"outside\", \"type\": \"bar\", \"x\": [\"ANA\", \"ANA\", \"ANA\", \"ANA\", \"ANA\", \"ANA\"], \"xaxis\": \"x\", \"y\": [65, 71, 69, 72, 83, 59], \"yaxis\": \"y\"}, {\"alignmentgroup\": \"True\", \"hovertemplate\": \"Name=%{x}<br>Frequency=%{y}<extra></extra>\", \"legendgroup\": \"IRENE\", \"marker\": {\"color\": \"#00cc96\"}, \"name\": \"IRENE\", \"offsetgroup\": \"IRENE\", \"orientation\": \"v\", \"showlegend\": true, \"textposition\": \"outside\", \"type\": \"bar\", \"x\": [\"IRENE\", \"IRENE\", \"IRENE\", \"IRENE\", \"IRENE\", \"IRENE\", \"IRENE\", \"IRENE\", \"IRENE\", \"IRENE\", \"IRENE\", \"IRENE\"], \"xaxis\": \"x\", \"y\": [64, 96, 82, 68, 55, 57, 65, 75, 66, 56, 47, 60], \"yaxis\": \"y\"}, {\"alignmentgroup\": \"True\", \"hovertemplate\": \"Name=%{x}<br>Frequency=%{y}<extra></extra>\", \"legendgroup\": \"JUDIT\", \"marker\": {\"color\": \"#ab63fa\"}, \"name\": \"JUDIT\", \"offsetgroup\": \"JUDIT\", \"orientation\": \"v\", \"showlegend\": true, \"textposition\": \"outside\", \"type\": \"bar\", \"x\": [\"JUDIT\", \"JUDIT\", \"JUDIT\"], \"xaxis\": \"x\", \"y\": [63, 71, 63], \"yaxis\": \"y\"}, {\"alignmentgroup\": \"True\", \"hovertemplate\": \"Name=%{x}<br>Frequency=%{y}<extra></extra>\", \"legendgroup\": \"SANDRA\", \"marker\": {\"color\": \"#FFA15A\"}, \"name\": \"SANDRA\", \"offsetgroup\": \"SANDRA\", \"orientation\": \"v\", \"showlegend\": true, \"textposition\": \"outside\", \"type\": \"bar\", \"x\": [\"SANDRA\", \"SANDRA\", \"SANDRA\", \"SANDRA\"], \"xaxis\": \"x\", \"y\": [55, 64, 57, 64], \"yaxis\": \"y\"}, {\"alignmentgroup\": \"True\", \"hovertemplate\": \"Name=%{x}<br>Frequency=%{y}<extra></extra>\", \"legendgroup\": \"BERTA\", \"marker\": {\"color\": \"#19d3f3\"}, \"name\": \"BERTA\", \"offsetgroup\": \"BERTA\", \"orientation\": \"v\", \"showlegend\": true, \"textposition\": \"outside\", \"type\": \"bar\", \"x\": [\"BERTA\", \"BERTA\", \"BERTA\", \"BERTA\", \"BERTA\", \"BERTA\", \"BERTA\", \"BERTA\", \"BERTA\", \"BERTA\", \"BERTA\", \"BERTA\", \"BERTA\", \"BERTA\", \"BERTA\", \"BERTA\", \"BERTA\", \"BERTA\"], \"xaxis\": \"x\", \"y\": [66, 68, 78, 84, 76, 63, 72, 76, 77, 68, 80, 73, 65, 56, 51, 56, 55, 51], \"yaxis\": \"y\"}, {\"alignmentgroup\": \"True\", \"hovertemplate\": \"Name=%{x}<br>Frequency=%{y}<extra></extra>\", \"legendgroup\": \"MAR\", \"marker\": {\"color\": \"#FF6692\"}, \"name\": \"MAR\", \"offsetgroup\": \"MAR\", \"orientation\": \"v\", \"showlegend\": true, \"textposition\": \"outside\", \"type\": \"bar\", \"x\": [\"MAR\", \"MAR\", \"MAR\", \"MAR\", \"MAR\", \"MAR\", \"MAR\", \"MAR\", \"MAR\"], \"xaxis\": \"x\", \"y\": [64, 50, 68, 63, 65, 55, 59, 76, 53], \"yaxis\": \"y\"}, {\"alignmentgroup\": \"True\", \"hovertemplate\": \"Name=%{x}<br>Frequency=%{y}<extra></extra>\", \"legendgroup\": \"AINA\", \"marker\": {\"color\": \"#B6E880\"}, \"name\": \"AINA\", \"offsetgroup\": \"AINA\", \"orientation\": \"v\", \"showlegend\": true, \"textposition\": \"outside\", \"type\": \"bar\", \"x\": [\"AINA\", \"AINA\", \"AINA\", \"AINA\", \"AINA\", \"AINA\", \"AINA\", \"AINA\", \"AINA\", \"AINA\", \"AINA\", \"AINA\", \"AINA\", \"AINA\", \"AINA\", \"AINA\", \"AINA\"], \"xaxis\": \"x\", \"y\": [54, 65, 65, 80, 73, 73, 82, 90, 77, 88, 109, 94, 94, 87, 71, 92, 74], \"yaxis\": \"y\"}, {\"alignmentgroup\": \"True\", \"hovertemplate\": \"Name=%{x}<br>Frequency=%{y}<extra></extra>\", \"legendgroup\": \"HELENA\", \"marker\": {\"color\": \"#FF97FF\"}, \"name\": \"HELENA\", \"offsetgroup\": \"HELENA\", \"orientation\": \"v\", \"showlegend\": true, \"textposition\": \"outside\", \"type\": \"bar\", \"x\": [\"HELENA\", \"HELENA\"], \"xaxis\": \"x\", \"y\": [62, 61], \"yaxis\": \"y\"}, {\"alignmentgroup\": \"True\", \"hovertemplate\": \"Name=%{x}<br>Frequency=%{y}<extra></extra>\", \"legendgroup\": \"NATALIA\", \"marker\": {\"color\": \"#FECB52\"}, \"name\": \"NATALIA\", \"offsetgroup\": \"NATALIA\", \"orientation\": \"v\", \"showlegend\": true, \"textposition\": \"outside\", \"type\": \"bar\", \"x\": [\"NATALIA\", \"NATALIA\"], \"xaxis\": \"x\", \"y\": [63, 59], \"yaxis\": \"y\"}, {\"alignmentgroup\": \"True\", \"hovertemplate\": \"Name=%{x}<br>Frequency=%{y}<extra></extra>\", \"legendgroup\": \"CARLOTA\", \"marker\": {\"color\": \"#636efa\"}, \"name\": \"CARLOTA\", \"offsetgroup\": \"CARLOTA\", \"orientation\": \"v\", \"showlegend\": true, \"textposition\": \"outside\", \"type\": \"bar\", \"x\": [\"CARLOTA\", \"CARLOTA\", \"CARLOTA\", \"CARLOTA\", \"CARLOTA\", \"CARLOTA\", \"CARLOTA\", \"CARLOTA\", \"CARLOTA\", \"CARLOTA\", \"CARLOTA\"], \"xaxis\": \"x\", \"y\": [54, 54, 70, 55, 56, 56, 51, 49, 59, 48, 50], \"yaxis\": \"y\"}, {\"alignmentgroup\": \"True\", \"hovertemplate\": \"Name=%{x}<br>Frequency=%{y}<extra></extra>\", \"legendgroup\": \"EMMA\", \"marker\": {\"color\": \"#EF553B\"}, \"name\": \"EMMA\", \"offsetgroup\": \"EMMA\", \"orientation\": \"v\", \"showlegend\": true, \"textposition\": \"outside\", \"type\": \"bar\", \"x\": [\"EMMA\", \"EMMA\", \"EMMA\", \"EMMA\", \"EMMA\", \"EMMA\", \"EMMA\", \"EMMA\", \"EMMA\", \"EMMA\", \"EMMA\", \"EMMA\", \"EMMA\"], \"xaxis\": \"x\", \"y\": [54, 57, 58, 60, 73, 59, 63, 81, 93, 105, 117, 145, 119], \"yaxis\": \"y\"}, {\"alignmentgroup\": \"True\", \"hovertemplate\": \"Name=%{x}<br>Frequency=%{y}<extra></extra>\", \"legendgroup\": \"NEREA\", \"marker\": {\"color\": \"#00cc96\"}, \"name\": \"NEREA\", \"offsetgroup\": \"NEREA\", \"orientation\": \"v\", \"showlegend\": true, \"textposition\": \"outside\", \"type\": \"bar\", \"x\": [\"NEREA\", \"NEREA\", \"NEREA\", \"NEREA\"], \"xaxis\": \"x\", \"y\": [53, 62, 60, 62], \"yaxis\": \"y\"}, {\"alignmentgroup\": \"True\", \"hovertemplate\": \"Name=%{x}<br>Frequency=%{y}<extra></extra>\", \"legendgroup\": \"LUCIA\", \"marker\": {\"color\": \"#ab63fa\"}, \"name\": \"LUCIA\", \"offsetgroup\": \"LUCIA\", \"orientation\": \"v\", \"showlegend\": true, \"textposition\": \"outside\", \"type\": \"bar\", \"x\": [\"LUCIA\", \"LUCIA\", \"LUCIA\", \"LUCIA\", \"LUCIA\", \"LUCIA\", \"LUCIA\", \"LUCIA\", \"LUCIA\", \"LUCIA\", \"LUCIA\", \"LUCIA\", \"LUCIA\", \"LUCIA\", \"LUCIA\"], \"xaxis\": \"x\", \"y\": [100, 119, 171, 165, 170, 159, 146, 138, 139, 123, 119, 116, 89, 120, 122], \"yaxis\": \"y\"}, {\"alignmentgroup\": \"True\", \"hovertemplate\": \"Name=%{x}<br>Frequency=%{y}<extra></extra>\", \"legendgroup\": \"MARTINA\", \"marker\": {\"color\": \"#FFA15A\"}, \"name\": \"MARTINA\", \"offsetgroup\": \"MARTINA\", \"orientation\": \"v\", \"showlegend\": true, \"textposition\": \"outside\", \"type\": \"bar\", \"x\": [\"MARTINA\", \"MARTINA\", \"MARTINA\", \"MARTINA\", \"MARTINA\", \"MARTINA\", \"MARTINA\", \"MARTINA\", \"MARTINA\", \"MARTINA\", \"MARTINA\", \"MARTINA\", \"MARTINA\", \"MARTINA\", \"MARTINA\"], \"xaxis\": \"x\", \"y\": [65, 67, 105, 144, 129, 152, 169, 167, 194, 157, 152, 137, 134, 116, 103], \"yaxis\": \"y\"}, {\"alignmentgroup\": \"True\", \"hovertemplate\": \"Name=%{x}<br>Frequency=%{y}<extra></extra>\", \"legendgroup\": \"AINHOA\", \"marker\": {\"color\": \"#19d3f3\"}, \"name\": \"AINHOA\", \"offsetgroup\": \"AINHOA\", \"orientation\": \"v\", \"showlegend\": true, \"textposition\": \"outside\", \"type\": \"bar\", \"x\": [\"AINHOA\", \"AINHOA\"], \"xaxis\": \"x\", \"y\": [64, 49], \"yaxis\": \"y\"}, {\"alignmentgroup\": \"True\", \"hovertemplate\": \"Name=%{x}<br>Frequency=%{y}<extra></extra>\", \"legendgroup\": \"SOFIA\", \"marker\": {\"color\": \"#FF6692\"}, \"name\": \"SOFIA\", \"offsetgroup\": \"SOFIA\", \"orientation\": \"v\", \"showlegend\": true, \"textposition\": \"outside\", \"type\": \"bar\", \"x\": [\"SOFIA\", \"SOFIA\", \"SOFIA\", \"SOFIA\", \"SOFIA\", \"SOFIA\", \"SOFIA\", \"SOFIA\", \"SOFIA\", \"SOFIA\", \"SOFIA\", \"SOFIA\"], \"xaxis\": \"x\", \"y\": [90, 58, 87, 81, 87, 95, 109, 100, 102, 106, 104, 122], \"yaxis\": \"y\"}, {\"alignmentgroup\": \"True\", \"hovertemplate\": \"Name=%{x}<br>Frequency=%{y}<extra></extra>\", \"legendgroup\": \"NOA\", \"marker\": {\"color\": \"#B6E880\"}, \"name\": \"NOA\", \"offsetgroup\": \"NOA\", \"orientation\": \"v\", \"showlegend\": true, \"textposition\": \"outside\", \"type\": \"bar\", \"x\": [\"NOA\", \"NOA\", \"NOA\", \"NOA\", \"NOA\", \"NOA\", \"NOA\", \"NOA\", \"NOA\", \"NOA\", \"NOA\"], \"xaxis\": \"x\", \"y\": [66, 73, 78, 74, 83, 104, 71, 88, 107, 98, 102], \"yaxis\": \"y\"}, {\"alignmentgroup\": \"True\", \"hovertemplate\": \"Name=%{x}<br>Frequency=%{y}<extra></extra>\", \"legendgroup\": \"JANA\", \"marker\": {\"color\": \"#FF97FF\"}, \"name\": \"JANA\", \"offsetgroup\": \"JANA\", \"orientation\": \"v\", \"showlegend\": true, \"textposition\": \"outside\", \"type\": \"bar\", \"x\": [\"JANA\", \"JANA\", \"JANA\", \"JANA\", \"JANA\", \"JANA\", \"JANA\", \"JANA\", \"JANA\", \"JANA\"], \"xaxis\": \"x\", \"y\": [56, 93, 92, 71, 53, 52, 67, 65, 58, 55], \"yaxis\": \"y\"}, {\"alignmentgroup\": \"True\", \"hovertemplate\": \"Name=%{x}<br>Frequency=%{y}<extra></extra>\", \"legendgroup\": \"ABRIL\", \"marker\": {\"color\": \"#FECB52\"}, \"name\": \"ABRIL\", \"offsetgroup\": \"ABRIL\", \"orientation\": \"v\", \"showlegend\": true, \"textposition\": \"outside\", \"type\": \"bar\", \"x\": [\"ABRIL\", \"ABRIL\", \"ABRIL\", \"ABRIL\", \"ABRIL\", \"ABRIL\", \"ABRIL\"], \"xaxis\": \"x\", \"y\": [61, 55, 57, 54, 51, 62, 60], \"yaxis\": \"y\"}, {\"alignmentgroup\": \"True\", \"hovertemplate\": \"Name=%{x}<br>Frequency=%{y}<extra></extra>\", \"legendgroup\": \"DANIELA\", \"marker\": {\"color\": \"#636efa\"}, \"name\": \"DANIELA\", \"offsetgroup\": \"DANIELA\", \"orientation\": \"v\", \"showlegend\": true, \"textposition\": \"outside\", \"type\": \"bar\", \"x\": [\"DANIELA\", \"DANIELA\", \"DANIELA\", \"DANIELA\", \"DANIELA\", \"DANIELA\"], \"xaxis\": \"x\", \"y\": [66, 58, 69, 48, 68, 55], \"yaxis\": \"y\"}, {\"alignmentgroup\": \"True\", \"hovertemplate\": \"Name=%{x}<br>Frequency=%{y}<extra></extra>\", \"legendgroup\": \"INES\", \"marker\": {\"color\": \"#EF553B\"}, \"name\": \"INES\", \"offsetgroup\": \"INES\", \"orientation\": \"v\", \"showlegend\": true, \"textposition\": \"outside\", \"type\": \"bar\", \"x\": [\"INES\", \"INES\"], \"xaxis\": \"x\", \"y\": [57, 52], \"yaxis\": \"y\"}, {\"alignmentgroup\": \"True\", \"hovertemplate\": \"Name=%{x}<br>Frequency=%{y}<extra></extra>\", \"legendgroup\": \"ONA\", \"marker\": {\"color\": \"#00cc96\"}, \"name\": \"ONA\", \"offsetgroup\": \"ONA\", \"orientation\": \"v\", \"showlegend\": true, \"textposition\": \"outside\", \"type\": \"bar\", \"x\": [\"ONA\", \"ONA\", \"ONA\", \"ONA\", \"ONA\", \"ONA\"], \"xaxis\": \"x\", \"y\": [74, 68, 55, 84, 77, 79], \"yaxis\": \"y\"}, {\"alignmentgroup\": \"True\", \"hovertemplate\": \"Name=%{x}<br>Frequency=%{y}<extra></extra>\", \"legendgroup\": \"NORA\", \"marker\": {\"color\": \"#ab63fa\"}, \"name\": \"NORA\", \"offsetgroup\": \"NORA\", \"orientation\": \"v\", \"showlegend\": true, \"textposition\": \"outside\", \"type\": \"bar\", \"x\": [\"NORA\", \"NORA\", \"NORA\"], \"xaxis\": \"x\", \"y\": [58, 50, 58], \"yaxis\": \"y\"}, {\"alignmentgroup\": \"True\", \"hovertemplate\": \"Name=%{x}<br>Frequency=%{y}<extra></extra>\", \"legendgroup\": \"OLIVIA\", \"marker\": {\"color\": \"#FFA15A\"}, \"name\": \"OLIVIA\", \"offsetgroup\": \"OLIVIA\", \"orientation\": \"v\", \"showlegend\": true, \"textposition\": \"outside\", \"type\": \"bar\", \"x\": [\"OLIVIA\", \"OLIVIA\", \"OLIVIA\", \"OLIVIA\", \"OLIVIA\", \"OLIVIA\"], \"xaxis\": \"x\", \"y\": [55, 57, 55, 72, 71, 65], \"yaxis\": \"y\"}, {\"alignmentgroup\": \"True\", \"hovertemplate\": \"Name=%{x}<br>Frequency=%{y}<extra></extra>\", \"legendgroup\": \"VALENTINA\", \"marker\": {\"color\": \"#19d3f3\"}, \"name\": \"VALENTINA\", \"offsetgroup\": \"VALENTINA\", \"orientation\": \"v\", \"showlegend\": true, \"textposition\": \"outside\", \"type\": \"bar\", \"x\": [\"VALENTINA\", \"VALENTINA\", \"VALENTINA\", \"VALENTINA\", \"VALENTINA\"], \"xaxis\": \"x\", \"y\": [83, 78, 99, 84, 68], \"yaxis\": \"y\"}, {\"alignmentgroup\": \"True\", \"hovertemplate\": \"Name=%{x}<br>Frequency=%{y}<extra></extra>\", \"legendgroup\": \"ARLET\", \"marker\": {\"color\": \"#FF6692\"}, \"name\": \"ARLET\", \"offsetgroup\": \"ARLET\", \"orientation\": \"v\", \"showlegend\": true, \"textposition\": \"outside\", \"type\": \"bar\", \"x\": [\"ARLET\", \"ARLET\", \"ARLET\", \"ARLET\"], \"xaxis\": \"x\", \"y\": [51, 55, 50, 54], \"yaxis\": \"y\"}, {\"alignmentgroup\": \"True\", \"hovertemplate\": \"Name=%{x}<br>Frequency=%{y}<extra></extra>\", \"legendgroup\": \"MIA\", \"marker\": {\"color\": \"#B6E880\"}, \"name\": \"MIA\", \"offsetgroup\": \"MIA\", \"orientation\": \"v\", \"showlegend\": true, \"textposition\": \"outside\", \"type\": \"bar\", \"x\": [\"MIA\", \"MIA\"], \"xaxis\": \"x\", \"y\": [57, 65], \"yaxis\": \"y\"}, {\"alignmentgroup\": \"True\", \"hovertemplate\": \"Name=%{x}<br>Frequency=%{y}<extra></extra>\", \"legendgroup\": \"CHLOE\", \"marker\": {\"color\": \"#FF97FF\"}, \"name\": \"CHLOE\", \"offsetgroup\": \"CHLOE\", \"orientation\": \"v\", \"showlegend\": true, \"textposition\": \"outside\", \"type\": \"bar\", \"x\": [\"CHLOE\"], \"xaxis\": \"x\", \"y\": [62], \"yaxis\": \"y\"}, {\"alignmentgroup\": \"True\", \"hovertemplate\": \"Name=%{x}<br>Frequency=%{y}<extra></extra>\", \"legendgroup\": \"VALERIA\", \"marker\": {\"color\": \"#FECB52\"}, \"name\": \"VALERIA\", \"offsetgroup\": \"VALERIA\", \"orientation\": \"v\", \"showlegend\": true, \"textposition\": \"outside\", \"type\": \"bar\", \"x\": [\"VALERIA\"], \"xaxis\": \"x\", \"y\": [55], \"yaxis\": \"y\"}],                        {\"autosize\": false, \"barmode\": \"relative\", \"legend\": {\"title\": {\"text\": \"Name\"}, \"tracegroupgap\": 0}, \"margin\": {\"autoexpand\": true}, \"plot_bgcolor\": \"white\", \"showlegend\": false, \"template\": {\"data\": {\"bar\": [{\"error_x\": {\"color\": \"#2a3f5f\"}, \"error_y\": {\"color\": \"#2a3f5f\"}, \"marker\": {\"line\": {\"color\": \"#E5ECF6\", \"width\": 0.5}}, \"type\": \"bar\"}], \"barpolar\": [{\"marker\": {\"line\": {\"color\": \"#E5ECF6\", \"width\": 0.5}}, \"type\": \"barpolar\"}], \"carpet\": [{\"aaxis\": {\"endlinecolor\": \"#2a3f5f\", \"gridcolor\": \"white\", \"linecolor\": \"white\", \"minorgridcolor\": \"white\", \"startlinecolor\": \"#2a3f5f\"}, \"baxis\": {\"endlinecolor\": \"#2a3f5f\", \"gridcolor\": \"white\", \"linecolor\": \"white\", \"minorgridcolor\": \"white\", \"startlinecolor\": \"#2a3f5f\"}, \"type\": \"carpet\"}], \"choropleth\": [{\"colorbar\": {\"outlinewidth\": 0, \"ticks\": \"\"}, \"type\": \"choropleth\"}], \"contour\": [{\"colorbar\": {\"outlinewidth\": 0, \"ticks\": \"\"}, \"colorscale\": [[0.0, \"#0d0887\"], [0.1111111111111111, \"#46039f\"], [0.2222222222222222, \"#7201a8\"], [0.3333333333333333, \"#9c179e\"], [0.4444444444444444, \"#bd3786\"], [0.5555555555555556, \"#d8576b\"], [0.6666666666666666, \"#ed7953\"], [0.7777777777777778, \"#fb9f3a\"], [0.8888888888888888, \"#fdca26\"], [1.0, \"#f0f921\"]], \"type\": \"contour\"}], \"contourcarpet\": [{\"colorbar\": {\"outlinewidth\": 0, \"ticks\": \"\"}, \"type\": \"contourcarpet\"}], \"heatmap\": [{\"colorbar\": {\"outlinewidth\": 0, \"ticks\": \"\"}, \"colorscale\": [[0.0, \"#0d0887\"], [0.1111111111111111, \"#46039f\"], [0.2222222222222222, \"#7201a8\"], [0.3333333333333333, \"#9c179e\"], [0.4444444444444444, \"#bd3786\"], [0.5555555555555556, \"#d8576b\"], [0.6666666666666666, \"#ed7953\"], [0.7777777777777778, \"#fb9f3a\"], [0.8888888888888888, \"#fdca26\"], [1.0, \"#f0f921\"]], \"type\": \"heatmap\"}], \"heatmapgl\": [{\"colorbar\": {\"outlinewidth\": 0, \"ticks\": \"\"}, \"colorscale\": [[0.0, \"#0d0887\"], [0.1111111111111111, \"#46039f\"], [0.2222222222222222, \"#7201a8\"], [0.3333333333333333, \"#9c179e\"], [0.4444444444444444, \"#bd3786\"], [0.5555555555555556, \"#d8576b\"], [0.6666666666666666, \"#ed7953\"], [0.7777777777777778, \"#fb9f3a\"], [0.8888888888888888, \"#fdca26\"], [1.0, \"#f0f921\"]], \"type\": \"heatmapgl\"}], \"histogram\": [{\"marker\": {\"colorbar\": {\"outlinewidth\": 0, \"ticks\": \"\"}}, \"type\": \"histogram\"}], \"histogram2d\": [{\"colorbar\": {\"outlinewidth\": 0, \"ticks\": \"\"}, \"colorscale\": [[0.0, \"#0d0887\"], [0.1111111111111111, \"#46039f\"], [0.2222222222222222, \"#7201a8\"], [0.3333333333333333, \"#9c179e\"], [0.4444444444444444, \"#bd3786\"], [0.5555555555555556, \"#d8576b\"], [0.6666666666666666, \"#ed7953\"], [0.7777777777777778, \"#fb9f3a\"], [0.8888888888888888, \"#fdca26\"], [1.0, \"#f0f921\"]], \"type\": \"histogram2d\"}], \"histogram2dcontour\": [{\"colorbar\": {\"outlinewidth\": 0, \"ticks\": \"\"}, \"colorscale\": [[0.0, \"#0d0887\"], [0.1111111111111111, \"#46039f\"], [0.2222222222222222, \"#7201a8\"], [0.3333333333333333, \"#9c179e\"], [0.4444444444444444, \"#bd3786\"], [0.5555555555555556, \"#d8576b\"], [0.6666666666666666, \"#ed7953\"], [0.7777777777777778, \"#fb9f3a\"], [0.8888888888888888, \"#fdca26\"], [1.0, \"#f0f921\"]], \"type\": \"histogram2dcontour\"}], \"mesh3d\": [{\"colorbar\": {\"outlinewidth\": 0, \"ticks\": \"\"}, \"type\": \"mesh3d\"}], \"parcoords\": [{\"line\": {\"colorbar\": {\"outlinewidth\": 0, \"ticks\": \"\"}}, \"type\": \"parcoords\"}], \"pie\": [{\"automargin\": true, \"type\": \"pie\"}], \"scatter\": [{\"marker\": {\"colorbar\": {\"outlinewidth\": 0, \"ticks\": \"\"}}, \"type\": \"scatter\"}], \"scatter3d\": [{\"line\": {\"colorbar\": {\"outlinewidth\": 0, \"ticks\": \"\"}}, \"marker\": {\"colorbar\": {\"outlinewidth\": 0, \"ticks\": \"\"}}, \"type\": \"scatter3d\"}], \"scattercarpet\": [{\"marker\": {\"colorbar\": {\"outlinewidth\": 0, \"ticks\": \"\"}}, \"type\": \"scattercarpet\"}], \"scattergeo\": [{\"marker\": {\"colorbar\": {\"outlinewidth\": 0, \"ticks\": \"\"}}, \"type\": \"scattergeo\"}], \"scattergl\": [{\"marker\": {\"colorbar\": {\"outlinewidth\": 0, \"ticks\": \"\"}}, \"type\": \"scattergl\"}], \"scattermapbox\": [{\"marker\": {\"colorbar\": {\"outlinewidth\": 0, \"ticks\": \"\"}}, \"type\": \"scattermapbox\"}], \"scatterpolar\": [{\"marker\": {\"colorbar\": {\"outlinewidth\": 0, \"ticks\": \"\"}}, \"type\": \"scatterpolar\"}], \"scatterpolargl\": [{\"marker\": {\"colorbar\": {\"outlinewidth\": 0, \"ticks\": \"\"}}, \"type\": \"scatterpolargl\"}], \"scatterternary\": [{\"marker\": {\"colorbar\": {\"outlinewidth\": 0, \"ticks\": \"\"}}, \"type\": \"scatterternary\"}], \"surface\": [{\"colorbar\": {\"outlinewidth\": 0, \"ticks\": \"\"}, \"colorscale\": [[0.0, \"#0d0887\"], [0.1111111111111111, \"#46039f\"], [0.2222222222222222, \"#7201a8\"], [0.3333333333333333, \"#9c179e\"], [0.4444444444444444, \"#bd3786\"], [0.5555555555555556, \"#d8576b\"], [0.6666666666666666, \"#ed7953\"], [0.7777777777777778, \"#fb9f3a\"], [0.8888888888888888, \"#fdca26\"], [1.0, \"#f0f921\"]], \"type\": \"surface\"}], \"table\": [{\"cells\": {\"fill\": {\"color\": \"#EBF0F8\"}, \"line\": {\"color\": \"white\"}}, \"header\": {\"fill\": {\"color\": \"#C8D4E3\"}, \"line\": {\"color\": \"white\"}}, \"type\": \"table\"}]}, \"layout\": {\"annotationdefaults\": {\"arrowcolor\": \"#2a3f5f\", \"arrowhead\": 0, \"arrowwidth\": 1}, \"autotypenumbers\": \"strict\", \"coloraxis\": {\"colorbar\": {\"outlinewidth\": 0, \"ticks\": \"\"}}, \"colorscale\": {\"diverging\": [[0, \"#8e0152\"], [0.1, \"#c51b7d\"], [0.2, \"#de77ae\"], [0.3, \"#f1b6da\"], [0.4, \"#fde0ef\"], [0.5, \"#f7f7f7\"], [0.6, \"#e6f5d0\"], [0.7, \"#b8e186\"], [0.8, \"#7fbc41\"], [0.9, \"#4d9221\"], [1, \"#276419\"]], \"sequential\": [[0.0, \"#0d0887\"], [0.1111111111111111, \"#46039f\"], [0.2222222222222222, \"#7201a8\"], [0.3333333333333333, \"#9c179e\"], [0.4444444444444444, \"#bd3786\"], [0.5555555555555556, \"#d8576b\"], [0.6666666666666666, \"#ed7953\"], [0.7777777777777778, \"#fb9f3a\"], [0.8888888888888888, \"#fdca26\"], [1.0, \"#f0f921\"]], \"sequentialminus\": [[0.0, \"#0d0887\"], [0.1111111111111111, \"#46039f\"], [0.2222222222222222, \"#7201a8\"], [0.3333333333333333, \"#9c179e\"], [0.4444444444444444, \"#bd3786\"], [0.5555555555555556, \"#d8576b\"], [0.6666666666666666, \"#ed7953\"], [0.7777777777777778, \"#fb9f3a\"], [0.8888888888888888, \"#fdca26\"], [1.0, \"#f0f921\"]]}, \"colorway\": [\"#636efa\", \"#EF553B\", \"#00cc96\", \"#ab63fa\", \"#FFA15A\", \"#19d3f3\", \"#FF6692\", \"#B6E880\", \"#FF97FF\", \"#FECB52\"], \"font\": {\"color\": \"#2a3f5f\"}, \"geo\": {\"bgcolor\": \"white\", \"lakecolor\": \"white\", \"landcolor\": \"#E5ECF6\", \"showlakes\": true, \"showland\": true, \"subunitcolor\": \"white\"}, \"hoverlabel\": {\"align\": \"left\"}, \"hovermode\": \"closest\", \"mapbox\": {\"style\": \"light\"}, \"paper_bgcolor\": \"white\", \"plot_bgcolor\": \"#E5ECF6\", \"polar\": {\"angularaxis\": {\"gridcolor\": \"white\", \"linecolor\": \"white\", \"ticks\": \"\"}, \"bgcolor\": \"#E5ECF6\", \"radialaxis\": {\"gridcolor\": \"white\", \"linecolor\": \"white\", \"ticks\": \"\"}}, \"scene\": {\"xaxis\": {\"backgroundcolor\": \"#E5ECF6\", \"gridcolor\": \"white\", \"gridwidth\": 2, \"linecolor\": \"white\", \"showbackground\": true, \"ticks\": \"\", \"zerolinecolor\": \"white\"}, \"yaxis\": {\"backgroundcolor\": \"#E5ECF6\", \"gridcolor\": \"white\", \"gridwidth\": 2, \"linecolor\": \"white\", \"showbackground\": true, \"ticks\": \"\", \"zerolinecolor\": \"white\"}, \"zaxis\": {\"backgroundcolor\": \"#E5ECF6\", \"gridcolor\": \"white\", \"gridwidth\": 2, \"linecolor\": \"white\", \"showbackground\": true, \"ticks\": \"\", \"zerolinecolor\": \"white\"}}, \"shapedefaults\": {\"line\": {\"color\": \"#2a3f5f\"}}, \"ternary\": {\"aaxis\": {\"gridcolor\": \"white\", \"linecolor\": \"white\", \"ticks\": \"\"}, \"baxis\": {\"gridcolor\": \"white\", \"linecolor\": \"white\", \"ticks\": \"\"}, \"bgcolor\": \"#E5ECF6\", \"caxis\": {\"gridcolor\": \"white\", \"linecolor\": \"white\", \"ticks\": \"\"}}, \"title\": {\"x\": 0.05}, \"xaxis\": {\"automargin\": true, \"gridcolor\": \"white\", \"linecolor\": \"white\", \"ticks\": \"\", \"title\": {\"standoff\": 15}, \"zerolinecolor\": \"white\", \"zerolinewidth\": 2}, \"yaxis\": {\"automargin\": true, \"gridcolor\": \"white\", \"linecolor\": \"white\", \"ticks\": \"\", \"title\": {\"standoff\": 15}, \"zerolinecolor\": \"white\", \"zerolinewidth\": 2}}}, \"title\": {\"text\": \"Most common Baby Boy Names \"}, \"uniformtext\": {\"minsize\": 7}, \"xaxis\": {\"anchor\": \"y\", \"categoryarray\": [\"LAURA\", \"MARIA\", \"MARTA\", \"ANDREA\", \"ANNA\", \"PAULA\", \"ALBA\", \"SARA\", \"LAIA\", \"CLAUDIA\", \"JULIA\", \"CARLA\", \"MIREIA\", \"MARINA\", \"CRISTINA\", \"CLARA\", \"JUDITH\", \"ARIADNA\", \"NURIA\", \"PATRICIA\", \"RAQUEL\", \"ANA\", \"IRENE\", \"JUDIT\", \"SANDRA\", \"BERTA\", \"MAR\", \"AINA\", \"HELENA\", \"NATALIA\", \"CARLOTA\", \"EMMA\", \"NEREA\", \"LUCIA\", \"MARTINA\", \"AINHOA\", \"SOFIA\", \"NOA\", \"JANA\", \"ABRIL\", \"DANIELA\", \"INES\", \"ONA\", \"NORA\", \"OLIVIA\", \"VALENTINA\", \"ARLET\", \"MIA\", \"CHLOE\", \"VALERIA\"], \"categoryorder\": \"array\", \"domain\": [0.0, 1.0], \"tickangle\": -45, \"title\": {\"text\": \"Name\"}}, \"yaxis\": {\"anchor\": \"x\", \"domain\": [0.0, 1.0], \"title\": {\"text\": \"Frequency\"}}},                        {\"responsive\": true}                    ).then(function(){\n",
       "                            \n",
       "var gd = document.getElementById('e3222828-1bf1-4da0-8f8c-dcb9403b09fa');\n",
       "var x = new MutationObserver(function (mutations, observer) {{\n",
       "        var display = window.getComputedStyle(gd).display;\n",
       "        if (!display || display === 'none') {{\n",
       "            console.log([gd, 'removed!']);\n",
       "            Plotly.purge(gd);\n",
       "            observer.disconnect();\n",
       "        }}\n",
       "}});\n",
       "\n",
       "// Listen for the removal of the full notebook cells\n",
       "var notebookContainer = gd.closest('#notebook-container');\n",
       "if (notebookContainer) {{\n",
       "    x.observe(notebookContainer, {childList: true});\n",
       "}}\n",
       "\n",
       "// Listen for the clearing of the current output cell\n",
       "var outputEl = gd.closest('.output');\n",
       "if (outputEl) {{\n",
       "    x.observe(outputEl, {childList: true});\n",
       "}}\n",
       "\n",
       "                        })                };                });            </script>        </div>"
      ]
     },
     "metadata": {},
     "output_type": "display_data"
    }
   ],
   "source": [
    "fig = px.bar(df_Female, x=\"Name\", y=\"Frequency\", color=\"Name\",\n",
    "      title=\"Most common Baby Boy Names \")\n",
    "fig.update_traces(  textposition=\"outside\")\n",
    "fig.update_layout(uniformtext_minsize=7)\n",
    "fig.update_layout(xaxis_tickangle=-45, )\n",
    "fig.update_traces( textposition='outside')\n",
    "\n",
    "fig.update_layout(\n",
    "\n",
    "autosize=False,\n",
    "margin=dict(\n",
    "autoexpand=True ),\n",
    "showlegend=False, plot_bgcolor=\"white\")"
   ]
  },
  {
   "cell_type": "code",
   "execution_count": 13,
   "id": "promotional-advocate",
   "metadata": {
    "ExecuteTime": {
     "end_time": "2021-03-22T09:15:53.615446Z",
     "start_time": "2021-03-22T09:15:53.564194Z"
    }
   },
   "outputs": [
    {
     "data": {
      "text/html": [
       "\n",
       "        <iframe\n",
       "            width=\"100%\"\n",
       "            height=\"650\"\n",
       "            src=\"http://127.0.0.1:8050/\"\n",
       "            frameborder=\"0\"\n",
       "            allowfullscreen\n",
       "        ></iframe>\n",
       "        "
      ],
      "text/plain": [
       "<IPython.lib.display.IFrame at 0x1442e86a0>"
      ]
     },
     "metadata": {},
     "output_type": "display_data"
    }
   ],
   "source": [
    "import plotly.express as px\n",
    "from jupyter_dash import JupyterDash\n",
    "import dash_core_components as dcc\n",
    "import dash_html_components as html\n",
    "from dash.dependencies import Input, Output\n",
    "# Load Data\n",
    "\n",
    "# Build App\n",
    "app = JupyterDash(__name__)\n",
    "app.layout = html.Div([\n",
    "    dcc.Dropdown(\n",
    "        id=\"radio2\",\n",
    "        options=[\n",
    "            {\"label\":  i, \"value\": i} for i in df.Year\n",
    "            \n",
    "        ],\n",
    "        value = 0\n",
    "    ),\n",
    "    dcc.Graph(id=\"choropleth\"),\n",
    "])\n",
    "# Define callback to update graph\n",
    "@app.callback(\n",
    "    Output('choropleth', 'figure'),\n",
    "    [Input(\"radio2\", \"value\")]\n",
    ")\n",
    "def update_figure(i):\n",
    "    fig = px.bar(df.Year[i], x=\"Name\", y=\"Frequency\", color=\"Name\",\n",
    "      title=\"Most common Baby Boy Names \")\n",
    "    fig.update_traces(  textposition=\"outside\")\n",
    "    fig.update_layout(uniformtext_minsize=7)\n",
    "    fig.update_layout(xaxis_tickangle=-45, )\n",
    "    fig.update_traces( textposition='outside')\n",
    "\n",
    "    fig.update_layout(\n",
    "\n",
    "    autosize=False,\n",
    "    margin=dict(\n",
    "    autoexpand=True ),\n",
    "    showlegend=False, plot_bgcolor=\"white\")\n",
    "    return  fig\n",
    "    \n",
    "# Run app and display result inline in the notebook\n",
    "app.run_server(mode='inline')"
   ]
  },
  {
   "cell_type": "code",
   "execution_count": null,
   "id": "advance-warehouse",
   "metadata": {},
   "outputs": [],
   "source": []
  }
 ],
 "metadata": {
  "kernelspec": {
   "display_name": "tensor",
   "language": "python",
   "name": "tensor"
  },
  "language_info": {
   "codemirror_mode": {
    "name": "ipython",
    "version": 3
   },
   "file_extension": ".py",
   "mimetype": "text/x-python",
   "name": "python",
   "nbconvert_exporter": "python",
   "pygments_lexer": "ipython3",
   "version": "3.8.2"
  },
  "toc": {
   "base_numbering": 1,
   "nav_menu": {},
   "number_sections": true,
   "sideBar": true,
   "skip_h1_title": false,
   "title_cell": "Table of Contents",
   "title_sidebar": "Contents",
   "toc_cell": false,
   "toc_position": {},
   "toc_section_display": true,
   "toc_window_display": false
  }
 },
 "nbformat": 4,
 "nbformat_minor": 5
}
