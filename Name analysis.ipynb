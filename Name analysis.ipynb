{
 "cells": [
  {
   "cell_type": "markdown",
   "id": "aerial-boards",
   "metadata": {
    "ExecuteTime": {
     "end_time": "2021-03-21T18:13:28.632262Z",
     "start_time": "2021-03-21T18:13:27.707159Z"
    }
   },
   "source": [
    "# Importing our packages and cleaned data"
   ]
  },
  {
   "cell_type": "code",
   "execution_count": null,
   "id": "economic-architect",
   "metadata": {
    "ExecuteTime": {
     "start_time": "2021-03-23T17:58:01.011Z"
    }
   },
   "outputs": [],
   "source": [
    "import pandas as pd\n",
    "import numpy as np\n",
    "import chart_studio.plotly as py\n",
    "import seaborn as sns\n",
    "import plotly.express as px\n",
    "import cufflinks as cf\n",
    "import plotly.graph_objects as go\n",
    "\n",
    "%matplotlib inline\n",
    "\n",
    "from plotly.offline import download_plotlyjs, init_notebook_mode, plot, iplot\n",
    "\n",
    "\n",
    "init_notebook_mode(connected=True)\n",
    "cf.go_offline()"
   ]
  },
  {
   "cell_type": "code",
   "execution_count": null,
   "id": "herbal-triangle",
   "metadata": {
    "ExecuteTime": {
     "start_time": "2021-03-23T17:58:01.014Z"
    }
   },
   "outputs": [],
   "source": [
    "df = pd.read_csv(\"most_frequent_baby_names.csv\")"
   ]
  },
  {
   "cell_type": "markdown",
   "id": "subjective-oasis",
   "metadata": {},
   "source": [
    "#  Animation"
   ]
  },
  {
   "cell_type": "code",
   "execution_count": null,
   "id": "congressional-prince",
   "metadata": {
    "ExecuteTime": {
     "start_time": "2021-03-23T17:58:01.016Z"
    }
   },
   "outputs": [],
   "source": [
    "order_2 = []\n",
    "for num in df.Order:\n",
    "    nu = num*4\n",
    "    order_2.append(nu)"
   ]
  },
  {
   "cell_type": "code",
   "execution_count": null,
   "id": "separate-finance",
   "metadata": {
    "ExecuteTime": {
     "start_time": "2021-03-23T17:58:01.018Z"
    }
   },
   "outputs": [],
   "source": [
    "df.Order = order_2"
   ]
  },
  {
   "cell_type": "code",
   "execution_count": null,
   "id": "systematic-receipt",
   "metadata": {
    "ExecuteTime": {
     "end_time": "2021-03-22T10:44:58.509809Z",
     "start_time": "2021-03-22T10:44:58.504530Z"
    }
   },
   "outputs": [],
   "source": []
  },
  {
   "cell_type": "code",
   "execution_count": null,
   "id": "committed-chase",
   "metadata": {
    "ExecuteTime": {
     "end_time": "2021-03-22T10:45:35.246571Z",
     "start_time": "2021-03-22T10:45:35.240736Z"
    }
   },
   "outputs": [],
   "source": []
  },
  {
   "cell_type": "code",
   "execution_count": null,
   "id": "pregnant-cycle",
   "metadata": {
    "ExecuteTime": {
     "start_time": "2021-03-23T17:58:01.030Z"
    }
   },
   "outputs": [],
   "source": [
    "fig = px.scatter(df, x=\"Frequency\", y=\"Order\", \n",
    "          animation_frame=\"Year\",\n",
    "          animation_group = \"Name\",\n",
    "                 text = \"Name\",\n",
    "          size=\"Frequency\", color=\"Gender\", hover_name=\"Name\",size_max=50, range_x = [43, 375],\n",
    "                 \n",
    "                 title= \"Baby names in Barcelona 1996-2016\"\n",
    "                \n",
    "                )\n",
    "\n",
    "fig.update_layout(showlegend=False, plot_bgcolor=\"white\")\n",
    "fig.update_yaxes(visible=False, showticklabels=False)\n",
    "fig.layout.updatemenus[0].buttons[0].args[1][\"frame\"][\"duration\"] = 1000\n",
    "\n",
    "\n",
    "fig.show()"
   ]
  },
  {
   "cell_type": "markdown",
   "id": "dramatic-admission",
   "metadata": {},
   "source": [
    "# Male Names"
   ]
  },
  {
   "cell_type": "code",
   "execution_count": null,
   "id": "affecting-theorem",
   "metadata": {
    "ExecuteTime": {
     "start_time": "2021-03-23T17:58:01.033Z"
    }
   },
   "outputs": [],
   "source": [
    "df_Male = df[df[\"Gender\"] == \"Male\"]"
   ]
  },
  {
   "cell_type": "code",
   "execution_count": null,
   "id": "absolute-outreach",
   "metadata": {
    "ExecuteTime": {
     "start_time": "2021-03-23T17:58:01.037Z"
    }
   },
   "outputs": [],
   "source": [
    "def year_fixer(df, year):\n",
    "    df_new = df[df[\"Year\"] == year]\n",
    "    return df_new\n",
    "\n",
    "df_test = year_fixer(df_Male, 2011)"
   ]
  },
  {
   "cell_type": "code",
   "execution_count": null,
   "id": "twelve-leave",
   "metadata": {
    "ExecuteTime": {
     "start_time": "2021-03-23T17:58:01.043Z"
    }
   },
   "outputs": [],
   "source": [
    "plot(df_test)"
   ]
  },
  {
   "cell_type": "code",
   "execution_count": null,
   "id": "italic-planner",
   "metadata": {
    "ExecuteTime": {
     "start_time": "2021-03-23T17:58:01.083Z"
    },
    "code_folding": [],
    "scrolled": false
   },
   "outputs": [],
   "source": [
    "def plot(df):\n",
    "    fig = px.bar(df_test, x=\"Name\", y=\"Frequency\", color=\"Name\",\n",
    "          title=\"Most common Baby Boy Names \")\n",
    "    fig.update_traces(  textposition=\"outside\")\n",
    "    fig.update_layout(uniformtext_minsize=7)\n",
    "    fig.update_layout(xaxis_tickangle=-45, )\n",
    "    fig.update_traces( textposition='outside')\n",
    "\n",
    "    fig.update_layout(\n",
    "\n",
    "    autosize=False,\n",
    "    margin=dict(\n",
    "    autoexpand=True ),\n",
    "    showlegend=False, plot_bgcolor=\"white\")\n",
    "    return fig\n",
    "    "
   ]
  },
  {
   "cell_type": "markdown",
   "id": "insured-institution",
   "metadata": {
    "ExecuteTime": {
     "end_time": "2021-03-21T18:48:24.914356Z",
     "start_time": "2021-03-21T18:48:24.909517Z"
    }
   },
   "source": [
    "# Female Names "
   ]
  },
  {
   "cell_type": "code",
   "execution_count": null,
   "id": "sophisticated-soviet",
   "metadata": {
    "ExecuteTime": {
     "start_time": "2021-03-23T17:58:01.087Z"
    }
   },
   "outputs": [],
   "source": [
    "df_Female = df[df[\"Gender\"] == \"Female\"]"
   ]
  },
  {
   "cell_type": "code",
   "execution_count": null,
   "id": "joint-spell",
   "metadata": {
    "ExecuteTime": {
     "start_time": "2021-03-23T17:58:01.098Z"
    }
   },
   "outputs": [],
   "source": [
    "fig = px.bar(df_Female, x=\"Name\", y=\"Frequency\", color=\"Name\",\n",
    "      title=\"Most common Baby Boy Names \")\n",
    "fig.update_traces(  textposition=\"outside\")\n",
    "fig.update_layout(uniformtext_minsize=7)\n",
    "fig.update_layout(xaxis_tickangle=-45, )\n",
    "fig.update_traces( textposition='outside')\n",
    "\n",
    "fig.update_layout(\n",
    "\n",
    "autosize=False,\n",
    "margin=dict(\n",
    "autoexpand=True ),\n",
    "showlegend=False, plot_bgcolor=\"white\")"
   ]
  },
  {
   "cell_type": "code",
   "execution_count": null,
   "id": "chicken-runner",
   "metadata": {
    "ExecuteTime": {
     "start_time": "2021-03-23T17:58:01.102Z"
    }
   },
   "outputs": [],
   "source": [
    "year_list = range(1996 , 2016)"
   ]
  },
  {
   "cell_type": "code",
   "execution_count": null,
   "id": "urban-syracuse",
   "metadata": {
    "ExecuteTime": {
     "start_time": "2021-03-23T17:58:01.106Z"
    }
   },
   "outputs": [],
   "source": [
    "year_list[1]"
   ]
  },
  {
   "cell_type": "code",
   "execution_count": null,
   "id": "promotional-advocate",
   "metadata": {
    "ExecuteTime": {
     "start_time": "2021-03-23T17:58:01.128Z"
    },
    "scrolled": false
   },
   "outputs": [],
   "source": [
    "import plotly.express as px\n",
    "from jupyter_dash import JupyterDash\n",
    "import dash_core_components as dcc\n",
    "import dash_html_components as html\n",
    "from dash.dependencies import Input, Output\n",
    "# Load Data\n",
    "\n",
    "year_list = range(1996 , 2016)\n",
    "year_list_1 = range(1996, 2016)\n",
    "# Build App\n",
    "app = JupyterDash(__name__)\n",
    "app.layout = html.Div([\n",
    "    dcc.Dropdown(\n",
    "        id=\"radio1\",\n",
    "        options=[\n",
    "            {\"label\":  i, \"value\": i} for i in year_list\n",
    "            \n",
    "        ],\n",
    "        value = year_list[0]\n",
    "    ),\n",
    "    dcc.Graph(id=\"graph_1\"),\n",
    "    \n",
    "    dcc.Dropdown(\n",
    "        id=\"radio2\",\n",
    "        options=[\n",
    "            {\"label\":  i, \"value\": i} for i in year_list_1\n",
    "            \n",
    "        ],\n",
    "        value = year_list[0]\n",
    "    ),\n",
    "    dcc.Graph(id=\"graph2\"),])\n",
    "\n",
    "\n",
    "\n",
    "\n",
    "\n",
    "\n",
    "\n",
    "# Define callback to update graph\n",
    "@app.callback(\n",
    "    Output('graph_1', 'figure'),\n",
    "    [Input(\"radio1\", \"value\")]\n",
    ")\n",
    "\n",
    "\n",
    "def update_figure(i):\n",
    "    df_new = df[df[\"Year\"] == i]\n",
    "    \n",
    "    fig = px.bar(df_new, x=\"Name\", y=\"Frequency\", color=\"Name\",\n",
    "          title=\"Most common Baby Boy Names \")\n",
    "    fig.update_traces(  textposition=\"outside\")\n",
    "    fig.update_layout(uniformtext_minsize=7)\n",
    "    fig.update_layout(xaxis_tickangle=-45, )\n",
    "    fig.update_traces( textposition='outside')\n",
    "\n",
    "    fig.update_layout(\n",
    "\n",
    "    autosize=False,\n",
    "    margin=dict(\n",
    "    autoexpand=True ),\n",
    "    showlegend=False, plot_bgcolor=\"white\")\n",
    "    return fig\n",
    "\n",
    "@app.callback(\n",
    "    Output('graph2', 'figure'),\n",
    "    [Input(\"radio2\", \"value\")]\n",
    ")\n",
    "\n",
    "def update_figure2(i):\n",
    "    df_new = df[df[\"Year\"] == i]\n",
    "    \n",
    "    fig = px.bar(df_new, x=\"Name\", y=\"Frequency\", color=\"Name\",\n",
    "          title=\"Most common Baby Boy Names \")\n",
    "    fig.update_traces(  textposition=\"outside\")\n",
    "    fig.update_layout(uniformtext_minsize=7)\n",
    "    fig.update_layout(xaxis_tickangle=-45, )\n",
    "    fig.update_traces( textposition='outside')\n",
    "\n",
    "    fig.update_layout(\n",
    "\n",
    "    autosize=False,\n",
    "    margin=dict(\n",
    "    autoexpand=True ),\n",
    "    showlegend=False, plot_bgcolor=\"white\")\n",
    "    return fig\n",
    "    \n",
    "# Run app and display result inline in the notebook\n",
    "app.run_server(mode='inline')"
   ]
  },
  {
   "cell_type": "code",
   "execution_count": null,
   "id": "advance-warehouse",
   "metadata": {
    "ExecuteTime": {
     "end_time": "2021-03-23T17:09:25.352460Z",
     "start_time": "2021-03-23T17:08:43.681690Z"
    }
   },
   "outputs": [],
   "source": []
  },
  {
   "cell_type": "code",
   "execution_count": null,
   "id": "productive-withdrawal",
   "metadata": {},
   "outputs": [],
   "source": []
  }
 ],
 "metadata": {
  "kernelspec": {
   "display_name": "tensor",
   "language": "python",
   "name": "tensor"
  },
  "language_info": {
   "codemirror_mode": {
    "name": "ipython",
    "version": 3
   },
   "file_extension": ".py",
   "mimetype": "text/x-python",
   "name": "python",
   "nbconvert_exporter": "python",
   "pygments_lexer": "ipython3",
   "version": "3.8.2"
  },
  "toc": {
   "base_numbering": 1,
   "nav_menu": {},
   "number_sections": true,
   "sideBar": true,
   "skip_h1_title": false,
   "title_cell": "Table of Contents",
   "title_sidebar": "Contents",
   "toc_cell": false,
   "toc_position": {},
   "toc_section_display": true,
   "toc_window_display": false
  }
 },
 "nbformat": 4,
 "nbformat_minor": 5
}
